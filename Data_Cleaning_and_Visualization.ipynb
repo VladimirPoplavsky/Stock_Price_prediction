{
 "cells": [
  {
   "cell_type": "code",
   "execution_count": 71,
   "id": "2558fda4",
   "metadata": {},
   "outputs": [],
   "source": [
    "import pandas as pd\n",
    "import time\n",
    "from datetime import datetime, timedelta\n",
    "import numpy as np\n",
    "import warnings\n",
    "import matplotlib as mpl\n",
    "from matplotlib import pyplot as plt\n",
    "%matplotlib inline\n",
    "import numpy as np; np.random.seed(0)\n",
    "import seaborn as sns; sns.set_theme()\n",
    "import datetime\n",
    "from sklearn import preprocessing\n",
    "from sklearn.preprocessing import MinMaxScaler\n",
    "from datetime import datetime"
   ]
  },
  {
   "cell_type": "code",
   "execution_count": 126,
   "id": "f8891304",
   "metadata": {},
   "outputs": [
    {
     "name": "stdout",
     "output_type": "stream",
     "text": [
      "<class 'pandas.core.frame.DataFrame'>\n",
      "RangeIndex: 2548 entries, 0 to 2547\n",
      "Data columns (total 44 columns):\n",
      " #   Column                 Non-Null Count  Dtype  \n",
      "---  ------                 --------------  -----  \n",
      " 0   Unnamed: 0             2548 non-null   int64  \n",
      " 1   Date                   2548 non-null   object \n",
      " 2   NVDA Open              2548 non-null   float64\n",
      " 3   NVDA High              2548 non-null   float64\n",
      " 4   NVDA Low               2548 non-null   float64\n",
      " 5   NVDA Close             2548 non-null   float64\n",
      " 6   NVDA Volume            2548 non-null   int64  \n",
      " 7   NVDA Daily change      2548 non-null   float64\n",
      " 8   NVDA Daily change Max  2548 non-null   float64\n",
      " 9   AAPL Open              2548 non-null   float64\n",
      " 10  AAPL High              2548 non-null   float64\n",
      " 11  AAPL Low               2548 non-null   float64\n",
      " 12  AAPL Close             2548 non-null   float64\n",
      " 13  AAPL Volume            2548 non-null   float64\n",
      " 14  AAPL Daily change      2548 non-null   float64\n",
      " 15  AAPL Daily change Max  2548 non-null   float64\n",
      " 16  TSLA Open              2548 non-null   float64\n",
      " 17  TSLA High              2548 non-null   float64\n",
      " 18  TSLA Low               2548 non-null   float64\n",
      " 19  TSLA Close             2548 non-null   float64\n",
      " 20  TSLA Volume            2548 non-null   float64\n",
      " 21  TSLA Daily change      2548 non-null   float64\n",
      " 22  TSLA Daily change Max  2548 non-null   float64\n",
      " 23  AMD Open               2548 non-null   float64\n",
      " 24  AMD High               2548 non-null   float64\n",
      " 25  AMD Low                2548 non-null   float64\n",
      " 26  AMD Close              2548 non-null   float64\n",
      " 27  AMD Volume             2548 non-null   object \n",
      " 28  AMD Daily change       2548 non-null   float64\n",
      " 29  AMD Daily change Max   2548 non-null   float64\n",
      " 30  MSFT Open              2548 non-null   float64\n",
      " 31  MSFT High              2548 non-null   float64\n",
      " 32  MSFT Low               2548 non-null   float64\n",
      " 33  MSFT Close             2548 non-null   float64\n",
      " 34  MSFT Volume            2548 non-null   float64\n",
      " 35  MSFT Daily change      2548 non-null   float64\n",
      " 36  MSFT Daily change Max  2548 non-null   float64\n",
      " 37  INTC Open              2548 non-null   float64\n",
      " 38  INTC High              2548 non-null   float64\n",
      " 39  INTC Low               2548 non-null   float64\n",
      " 40  INTC Close             2548 non-null   float64\n",
      " 41  INTC Volume            2548 non-null   float64\n",
      " 42  INTC Daily change      2548 non-null   float64\n",
      " 43  INTC Daily change Max  2548 non-null   float64\n",
      "dtypes: float64(40), int64(2), object(2)\n",
      "memory usage: 876.0+ KB\n"
     ]
    }
   ],
   "source": [
    "df = pd.read_csv('Desktop/main_dataframe.csv')"
   ]
  },
  {
   "cell_type": "code",
   "execution_count": 134,
   "id": "34b79fa8",
   "metadata": {},
   "outputs": [
    {
     "name": "stderr",
     "output_type": "stream",
     "text": [
      "C:\\Users\\vikto\\AppData\\Local\\Temp/ipykernel_8252/1898484272.py:7: SettingWithCopyWarning: \n",
      "A value is trying to be set on a copy of a slice from a DataFrame\n",
      "\n",
      "See the caveats in the documentation: https://pandas.pydata.org/pandas-docs/stable/user_guide/indexing.html#returning-a-view-versus-a-copy\n",
      "  df['Day'][i] = temp.dayofweek\n"
     ]
    },
    {
     "data": {
      "text/html": [
       "<div>\n",
       "<style scoped>\n",
       "    .dataframe tbody tr th:only-of-type {\n",
       "        vertical-align: middle;\n",
       "    }\n",
       "\n",
       "    .dataframe tbody tr th {\n",
       "        vertical-align: top;\n",
       "    }\n",
       "\n",
       "    .dataframe thead th {\n",
       "        text-align: right;\n",
       "    }\n",
       "</style>\n",
       "<table border=\"1\" class=\"dataframe\">\n",
       "  <thead>\n",
       "    <tr style=\"text-align: right;\">\n",
       "      <th></th>\n",
       "      <th>Unnamed: 0</th>\n",
       "      <th>Date</th>\n",
       "      <th>NVDA Open</th>\n",
       "      <th>NVDA High</th>\n",
       "      <th>NVDA Low</th>\n",
       "      <th>NVDA Close</th>\n",
       "      <th>NVDA Volume</th>\n",
       "      <th>NVDA Daily change</th>\n",
       "      <th>NVDA Daily change Max</th>\n",
       "      <th>AAPL Open</th>\n",
       "      <th>...</th>\n",
       "      <th>MSFT Daily change</th>\n",
       "      <th>MSFT Daily change Max</th>\n",
       "      <th>INTC Open</th>\n",
       "      <th>INTC High</th>\n",
       "      <th>INTC Low</th>\n",
       "      <th>INTC Close</th>\n",
       "      <th>INTC Volume</th>\n",
       "      <th>INTC Daily change</th>\n",
       "      <th>INTC Daily change Max</th>\n",
       "      <th>Day</th>\n",
       "    </tr>\n",
       "  </thead>\n",
       "  <tbody>\n",
       "    <tr>\n",
       "      <th>0</th>\n",
       "      <td>0</td>\n",
       "      <td>2022-05-06</td>\n",
       "      <td>187.36</td>\n",
       "      <td>195.12</td>\n",
       "      <td>179.90</td>\n",
       "      <td>186.75</td>\n",
       "      <td>63299300</td>\n",
       "      <td>-0.325576</td>\n",
       "      <td>8.460256</td>\n",
       "      <td>156.01</td>\n",
       "      <td>...</td>\n",
       "      <td>-0.029111</td>\n",
       "      <td>2.941719</td>\n",
       "      <td>44.49</td>\n",
       "      <td>45.15</td>\n",
       "      <td>43.84</td>\n",
       "      <td>44.30</td>\n",
       "      <td>40910000.0</td>\n",
       "      <td>-0.427062</td>\n",
       "      <td>2.988139</td>\n",
       "      <td>4</td>\n",
       "    </tr>\n",
       "    <tr>\n",
       "      <th>1</th>\n",
       "      <td>0</td>\n",
       "      <td>2022-05-04</td>\n",
       "      <td>194.00</td>\n",
       "      <td>198.25</td>\n",
       "      <td>191.33</td>\n",
       "      <td>196.02</td>\n",
       "      <td>47575100</td>\n",
       "      <td>1.041237</td>\n",
       "      <td>3.616788</td>\n",
       "      <td>159.67</td>\n",
       "      <td>...</td>\n",
       "      <td>-0.767714</td>\n",
       "      <td>1.420667</td>\n",
       "      <td>45.06</td>\n",
       "      <td>46.64</td>\n",
       "      <td>44.41</td>\n",
       "      <td>46.54</td>\n",
       "      <td>44625600.0</td>\n",
       "      <td>3.284510</td>\n",
       "      <td>5.021392</td>\n",
       "      <td>2</td>\n",
       "    </tr>\n",
       "    <tr>\n",
       "      <th>2</th>\n",
       "      <td>0</td>\n",
       "      <td>2022-05-03</td>\n",
       "      <td>185.41</td>\n",
       "      <td>195.74</td>\n",
       "      <td>183.91</td>\n",
       "      <td>195.33</td>\n",
       "      <td>57204900</td>\n",
       "      <td>5.350305</td>\n",
       "      <td>6.432494</td>\n",
       "      <td>158.15</td>\n",
       "      <td>...</td>\n",
       "      <td>2.434194</td>\n",
       "      <td>3.156904</td>\n",
       "      <td>44.79</td>\n",
       "      <td>45.49</td>\n",
       "      <td>44.23</td>\n",
       "      <td>45.06</td>\n",
       "      <td>40158400.0</td>\n",
       "      <td>0.602813</td>\n",
       "      <td>2.848745</td>\n",
       "      <td>1</td>\n",
       "    </tr>\n",
       "    <tr>\n",
       "      <th>3</th>\n",
       "      <td>0</td>\n",
       "      <td>2022-05-02</td>\n",
       "      <td>194.02</td>\n",
       "      <td>201.28</td>\n",
       "      <td>185.17</td>\n",
       "      <td>185.47</td>\n",
       "      <td>50001100</td>\n",
       "      <td>-4.406762</td>\n",
       "      <td>8.700113</td>\n",
       "      <td>156.71</td>\n",
       "      <td>...</td>\n",
       "      <td>-3.842556</td>\n",
       "      <td>4.839060</td>\n",
       "      <td>43.72</td>\n",
       "      <td>44.99</td>\n",
       "      <td>43.51</td>\n",
       "      <td>44.96</td>\n",
       "      <td>45446500.0</td>\n",
       "      <td>2.836231</td>\n",
       "      <td>3.401517</td>\n",
       "      <td>0</td>\n",
       "    </tr>\n",
       "    <tr>\n",
       "      <th>4</th>\n",
       "      <td>0</td>\n",
       "      <td>2022-04-29</td>\n",
       "      <td>189.67</td>\n",
       "      <td>200.37</td>\n",
       "      <td>184.90</td>\n",
       "      <td>197.82</td>\n",
       "      <td>57032700</td>\n",
       "      <td>4.296937</td>\n",
       "      <td>8.366685</td>\n",
       "      <td>161.84</td>\n",
       "      <td>...</td>\n",
       "      <td>1.556857</td>\n",
       "      <td>3.382363</td>\n",
       "      <td>44.99</td>\n",
       "      <td>45.36</td>\n",
       "      <td>43.50</td>\n",
       "      <td>43.59</td>\n",
       "      <td>70726300.0</td>\n",
       "      <td>-3.111803</td>\n",
       "      <td>4.275862</td>\n",
       "      <td>4</td>\n",
       "    </tr>\n",
       "  </tbody>\n",
       "</table>\n",
       "<p>5 rows × 45 columns</p>\n",
       "</div>"
      ],
      "text/plain": [
       "   Unnamed: 0       Date  NVDA Open  NVDA High  NVDA Low  NVDA Close  \\\n",
       "0           0 2022-05-06     187.36     195.12    179.90      186.75   \n",
       "1           0 2022-05-04     194.00     198.25    191.33      196.02   \n",
       "2           0 2022-05-03     185.41     195.74    183.91      195.33   \n",
       "3           0 2022-05-02     194.02     201.28    185.17      185.47   \n",
       "4           0 2022-04-29     189.67     200.37    184.90      197.82   \n",
       "\n",
       "   NVDA Volume  NVDA Daily change  NVDA Daily change Max  AAPL Open  ...  \\\n",
       "0     63299300          -0.325576               8.460256     156.01  ...   \n",
       "1     47575100           1.041237               3.616788     159.67  ...   \n",
       "2     57204900           5.350305               6.432494     158.15  ...   \n",
       "3     50001100          -4.406762               8.700113     156.71  ...   \n",
       "4     57032700           4.296937               8.366685     161.84  ...   \n",
       "\n",
       "   MSFT Daily change  MSFT Daily change Max  INTC Open  INTC High  INTC Low  \\\n",
       "0          -0.029111               2.941719      44.49      45.15     43.84   \n",
       "1          -0.767714               1.420667      45.06      46.64     44.41   \n",
       "2           2.434194               3.156904      44.79      45.49     44.23   \n",
       "3          -3.842556               4.839060      43.72      44.99     43.51   \n",
       "4           1.556857               3.382363      44.99      45.36     43.50   \n",
       "\n",
       "   INTC Close  INTC Volume  INTC Daily change  INTC Daily change Max  Day  \n",
       "0       44.30   40910000.0          -0.427062               2.988139    4  \n",
       "1       46.54   44625600.0           3.284510               5.021392    2  \n",
       "2       45.06   40158400.0           0.602813               2.848745    1  \n",
       "3       44.96   45446500.0           2.836231               3.401517    0  \n",
       "4       43.59   70726300.0          -3.111803               4.275862    4  \n",
       "\n",
       "[5 rows x 45 columns]"
      ]
     },
     "execution_count": 134,
     "metadata": {},
     "output_type": "execute_result"
    }
   ],
   "source": [
    "df['Date'] = pd.to_datetime(df['Date']).copy()\n",
    "df[\"Date\"]= pd.to_datetime(df.Date,format=\"%Y-%m-%d\").copy()\n",
    "#df['Date'] = pd.to_numeric(pd.to_datetime(df['Date'])).copy()\n",
    "i = 0\n",
    "while i  < 2547:\n",
    "    temp = pd.Timestamp(df[\"Date\"][i])\n",
    "    df['Day'][i] = temp.dayofweek\n",
    "    i=i+1\n",
    "\n",
    "\n",
    "df.head()"
   ]
  },
  {
   "cell_type": "code",
   "execution_count": 79,
   "id": "34cdf255",
   "metadata": {},
   "outputs": [
    {
     "name": "stdout",
     "output_type": "stream",
     "text": [
      "Output 1: Tue Jun 12 12:55:22 2018\n"
     ]
    }
   ],
   "source": [
    "timestamp = 1528797322\n",
    "date_time = datetime.fromtimestamp(timestamp)\n",
    "\n",
    "d = date_time.strftime(\"%c\")\n",
    "print(\"Output 1:\", d)"
   ]
  },
  {
   "cell_type": "code",
   "execution_count": null,
   "id": "2473e61c",
   "metadata": {},
   "outputs": [],
   "source": []
  },
  {
   "cell_type": "code",
   "execution_count": 135,
   "id": "7fef9044",
   "metadata": {},
   "outputs": [
    {
     "data": {
      "text/plain": [
       "<AxesSubplot:>"
      ]
     },
     "execution_count": 135,
     "metadata": {},
     "output_type": "execute_result"
    },
    {
     "data": {
      "image/png": "[encoded data removed]",
      "text/plain": [
       "<Figure size 432x288 with 2 Axes>"
      ]
     },
     "metadata": {},
     "output_type": "display_data"
    }
   ],
   "source": [
    "tdf = pd.DataFrame(df, columns = ['NVDA Open','AAPL Open','AMD Open','MSFT Open','INTC Open','TSLA Open'])\n",
    "sns.heatmap(tdf.corr(), annot=True)"
   ]
  },
  {
   "cell_type": "code",
   "execution_count": 136,
   "id": "469d0491",
   "metadata": {},
   "outputs": [
    {
     "data": {
      "text/plain": [
       "<AxesSubplot:>"
      ]
     },
     "execution_count": 136,
     "metadata": {},
     "output_type": "execute_result"
    },
    {
     "data": {
      "image/png": "[encoded data removed]",
      "text/plain": [
       "<Figure size 432x288 with 2 Axes>"
      ]
     },
     "metadata": {},
     "output_type": "display_data"
    }
   ],
   "source": [
    "tdf = pd.DataFrame(df, columns = ['NVDA Volume','AAPL Volume','AMD Volume','MSFT Volume','INTC Volume','TSLA Volume'])\n",
    "sns.heatmap(tdf.corr(), annot=True)"
   ]
  },
  {
   "cell_type": "code",
   "execution_count": 40,
   "id": "173dda32",
   "metadata": {},
   "outputs": [
    {
     "data": {
      "text/plain": [
       "<AxesSubplot:>"
      ]
     },
     "execution_count": 40,
     "metadata": {},
     "output_type": "execute_result"
    },
    {
     "data": {
      "image/png": "[encoded data removed]",
      "text/plain": [
       "<Figure size 432x288 with 2 Axes>"
      ]
     },
     "metadata": {
      "needs_background": "light"
     },
     "output_type": "display_data"
    }
   ],
   "source": [
    "tdf = pd.DataFrame(df, columns = ['NVDA Close','AAPL Close','AMD Close','MSFT Close','TSLA Close'])\n",
    "sns.heatmap(tdf.corr(), annot=True)"
   ]
  },
  {
   "cell_type": "code",
   "execution_count": 137,
   "id": "8120a409",
   "metadata": {},
   "outputs": [
    {
     "data": {
      "text/plain": [
       "<AxesSubplot:>"
      ]
     },
     "execution_count": 137,
     "metadata": {},
     "output_type": "execute_result"
    },
    {
     "data": {
      "image/png": "[encoded data removed]",
      "text/plain": [
       "<Figure size 432x288 with 2 Axes>"
      ]
     },
     "metadata": {},
     "output_type": "display_data"
    }
   ],
   "source": [
    "tdf = pd.DataFrame(df, columns = ['NVDA Daily change Max','AAPL Daily change Max','AMD Daily change Max','MSFT Daily change Max','INTC Daily change Max','TSLA Daily change Max'])\n",
    "sns.heatmap(tdf.corr(), annot=True)"
   ]
  },
  {
   "cell_type": "code",
   "execution_count": 138,
   "id": "9a8bf5cd",
   "metadata": {},
   "outputs": [
    {
     "data": {
      "text/plain": [
       "<AxesSubplot:>"
      ]
     },
     "execution_count": 138,
     "metadata": {},
     "output_type": "execute_result"
    },
    {
     "data": {
      "image/png": "[encoded data removed]",
      "text/plain": [
       "<Figure size 432x288 with 2 Axes>"
      ]
     },
     "metadata": {},
     "output_type": "display_data"
    }
   ],
   "source": [
    "tdf = pd.DataFrame(df, columns = ['Day','NVDA Daily change','AAPL Daily change','AMD Daily change','MSFT Daily change','INTC Daily change','TSLA Daily change'])\n",
    "sns.heatmap(tdf.corr(), annot=True)"
   ]
  },
  {
   "cell_type": "code",
   "execution_count": 57,
   "id": "d9dc313e",
   "metadata": {},
   "outputs": [
    {
     "data": {
      "text/plain": [
       "<AxesSubplot:>"
      ]
     },
     "execution_count": 57,
     "metadata": {},
     "output_type": "execute_result"
    },
    {
     "data": {
      "image/png": "[encoded data removed]",
      "text/plain": [
       "<Figure size 432x288 with 2 Axes>"
      ]
     },
     "metadata": {},
     "output_type": "display_data"
    }
   ],
   "source": [
    "tdf = pd.DataFrame(df, columns = ['NVDA Volume','NVDA Open','NVDA Close','NVDA Daily change','NVDA Daily change Max'])\n",
    "sns.heatmap(tdf.corr(), annot=True)"
   ]
  },
  {
   "cell_type": "code",
   "execution_count": 133,
   "id": "5c7abab9",
   "metadata": {},
   "outputs": [],
   "source": [
    "from sklearn import linear_model\n",
    "from sklearn import metrics\n",
    "from sklearn.model_selection import train_test_split\n",
    "from sklearn import metrics, preprocessing\n",
    "from sklearn.linear_model import LinearRegression\n",
    "from sklearn.preprocessing import MinMaxScaler\n",
    "from sklearn.preprocessing import StandardScaler\n",
    "#!pip install plotly\n",
    "#!pip install chart_studio\n",
    "import chart_studio.plotly as py\n",
    "import plotly.graph_objs as go\n",
    "from plotly.offline import plot\n",
    "from chart_studio import plotly\n",
    "\n",
    "\n",
    "import plotly.offline as pyoff\n",
    "\n",
    "from plotly.offline import iplot\n",
    "\n",
    "\n",
    "\n",
    "\n",
    "from sklearn.metrics import mean_squared_error as mse\n",
    "from sklearn.metrics import r2_score\n"
   ]
  },
  {
   "cell_type": "code",
   "execution_count": 230,
   "id": "c60664af",
   "metadata": {},
   "outputs": [],
   "source": [
    "layout = go.Layout(\n",
    "    title = 'Stock Prices',\n",
    "    xaxis = dict(\n",
    "        title = 'Date',\n",
    "        titlefont = dict(\n",
    "            family = 'Courier New, monospace',\n",
    "            size = 18,\n",
    "            color = '#7f7f7f'\n",
    "        )\n",
    "    ),\n",
    "    yaxis = dict(\n",
    "        title = 'Date',\n",
    "        titlefont = dict(\n",
    "            family = 'Courier New, monospace',\n",
    "            size = 18,\n",
    "            color = '#7f7f7f'\n",
    "        )\n",
    "    )\n",
    ")\n",
    "tdf = pd.DataFrame(df, columns = [ 'Date' , 'TSLA Open', 'TSLA High','TSLA Low' , 'TSLA Close','MSFT Daily change','TSLA Daily change Max'])\n",
    "tesla_data =[{'x': tdf['Date'], 'y':tdf['TSLA Close'] }]\n",
    "layout.xaxis.title.text = 'Day'\n",
    "plot =go.Figure(data = tesla_data, layout = layout)\n"
   ]
  },
  {
   "cell_type": "code",
   "execution_count": 231,
   "id": "ec27b094",
   "metadata": {},
   "outputs": [
    {
     "data": {
      "application/vnd.plotly.v1+json": {
       "config": {
        "linkText": "Export to plot.ly",
        "plotlyServerURL": "https://plot.ly",
        "showLink": false
       },
       "data": [
        {
         "type": "scatter",
         "x": [
          "May 06, 2022",
          "May 04, 2022",
          "May 03, 2022",
          "May 02, 2022",
          "Apr 29, 2022",
          "Apr 28, 2022",
          "Apr 27, 2022",
          "Apr 26, 2022",
          "Apr 25, 2022",
          "Apr 22, 2022",
          "Apr 21, 2022",
          "Apr 20, 2022",
          "Apr 19, 2022",
          "Apr 18, 2022",
          "Apr 14, 2022",
          "Apr 13, 2022",
          "Apr 12, 2022",
          "Apr 11, 2022",
          "Apr 08, 2022",
          "Apr 07, 2022",
          "Apr 06, 2022",
          "Apr 05, 2022",
          "Apr 04, 2022",
          "Apr 01, 2022",
          "Mar 31, 2022",
          "Mar 30, 2022",
          "Mar 29, 2022",
          "Mar 28, 2022",
          "Mar 25, 2022",
          "Mar 24, 2022",
          "Mar 23, 2022",
          "Mar 22, 2022",
          "Mar 21, 2022",
          "Mar 18, 2022",
          "Mar 17, 2022",
          "Mar 16, 2022",
          "Mar 15, 2022",
          "Mar 14, 2022",
          "Mar 11, 2022",
          "Mar 10, 2022",
          "Mar 09, 2022",
          "Mar 08, 2022",
          "Mar 07, 2022",
          "Mar 04, 2022",
          "Mar 03, 2022",
          "Mar 01, 2022",
          "Feb 28, 2022",
          "Feb 25, 2022",
          "Feb 24, 2022",
          "Feb 23, 2022",
          "Feb 22, 2022",
          "Feb 18, 2022",
          "Feb 17, 2022",
          "Feb 15, 2022",
          "Feb 14, 2022",
          "Feb 11, 2022",
          "Feb 10, 2022",
          "Feb 09, 2022",
          "Feb 08, 2022",
          "Feb 07, 2022",
          "Feb 04, 2022",
          "Feb 03, 2022",
          "Feb 02, 2022",
          "Feb 01, 2022",
          "Jan 31, 2022",
          "Jan 28, 2022",
          "Jan 27, 2022",
          "Jan 26, 2022",
          "Jan 25, 2022",
          "Jan 24, 2022",
          "Jan 21, 2022",
          "Jan 20, 2022",
          "Jan 19, 2022",
          "Jan 18, 2022",
          "Jan 14, 2022",
          "Jan 13, 2022",
          "Jan 12, 2022",
          "Jan 11, 2022",
          "Jan 10, 2022",
          "Jan 07, 2022",
          "Jan 06, 2022",
          "Jan 05, 2022",
          "Jan 04, 2022",
          "Jan 03, 2022",
          "Dec 31, 2021",
          "Dec 30, 2021",
          "Dec 29, 2021",
          "Dec 28, 2021",
          "Dec 27, 2021",
          "Dec 23, 2021",
          "Dec 22, 2021",
          "Dec 21, 2021",
          "Dec 20, 2021",
          "Dec 17, 2021",
          "Dec 16, 2021",
          "Dec 15, 2021",
          "Dec 14, 2021",
          "Dec 13, 2021",
          "Dec 10, 2021",
          "Dec 09, 2021",
          "Dec 08, 2021",
          "Dec 07, 2021",
          "Dec 06, 2021",
          "Dec 03, 2021",
          "Dec 02, 2021",
          "Nov 30, 2021",
          "Nov 29, 2021",
          "Nov 26, 2021",
          "Nov 24, 2021",
          "Nov 23, 2021",
          "Nov 22, 2021",
          "Nov 19, 2021",
          "Nov 18, 2021",
          "Nov 16, 2021",
          "Nov 15, 2021",
          "Nov 12, 2021",
          "Nov 11, 2021",
          "Nov 10, 2021",
          "Nov 09, 2021",
          "Nov 08, 2021",
          "Nov 05, 2021",
          "Nov 03, 2021",
          "Nov 02, 2021",
          "Nov 01, 2021",
          "Oct 29, 2021",
          "Oct 28, 2021",
          "Oct 27, 2021",
          "Oct 26, 2021",
          "Oct 25, 2021",
          "Oct 22, 2021",
          "Oct 21, 2021",
          "Oct 20, 2021",
          "Oct 19, 2021",
          "Oct 18, 2021",
          "Oct 15, 2021",
          "Oct 14, 2021",
          "Oct 13, 2021",
          "Oct 12, 2021",
          "Oct 11, 2021",
          "Oct 08, 2021",
          "Oct 07, 2021",
          "Oct 06, 2021",
          "Oct 05, 2021",
          "Oct 04, 2021",
          "Oct 01, 2021",
          "Sep 30, 2021",
          "Sep 29, 2021",
          "Sep 28, 2021",
          "Sep 27, 2021",
          "Sep 24, 2021",
          "Sep 23, 2021",
          "Sep 22, 2021",
          "Sep 21, 2021",
          "Sep 20, 2021",
          "Sep 17, 2021",
          "Sep 16, 2021",
          "Sep 15, 2021",
          "Sep 14, 2021",
          "Sep 13, 2021",
          "Sep 10, 2021",
          "Sep 09, 2021",
          "Sep 08, 2021",
          "Sep 07, 2021",
          "Sep 03, 2021",
          "Sep 02, 2021",
          "Sep 01, 2021",
          "Aug 30, 2021",
          "Aug 27, 2021",
          "Aug 26, 2021",
          "Aug 25, 2021",
          "Aug 24, 2021",
          "Aug 23, 2021",
          "Aug 20, 2021",
          "Aug 19, 2021",
          "Aug 17, 2021",
          "Aug 16, 2021",
          "Aug 13, 2021",
          "Aug 12, 2021",
          "Aug 11, 2021",
          "Aug 10, 2021",
          "Aug 09, 2021",
          "Aug 06, 2021",
          "Aug 04, 2021",
          "Aug 03, 2021",
          "Aug 02, 2021",
          "Jul 30, 2021",
          "Jul 29, 2021",
          "Jul 28, 2021",
          "Jul 27, 2021",
          "Jul 26, 2021",
          "Jul 23, 2021",
          "Jul 22, 2021",
          "Jul 21, 2021",
          "Jul 19, 2021",
          "Jul 16, 2021",
          "Jul 15, 2021",
          "Jul 14, 2021",
          "Jul 13, 2021",
          "Jul 12, 2021",
          "Jul 09, 2021",
          "Jul 08, 2021",
          "Jul 07, 2021",
          "Jul 06, 2021",
          "Jul 02, 2021",
          "Jul 01, 2021",
          "Jun 30, 2021",
          "Jun 29, 2021",
          "Jun 28, 2021",
          "Jun 25, 2021",
          "Jun 24, 2021",
          "Jun 23, 2021",
          "Jun 22, 2021",
          "Jun 21, 2021",
          "Jun 18, 2021",
          "Jun 17, 2021",
          "Jun 16, 2021",
          "Jun 15, 2021",
          "Jun 14, 2021",
          "Jun 11, 2021",
          "Jun 10, 2021",
          "Jun 09, 2021",
          "Jun 07, 2021",
          "Jun 04, 2021",
          "Jun 03, 2021",
          "Jun 02, 2021",
          "Jun 01, 2021",
          "May 28, 2021",
          "May 27, 2021",
          "May 26, 2021",
          "May 25, 2021",
          "May 24, 2021",
          "May 21, 2021",
          "May 20, 2021",
          "May 18, 2021",
          "May 17, 2021",
          "May 14, 2021",
          "May 13, 2021",
          "May 12, 2021",
          "May 11, 2021",
          "May 10, 2021",
          "May 07, 2021",
          "May 05, 2021",
          "May 04, 2021",
          "May 03, 2021",
          "Apr 30, 2021",
          "Apr 29, 2021",
          "Apr 28, 2021",
          "Apr 27, 2021",
          "Apr 26, 2021",
          "Apr 23, 2021",
          "Apr 22, 2021",
          "Apr 21, 2021",
          "Apr 20, 2021",
          "Apr 19, 2021",
          "Apr 16, 2021",
          "Apr 15, 2021",
          "Apr 14, 2021",
          "Apr 13, 2021",
          "Apr 12, 2021",
          "Apr 09, 2021",
          "Apr 08, 2021",
          "Apr 07, 2021",
          "Apr 06, 2021",
          "Apr 05, 2021",
          "Apr 01, 2021",
          "Mar 31, 2021",
          "Mar 30, 2021",
          "Mar 29, 2021",
          "Mar 26, 2021",
          "Mar 25, 2021",
          "Mar 24, 2021",
          "Mar 23, 2021",
          "Mar 22, 2021",
          "Mar 19, 2021",
          "Mar 18, 2021",
          "Mar 17, 2021",
          "Mar 16, 2021",
          "Mar 15, 2021",
          "Mar 12, 2021",
          "Mar 11, 2021",
          "Mar 10, 2021",
          "Mar 09, 2021",
          "Mar 05, 2021",
          "Mar 04, 2021",
          "Mar 03, 2021",
          "Mar 02, 2021",
          "Mar 01, 2021",
          "Feb 26, 2021",
          "Feb 25, 2021",
          "Feb 24, 2021",
          "Feb 23, 2021",
          "Feb 22, 2021",
          "Feb 19, 2021",
          "Feb 18, 2021",
          "Feb 16, 2021",
          "Feb 12, 2021",
          "Feb 11, 2021",
          "Feb 10, 2021",
          "Feb 09, 2021",
          "Feb 08, 2021",
          "Feb 05, 2021",
          "Feb 03, 2021",
          "Feb 02, 2021",
          "Feb 01, 2021",
          "Jan 29, 2021",
          "Jan 28, 2021",
          "Jan 27, 2021",
          "Jan 26, 2021",
          "Jan 25, 2021",
          "Jan 22, 2021",
          "Jan 21, 2021",
          "Jan 20, 2021",
          "Jan 19, 2021",
          "Jan 15, 2021",
          "Jan 14, 2021",
          "Jan 13, 2021",
          "Jan 12, 2021",
          "Jan 11, 2021",
          "Jan 08, 2021",
          "Jan 07, 2021",
          "Jan 06, 2021",
          "Jan 05, 2021",
          "Jan 04, 2021",
          "Dec 31, 2020",
          "Dec 30, 2020",
          "Dec 29, 2020",
          "Dec 28, 2020",
          "Dec 24, 2020",
          "Dec 23, 2020",
          "Dec 22, 2020",
          "Dec 21, 2020",
          "Dec 18, 2020",
          "Dec 17, 2020",
          "Dec 16, 2020",
          "Dec 15, 2020",
          "Dec 14, 2020",
          "Dec 11, 2020",
          "Dec 10, 2020",
          "Dec 09, 2020",
          "Dec 08, 2020",
          "Dec 07, 2020",
          "Dec 04, 2020",
          "Dec 03, 2020",
          "Dec 01, 2020",
          "Nov 30, 2020",
          "Nov 27, 2020",
          "Nov 25, 2020",
          "Nov 24, 2020",
          "Nov 23, 2020",
          "Nov 20, 2020",
          "Nov 19, 2020",
          "Nov 17, 2020",
          "Nov 16, 2020",
          "Nov 13, 2020",
          "Nov 12, 2020",
          "Nov 11, 2020",
          "Nov 10, 2020",
          "Nov 09, 2020",
          "Nov 06, 2020",
          "Nov 04, 2020",
          "Nov 03, 2020",
          "Nov 02, 2020",
          "Oct 30, 2020",
          "Oct 29, 2020",
          "Oct 28, 2020",
          "Oct 27, 2020",
          "Oct 26, 2020",
          "Oct 23, 2020",
          "Oct 22, 2020",
          "Oct 21, 2020",
          "Oct 20, 2020",
          "Oct 19, 2020",
          "Oct 16, 2020",
          "Oct 15, 2020",
          "Oct 14, 2020",
          "Oct 13, 2020",
          "Oct 12, 2020",
          "Oct 09, 2020",
          "Oct 08, 2020",
          "Oct 07, 2020",
          "Oct 06, 2020",
          "Oct 05, 2020",
          "Oct 02, 2020",
          "Oct 01, 2020",
          "Sep 30, 2020",
          "Sep 29, 2020",
          "Sep 28, 2020",
          "Sep 25, 2020",
          "Sep 24, 2020",
          "Sep 23, 2020",
          "Sep 22, 2020",
          "Sep 21, 2020",
          "Sep 18, 2020",
          "Sep 17, 2020",
          "Sep 16, 2020",
          "Sep 15, 2020",
          "Sep 14, 2020",
          "Sep 11, 2020",
          "Sep 10, 2020",
          "Sep 08, 2020",
          "Sep 04, 2020",
          "Sep 03, 2020",
          "Sep 02, 2020",
          "Sep 01, 2020",
          "Aug 27, 2020",
          "Aug 26, 2020",
          "Aug 25, 2020",
          "Aug 24, 2020",
          "Aug 21, 2020",
          "Aug 20, 2020",
          "Aug 18, 2020",
          "Aug 17, 2020",
          "Aug 14, 2020",
          "Aug 13, 2020",
          "Aug 12, 2020",
          "Aug 11, 2020",
          "Aug 10, 2020",
          "Aug 07, 2020",
          "Aug 06, 2020",
          "Aug 05, 2020",
          "Aug 04, 2020",
          "Aug 03, 2020",
          "Jul 31, 2020",
          "Jul 30, 2020",
          "Jul 29, 2020",
          "Jul 28, 2020",
          "Jul 27, 2020",
          "Jul 24, 2020",
          "Jul 23, 2020",
          "Jul 22, 2020",
          "Jul 21, 2020",
          "Jul 20, 2020",
          "Jul 17, 2020",
          "Jul 16, 2020",
          "Jul 15, 2020",
          "Jul 14, 2020",
          "Jul 13, 2020",
          "Jul 10, 2020",
          "Jul 09, 2020",
          "Jul 08, 2020",
          "Jul 07, 2020",
          "Jul 06, 2020",
          "Jul 02, 2020",
          "Jul 01, 2020",
          "Jun 30, 2020",
          "Jun 29, 2020",
          "Jun 26, 2020",
          "Jun 25, 2020",
          "Jun 24, 2020",
          "Jun 23, 2020",
          "Jun 22, 2020",
          "Jun 19, 2020",
          "Jun 18, 2020",
          "Jun 17, 2020",
          "Jun 16, 2020",
          "Jun 15, 2020",
          "Jun 12, 2020",
          "Jun 11, 2020",
          "Jun 10, 2020",
          "Jun 09, 2020",
          "Jun 08, 2020",
          "Jun 05, 2020",
          "Jun 04, 2020",
          "Jun 02, 2020",
          "Jun 01, 2020",
          "May 29, 2020",
          "May 28, 2020",
          "May 27, 2020",
          "May 26, 2020",
          "May 22, 2020",
          "May 21, 2020",
          "May 19, 2020",
          "May 18, 2020",
          "May 15, 2020",
          "May 14, 2020",
          "May 13, 2020",
          "May 12, 2020",
          "May 11, 2020",
          "May 08, 2020",
          "May 07, 2020",
          "May 05, 2020",
          "May 04, 2020",
          "May 01, 2020",
          "Apr 30, 2020",
          "Apr 29, 2020",
          "Apr 28, 2020",
          "Apr 27, 2020",
          "Apr 24, 2020",
          "Apr 23, 2020",
          "Apr 22, 2020",
          "Apr 21, 2020",
          "Apr 20, 2020",
          "Apr 17, 2020",
          "Apr 16, 2020",
          "Apr 15, 2020",
          "Apr 14, 2020",
          "Apr 13, 2020",
          "Apr 09, 2020",
          "Apr 08, 2020",
          "Apr 07, 2020",
          "Apr 06, 2020",
          "Apr 03, 2020",
          "Apr 02, 2020",
          "Apr 01, 2020",
          "Mar 31, 2020",
          "Mar 30, 2020",
          "Mar 27, 2020",
          "Mar 26, 2020",
          "Mar 25, 2020",
          "Mar 24, 2020",
          "Mar 23, 2020",
          "Mar 20, 2020",
          "Mar 19, 2020",
          "Mar 18, 2020",
          "Mar 17, 2020",
          "Mar 16, 2020",
          "Mar 13, 2020",
          "Mar 12, 2020",
          "Mar 11, 2020",
          "Mar 10, 2020",
          "Mar 09, 2020",
          "Mar 06, 2020",
          "Mar 05, 2020",
          "Mar 04, 2020",
          "Mar 03, 2020",
          "Mar 02, 2020",
          "Feb 28, 2020",
          "Feb 27, 2020",
          "Feb 25, 2020",
          "Feb 24, 2020",
          "Feb 21, 2020",
          "Feb 20, 2020",
          "Feb 18, 2020",
          "Feb 14, 2020",
          "Feb 13, 2020",
          "Feb 12, 2020",
          "Feb 11, 2020",
          "Feb 10, 2020",
          "Feb 07, 2020",
          "Feb 06, 2020",
          "Feb 05, 2020",
          "Feb 04, 2020",
          "Feb 03, 2020",
          "Jan 31, 2020",
          "Jan 30, 2020",
          "Jan 29, 2020",
          "Jan 28, 2020",
          "Jan 27, 2020",
          "Jan 24, 2020",
          "Jan 23, 2020",
          "Jan 22, 2020",
          "Jan 21, 2020",
          "Jan 17, 2020",
          "Jan 16, 2020",
          "Jan 15, 2020",
          "Jan 14, 2020",
          "Jan 13, 2020",
          "Jan 10, 2020",
          "Jan 09, 2020",
          "Jan 08, 2020",
          "Jan 07, 2020",
          "Jan 06, 2020",
          "Jan 03, 2020",
          "Jan 02, 2020",
          "Dec 31, 2019",
          "Dec 30, 2019",
          "Dec 27, 2019",
          "Dec 26, 2019",
          "Dec 24, 2019",
          "Dec 23, 2019",
          "Dec 20, 2019",
          "Dec 19, 2019",
          "Dec 18, 2019",
          "Dec 17, 2019",
          "Dec 16, 2019",
          "Dec 13, 2019",
          "Dec 12, 2019",
          "Dec 11, 2019",
          "Dec 10, 2019",
          "Dec 09, 2019",
          "Dec 06, 2019",
          "Dec 05, 2019",
          "Dec 04, 2019",
          "Dec 03, 2019",
          "Dec 02, 2019",
          "Nov 29, 2019",
          "Nov 27, 2019",
          "Nov 25, 2019",
          "Nov 22, 2019",
          "Nov 21, 2019",
          "Nov 19, 2019",
          "Nov 18, 2019",
          "Nov 15, 2019",
          "Nov 14, 2019",
          "Nov 13, 2019",
          "Nov 12, 2019",
          "Nov 11, 2019",
          "Nov 08, 2019",
          "Nov 07, 2019",
          "Nov 06, 2019",
          "Nov 05, 2019",
          "Nov 04, 2019",
          "Nov 01, 2019",
          "Oct 31, 2019",
          "Oct 30, 2019",
          "Oct 29, 2019",
          "Oct 28, 2019",
          "Oct 25, 2019",
          "Oct 24, 2019",
          "Oct 23, 2019",
          "Oct 22, 2019",
          "Oct 21, 2019",
          "Oct 18, 2019",
          "Oct 17, 2019",
          "Oct 16, 2019",
          "Oct 15, 2019",
          "Oct 14, 2019",
          "Oct 11, 2019",
          "Oct 10, 2019",
          "Oct 09, 2019",
          "Oct 08, 2019",
          "Oct 07, 2019",
          "Oct 04, 2019",
          "Oct 03, 2019",
          "Oct 02, 2019",
          "Oct 01, 2019",
          "Sep 30, 2019",
          "Sep 27, 2019",
          "Sep 26, 2019",
          "Sep 25, 2019",
          "Sep 24, 2019",
          "Sep 23, 2019",
          "Sep 20, 2019",
          "Sep 19, 2019",
          "Sep 18, 2019",
          "Sep 17, 2019",
          "Sep 16, 2019",
          "Sep 13, 2019",
          "Sep 12, 2019",
          "Sep 11, 2019",
          "Sep 10, 2019",
          "Sep 09, 2019",
          "Sep 06, 2019",
          "Sep 05, 2019",
          "Sep 04, 2019",
          "Sep 03, 2019",
          "Aug 30, 2019",
          "Aug 29, 2019",
          "Aug 28, 2019",
          "Aug 26, 2019",
          "Aug 23, 2019",
          "Aug 22, 2019",
          "Aug 21, 2019",
          "Aug 20, 2019",
          "Aug 19, 2019",
          "Aug 16, 2019",
          "Aug 15, 2019",
          "Aug 13, 2019",
          "Aug 12, 2019",
          "Aug 09, 2019",
          "Aug 08, 2019",
          "Aug 06, 2019",
          "Aug 05, 2019",
          "Aug 02, 2019",
          "Aug 01, 2019",
          "Jul 31, 2019",
          "Jul 30, 2019",
          "Jul 29, 2019",
          "Jul 26, 2019",
          "Jul 25, 2019",
          "Jul 24, 2019",
          "Jul 23, 2019",
          "Jul 22, 2019",
          "Jul 19, 2019",
          "Jul 18, 2019",
          "Jul 17, 2019",
          "Jul 16, 2019",
          "Jul 15, 2019",
          "Jul 12, 2019",
          "Jul 11, 2019",
          "Jul 10, 2019",
          "Jul 09, 2019",
          "Jul 08, 2019",
          "Jul 05, 2019",
          "Jul 03, 2019",
          "Jul 02, 2019",
          "Jul 01, 2019",
          "Jun 28, 2019",
          "Jun 27, 2019",
          "Jun 26, 2019",
          "Jun 25, 2019",
          "Jun 24, 2019",
          "Jun 21, 2019",
          "Jun 20, 2019",
          "Jun 19, 2019",
          "Jun 18, 2019",
          "Jun 17, 2019",
          "Jun 14, 2019",
          "Jun 13, 2019",
          "Jun 12, 2019",
          "Jun 11, 2019",
          "Jun 10, 2019",
          "Jun 07, 2019",
          "Jun 06, 2019",
          "Jun 05, 2019",
          "Jun 04, 2019",
          "Jun 03, 2019",
          "May 31, 2019",
          "May 30, 2019",
          "May 28, 2019",
          "May 24, 2019",
          "May 23, 2019",
          "May 22, 2019",
          "May 21, 2019",
          "May 20, 2019",
          "May 17, 2019",
          "May 16, 2019",
          "May 14, 2019",
          "May 13, 2019",
          "May 10, 2019",
          "May 09, 2019",
          "May 07, 2019",
          "May 06, 2019",
          "May 03, 2019",
          "May 02, 2019",
          "May 01, 2019",
          "Apr 30, 2019",
          "Apr 29, 2019",
          "Apr 26, 2019",
          "Apr 25, 2019",
          "Apr 24, 2019",
          "Apr 23, 2019",
          "Apr 22, 2019",
          "Apr 18, 2019",
          "Apr 17, 2019",
          "Apr 16, 2019",
          "Apr 15, 2019",
          "Apr 12, 2019",
          "Apr 11, 2019",
          "Apr 10, 2019",
          "Apr 09, 2019",
          "Apr 08, 2019",
          "Apr 05, 2019",
          "Apr 04, 2019",
          "Apr 03, 2019",
          "Apr 02, 2019",
          "Apr 01, 2019",
          "Mar 29, 2019",
          "Mar 28, 2019",
          "Mar 27, 2019",
          "Mar 26, 2019",
          "Mar 25, 2019",
          "Mar 22, 2019",
          "Mar 21, 2019",
          "Mar 20, 2019",
          "Mar 19, 2019",
          "Mar 18, 2019",
          "Mar 15, 2019",
          "Mar 14, 2019",
          "Mar 13, 2019",
          "Mar 12, 2019",
          "Mar 11, 2019",
          "Mar 08, 2019",
          "Mar 07, 2019",
          "Mar 06, 2019",
          "Mar 05, 2019",
          "Mar 04, 2019",
          "Mar 01, 2019",
          "Feb 28, 2019",
          "Feb 26, 2019",
          "Feb 25, 2019",
          "Feb 22, 2019",
          "Feb 21, 2019",
          "Feb 19, 2019",
          "Feb 15, 2019",
          "Feb 14, 2019",
          "Feb 13, 2019",
          "Feb 12, 2019",
          "Feb 11, 2019",
          "Feb 08, 2019",
          "Feb 07, 2019",
          "Feb 05, 2019",
          "Feb 04, 2019",
          "Feb 01, 2019",
          "Jan 31, 2019",
          "Jan 30, 2019",
          "Jan 29, 2019",
          "Jan 28, 2019",
          "Jan 25, 2019",
          "Jan 24, 2019",
          "Jan 23, 2019",
          "Jan 22, 2019",
          "Jan 18, 2019",
          "Jan 17, 2019",
          "Jan 16, 2019",
          "Jan 15, 2019",
          "Jan 14, 2019",
          "Jan 11, 2019",
          "Jan 10, 2019",
          "Jan 09, 2019",
          "Jan 08, 2019",
          "Jan 07, 2019",
          "Jan 04, 2019",
          "Jan 03, 2019",
          "Jan 02, 2019",
          "Dec 31, 2018",
          "Dec 28, 2018",
          "Dec 27, 2018",
          "Dec 26, 2018",
          "Dec 24, 2018",
          "Dec 21, 2018",
          "Dec 20, 2018",
          "Dec 19, 2018",
          "Dec 18, 2018",
          "Dec 17, 2018",
          "Dec 14, 2018",
          "Dec 13, 2018",
          "Dec 12, 2018",
          "Dec 11, 2018",
          "Dec 10, 2018",
          "Dec 07, 2018",
          "Dec 06, 2018",
          "Dec 04, 2018",
          "Dec 03, 2018",
          "Nov 30, 2018",
          "Nov 29, 2018",
          "Nov 27, 2018",
          "Nov 26, 2018",
          "Nov 23, 2018",
          "Nov 21, 2018",
          "Nov 20, 2018",
          "Nov 19, 2018",
          "Nov 16, 2018",
          "Nov 15, 2018",
          "Nov 13, 2018",
          "Nov 12, 2018",
          "Nov 09, 2018",
          "Nov 08, 2018",
          "Nov 07, 2018",
          "Nov 05, 2018",
          "Nov 02, 2018",
          "Nov 01, 2018",
          "Oct 31, 2018",
          "Oct 30, 2018",
          "Oct 29, 2018",
          "Oct 26, 2018",
          "Oct 25, 2018",
          "Oct 24, 2018",
          "Oct 23, 2018",
          "Oct 22, 2018",
          "Oct 19, 2018",
          "Oct 18, 2018",
          "Oct 17, 2018",
          "Oct 16, 2018",
          "Oct 15, 2018",
          "Oct 12, 2018",
          "Oct 11, 2018",
          "Oct 10, 2018",
          "Oct 09, 2018",
          "Oct 08, 2018",
          "Oct 05, 2018",
          "Oct 04, 2018",
          "Oct 03, 2018",
          "Oct 02, 2018",
          "Oct 01, 2018",
          "Sep 28, 2018",
          "Sep 27, 2018",
          "Sep 26, 2018",
          "Sep 25, 2018",
          "Sep 24, 2018",
          "Sep 21, 2018",
          "Sep 20, 2018",
          "Sep 19, 2018",
          "Sep 18, 2018",
          "Sep 17, 2018",
          "Sep 14, 2018",
          "Sep 13, 2018",
          "Sep 12, 2018",
          "Sep 11, 2018",
          "Sep 10, 2018",
          "Sep 07, 2018",
          "Sep 06, 2018",
          "Sep 05, 2018",
          "Sep 04, 2018",
          "Aug 31, 2018",
          "Aug 30, 2018",
          "Aug 29, 2018",
          "Aug 27, 2018",
          "Aug 24, 2018",
          "Aug 23, 2018",
          "Aug 22, 2018",
          "Aug 21, 2018",
          "Aug 20, 2018",
          "Aug 17, 2018",
          "Aug 16, 2018",
          "Aug 14, 2018",
          "Aug 13, 2018",
          "Aug 10, 2018",
          "Aug 09, 2018",
          "Aug 07, 2018",
          "Aug 06, 2018",
          "Aug 03, 2018",
          "Aug 02, 2018",
          "Aug 01, 2018",
          "Jul 31, 2018",
          "Jul 30, 2018",
          "Jul 27, 2018",
          "Jul 26, 2018",
          "Jul 25, 2018",
          "Jul 24, 2018",
          "Jul 23, 2018",
          "Jul 20, 2018",
          "Jul 19, 2018",
          "Jul 18, 2018",
          "Jul 17, 2018",
          "Jul 16, 2018",
          "Jul 13, 2018",
          "Jul 12, 2018",
          "Jul 11, 2018",
          "Jul 10, 2018",
          "Jul 09, 2018",
          "Jul 06, 2018",
          "Jul 05, 2018",
          "Jul 03, 2018",
          "Jul 02, 2018",
          "Jun 29, 2018",
          "Jun 28, 2018",
          "Jun 27, 2018",
          "Jun 26, 2018",
          "Jun 25, 2018",
          "Jun 22, 2018",
          "Jun 21, 2018",
          "Jun 20, 2018",
          "Jun 19, 2018",
          "Jun 18, 2018",
          "Jun 15, 2018",
          "Jun 14, 2018",
          "Jun 13, 2018",
          "Jun 12, 2018",
          "Jun 11, 2018",
          "Jun 08, 2018",
          "Jun 07, 2018",
          "Jun 06, 2018",
          "Jun 05, 2018",
          "Jun 04, 2018",
          "Jun 01, 2018",
          "May 31, 2018",
          "May 30, 2018",
          "May 29, 2018",
          "May 25, 2018",
          "May 24, 2018",
          "May 23, 2018",
          "May 21, 2018",
          "May 18, 2018",
          "May 17, 2018",
          "May 15, 2018",
          "May 14, 2018",
          "May 11, 2018",
          "May 10, 2018",
          "May 08, 2018",
          "May 07, 2018",
          "May 04, 2018",
          "May 03, 2018",
          "May 02, 2018",
          "May 01, 2018",
          "Apr 30, 2018",
          "Apr 27, 2018",
          "Apr 26, 2018",
          "Apr 25, 2018",
          "Apr 24, 2018",
          "Apr 23, 2018",
          "Apr 20, 2018",
          "Apr 19, 2018",
          "Apr 18, 2018",
          "Apr 17, 2018",
          "Apr 16, 2018",
          "Apr 13, 2018",
          "Apr 12, 2018",
          "Apr 11, 2018",
          "Apr 10, 2018",
          "Apr 09, 2018",
          "Apr 06, 2018",
          "Apr 05, 2018",
          "Apr 04, 2018",
          "Apr 03, 2018",
          "Apr 02, 2018",
          "Mar 29, 2018",
          "Mar 28, 2018",
          "Mar 27, 2018",
          "Mar 26, 2018",
          "Mar 23, 2018",
          "Mar 22, 2018",
          "Mar 21, 2018",
          "Mar 20, 2018",
          "Mar 19, 2018",
          "Mar 16, 2018",
          "Mar 15, 2018",
          "Mar 14, 2018",
          "Mar 13, 2018",
          "Mar 12, 2018",
          "Mar 09, 2018",
          "Mar 08, 2018",
          "Mar 07, 2018",
          "Mar 06, 2018",
          "Mar 05, 2018",
          "Mar 02, 2018",
          "Mar 01, 2018",
          "Feb 28, 2018",
          "Feb 27, 2018",
          "Feb 26, 2018",
          "Feb 23, 2018",
          "Feb 22, 2018",
          "Feb 20, 2018",
          "Feb 16, 2018",
          "Feb 15, 2018",
          "Feb 13, 2018",
          "Feb 12, 2018",
          "Feb 09, 2018",
          "Feb 08, 2018",
          "Feb 06, 2018",
          "Feb 05, 2018",
          "Feb 02, 2018",
          "Feb 01, 2018",
          "Jan 31, 2018",
          "Jan 30, 2018",
          "Jan 29, 2018",
          "Jan 26, 2018",
          "Jan 25, 2018",
          "Jan 24, 2018",
          "Jan 23, 2018",
          "Jan 22, 2018",
          "Jan 19, 2018",
          "Jan 18, 2018",
          "Jan 17, 2018",
          "Jan 16, 2018",
          "Jan 12, 2018",
          "Jan 11, 2018",
          "Jan 10, 2018",
          "Jan 09, 2018",
          "Jan 08, 2018",
          "Jan 05, 2018",
          "Jan 04, 2018",
          "Jan 03, 2018",
          "Jan 02, 2018",
          "Dec 29, 2017",
          "Dec 28, 2017",
          "Dec 27, 2017",
          "Dec 26, 2017",
          "Dec 22, 2017",
          "Dec 21, 2017",
          "Dec 20, 2017",
          "Dec 19, 2017",
          "Dec 18, 2017",
          "Dec 15, 2017",
          "Dec 14, 2017",
          "Dec 13, 2017",
          "Dec 12, 2017",
          "Dec 11, 2017",
          "Dec 08, 2017",
          "Dec 07, 2017",
          "Dec 06, 2017",
          "Dec 05, 2017",
          "Dec 04, 2017",
          "Dec 01, 2017",
          "Nov 30, 2017",
          "Nov 29, 2017",
          "Nov 28, 2017",
          "Nov 27, 2017",
          "Nov 24, 2017",
          "Nov 22, 2017",
          "Nov 20, 2017",
          "Nov 17, 2017",
          "Nov 16, 2017",
          "Nov 14, 2017",
          "Nov 13, 2017",
          "Nov 10, 2017",
          "Nov 09, 2017",
          "Nov 07, 2017",
          "Nov 06, 2017",
          "Nov 03, 2017",
          "Nov 02, 2017",
          "Nov 01, 2017",
          "Oct 31, 2017",
          "Oct 30, 2017",
          "Oct 27, 2017",
          "Oct 26, 2017",
          "Oct 25, 2017",
          "Oct 24, 2017",
          "Oct 23, 2017",
          "Oct 20, 2017",
          "Oct 19, 2017",
          "Oct 18, 2017",
          "Oct 17, 2017",
          "Oct 16, 2017",
          "Oct 13, 2017",
          "Oct 12, 2017",
          "Oct 11, 2017",
          "Oct 10, 2017",
          "Oct 09, 2017",
          "Oct 06, 2017",
          "Oct 05, 2017",
          "Oct 04, 2017",
          "Oct 03, 2017",
          "Oct 02, 2017",
          "Sep 29, 2017",
          "Sep 28, 2017",
          "Sep 27, 2017",
          "Sep 26, 2017",
          "Sep 25, 2017",
          "Sep 22, 2017",
          "Sep 21, 2017",
          "Sep 20, 2017",
          "Sep 19, 2017",
          "Sep 18, 2017",
          "Sep 15, 2017",
          "Sep 14, 2017",
          "Sep 13, 2017",
          "Sep 12, 2017",
          "Sep 11, 2017",
          "Sep 08, 2017",
          "Sep 07, 2017",
          "Sep 06, 2017",
          "Sep 05, 2017",
          "Sep 01, 2017",
          "Aug 31, 2017",
          "Aug 30, 2017",
          "Aug 29, 2017",
          "Aug 28, 2017",
          "Aug 25, 2017",
          "Aug 24, 2017",
          "Aug 23, 2017",
          "Aug 22, 2017",
          "Aug 18, 2017",
          "Aug 17, 2017",
          "Aug 16, 2017",
          "Aug 14, 2017",
          "Aug 11, 2017",
          "Aug 10, 2017",
          "Aug 09, 2017",
          "Aug 07, 2017",
          "Aug 04, 2017",
          "Aug 03, 2017",
          "Aug 02, 2017",
          "Aug 01, 2017",
          "Jul 31, 2017",
          "Jul 28, 2017",
          "Jul 27, 2017",
          "Jul 26, 2017",
          "Jul 25, 2017",
          "Jul 24, 2017",
          "Jul 21, 2017",
          "Jul 20, 2017",
          "Jul 19, 2017",
          "Jul 18, 2017",
          "Jul 17, 2017",
          "Jul 14, 2017",
          "Jul 13, 2017",
          "Jul 12, 2017",
          "Jul 11, 2017",
          "Jul 10, 2017",
          "Jul 07, 2017",
          "Jul 06, 2017",
          "Jul 05, 2017",
          "Jul 03, 2017",
          "Jun 30, 2017",
          "Jun 29, 2017",
          "Jun 28, 2017",
          "Jun 27, 2017",
          "Jun 26, 2017",
          "Jun 23, 2017",
          "Jun 22, 2017",
          "Jun 21, 2017",
          "Jun 20, 2017",
          "Jun 19, 2017",
          "Jun 16, 2017",
          "Jun 15, 2017",
          "Jun 14, 2017",
          "Jun 13, 2017",
          "Jun 12, 2017",
          "Jun 09, 2017",
          "Jun 08, 2017",
          "Jun 07, 2017",
          "Jun 06, 2017",
          "Jun 05, 2017",
          "Jun 02, 2017",
          "Jun 01, 2017",
          "May 31, 2017",
          "May 30, 2017",
          "May 26, 2017",
          "May 25, 2017",
          "May 24, 2017",
          "May 23, 2017",
          "May 22, 2017",
          "May 19, 2017",
          "May 17, 2017",
          "May 15, 2017",
          "May 12, 2017",
          "May 11, 2017",
          "May 10, 2017",
          "May 08, 2017",
          "May 05, 2017",
          "May 04, 2017",
          "May 03, 2017",
          "May 02, 2017",
          "May 01, 2017",
          "Apr 28, 2017",
          "Apr 27, 2017",
          "Apr 26, 2017",
          "Apr 25, 2017",
          "Apr 24, 2017",
          "Apr 21, 2017",
          "Apr 20, 2017",
          "Apr 19, 2017",
          "Apr 18, 2017",
          "Apr 17, 2017",
          "Apr 13, 2017",
          "Apr 12, 2017",
          "Apr 11, 2017",
          "Apr 10, 2017",
          "Apr 07, 2017",
          "Apr 06, 2017",
          "Apr 05, 2017",
          "Apr 04, 2017",
          "Apr 03, 2017",
          "Mar 31, 2017",
          "Mar 30, 2017",
          "Mar 29, 2017",
          "Mar 28, 2017",
          "Mar 27, 2017",
          "Mar 24, 2017",
          "Mar 23, 2017",
          "Mar 22, 2017",
          "Mar 21, 2017",
          "Mar 20, 2017",
          "Mar 17, 2017",
          "Mar 16, 2017",
          "Mar 15, 2017",
          "Mar 14, 2017",
          "Mar 13, 2017",
          "Mar 10, 2017",
          "Mar 09, 2017",
          "Mar 08, 2017",
          "Mar 07, 2017",
          "Mar 06, 2017",
          "Mar 03, 2017",
          "Mar 02, 2017",
          "Mar 01, 2017",
          "Feb 28, 2017",
          "Feb 27, 2017",
          "Feb 24, 2017",
          "Feb 23, 2017",
          "Feb 22, 2017",
          "Feb 17, 2017",
          "Feb 16, 2017",
          "Feb 15, 2017",
          "Feb 13, 2017",
          "Feb 10, 2017",
          "Feb 09, 2017",
          "Feb 08, 2017",
          "Feb 06, 2017",
          "Feb 03, 2017",
          "Feb 02, 2017",
          "Feb 01, 2017",
          "Jan 31, 2017",
          "Jan 30, 2017",
          "Jan 27, 2017",
          "Jan 26, 2017",
          "Jan 25, 2017",
          "Jan 24, 2017",
          "Jan 23, 2017",
          "Jan 20, 2017",
          "Jan 19, 2017",
          "Jan 18, 2017",
          "Jan 17, 2017",
          "Jan 13, 2017",
          "Jan 12, 2017",
          "Jan 11, 2017",
          "Jan 10, 2017",
          "Jan 09, 2017",
          "Jan 06, 2017",
          "Jan 05, 2017",
          "Jan 04, 2017",
          "Jan 03, 2017",
          "Dec 30, 2016",
          "Dec 29, 2016",
          "Dec 28, 2016",
          "Dec 27, 2016",
          "Dec 23, 2016",
          "Dec 22, 2016",
          "Dec 21, 2016",
          "Dec 20, 2016",
          "Dec 19, 2016",
          "Dec 16, 2016",
          "Dec 15, 2016",
          "Dec 14, 2016",
          "Dec 13, 2016",
          "Dec 12, 2016",
          "Dec 09, 2016",
          "Dec 08, 2016",
          "Dec 07, 2016",
          "Dec 06, 2016",
          "Dec 05, 2016",
          "Dec 02, 2016",
          "Dec 01, 2016",
          "Nov 30, 2016",
          "Nov 29, 2016",
          "Nov 28, 2016",
          "Nov 25, 2016",
          "Nov 23, 2016",
          "Nov 21, 2016",
          "Nov 18, 2016",
          "Nov 17, 2016",
          "Nov 16, 2016",
          "Nov 14, 2016",
          "Nov 11, 2016",
          "Nov 10, 2016",
          "Nov 09, 2016",
          "Nov 08, 2016",
          "Nov 07, 2016",
          "Nov 04, 2016",
          "Nov 03, 2016",
          "Nov 01, 2016",
          "Oct 31, 2016",
          "Oct 28, 2016",
          "Oct 27, 2016",
          "Oct 26, 2016",
          "Oct 25, 2016",
          "Oct 24, 2016",
          "Oct 21, 2016",
          "Oct 20, 2016",
          "Oct 19, 2016",
          "Oct 18, 2016",
          "Oct 17, 2016",
          "Oct 14, 2016",
          "Oct 13, 2016",
          "Oct 12, 2016",
          "Oct 11, 2016",
          "Oct 10, 2016",
          "Oct 07, 2016",
          "Oct 06, 2016",
          "Oct 05, 2016",
          "Oct 04, 2016",
          "Oct 03, 2016",
          "Sep 30, 2016",
          "Sep 29, 2016",
          "Sep 28, 2016",
          "Sep 27, 2016",
          "Sep 26, 2016",
          "Sep 23, 2016",
          "Sep 22, 2016",
          "Sep 21, 2016",
          "Sep 20, 2016",
          "Sep 19, 2016",
          "Sep 16, 2016",
          "Sep 15, 2016",
          "Sep 14, 2016",
          "Sep 13, 2016",
          "Sep 12, 2016",
          "Sep 09, 2016",
          "Sep 08, 2016",
          "Sep 07, 2016",
          "Sep 06, 2016",
          "Sep 02, 2016",
          "Sep 01, 2016",
          "Aug 31, 2016",
          "Aug 30, 2016",
          "Aug 29, 2016",
          "Aug 26, 2016",
          "Aug 25, 2016",
          "Aug 24, 2016",
          "Aug 23, 2016",
          "Aug 19, 2016",
          "Aug 18, 2016",
          "Aug 17, 2016",
          "Aug 15, 2016",
          "Aug 12, 2016",
          "Aug 11, 2016",
          "Aug 10, 2016",
          "Aug 09, 2016",
          "Aug 08, 2016",
          "Aug 05, 2016",
          "Aug 04, 2016",
          "Aug 03, 2016",
          "Aug 02, 2016",
          "Aug 01, 2016",
          "Jul 29, 2016",
          "Jul 28, 2016",
          "Jul 27, 2016",
          "Jul 26, 2016",
          "Jul 25, 2016",
          "Jul 22, 2016",
          "Jul 21, 2016",
          "Jul 20, 2016",
          "Jul 19, 2016",
          "Jul 18, 2016",
          "Jul 15, 2016",
          "Jul 14, 2016",
          "Jul 13, 2016",
          "Jul 12, 2016",
          "Jul 11, 2016",
          "Jul 08, 2016",
          "Jul 07, 2016",
          "Jul 06, 2016",
          "Jul 05, 2016",
          "Jul 01, 2016",
          "Jun 30, 2016",
          "Jun 29, 2016",
          "Jun 28, 2016",
          "Jun 27, 2016",
          "Jun 24, 2016",
          "Jun 23, 2016",
          "Jun 22, 2016",
          "Jun 21, 2016",
          "Jun 20, 2016",
          "Jun 17, 2016",
          "Jun 16, 2016",
          "Jun 15, 2016",
          "Jun 14, 2016",
          "Jun 13, 2016",
          "Jun 10, 2016",
          "Jun 09, 2016",
          "Jun 08, 2016",
          "Jun 07, 2016",
          "Jun 06, 2016",
          "Jun 03, 2016",
          "Jun 02, 2016",
          "Jun 01, 2016",
          "May 31, 2016",
          "May 27, 2016",
          "May 26, 2016",
          "May 25, 2016",
          "May 24, 2016",
          "May 20, 2016",
          "May 19, 2016",
          "May 18, 2016",
          "May 16, 2016",
          "May 13, 2016",
          "May 12, 2016",
          "May 11, 2016",
          "May 10, 2016",
          "May 09, 2016",
          "May 06, 2016",
          "May 05, 2016",
          "May 04, 2016",
          "May 03, 2016",
          "May 02, 2016",
          "Apr 29, 2016",
          "Apr 28, 2016",
          "Apr 27, 2016",
          "Apr 26, 2016",
          "Apr 25, 2016",
          "Apr 22, 2016",
          "Apr 21, 2016",
          "Apr 20, 2016",
          "Apr 19, 2016",
          "Apr 18, 2016",
          "Apr 15, 2016",
          "Apr 14, 2016",
          "Apr 13, 2016",
          "Apr 12, 2016",
          "Apr 11, 2016",
          "Apr 08, 2016",
          "Apr 07, 2016",
          "Apr 06, 2016",
          "Apr 05, 2016",
          "Apr 04, 2016",
          "Apr 01, 2016",
          "Mar 31, 2016",
          "Mar 30, 2016",
          "Mar 29, 2016",
          "Mar 28, 2016",
          "Mar 24, 2016",
          "Mar 23, 2016",
          "Mar 22, 2016",
          "Mar 21, 2016",
          "Mar 18, 2016",
          "Mar 17, 2016",
          "Mar 16, 2016",
          "Mar 15, 2016",
          "Mar 14, 2016",
          "Mar 11, 2016",
          "Mar 10, 2016",
          "Mar 09, 2016",
          "Mar 08, 2016",
          "Mar 07, 2016",
          "Mar 04, 2016",
          "Mar 03, 2016",
          "Mar 02, 2016",
          "Mar 01, 2016",
          "Feb 29, 2016",
          "Feb 25, 2016",
          "Feb 24, 2016",
          "Feb 23, 2016",
          "Feb 22, 2016",
          "Feb 19, 2016",
          "Feb 18, 2016",
          "Feb 17, 2016",
          "Feb 12, 2016",
          "Feb 11, 2016",
          "Feb 10, 2016",
          "Feb 09, 2016",
          "Feb 08, 2016",
          "Feb 05, 2016",
          "Feb 04, 2016",
          "Feb 03, 2016",
          "Feb 02, 2016",
          "Feb 01, 2016",
          "Jan 29, 2016",
          "Jan 28, 2016",
          "Jan 27, 2016",
          "Jan 26, 2016",
          "Jan 25, 2016",
          "Jan 22, 2016",
          "Jan 21, 2016",
          "Jan 20, 2016",
          "Jan 19, 2016",
          "Jan 15, 2016",
          "Jan 14, 2016",
          "Jan 13, 2016",
          "Jan 12, 2016",
          "Jan 11, 2016",
          "Jan 08, 2016",
          "Jan 07, 2016",
          "Jan 06, 2016",
          "Jan 05, 2016",
          "Jan 04, 2016",
          "Dec 31, 2015",
          "Dec 30, 2015",
          "Dec 29, 2015",
          "Dec 28, 2015",
          "Dec 24, 2015",
          "Dec 23, 2015",
          "Dec 22, 2015",
          "Dec 21, 2015",
          "Dec 18, 2015",
          "Dec 17, 2015",
          "Dec 16, 2015",
          "Dec 15, 2015",
          "Dec 14, 2015",
          "Dec 11, 2015",
          "Dec 10, 2015",
          "Dec 09, 2015",
          "Dec 08, 2015",
          "Dec 07, 2015",
          "Dec 04, 2015",
          "Dec 03, 2015",
          "Dec 02, 2015",
          "Dec 01, 2015",
          "Nov 30, 2015",
          "Nov 27, 2015",
          "Nov 25, 2015",
          "Nov 24, 2015",
          "Nov 23, 2015",
          "Nov 20, 2015",
          "Nov 19, 2015",
          "Nov 18, 2015",
          "Nov 16, 2015",
          "Nov 13, 2015",
          "Nov 12, 2015",
          "Nov 11, 2015",
          "Nov 10, 2015",
          "Nov 09, 2015",
          "Nov 06, 2015",
          "Nov 05, 2015",
          "Nov 04, 2015",
          "Nov 03, 2015",
          "Nov 02, 2015",
          "Oct 30, 2015",
          "Oct 29, 2015",
          "Oct 28, 2015",
          "Oct 27, 2015",
          "Oct 26, 2015",
          "Oct 23, 2015",
          "Oct 22, 2015",
          "Oct 21, 2015",
          "Oct 20, 2015",
          "Oct 19, 2015",
          "Oct 16, 2015",
          "Oct 15, 2015",
          "Oct 14, 2015",
          "Oct 13, 2015",
          "Oct 12, 2015",
          "Oct 09, 2015",
          "Oct 08, 2015",
          "Oct 07, 2015",
          "Oct 06, 2015",
          "Oct 05, 2015",
          "Oct 02, 2015",
          "Oct 01, 2015",
          "Sep 30, 2015",
          "Sep 29, 2015",
          "Sep 28, 2015",
          "Sep 25, 2015",
          "Sep 24, 2015",
          "Sep 23, 2015",
          "Sep 22, 2015",
          "Sep 21, 2015",
          "Sep 18, 2015",
          "Sep 17, 2015",
          "Sep 16, 2015",
          "Sep 15, 2015",
          "Sep 14, 2015",
          "Sep 11, 2015",
          "Sep 10, 2015",
          "Sep 09, 2015",
          "Sep 08, 2015",
          "Sep 04, 2015",
          "Sep 03, 2015",
          "Sep 02, 2015",
          "Sep 01, 2015",
          "Aug 31, 2015",
          "Aug 28, 2015",
          "Aug 27, 2015",
          "Aug 26, 2015",
          "Aug 25, 2015",
          "Aug 24, 2015",
          "Aug 21, 2015",
          "Aug 20, 2015",
          "Aug 19, 2015",
          "Aug 14, 2015",
          "Aug 13, 2015",
          "Aug 12, 2015",
          "Aug 11, 2015",
          "Aug 10, 2015",
          "Aug 07, 2015",
          "Aug 06, 2015",
          "Aug 05, 2015",
          "Aug 04, 2015",
          "Aug 03, 2015",
          "Jul 31, 2015",
          "Jul 30, 2015",
          "Jul 29, 2015",
          "Jul 28, 2015",
          "Jul 27, 2015",
          "Jul 24, 2015",
          "Jul 23, 2015",
          "Jul 22, 2015",
          "Jul 21, 2015",
          "Jul 20, 2015",
          "Jul 17, 2015",
          "Jul 16, 2015",
          "Jul 15, 2015",
          "Jul 14, 2015",
          "Jul 13, 2015",
          "Jul 10, 2015",
          "Jul 09, 2015",
          "Jul 08, 2015",
          "Jul 07, 2015",
          "Jul 06, 2015",
          "Jul 02, 2015",
          "Jul 01, 2015",
          "Jun 30, 2015",
          "Jun 29, 2015",
          "Jun 26, 2015",
          "Jun 25, 2015",
          "Jun 24, 2015",
          "Jun 23, 2015",
          "Jun 22, 2015",
          "Jun 19, 2015",
          "Jun 18, 2015",
          "Jun 17, 2015",
          "Jun 16, 2015",
          "Jun 15, 2015",
          "Jun 12, 2015",
          "Jun 11, 2015",
          "Jun 10, 2015",
          "Jun 09, 2015",
          "Jun 08, 2015",
          "Jun 05, 2015",
          "Jun 04, 2015",
          "Jun 03, 2015",
          "Jun 02, 2015",
          "Jun 01, 2015",
          "May 29, 2015",
          "May 28, 2015",
          "May 27, 2015",
          "May 26, 2015",
          "May 22, 2015",
          "May 21, 2015",
          "May 20, 2015",
          "May 15, 2015",
          "May 14, 2015",
          "May 13, 2015",
          "May 12, 2015",
          "May 11, 2015",
          "May 08, 2015",
          "May 07, 2015",
          "May 06, 2015",
          "May 04, 2015",
          "May 01, 2015",
          "Apr 30, 2015",
          "Apr 29, 2015",
          "Apr 28, 2015",
          "Apr 27, 2015",
          "Apr 24, 2015",
          "Apr 23, 2015",
          "Apr 22, 2015",
          "Apr 21, 2015",
          "Apr 20, 2015",
          "Apr 17, 2015",
          "Apr 16, 2015",
          "Apr 15, 2015",
          "Apr 14, 2015",
          "Apr 13, 2015",
          "Apr 10, 2015",
          "Apr 09, 2015",
          "Apr 08, 2015",
          "Apr 07, 2015",
          "Apr 06, 2015",
          "Apr 02, 2015",
          "Apr 01, 2015",
          "Mar 31, 2015",
          "Mar 30, 2015",
          "Mar 27, 2015",
          "Mar 26, 2015",
          "Mar 25, 2015",
          "Mar 24, 2015",
          "Mar 23, 2015",
          "Mar 20, 2015",
          "Mar 19, 2015",
          "Mar 18, 2015",
          "Mar 17, 2015",
          "Mar 16, 2015",
          "Mar 13, 2015",
          "Mar 12, 2015",
          "Mar 11, 2015",
          "Mar 10, 2015",
          "Mar 09, 2015",
          "Mar 06, 2015",
          "Mar 05, 2015",
          "Mar 04, 2015",
          "Mar 03, 2015",
          "Mar 02, 2015",
          "Feb 27, 2015",
          "Feb 26, 2015",
          "Feb 25, 2015",
          "Feb 24, 2015",
          "Feb 20, 2015",
          "Feb 19, 2015",
          "Feb 18, 2015",
          "Feb 13, 2015",
          "Feb 12, 2015",
          "Feb 11, 2015",
          "Feb 10, 2015",
          "Feb 09, 2015",
          "Feb 06, 2015",
          "Feb 05, 2015",
          "Feb 04, 2015",
          "Feb 03, 2015",
          "Feb 02, 2015",
          "Jan 30, 2015",
          "Jan 29, 2015",
          "Jan 28, 2015",
          "Jan 27, 2015",
          "Jan 26, 2015",
          "Jan 23, 2015",
          "Jan 22, 2015",
          "Jan 21, 2015",
          "Jan 20, 2015",
          "Jan 16, 2015",
          "Jan 15, 2015",
          "Jan 14, 2015",
          "Jan 13, 2015",
          "Jan 12, 2015",
          "Jan 09, 2015",
          "Jan 08, 2015",
          "Jan 07, 2015",
          "Jan 06, 2015",
          "Jan 05, 2015",
          "Jan 02, 2015",
          "Dec 31, 2014",
          "Dec 30, 2014",
          "Dec 29, 2014",
          "Dec 26, 2014",
          "Dec 24, 2014",
          "Dec 23, 2014",
          "Dec 22, 2014",
          "Dec 19, 2014",
          "Dec 18, 2014",
          "Dec 17, 2014",
          "Dec 16, 2014",
          "Dec 15, 2014",
          "Dec 12, 2014",
          "Dec 11, 2014",
          "Dec 10, 2014",
          "Dec 09, 2014",
          "Dec 08, 2014",
          "Dec 05, 2014",
          "Dec 04, 2014",
          "Dec 03, 2014",
          "Dec 02, 2014",
          "Dec 01, 2014",
          "Nov 28, 2014",
          "Nov 26, 2014",
          "Nov 25, 2014",
          "Nov 24, 2014",
          "Nov 21, 2014",
          "Nov 20, 2014",
          "Nov 19, 2014",
          "Nov 17, 2014",
          "Nov 14, 2014",
          "Nov 13, 2014",
          "Nov 12, 2014",
          "Nov 11, 2014",
          "Nov 10, 2014",
          "Nov 07, 2014",
          "Nov 06, 2014",
          "Nov 05, 2014",
          "Nov 04, 2014",
          "Nov 03, 2014",
          "Oct 31, 2014",
          "Oct 30, 2014",
          "Oct 29, 2014",
          "Oct 28, 2014",
          "Oct 27, 2014",
          "Oct 24, 2014",
          "Oct 23, 2014",
          "Oct 22, 2014",
          "Oct 21, 2014",
          "Oct 20, 2014",
          "Oct 17, 2014",
          "Oct 16, 2014",
          "Oct 15, 2014",
          "Oct 14, 2014",
          "Oct 13, 2014",
          "Oct 10, 2014",
          "Oct 09, 2014",
          "Oct 08, 2014",
          "Oct 07, 2014",
          "Oct 06, 2014",
          "Oct 03, 2014",
          "Oct 02, 2014",
          "Oct 01, 2014",
          "Sep 30, 2014",
          "Sep 29, 2014",
          "Sep 26, 2014",
          "Sep 25, 2014",
          "Sep 24, 2014",
          "Sep 23, 2014",
          "Sep 22, 2014",
          "Sep 19, 2014",
          "Sep 18, 2014",
          "Sep 17, 2014",
          "Sep 16, 2014",
          "Sep 15, 2014",
          "Sep 12, 2014",
          "Sep 11, 2014",
          "Sep 10, 2014",
          "Sep 09, 2014",
          "Sep 08, 2014",
          "Sep 05, 2014",
          "Sep 04, 2014",
          "Sep 03, 2014",
          "Sep 02, 2014",
          "Aug 29, 2014",
          "Aug 28, 2014",
          "Aug 27, 2014",
          "Aug 26, 2014",
          "Aug 25, 2014",
          "Aug 22, 2014",
          "Aug 21, 2014",
          "Aug 20, 2014",
          "Aug 15, 2014",
          "Aug 14, 2014",
          "Aug 13, 2014",
          "Aug 12, 2014",
          "Aug 11, 2014",
          "Aug 08, 2014",
          "Aug 07, 2014",
          "Aug 06, 2014",
          "Aug 04, 2014",
          "Aug 01, 2014",
          "Jul 31, 2014",
          "Jul 30, 2014",
          "Jul 29, 2014",
          "Jul 28, 2014",
          "Jul 25, 2014",
          "Jul 24, 2014",
          "Jul 23, 2014",
          "Jul 22, 2014",
          "Jul 21, 2014",
          "Jul 18, 2014",
          "Jul 17, 2014",
          "Jul 16, 2014",
          "Jul 15, 2014",
          "Jul 14, 2014",
          "Jul 11, 2014",
          "Jul 10, 2014",
          "Jul 09, 2014",
          "Jul 08, 2014",
          "Jul 07, 2014",
          "Jul 03, 2014",
          "Jul 02, 2014",
          "Jul 01, 2014",
          "Jun 30, 2014",
          "Jun 27, 2014",
          "Jun 26, 2014",
          "Jun 25, 2014",
          "Jun 24, 2014",
          "Jun 23, 2014",
          "Jun 20, 2014",
          "Jun 19, 2014",
          "Jun 18, 2014",
          "Jun 17, 2014",
          "Jun 16, 2014",
          "Jun 13, 2014",
          "Jun 12, 2014",
          "Jun 11, 2014",
          "Jun 10, 2014",
          "Jun 09, 2014",
          "Jun 06, 2014",
          "Jun 04, 2014",
          "Jun 03, 2014",
          "Jun 02, 2014",
          "May 30, 2014",
          "May 29, 2014",
          "May 28, 2014",
          "May 27, 2014",
          "May 23, 2014",
          "May 22, 2014",
          "May 21, 2014",
          "May 20, 2014",
          "May 16, 2014",
          "May 15, 2014",
          "May 14, 2014",
          "May 12, 2014",
          "May 09, 2014",
          "May 08, 2014",
          "May 07, 2014",
          "May 06, 2014",
          "May 02, 2014",
          "May 01, 2014",
          "Apr 30, 2014",
          "Apr 29, 2014",
          "Apr 28, 2014",
          "Apr 25, 2014",
          "Apr 24, 2014",
          "Apr 23, 2014",
          "Apr 22, 2014",
          "Apr 21, 2014",
          "Apr 17, 2014",
          "Apr 16, 2014",
          "Apr 15, 2014",
          "Apr 14, 2014",
          "Apr 11, 2014",
          "Apr 10, 2014",
          "Apr 09, 2014",
          "Apr 08, 2014",
          "Apr 07, 2014",
          "Apr 04, 2014",
          "Apr 03, 2014",
          "Apr 02, 2014",
          "Apr 01, 2014",
          "Mar 31, 2014",
          "Mar 28, 2014",
          "Mar 27, 2014",
          "Mar 26, 2014",
          "Mar 25, 2014",
          "Mar 24, 2014",
          "Mar 21, 2014",
          "Mar 20, 2014",
          "Mar 19, 2014",
          "Mar 18, 2014",
          "Mar 17, 2014",
          "Mar 14, 2014",
          "Mar 13, 2014",
          "Mar 12, 2014",
          "Mar 11, 2014",
          "Mar 10, 2014",
          "Mar 07, 2014",
          "Mar 06, 2014",
          "Mar 05, 2014",
          "Mar 04, 2014",
          "Mar 03, 2014",
          "Feb 28, 2014",
          "Feb 27, 2014",
          "Feb 26, 2014",
          "Feb 25, 2014",
          "Feb 21, 2014",
          "Feb 20, 2014",
          "Feb 19, 2014",
          "Feb 14, 2014",
          "Feb 13, 2014",
          "Feb 12, 2014",
          "Feb 11, 2014",
          "Feb 10, 2014",
          "Feb 07, 2014",
          "Feb 06, 2014",
          "Feb 05, 2014",
          "Feb 03, 2014",
          "Jan 31, 2014",
          "Jan 30, 2014",
          "Jan 29, 2014",
          "Jan 28, 2014",
          "Jan 27, 2014",
          "Jan 24, 2014",
          "Jan 23, 2014",
          "Jan 22, 2014",
          "Jan 21, 2014",
          "Jan 17, 2014",
          "Jan 16, 2014",
          "Jan 15, 2014",
          "Jan 14, 2014",
          "Jan 13, 2014",
          "Jan 10, 2014",
          "Jan 09, 2014",
          "Jan 08, 2014",
          "Jan 07, 2014",
          "Jan 06, 2014",
          "Jan 03, 2014",
          "Jan 02, 2014",
          "Dec 31, 2013",
          "Dec 30, 2013",
          "Dec 27, 2013",
          "Dec 26, 2013",
          "Dec 24, 2013",
          "Dec 23, 2013",
          "Dec 20, 2013",
          "Dec 19, 2013",
          "Dec 18, 2013",
          "Dec 17, 2013",
          "Dec 16, 2013",
          "Dec 13, 2013",
          "Dec 12, 2013",
          "Dec 11, 2013",
          "Dec 10, 2013",
          "Dec 09, 2013",
          "Dec 06, 2013",
          "Dec 05, 2013",
          "Dec 04, 2013",
          "Dec 03, 2013",
          "Dec 02, 2013",
          "Nov 29, 2013",
          "Nov 27, 2013",
          "Nov 26, 2013",
          "Nov 25, 2013",
          "Nov 22, 2013",
          "Nov 21, 2013",
          "Nov 20, 2013",
          "Nov 15, 2013",
          "Nov 14, 2013",
          "Nov 13, 2013",
          "Nov 12, 2013",
          "Nov 11, 2013",
          "Nov 08, 2013",
          "Nov 07, 2013",
          "Nov 06, 2013",
          "Nov 05, 2013",
          "Nov 01, 2013",
          "Oct 31, 2013",
          "Oct 30, 2013",
          "Oct 29, 2013",
          "Oct 28, 2013",
          "Oct 25, 2013",
          "Oct 24, 2013",
          "Oct 23, 2013",
          "Oct 22, 2013",
          "Oct 21, 2013",
          "Oct 18, 2013",
          "Oct 17, 2013",
          "Oct 16, 2013",
          "Oct 15, 2013",
          "Oct 14, 2013",
          "Oct 11, 2013",
          "Oct 10, 2013",
          "Oct 09, 2013",
          "Oct 08, 2013",
          "Oct 07, 2013",
          "Oct 04, 2013",
          "Oct 03, 2013",
          "Oct 02, 2013",
          "Oct 01, 2013",
          "Sep 30, 2013",
          "Sep 27, 2013",
          "Sep 26, 2013",
          "Sep 25, 2013",
          "Sep 24, 2013",
          "Sep 23, 2013",
          "Sep 20, 2013",
          "Sep 19, 2013",
          "Sep 18, 2013",
          "Sep 17, 2013",
          "Sep 16, 2013",
          "Sep 13, 2013",
          "Sep 12, 2013",
          "Sep 11, 2013",
          "Sep 10, 2013",
          "Sep 09, 2013",
          "Sep 06, 2013",
          "Sep 05, 2013",
          "Sep 04, 2013",
          "Sep 03, 2013",
          "Aug 30, 2013",
          "Aug 29, 2013",
          "Aug 28, 2013",
          "Aug 27, 2013",
          "Aug 26, 2013",
          "Aug 23, 2013",
          "Aug 22, 2013",
          "Aug 21, 2013",
          "Aug 20, 2013",
          "Aug 16, 2013",
          "Aug 15, 2013",
          "Aug 14, 2013",
          "Aug 12, 2013",
          "Aug 09, 2013",
          "Aug 08, 2013",
          "Aug 07, 2013",
          "Aug 06, 2013",
          "Aug 02, 2013",
          "Aug 01, 2013",
          "Jul 31, 2013",
          "Jul 30, 2013",
          "Jul 29, 2013",
          "Jul 26, 2013",
          "Jul 25, 2013",
          "Jul 24, 2013",
          "Jul 23, 2013",
          "Jul 22, 2013",
          "Jul 19, 2013",
          "Jul 18, 2013",
          "Jul 17, 2013",
          "Jul 16, 2013",
          "Jul 15, 2013",
          "Jul 12, 2013",
          "Jul 11, 2013",
          "Jul 10, 2013",
          "Jul 09, 2013",
          "Jul 08, 2013",
          "Jul 05, 2013",
          "Jul 03, 2013",
          "Jul 02, 2013",
          "Jul 01, 2013",
          "Jun 28, 2013",
          "Jun 27, 2013",
          "Jun 26, 2013",
          "Jun 25, 2013",
          "Jun 24, 2013",
          "Jun 21, 2013",
          "Jun 20, 2013",
          "Jun 19, 2013",
          "Jun 18, 2013",
          "Jun 17, 2013",
          "Jun 14, 2013",
          "Jun 13, 2013",
          "Jun 12, 2013",
          "Jun 11, 2013",
          "Jun 10, 2013",
          "Jun 07, 2013",
          "Jun 06, 2013",
          "Jun 05, 2013",
          "Jun 04, 2013",
          "Jun 03, 2013",
          "May 31, 2013",
          "May 30, 2013",
          "May 29, 2013",
          "May 28, 2013",
          "May 24, 2013",
          "May 23, 2013",
          "May 22, 2013",
          "May 21, 2013",
          "May 17, 2013",
          "May 16, 2013",
          "May 15, 2013",
          "May 13, 2013",
          "May 10, 2013",
          "May 09, 2013",
          "May 08, 2013",
          "May 07, 2013",
          "May 03, 2013",
          "May 02, 2013",
          "May 01, 2013",
          "Apr 30, 2013",
          "Apr 29, 2013",
          "Apr 26, 2013",
          "Apr 25, 2013",
          "Apr 24, 2013",
          "Apr 23, 2013",
          "Apr 22, 2013",
          "Apr 19, 2013",
          "Apr 18, 2013",
          "Apr 17, 2013",
          "Apr 16, 2013",
          "Apr 15, 2013",
          "Apr 12, 2013",
          "Apr 11, 2013",
          "Apr 10, 2013",
          "Apr 09, 2013",
          "Apr 08, 2013",
          "Apr 05, 2013",
          "Apr 04, 2013",
          "Apr 03, 2013",
          "Apr 02, 2013",
          "Apr 01, 2013",
          "Mar 28, 2013",
          "Mar 27, 2013",
          "Mar 26, 2013",
          "Mar 25, 2013",
          "Mar 22, 2013",
          "Mar 21, 2013",
          "Mar 20, 2013",
          "Mar 19, 2013",
          "Mar 18, 2013",
          "Mar 15, 2013",
          "Mar 14, 2013",
          "Mar 13, 2013",
          "Mar 12, 2013",
          "Mar 11, 2013",
          "Mar 08, 2013",
          "Mar 07, 2013",
          "Mar 06, 2013",
          "Mar 05, 2013",
          "Mar 04, 2013",
          "Mar 01, 2013",
          "Feb 28, 2013",
          "Feb 27, 2013",
          "Feb 26, 2013",
          "Feb 22, 2013",
          "Feb 21, 2013",
          "Feb 20, 2013",
          "Feb 15, 2013",
          "Feb 14, 2013",
          "Feb 13, 2013",
          "Feb 12, 2013",
          "Feb 11, 2013",
          "Feb 08, 2013",
          "Feb 07, 2013",
          "Feb 06, 2013",
          "Feb 05, 2013",
          "Feb 04, 2013",
          "Feb 01, 2013",
          "Jan 31, 2013",
          "Jan 30, 2013",
          "Jan 29, 2013",
          "Jan 28, 2013",
          "Jan 25, 2013",
          "Jan 24, 2013",
          "Jan 23, 2013",
          "Jan 22, 2013",
          "Jan 18, 2013",
          "Jan 17, 2013",
          "Jan 16, 2013",
          "Jan 15, 2013",
          "Jan 14, 2013",
          "Jan 11, 2013",
          "Jan 10, 2013",
          "Jan 09, 2013",
          "Jan 08, 2013",
          "Jan 07, 2013",
          "Jan 04, 2013",
          "Jan 03, 2013",
          "Jan 02, 2013",
          "Dec 31, 2012",
          "Dec 28, 2012",
          "Dec 27, 2012",
          "Dec 26, 2012",
          "Dec 24, 2012",
          "Dec 21, 2012",
          "Dec 20, 2012",
          "Dec 19, 2012",
          "Dec 18, 2012",
          "Dec 17, 2012",
          "Dec 14, 2012",
          "Dec 13, 2012",
          "Dec 12, 2012",
          "Dec 11, 2012",
          "Dec 10, 2012",
          "Dec 07, 2012",
          "Dec 06, 2012",
          "Dec 05, 2012",
          "Dec 04, 2012",
          "Dec 03, 2012",
          "Nov 30, 2012",
          "Nov 29, 2012",
          "Nov 28, 2012",
          "Nov 27, 2012",
          "Nov 26, 2012",
          "Nov 23, 2012",
          "Nov 21, 2012",
          "Nov 20, 2012",
          "Nov 16, 2012",
          "Nov 15, 2012",
          "Nov 14, 2012",
          "Nov 12, 2012",
          "Nov 09, 2012",
          "Nov 08, 2012",
          "Nov 07, 2012",
          "Nov 06, 2012",
          "Nov 05, 2012",
          "Nov 02, 2012",
          "Nov 01, 2012",
          "Oct 31, 2012",
          "Oct 26, 2012",
          "Oct 25, 2012",
          "Oct 24, 2012",
          "Oct 23, 2012",
          "Oct 22, 2012",
          "Oct 19, 2012",
          "Oct 18, 2012",
          "Oct 17, 2012",
          "Oct 16, 2012",
          "Oct 15, 2012",
          "Oct 12, 2012",
          "Oct 11, 2012",
          "Oct 10, 2012",
          "Oct 09, 2012",
          "Oct 08, 2012",
          "Oct 05, 2012",
          "Oct 04, 2012",
          "Oct 03, 2012",
          "Oct 02, 2012",
          "Oct 01, 2012",
          "Sep 28, 2012",
          "Sep 27, 2012",
          "Sep 26, 2012",
          "Sep 25, 2012",
          "Sep 24, 2012",
          "Sep 21, 2012",
          "Sep 20, 2012",
          "Sep 19, 2012",
          "Sep 18, 2012",
          "Sep 17, 2012",
          "Sep 14, 2012",
          "Sep 13, 2012",
          "Sep 12, 2012",
          "Sep 11, 2012",
          "Sep 10, 2012",
          "Sep 07, 2012",
          "Sep 06, 2012",
          "Sep 05, 2012",
          "Sep 04, 2012",
          "Aug 31, 2012",
          "Aug 30, 2012",
          "Aug 29, 2012",
          "Aug 28, 2012",
          "Aug 27, 2012",
          "Aug 24, 2012",
          "Aug 23, 2012",
          "Aug 22, 2012",
          "Aug 21, 2012",
          "Aug 20, 2012",
          "Aug 17, 2012",
          "Aug 16, 2012",
          "Aug 15, 2012",
          "Aug 13, 2012",
          "Aug 10, 2012",
          "Aug 09, 2012",
          "Aug 08, 2012",
          "Aug 07, 2012",
          "Aug 03, 2012",
          "Aug 02, 2012",
          "Aug 01, 2012",
          "Jul 31, 2012",
          "Jul 30, 2012",
          "Jul 27, 2012",
          "Jul 26, 2012",
          "Jul 25, 2012",
          "Jul 24, 2012",
          "Jul 23, 2012",
          "Jul 20, 2012",
          "Jul 19, 2012",
          "Jul 18, 2012",
          "Jul 17, 2012",
          "Jul 16, 2012",
          "Jul 13, 2012",
          "Jul 12, 2012",
          "Jul 11, 2012",
          "Jul 10, 2012",
          "Jul 09, 2012",
          "Jul 06, 2012",
          "Jul 05, 2012",
          "Jul 03, 2012",
          "Jul 02, 2012",
          "Jun 29, 2012",
          "Jun 28, 2012",
          "Jun 27, 2012",
          "Jun 26, 2012",
          "Jun 25, 2012",
          "Jun 22, 2012",
          "Jun 21, 2012",
          "Jun 20, 2012",
          "Jun 19, 2012",
          "Jun 18, 2012",
          "Jun 15, 2012",
          "Jun 14, 2012",
          "Jun 13, 2012",
          "Jun 12, 2012",
          "Jun 11, 2012",
          "Jun 08, 2012",
          "Jun 07, 2012",
          "Jun 06, 2012",
          "Jun 05, 2012",
          "Jun 04, 2012",
          "Jun 01, 2012",
          "May 31, 2012",
          "May 30, 2012",
          "May 29, 2012",
          "May 25, 2012",
          "May 24, 2012",
          "May 23, 2012",
          "May 22, 2012",
          "May 21, 2012",
          "May 18, 2012",
          "May 17, 2012",
          "May 16, 2012",
          "May 14, 2012",
          "May 11, 2012",
          "May 10, 2012",
          "May 09, 2012",
          "May 08, 2012",
          "May 07, 2012",
          "May 04, 2012",
          "May 03, 2012",
          "May 02, 2012",
          "May 01, 2012",
          "Apr 30, 2012",
          "Apr 27, 2012",
          "Apr 26, 2012",
          "Apr 25, 2012",
          "Apr 24, 2012",
          "Apr 23, 2012",
          "Apr 20, 2012",
          "Apr 19, 2012",
          "Apr 18, 2012",
          "Apr 17, 2012",
          "Apr 16, 2012",
          "Apr 13, 2012",
          "Apr 12, 2012",
          "Apr 11, 2012",
          "Apr 10, 2012",
          "Apr 09, 2012",
          "Apr 05, 2012",
          "Apr 04, 2012",
          "Apr 03, 2012",
          "Apr 02, 2012",
          "Mar 30, 2012",
          "Mar 29, 2012",
          "Mar 28, 2012",
          "Mar 27, 2012",
          "Mar 26, 2012",
          "Mar 23, 2012",
          "Mar 22, 2012",
          "Mar 21, 2012",
          "Mar 20, 2012",
          "Mar 19, 2012",
          "Mar 16, 2012",
          "Mar 15, 2012",
          "Mar 14, 2012",
          "Mar 13, 2012",
          "Mar 12, 2012",
          "Mar 09, 2012",
          "Mar 08, 2012",
          "Mar 07, 2012",
          "Mar 06, 2012",
          "Mar 05, 2012",
          "Mar 02, 2012",
          "Mar 01, 2012",
          "Feb 29, 2012",
          "Feb 28, 2012",
          "Feb 27, 2012",
          "Feb 24, 2012",
          "Feb 23, 2012",
          "Feb 22, 2012",
          "Feb 21, 2012",
          "Feb 17, 2012",
          "Feb 16, 2012",
          "Feb 15, 2012",
          "Feb 13, 2012",
          "Feb 10, 2012",
          "Feb 09, 2012",
          "Feb 08, 2012",
          "Feb 07, 2012",
          "Feb 06, 2012",
          "Feb 03, 2012",
          "Feb 02, 2012",
          "Feb 01, 2012",
          "Jan 31, 2012",
          "Jan 30, 2012",
          "Jan 27, 2012",
          "Jan 26, 2012",
          "Jan 25, 2012",
          "Jan 24, 2012",
          "Jan 23, 2012",
          "Jan 20, 2012",
          "Jan 19, 2012",
          "Jan 18, 2012",
          "Jan 17, 2012",
          "Jan 13, 2012",
          "Jan 12, 2012",
          "Jan 11, 2012",
          "Jan 10, 2012",
          "Jan 09, 2012",
          "Jan 06, 2012",
          "Jan 05, 2012",
          "Jan 04, 2012",
          "Jan 03, 2012",
          "Dec 30, 2011",
          "Dec 29, 2011",
          "Dec 28, 2011",
          "Dec 27, 2011",
          "Dec 23, 2011",
          "Dec 22, 2011",
          "Dec 21, 2011",
          "Dec 20, 2011",
          "Dec 19, 2011",
          "Dec 16, 2011",
          "Dec 15, 2011",
          "Dec 14, 2011",
          "Dec 13, 2011",
          "Dec 12, 2011",
          "Dec 09, 2011",
          "Dec 08, 2011",
          "Dec 07, 2011",
          "Dec 06, 2011",
          "Dec 05, 2011",
          "Dec 02, 2011",
          "Dec 01, 2011",
          "Nov 30, 2011",
          "Nov 29, 2011",
          "Nov 28, 2011",
          "Nov 25, 2011",
          "Nov 23, 2011",
          "Nov 22, 2011",
          "Nov 21, 2011",
          "Nov 18, 2011",
          "Nov 17, 2011",
          "Nov 16, 2011",
          "Nov 14, 2011",
          "Nov 11, 2011",
          "Nov 10, 2011",
          "Nov 09, 2011",
          "Nov 08, 2011",
          "Nov 07, 2011",
          "Nov 04, 2011",
          "Nov 03, 2011",
          "Nov 02, 2011",
          "Nov 01, 2011",
          "Oct 31, 2011",
          "Oct 28, 2011",
          "Oct 27, 2011",
          "Oct 26, 2011",
          "Oct 25, 2011",
          "Oct 24, 2011",
          "Oct 21, 2011",
          "Oct 20, 2011",
          "Oct 19, 2011",
          "Oct 18, 2011",
          "Oct 17, 2011"
         ],
         "y": [
          865.65,
          909.25,
          902.94,
          870.76,
          877.51,
          881.51,
          876.42,
          998.02,
          1005.05,
          1008.78,
          977.2,
          1028.15,
          1004.29,
          985,
          1022.37,
          986.95,
          975.93,
          1025.49,
          1057.26,
          1045.76,
          1091.26,
          1145.45,
          1084.59,
          1077.6,
          1093.99,
          1099.57,
          1091.84,
          1010.64,
          1013.92,
          999.11,
          993.98,
          921.16,
          905.39,
          871.6,
          840.23,
          801.89,
          766.37,
          795.35,
          838.3,
          858.97,
          824.4,
          804.58,
          838.29,
          839.29,
          879.89,
          870.43,
          809.87,
          800.77,
          764.04,
          821.53,
          856.98,
          876.35,
          923.39,
          875.76,
          860,
          904.55,
          932,
          922,
          907.34,
          923.32,
          891.14,
          931.25,
          936.72,
          846.35,
          829.1,
          937.41,
          918.4,
          930,
          943.9,
          996.27,
          995.65,
          1030.51,
          1049.61,
          1031.56,
          1106.22,
          1064.4,
          1058.12,
          1026.96,
          1064.7,
          1088.12,
          1149.59,
          1199.78,
          1056.78,
          1070.34,
          1086.19,
          1088.47,
          1093.94,
          1067,
          1008.87,
          938.53,
          899.94,
          932.57,
          926.92,
          975.99,
          958.51,
          966.41,
          1017.03,
          1003.8,
          1068.96,
          1051.75,
          1009.01,
          1014.97,
          1084.6,
          1095,
          1144.76,
          1081.92,
          1116,
          1109.03,
          1156.87,
          1137.06,
          1096.38,
          1089.01,
          1054.73,
          1033.42,
          1063.51,
          1067.95,
          1023.5,
          1162.94,
          1222.09,
          1229.91,
          1213.86,
          1114,
          1077.04,
          1037.86,
          1018.43,
          1024.86,
          909.68,
          894,
          865.8,
          864.27,
          870.11,
          843.03,
          818.32,
          811.08,
          805.72,
          791.94,
          785.49,
          793.61,
          782.75,
          780.59,
          781.53,
          775.22,
          775.48,
          781.31,
          777.56,
          791.36,
          774.39,
          753.64,
          751.94,
          739.38,
          730.17,
          759.49,
          756.99,
          755.83,
          744.49,
          743,
          736.27,
          754.86,
          753.87,
          752.92,
          733.57,
          732.39,
          734.09,
          735.72,
          730.91,
          711.92,
          711.2,
          708.49,
          706.3,
          680.26,
          673.47,
          688.99,
          665.71,
          686.17,
          722.25,
          707.82,
          709.99,
          713.76,
          699.1,
          714.63,
          710.92,
          709.74,
          677.35,
          646.98,
          644.78,
          657.62,
          643.38,
          649.26,
          655.29,
          660.5,
          646.22,
          644.22,
          650.6,
          668.54,
          685.7,
          656.95,
          652.81,
          644.65,
          659.58,
          678.9,
          677.92,
          679.7,
          680.76,
          688.72,
          671.87,
          679.82,
          656.57,
          623.71,
          620.83,
          623.31,
          616.6,
          604.87,
          599.36,
          617.69,
          609.89,
          610.12,
          598.78,
          603.59,
          605.13,
          599.05,
          572.84,
          623.9,
          625.22,
          630.85,
          619.13,
          604.69,
          606.44,
          580.88,
          586.78,
          563.46,
          577.87,
          576.83,
          589.74,
          589.89,
          617.2,
          629.04,
          672.37,
          663.54,
          670.94,
          673.6,
          684.9,
          694.4,
          704.74,
          738.2,
          729.4,
          719.69,
          744.12,
          718.99,
          714.63,
          739.78,
          738.85,
          732.23,
          762.32,
          701.98,
          677.02,
          683.8,
          670.97,
          691.62,
          691.05,
          661.75,
          667.93,
          635.62,
          611.29,
          618.71,
          640.39,
          630.27,
          662.16,
          670,
          654.87,
          653.16,
          701.81,
          676.88,
          707.94,
          693.73,
          699.6,
          668.06,
          673.58,
          563,
          597.95,
          621.44,
          653.2,
          686.44,
          675.5,
          682.22,
          742.02,
          698.84,
          714.5,
          781.3,
          787.38,
          798.15,
          796.22,
          816.12,
          811.66,
          804.82,
          863.42,
          852.23,
          849.99,
          854.69,
          872.79,
          839.81,
          793.53,
          883.09,
          880.8,
          846.64,
          844.99,
          850.45,
          844.55,
          826.16,
          845,
          854.41,
          849.44,
          811.19,
          880.02,
          816.04,
          755.98,
          735.11,
          729.77,
          705.67,
          694.78,
          665.99,
          663.69,
          661.77,
          645.98,
          640.34,
          649.86,
          695,
          655.9,
          622.77,
          633.25,
          639.83,
          609.99,
          627.07,
          604.48,
          649.88,
          641.76,
          599.04,
          593.38,
          568.82,
          584.76,
          567.6,
          585.76,
          574,
          555.38,
          489.61,
          499.27,
          486.64,
          441.61,
          408.09,
          408.5,
          411.76,
          417.13,
          421.26,
          429.95,
          438.09,
          420.98,
          423.9,
          400.51,
          388.04,
          410.83,
          420.28,
          420.63,
          425.79,
          422.64,
          421.94,
          430.83,
          439.67,
          448.88,
          461.3,
          446.65,
          442.3,
          434,
          425.92,
          425.3,
          413.98,
          425.68,
          415.09,
          448.16,
          429.01,
          419.07,
          421.2,
          407.34,
          387.79,
          380.36,
          424.23,
          449.39,
          442.15,
          423.43,
          441.76,
          449.76,
          419.62,
          372.72,
          371.34,
          366.28,
          330.21,
          418.32,
          407,
          447.37,
          475.05,
          498.32,
          442.68,
          447.75,
          430.63,
          404.67,
          402.84,
          375.71,
          377.42,
          367.13,
          330.14,
          324.2,
          310.95,
          283.71,
          290.54,
          297.92,
          297,
          297.4,
          297,
          286.15,
          297.5,
          299.82,
          307.92,
          283.4,
          302.61,
          318.47,
          313.67,
          328.6,
          300.17,
          300.13,
          309.2,
          303.36,
          299.41,
          308.93,
          278.86,
          273.18,
          277.97,
          274.32,
          241.73,
          223.93,
          215.96,
          201.87,
          191.95,
          197.2,
          192.17,
          200.36,
          198.86,
          200.18,
          200.79,
          198.36,
          196.43,
          198.18,
          187.06,
          194.57,
          205.01,
          188.13,
          189.98,
          177.13,
          172.88,
          176.59,
          176.31,
          179.62,
          167,
          161.16,
          164.05,
          163.77,
          165.52,
          163.11,
          161.6,
          162.73,
          159.83,
          160.67,
          158.19,
          161.88,
          163.88,
          156.01,
          156.52,
          153.64,
          152.24,
          140.26,
          156.38,
          160.1,
          153.82,
          141.13,
          146.42,
          137.34,
          149.27,
          150.78,
          149.04,
          145.97,
          141.98,
          130.19,
          114.6,
          109.77,
          109.09,
          103.25,
          96,
          90.89,
          96.31,
          104.8,
          100.43,
          102.87,
          105.63,
          107.85,
          101,
          86.86,
          85.51,
          85.53,
          72.24,
          86.04,
          89.01,
          109.32,
          112.11,
          126.85,
          129.07,
          121.6,
          140.7,
          144.91,
          149.9,
          149.1,
          148.72,
          133.6,
          135.8,
          155.76,
          159.98,
          166.76,
          180.2,
          179.88,
          183.48,
          171.68,
          160.01,
          153.46,
          154.88,
          154.26,
          149.61,
          146.94,
          177.41,
          156,
          130.11,
          128.16,
          116.2,
          113.38,
          111.6,
          114.44,
          113.91,
          109.44,
          102.1,
          102.7,
          103.7,
          107.58,
          104.97,
          95.63,
          96.27,
          98.43,
          93.81,
          90.31,
          88.6,
          86.05,
          83.67,
          82.94,
          86.08,
          86.19,
          85.05,
          83.84,
          81.12,
          80.81,
          78.63,
          75.8,
          76.3,
          71.68,
          71.94,
          70.54,
          69.77,
          67.91,
          67.18,
          66.07,
          66.61,
          67.24,
          66.97,
          65.99,
          66.26,
          65.78,
          67.27,
          66.61,
          70.97,
          70.44,
          71.9,
          70,
          70.43,
          69.87,
          69.99,
          69.02,
          67.43,
          65.32,
          63.44,
          63.49,
          62.66,
          62.98,
          63,
          63.24,
          65.54,
          65.63,
          59.94,
          51.12,
          50.7,
          51.39,
          52.39,
          51.95,
          51.58,
          51.39,
          49.58,
          48.95,
          48.91,
          48.01,
          47.54,
          46.29,
          46.61,
          48.63,
          48.94,
          48.17,
          48.43,
          48.51,
          45.74,
          44.64,
          48.25,
          48.12,
          49.32,
          48.7,
          48.96,
          48.56,
          49.04,
          49.17,
          49.42,
          47.11,
          46.36,
          45.49,
          45.92,
          44.14,
          45,
          45.12,
          44.34,
          43.12,
          42.82,
          43,
          42.28,
          44.43,
          44.17,
          45.17,
          45.37,
          43.99,
          43.13,
          43.92,
          45.8,
          47,
          47.66,
          46.68,
          46.15,
          45.66,
          46.87,
          46.77,
          48.45,
          47.15,
          45.61,
          45.76,
          52.03,
          51.64,
          50.71,
          50.97,
          50.48,
          50.7,
          49.02,
          47.72,
          47.78,
          46.01,
          46.07,
          46.62,
          46.98,
          44.91,
          45.43,
          44.69,
          44.57,
          43.85,
          43.95,
          44.73,
          44.37,
          43.92,
          45.29,
          44.95,
          45.01,
          42.98,
          42.78,
          41.85,
          43.42,
          42.58,
          40.9,
          41.19,
          39.32,
          38.72,
          35.79,
          37.03,
          37.64,
          37.97,
          37.74,
          38.13,
          39.1,
          38.55,
          41.02,
          41.07,
          42.21,
          45.67,
          46.39,
          46.46,
          47.9,
          48.4,
          48.97,
          49.41,
          51.07,
          51.01,
          48.82,
          46.8,
          48.29,
          47.03,
          49.53,
          51.73,
          52.55,
          54.65,
          54.67,
          53.28,
          53.54,
          53.68,
          55.21,
          54.46,
          54.64,
          54.99,
          53.56,
          58.36,
          57.18,
          57.84,
          55.97,
          55.72,
          54.97,
          53.55,
          52.08,
          52.91,
          54.8,
          54.72,
          53.49,
          53.9,
          55.09,
          57.99,
          57.79,
          56.67,
          58.18,
          56.83,
          55.32,
          55.25,
          55.31,
          57.07,
          58.96,
          63.98,
          62.95,
          59.57,
          59.75,
          58.94,
          58.25,
          60.51,
          61.13,
          61.58,
          60.75,
          61.63,
          62.36,
          62.57,
          61.5,
          63.44,
          64.27,
          62.58,
          61.4,
          61.75,
          59.49,
          59.28,
          59.41,
          58.3,
          57.52,
          59.78,
          69.21,
          68.89,
          66.88,
          69.45,
          68.99,
          67.71,
          67.07,
          66.99,
          63.54,
          60.07,
          62.02,
          66.56,
          66.77,
          63.23,
          65.22,
          59.08,
          63.95,
          63.08,
          66.59,
          67.41,
          69.68,
          73.14,
          75.36,
          73.32,
          73.35,
          73.03,
          71.59,
          72.61,
          71.94,
          71.7,
          70.1,
          68.23,
          69.57,
          68.78,
          69.2,
          65.17,
          67.64,
          69.5,
          70.69,
          70.86,
          69.69,
          68.8,
          67.75,
          66.26,
          70.1,
          69.63,
          68.21,
          68.28,
          69.28,
          68.86,
          67.46,
          65.98,
          66.97,
          62.97,
          57.7,
          58.83,
          52.19,
          52,
          55.32,
          51.92,
          51.76,
          50.45,
          51.38,
          52.56,
          50.11,
          52.39,
          56.37,
          58.96,
          60.2,
          62.14,
          52.95,
          61.5,
          61.92,
          60.2,
          59.94,
          59.82,
          59.67,
          59.8,
          56.99,
          58.97,
          59.04,
          57.89,
          58.11,
          55.89,
          57.1,
          52.65,
          56.19,
          56.15,
          57.79,
          60.33,
          60.63,
          61,
          62.37,
          63.85,
          64.56,
          64.02,
          64.33,
          64.38,
          61.69,
          61.1,
          67.09,
          67.74,
          69.53,
          71.28,
          71.1,
          70.49,
          75.91,
          68.4,
          69.63,
          69.91,
          60.17,
          59.63,
          58.03,
          59.44,
          61.75,
          59.49,
          60.64,
          62.72,
          64.77,
          64.54,
          63.77,
          63.34,
          63.79,
          64.49,
          63.7,
          61.78,
          61.83,
          62.17,
          67.01,
          68.59,
          69.99,
          68.9,
          68.4,
          66.6,
          66.73,
          69.5,
          72.44,
          70.51,
          74.17,
          71.63,
          71.54,
          68.96,
          68.55,
          66.42,
          63.53,
          63.22,
          63.9,
          58.23,
          59.35,
          58.36,
          56.95,
          58.34,
          56.75,
          55.77,
          55.57,
          55.81,
          55,
          56.9,
          55.36,
          56.91,
          57.3,
          56.84,
          58.39,
          60.21,
          61,
          61.37,
          60.39,
          60.55,
          58.82,
          56.89,
          60.23,
          58.78,
          58.82,
          57.1,
          56.69,
          56.67,
          58.05,
          60.02,
          57.54,
          58.24,
          60.07,
          60.19,
          60.94,
          57.93,
          59.86,
          61.14,
          57.39,
          53.51,
          50.5,
          53.23,
          51.56,
          55.84,
          60.84,
          60.31,
          61.82,
          63.31,
          62.11,
          62.71,
          64.27,
          65.12,
          65.33,
          68.37,
          69.1,
          65.43,
          65.82,
          66.46,
          65.64,
          66.67,
          67.02,
          66.19,
          68.61,
          70.2,
          71.48,
          70.41,
          69.23,
          66.66,
          66.95,
          67.1,
          66.81,
          64.46,
          64.73,
          63.15,
          62.08,
          63.05,
          69,
          66.79,
          66.63,
          68.75,
          69.85,
          70.86,
          69.16,
          68.57,
          67.53,
          69.18,
          70.31,
          70,
          68.91,
          69.43,
          67.24,
          66.96,
          66.74,
          67.28,
          63.32,
          62.92,
          63.45,
          64.11,
          62.27,
          63.07,
          62.33,
          63.46,
          65.04,
          66.33,
          65.8,
          66.22,
          67.77,
          68.69,
          67.58,
          67.81,
          68.21,
          65.78,
          63.03,
          62.25,
          62.65,
          60.74,
          61.04,
          61.31,
          61.77,
          61.51,
          63.51,
          63.36,
          63.11,
          62.52,
          63.56,
          61.75,
          63.01,
          62.5,
          62.26,
          61.74,
          63.08,
          60.6,
          60.6,
          60.88,
          61.21,
          60.56,
          61.22,
          59.85,
          64.22,
          66.31,
          64.02,
          65.23,
          65.17,
          67.47,
          69.02,
          70.36,
          71.93,
          71.15,
          71.11,
          71.14,
          71.12,
          68.59,
          71.38,
          71.07,
          71,
          69.63,
          68.31,
          68.22,
          67.92,
          68.19,
          69.05,
          69,
          70.22,
          73.3,
          74.78,
          75.02,
          77,
          75.96,
          75.53,
          73.25,
          72.55,
          72.74,
          68.68,
          70.12,
          68.91,
          69.92,
          71.08,
          71.18,
          70.64,
          69.47,
          69.13,
          69.61,
          70.59,
          70.55,
          68.27,
          67.57,
          69.49,
          70.38,
          72.58,
          72.47,
          72.76,
          71.57,
          71.08,
          72.71,
          73.04,
          71.03,
          71.38,
          69.42,
          65.18,
          63.91,
          64.69,
          67.01,
          66.89,
          67.92,
          68.5,
          65.68,
          65.05,
          65.65,
          63.91,
          65.56,
          65.9,
          65.44,
          63.21,
          61.77,
          65.42,
          70.52,
          72.32,
          72.15,
          74.25,
          72.47,
          75.5,
          76.69,
          76.52,
          75.28,
          74.45,
          73.96,
          74.28,
          75.07,
          76.13,
          75.19,
          71.8,
          71.46,
          74,
          71.93,
          70.57,
          69.46,
          67.97,
          68.07,
          68.2,
          67.02,
          65.03,
          63.37,
          62.04,
          60.77,
          62.07,
          62.17,
          62.61,
          61.22,
          63.4,
          63.18,
          64.96,
          64.62,
          65.04,
          64.25,
          61.44,
          61.67,
          59.09,
          62.2,
          63.78,
          64.57,
          62.81,
          61.73,
          62.03,
          62.76,
          61.61,
          60.5,
          60.05,
          60.29,
          60.8,
          59.37,
          62.48,
          60.51,
          59.74,
          59,
          59.7,
          55.66,
          55.58,
          55.48,
          55.49,
          54.04,
          52.63,
          50.96,
          51,
          50.14,
          52.38,
          52.3,
          52.41,
          51.15,
          51.6,
          49.23,
          48.74,
          48.98,
          49.37,
          49.72,
          50.24,
          50.31,
          50.1,
          50,
          50,
          49.25,
          51.4,
          51.2,
          54.7,
          55.48,
          54.45,
          53.79,
          55.95,
          56.2,
          56.12,
          53.85,
          53.84,
          52.42,
          51.5,
          51.55,
          50.27,
          50.31,
          49.85,
          50.39,
          50.13,
          50.59,
          50.5,
          50.89,
          50.92,
          48.95,
          48.75,
          47.67,
          47.55,
          45.92,
          45.95,
          45.97,
          45.8,
          45.35,
          43.4,
          42.74,
          42.94,
          43.95,
          43.91,
          42.67,
          41.69,
          41.54,
          41.76,
          40.55,
          40.5,
          39.52,
          39.74,
          39.63,
          38.49,
          38.44,
          38.46,
          38.63,
          37.17,
          37.36,
          36.29,
          36.38,
          37.88,
          37.91,
          39.22,
          39.33,
          38.63,
          38.23,
          36.9,
          37,
          37.73,
          36.79,
          36.75,
          36.29,
          37.71,
          37.07,
          38.01,
          38.99,
          38.64,
          38.11,
          37.48,
          37.6,
          38.16,
          39.55,
          39.99,
          40.8,
          40.45,
          40.47,
          40.02,
          39.82,
          40.71,
          39.82,
          39.3,
          40.05,
          40.3,
          40.02,
          40.19,
          39.32,
          40.2,
          41.69,
          40.81,
          40.14,
          41.25,
          41.16,
          41.8,
          41.49,
          41.29,
          41.04,
          40.93,
          41.27,
          41.08,
          40.08,
          39.28,
          39.21,
          39.66,
          38.89,
          39.47,
          40.34,
          40.57,
          39.56,
          40.15,
          42.4,
          42.27,
          43.04,
          44,
          44.19,
          44.52,
          44.97,
          44.59,
          45,
          44.7,
          44.65,
          44.72,
          45.12,
          45.12,
          44.98,
          45.13,
          45.82,
          45.23,
          46.01,
          46.12,
          45.16,
          45.44,
          46,
          46.96,
          46.12,
          45.7,
          45.9,
          46,
          44.45,
          45.67,
          45.05,
          45.25,
          44.31,
          44.51,
          44.93,
          44.96,
          43.36,
          43.19,
          42.89,
          42.8,
          43.3,
          42.04,
          40.36,
          39.71,
          38.63,
          39.28,
          39.33,
          43.92,
          43.94,
          43.09,
          43.59,
          43.54,
          42.99,
          43.57,
          43.76,
          45.87,
          47.1,
          46.47,
          44.14,
          43.8,
          43.79,
          43.91,
          44.65,
          44.61,
          45.02,
          43.92,
          43.58,
          43.24,
          44.06,
          43.04,
          42.23,
          40.93,
          41.66,
          41.52,
          41.46,
          41.79,
          41.74,
          41.78,
          42.99,
          42.31,
          44.51,
          46.46,
          48.36,
          48.15,
          49.54,
          50.29,
          50.75,
          50.36,
          50.75,
          49.66,
          49.47,
          50.78,
          50.9,
          50.91,
          49.56,
          49.98,
          50.01,
          51.44,
          53.08,
          51.09,
          49.4,
          47.52,
          45.38,
          46.03,
          46.05,
          45.55,
          44.52,
          46.85,
          47.66,
          46.55,
          45.28,
          44.39,
          43.67,
          43.03,
          41.5,
          41.04,
          41.74,
          40.52,
          41.06,
          40.21,
          39.15,
          37.67,
          37.27,
          38.39,
          38.07,
          37.49,
          35.8,
          35.44,
          35.55,
          33.32,
          33.35,
          33.74,
          31.03,
          30.21,
          30.09,
          28.73,
          29.65,
          29.6,
          32.52,
          35.07,
          34.7,
          36.56,
          39.39,
          38.24,
          37.94,
          37.61,
          38.71,
          39.28,
          39.99,
          39.74,
          40.94,
          41,
          41.24,
          40.06,
          41.99,
          42.2,
          43.13,
          43.81,
          44.69,
          44.68,
          48,
          47.62,
          47.44,
          46.11,
          45.94,
          45.99,
          46.51,
          46.09,
          46.68,
          46.9,
          44.22,
          43.72,
          43.4,
          45.41,
          44.9,
          45.34,
          46.23,
          46.08,
          46.54,
          46.4,
          47.44,
          46.05,
          46.32,
          45.93,
          43.65,
          43.55,
          44,
          44.36,
          44.21,
          42.8,
          42.86,
          41.44,
          42.59,
          43.82,
          43.3,
          45.07,
          46.47,
          46.35,
          46.33,
          41.67,
          42.76,
          41.39,
          42.33,
          42.59,
          42.07,
          43.05,
          41.82,
          42.34,
          42.02,
          42.61,
          45.62,
          45.4,
          44.26,
          43.38,
          43.12,
          44.14,
          45.34,
          46.39,
          48.29,
          49.23,
          49.51,
          47.98,
          49.68,
          49.69,
          51.38,
          52.62,
          52.21,
          52.19,
          52.84,
          52.12,
          52.41,
          52.45,
          50.71,
          50.64,
          50.05,
          49.7,
          49.78,
          49.63,
          48.39,
          49.11,
          49.54,
          47.73,
          49.81,
          49.7,
          48.6,
          44.97,
          44.01,
          43.77,
          46.15,
          48.44,
          51.05,
          52.14,
          51,
          48.63,
          48.5,
          47.63,
          47.47,
          48.23,
          48.5,
          49.23,
          54.03,
          53.26,
          52,
          53.23,
          53.36,
          52.76,
          52.96,
          50.6,
          53.08,
          53.44,
          53.57,
          53.35,
          56.45,
          54.93,
          53.34,
          52.63,
          53.13,
          51.58,
          50.99,
          53.58,
          55.94,
          56,
          53.83,
          53.65,
          52.4,
          53.76,
          53.03,
          53.53,
          51.96,
          52.5,
          52.38,
          52.08,
          50.62,
          50.08,
          50.14,
          50.28,
          50.14,
          51.2,
          51.26,
          49.83,
          49.18,
          49.8,
          49.67,
          49.89,
          50.16,
          50.29,
          49.49,
          49.49,
          49.55,
          49.12,
          48.87,
          49.43,
          49.75,
          49.77,
          48.82,
          48.64,
          48.95,
          47.9,
          47.32,
          47.36,
          46.09,
          46.59,
          46.1,
          45.21,
          45.21,
          46.49,
          46.1,
          46.31,
          43.69,
          43.72,
          43.89,
          41.88,
          41.05,
          41.36,
          41.34,
          41.57,
          41.49,
          41.96,
          41.53,
          40.65,
          40.62,
          38.2,
          37.52,
          37.75,
          38.11,
          37,
          40.34,
          39.93,
          39.62,
          39.13,
          40.14,
          38.95,
          39.14,
          37.74,
          38.21,
          38.75,
          38.06,
          38.18,
          38.78,
          40.13,
          40.49,
          39.91,
          39.47,
          40.67,
          41.44,
          40.75,
          40.82,
          41.47,
          43.42,
          42.34,
          40.89,
          40.87,
          40.75,
          40.58,
          42.56,
          43.26,
          43.5,
          43.47,
          44.2,
          43.71,
          43.67,
          42.19,
          40.72,
          41.04,
          39.87,
          41.2,
          41.31,
          40.26,
          40.32,
          39.31,
          38.39,
          38.61,
          38.37,
          38.54,
          40.85,
          41.33,
          42.12,
          42.19,
          42.02,
          43.86,
          44.48,
          44.45,
          45.14,
          45.56,
          44.45,
          44.19,
          43.86,
          43.65,
          41.16,
          39.56,
          40.81,
          41.4,
          41.78,
          41.97,
          43.38,
          42.87,
          44.74,
          45.66,
          45.86,
          46.29,
          46.33,
          48.9,
          49.69,
          49.62,
          49.34,
          48.56,
          49.74,
          49.55,
          51.54,
          50.8,
          51.74,
          50.34,
          49.82,
          50.22,
          48.39,
          48.04,
          48.24,
          46.19,
          47.79,
          48.52,
          48.34,
          47.73,
          47.62,
          48.55,
          44.33,
          47.05,
          47.06,
          46.22,
          47.07,
          46.09,
          45.5,
          45.27,
          45.94,
          45.41,
          44.92,
          47.38,
          51.4,
          51.91,
          52.12,
          51.04,
          50.28,
          48.05,
          48.54,
          49.05,
          49.32,
          49.39,
          50.08,
          50.01,
          51.86,
          52.76,
          52.28,
          52.15,
          50.77,
          55.84,
          56.06,
          56.22,
          55.7,
          56.42,
          55.48,
          57.21,
          56.24,
          56.82,
          53.94,
          52.77,
          52.65,
          52.35,
          52.51,
          51.36,
          50.87,
          51.14,
          51.35,
          51.99,
          52.4,
          52.28,
          52.06,
          51.99,
          51.86,
          49.63,
          50.48,
          49.79,
          47.7,
          47.7,
          46.65,
          44.66,
          45.78,
          45,
          44.96,
          44.71,
          44.71,
          44.5,
          43.92,
          44.11,
          44,
          43.08,
          43.43,
          43.92,
          45.34,
          43.63,
          43.89,
          44.61,
          45.85,
          45.89,
          47.94,
          48.01,
          47.81,
          47.12,
          47.38,
          46.5,
          45.56,
          45.42,
          46.33,
          44.92,
          41.28,
          40.7,
          40.89,
          40.46,
          41.06,
          41.63,
          41.38,
          40.8,
          40.99,
          40.94,
          41.55,
          42.05,
          42.05,
          42.31,
          41.46,
          40.98,
          39.89,
          39.06,
          39.22,
          38.31,
          37.72,
          38.12,
          38.03,
          36.93,
          36.45,
          35.72,
          40.27,
          41.46,
          43.32,
          42.18,
          41.55,
          41.58,
          41.38,
          39.7,
          39.97,
          41.57,
          41.6,
          40.88,
          39.62,
          39.82,
          38.78,
          39.62,
          40.76,
          40.84,
          43.39,
          43.09,
          41.5,
          42.45,
          46.06,
          43.39,
          41.69,
          41.46,
          42.59,
          44.09,
          44.03,
          45.78,
          48.01,
          46.8,
          46.19,
          47.56,
          48.3,
          46.88,
          47.77,
          49.24,
          50.59,
          50.53,
          50.97,
          50.11,
          48.96,
          50.51,
          50.6,
          49.6,
          43.53,
          41.92,
          41.99,
          38.73,
          40.74,
          39.65,
          39.93,
          39.06,
          39.32,
          39.31,
          37.31,
          35.68,
          34.88,
          35.75,
          35.42,
          36.28,
          36.57,
          35.05,
          35.68,
          33.92,
          34.92,
          36.3,
          35.71,
          35.34,
          34,
          34.19,
          32.83,
          32.25,
          27.87,
          29.14,
          29.51,
          30.26,
          29.4,
          29.91,
          30.02,
          30.49,
          30.22,
          31.1,
          30.28,
          28.71,
          28.65,
          28.14,
          29.6,
          29.53,
          29.49,
          27.93,
          28.44,
          28.32,
          27.47,
          28.1,
          27.79,
          28.94,
          24.83,
          25.46,
          25.39,
          24.1,
          24.17,
          24.28,
          24.42,
          24.22,
          25.22,
          24.32,
          27.09,
          27.52,
          27.74,
          27.56,
          28.94,
          27.59,
          27.95,
          30.23,
          35.36,
          35.04,
          32.43,
          31.99,
          31.84,
          32.89,
          32.57,
          33.93,
          34.63,
          32.9,
          34.31,
          34.52,
          36.68,
          36.56,
          36.71,
          36.79,
          35.94,
          35.74,
          34.59,
          33.76,
          34.95,
          36.61,
          36.2,
          38.6,
          38.67,
          38.18,
          37.73,
          37.05,
          36.47,
          36.22,
          36.68,
          35.58,
          33.32,
          33.11,
          32.99,
          32.7,
          33.27,
          32.14,
          33.39,
          33.99,
          34.12,
          33.79,
          33.8,
          33.21,
          33.29,
          33.4,
          32.84,
          32.37,
          31.42,
          29.57,
          29.92,
          28.98,
          28.4,
          27.93,
          27.87,
          29.09,
          29.48,
          30.6,
          30.7,
          26.85,
          28.43,
          28.94,
          27.6,
          27.11,
          26.86,
          26.35,
          26.92,
          25.88,
          24.81,
          24.34,
          24.55,
          24.49,
          23.94,
          23.81,
          24.05,
          21.81,
          25.45,
          25.98,
          25.12,
          24.45,
          24.69,
          24.32,
          24.02,
          23.05,
          23.56,
          21.47,
          21.85,
          21.14,
          20.3,
          19.91,
          20.13,
          20.94,
          20.68,
          19.64,
          19.55,
          18.89,
          20.01,
          20.41,
          19.47,
          19.07,
          18.97,
          18.52,
          19.55,
          20.99,
          20.93,
          22.07,
          19.42,
          18.55,
          17.45,
          17.52,
          17.99,
          18.3,
          18.45,
          16.97,
          16.65,
          17.56,
          15.35,
          13.88,
          11.16,
          11.1,
          11.9,
          10.91,
          10.82,
          10.66,
          10.8,
          10.99,
          10.24,
          10.4,
          10.09,
          10.2,
          10.04,
          9.57,
          9.39,
          9.09,
          9.12,
          8.66,
          8.75,
          8.72,
          8.37,
          8.1,
          8.37,
          8.27,
          8.4,
          8.22,
          8.87,
          7.58,
          7.63,
          7.57,
          7.32,
          7.2,
          7.19,
          7.02,
          7.03,
          7.37,
          7.82,
          7.82,
          7.69,
          7.65,
          7.54,
          7.33,
          7.12,
          6.93,
          6.97,
          7.02,
          6.89,
          6.88,
          7.22,
          7.03,
          7.71,
          7.86,
          7.41,
          7.65,
          7.69,
          7.58,
          7.68,
          7.85,
          7.9,
          7.83,
          7.63,
          7.55,
          7.66,
          7.5,
          7.5,
          7.59,
          7.61,
          7.4,
          7.4,
          7.2,
          7.04,
          6.9,
          6.88,
          6.82,
          6.78,
          6.65,
          6.58,
          6.71,
          6.73,
          6.74,
          6.87,
          6.88,
          6.95,
          6.77,
          6.64,
          6.74,
          6.86,
          6.8,
          6.89,
          6.92,
          6.92,
          6.88,
          6.76,
          6.72,
          7.05,
          6.91,
          6.83,
          6.78,
          6.74,
          6.78,
          6.92,
          6.76,
          6.74,
          6.65,
          6.43,
          6.45,
          6.43,
          6.49,
          6.6,
          6.58,
          6.37,
          6.16,
          6.28,
          6.32,
          6.21,
          6.06,
          6.26,
          6.31,
          6.23,
          6.3,
          5.78,
          5.85,
          5.63,
          5.48,
          5.5,
          5.48,
          5.68,
          5.57,
          5.55,
          5.61,
          5.76,
          5.61,
          5.47,
          5.53,
          5.66,
          5.68,
          5.67,
          5.85,
          5.78,
          5.88,
          5.86,
          5.96,
          5.83,
          5.86,
          5.7,
          5.51,
          6.13,
          6,
          6.18,
          6.27,
          6.51,
          6.08,
          5.9,
          5.66,
          5.56,
          5.87,
          5.71,
          5.59,
          5.63,
          5.7,
          5.68,
          5.68,
          5.74,
          5.66,
          5.9,
          6.15,
          5.99,
          5.82,
          5.9,
          6,
          6.06,
          5.88,
          5.88,
          6.23,
          5.99,
          5.88,
          5.82,
          6.05,
          5.65,
          5.45,
          5.22,
          5.25,
          5.48,
          5.47,
          5.9,
          5.63,
          5.79,
          5.97,
          6.13,
          6.36,
          6.45,
          6.43,
          6.67,
          7.19,
          6.85,
          6.54,
          6.3,
          6.25,
          6.3,
          6.2,
          6.25,
          6.13,
          6.08,
          6.26,
          6.28,
          6.39,
          6.32,
          6.62,
          6.76,
          6.44,
          6.42,
          6.37,
          5.98,
          5.88,
          5.95,
          5.82,
          5.79,
          5.84,
          5.58,
          5.58,
          5.63,
          5.9,
          6.08,
          6.34,
          5.96,
          6.06,
          6.2,
          6.16,
          5.75,
          5.51,
          5.71,
          5.84,
          5.89,
          6.01,
          6.45,
          6.59,
          6.01,
          6.04,
          6.49,
          6.37,
          6.49,
          6.79,
          6.76,
          6.63,
          6.67,
          6.7,
          6.58,
          6.36,
          6.39,
          6.63,
          6.63,
          6.53,
          6.45,
          6.45,
          6.72,
          6.69,
          6.62,
          6.49,
          6.63,
          6.9,
          7,
          7.6,
          7.32,
          7.45,
          7.47,
          7.57,
          7.59,
          7.48,
          6.82,
          6.88,
          7.03,
          7,
          7.06,
          7,
          7.06,
          7.22,
          7.2,
          6.95,
          6.61,
          6.62,
          6.75,
          6.81,
          6.88,
          6.68,
          6.76,
          6.72,
          6.75,
          6.91,
          6.84,
          6.9,
          6.99,
          6.84,
          6.72,
          6.63,
          6.3,
          6.22,
          6.52,
          6.39,
          6.32,
          6.36,
          6.23,
          6.05,
          5.92,
          5.81,
          5.91,
          5.87,
          5.79,
          5.59,
          5.48,
          5.35,
          5.32,
          5.35,
          5.36,
          5.32,
          4.56,
          5.65,
          5.65,
          5.52,
          5.45,
          5.38,
          5.42,
          5.54,
          5.62,
          5.71,
          5.75,
          5.7,
          5.71,
          5.58,
          5.55,
          5.51,
          5.58,
          5.55,
          5.6,
          5.71,
          5.89,
          6.08,
          6.21,
          6.18,
          6.84,
          6.97,
          6.66,
          6.52,
          6.55,
          6.35,
          6.51,
          6.33,
          6.29,
          6.41,
          6.35,
          6.52,
          6.74,
          6.99,
          6.79,
          6.64,
          6.73,
          6.27,
          6.18,
          6.37,
          6.25,
          6.46,
          6.49,
          5.74,
          5.78,
          5.87,
          5.97,
          5.75,
          5.6,
          5.65,
          5.71,
          5.61,
          5.47,
          5.51,
          5.67,
          5.48,
          5.61,
          5.59,
          5.56,
          5.52,
          5.58,
          5.4,
          5.39,
          5.07,
          4.73,
          4.75,
          4.88,
          4.82,
          4.92,
          5.24,
          5.1,
          5.28,
          5.13,
          5.17,
          5.2,
          5.16,
          4.96,
          4.87,
          4.82,
          4.58,
          4.59,
          4.72,
          4.77,
          4.61,
          4.8,
          4.95,
          4.93,
          4.94,
          4.75,
          4.62,
          4.77,
          4.59,
          4.39,
          4.46,
          4.85,
          5.17
         ]
        }
       ],
       "layout": {
        "template": {
         "data": {
          "bar": [
           {
            "error_x": {
             "color": "#2a3f5f"
            },
            "error_y": {
             "color": "#2a3f5f"
            },
            "marker": {
             "line": {
              "color": "#E5ECF6",
              "width": 0.5
             },
             "pattern": {
              "fillmode": "overlay",
              "size": 10,
              "solidity": 0.2
             }
            },
            "type": "bar"
           }
          ],
          "barpolar": [
           {
            "marker": {
             "line": {
              "color": "#E5ECF6",
              "width": 0.5
             },
             "pattern": {
              "fillmode": "overlay",
              "size": 10,
              "solidity": 0.2
             }
            },
            "type": "barpolar"
           }
          ],
          "carpet": [
           {
            "aaxis": {
             "endlinecolor": "#2a3f5f",
             "gridcolor": "white",
             "linecolor": "white",
             "minorgridcolor": "white",
             "startlinecolor": "#2a3f5f"
            },
            "baxis": {
             "endlinecolor": "#2a3f5f",
             "gridcolor": "white",
             "linecolor": "white",
             "minorgridcolor": "white",
             "startlinecolor": "#2a3f5f"
            },
            "type": "carpet"
           }
          ],
          "choropleth": [
           {
            "colorbar": {
             "outlinewidth": 0,
             "ticks": ""
            },
            "type": "choropleth"
           }
          ],
          "contour": [
           {
            "colorbar": {
             "outlinewidth": 0,
             "ticks": ""
            },
            "colorscale": [
             [
              0,
              "#0d0887"
             ],
             [
              0.1111111111111111,
              "#46039f"
             ],
             [
              0.2222222222222222,
              "#7201a8"
             ],
             [
              0.3333333333333333,
              "#9c179e"
             ],
             [
              0.4444444444444444,
              "#bd3786"
             ],
             [
              0.5555555555555556,
              "#d8576b"
             ],
             [
              0.6666666666666666,
              "#ed7953"
             ],
             [
              0.7777777777777778,
              "#fb9f3a"
             ],
             [
              0.8888888888888888,
              "#fdca26"
             ],
             [
              1,
              "#f0f921"
             ]
            ],
            "type": "contour"
           }
          ],
          "contourcarpet": [
           {
            "colorbar": {
             "outlinewidth": 0,
             "ticks": ""
            },
            "type": "contourcarpet"
           }
          ],
          "heatmap": [
           {
            "colorbar": {
             "outlinewidth": 0,
             "ticks": ""
            },
            "colorscale": [
             [
              0,
              "#0d0887"
             ],
             [
              0.1111111111111111,
              "#46039f"
             ],
             [
              0.2222222222222222,
              "#7201a8"
             ],
             [
              0.3333333333333333,
              "#9c179e"
             ],
             [
              0.4444444444444444,
              "#bd3786"
             ],
             [
              0.5555555555555556,
              "#d8576b"
             ],
             [
              0.6666666666666666,
              "#ed7953"
             ],
             [
              0.7777777777777778,
              "#fb9f3a"
             ],
             [
              0.8888888888888888,
              "#fdca26"
             ],
             [
              1,
              "#f0f921"
             ]
            ],
            "type": "heatmap"
           }
          ],
          "heatmapgl": [
           {
            "colorbar": {
             "outlinewidth": 0,
             "ticks": ""
            },
            "colorscale": [
             [
              0,
              "#0d0887"
             ],
             [
              0.1111111111111111,
              "#46039f"
             ],
             [
              0.2222222222222222,
              "#7201a8"
             ],
             [
              0.3333333333333333,
              "#9c179e"
             ],
             [
              0.4444444444444444,
              "#bd3786"
             ],
             [
              0.5555555555555556,
              "#d8576b"
             ],
             [
              0.6666666666666666,
              "#ed7953"
             ],
             [
              0.7777777777777778,
              "#fb9f3a"
             ],
             [
              0.8888888888888888,
              "#fdca26"
             ],
             [
              1,
              "#f0f921"
             ]
            ],
            "type": "heatmapgl"
           }
          ],
          "histogram": [
           {
            "marker": {
             "pattern": {
              "fillmode": "overlay",
              "size": 10,
              "solidity": 0.2
             }
            },
            "type": "histogram"
           }
          ],
          "histogram2d": [
           {
            "colorbar": {
             "outlinewidth": 0,
             "ticks": ""
            },
            "colorscale": [
             [
              0,
              "#0d0887"
             ],
             [
              0.1111111111111111,
              "#46039f"
             ],
             [
              0.2222222222222222,
              "#7201a8"
             ],
             [
              0.3333333333333333,
              "#9c179e"
             ],
             [
              0.4444444444444444,
              "#bd3786"
             ],
             [
              0.5555555555555556,
              "#d8576b"
             ],
             [
              0.6666666666666666,
              "#ed7953"
             ],
             [
              0.7777777777777778,
              "#fb9f3a"
             ],
             [
              0.8888888888888888,
              "#fdca26"
             ],
             [
              1,
              "#f0f921"
             ]
            ],
            "type": "histogram2d"
           }
          ],
          "histogram2dcontour": [
           {
            "colorbar": {
             "outlinewidth": 0,
             "ticks": ""
            },
            "colorscale": [
             [
              0,
              "#0d0887"
             ],
             [
              0.1111111111111111,
              "#46039f"
             ],
             [
              0.2222222222222222,
              "#7201a8"
             ],
             [
              0.3333333333333333,
              "#9c179e"
             ],
             [
              0.4444444444444444,
              "#bd3786"
             ],
             [
              0.5555555555555556,
              "#d8576b"
             ],
             [
              0.6666666666666666,
              "#ed7953"
             ],
             [
              0.7777777777777778,
              "#fb9f3a"
             ],
             [
              0.8888888888888888,
              "#fdca26"
             ],
             [
              1,
              "#f0f921"
             ]
            ],
            "type": "histogram2dcontour"
           }
          ],
          "mesh3d": [
           {
            "colorbar": {
             "outlinewidth": 0,
             "ticks": ""
            },
            "type": "mesh3d"
           }
          ],
          "parcoords": [
           {
            "line": {
             "colorbar": {
              "outlinewidth": 0,
              "ticks": ""
             }
            },
            "type": "parcoords"
           }
          ],
          "pie": [
           {
            "automargin": true,
            "type": "pie"
           }
          ],
          "scatter": [
           {
            "fillpattern": {
             "fillmode": "overlay",
             "size": 10,
             "solidity": 0.2
            },
            "type": "scatter"
           }
          ],
          "scatter3d": [
           {
            "line": {
             "colorbar": {
              "outlinewidth": 0,
              "ticks": ""
             }
            },
            "marker": {
             "colorbar": {
              "outlinewidth": 0,
              "ticks": ""
             }
            },
            "type": "scatter3d"
           }
          ],
          "scattercarpet": [
           {
            "marker": {
             "colorbar": {
              "outlinewidth": 0,
              "ticks": ""
             }
            },
            "type": "scattercarpet"
           }
          ],
          "scattergeo": [
           {
            "marker": {
             "colorbar": {
              "outlinewidth": 0,
              "ticks": ""
             }
            },
            "type": "scattergeo"
           }
          ],
          "scattergl": [
           {
            "marker": {
             "colorbar": {
              "outlinewidth": 0,
              "ticks": ""
             }
            },
            "type": "scattergl"
           }
          ],
          "scattermapbox": [
           {
            "marker": {
             "colorbar": {
              "outlinewidth": 0,
              "ticks": ""
             }
            },
            "type": "scattermapbox"
           }
          ],
          "scatterpolar": [
           {
            "marker": {
             "colorbar": {
              "outlinewidth": 0,
              "ticks": ""
             }
            },
            "type": "scatterpolar"
           }
          ],
          "scatterpolargl": [
           {
            "marker": {
             "colorbar": {
              "outlinewidth": 0,
              "ticks": ""
             }
            },
            "type": "scatterpolargl"
           }
          ],
          "scatterternary": [
           {
            "marker": {
             "colorbar": {
              "outlinewidth": 0,
              "ticks": ""
             }
            },
            "type": "scatterternary"
           }
          ],
          "surface": [
           {
            "colorbar": {
             "outlinewidth": 0,
             "ticks": ""
            },
            "colorscale": [
             [
              0,
              "#0d0887"
             ],
             [
              0.1111111111111111,
              "#46039f"
             ],
             [
              0.2222222222222222,
              "#7201a8"
             ],
             [
              0.3333333333333333,
              "#9c179e"
             ],
             [
              0.4444444444444444,
              "#bd3786"
             ],
             [
              0.5555555555555556,
              "#d8576b"
             ],
             [
              0.6666666666666666,
              "#ed7953"
             ],
             [
              0.7777777777777778,
              "#fb9f3a"
             ],
             [
              0.8888888888888888,
              "#fdca26"
             ],
             [
              1,
              "#f0f921"
             ]
            ],
            "type": "surface"
           }
          ],
          "table": [
           {
            "cells": {
             "fill": {
              "color": "#EBF0F8"
             },
             "line": {
              "color": "white"
             }
            },
            "header": {
             "fill": {
              "color": "#C8D4E3"
             },
             "line": {
              "color": "white"
             }
            },
            "type": "table"
           }
          ]
         },
         "layout": {
          "annotationdefaults": {
           "arrowcolor": "#2a3f5f",
           "arrowhead": 0,
           "arrowwidth": 1
          },
          "autotypenumbers": "strict",
          "coloraxis": {
           "colorbar": {
            "outlinewidth": 0,
            "ticks": ""
           }
          },
          "colorscale": {
           "diverging": [
            [
             0,
             "#8e0152"
            ],
            [
             0.1,
             "#c51b7d"
            ],
            [
             0.2,
             "#de77ae"
            ],
            [
             0.3,
             "#f1b6da"
            ],
            [
             0.4,
             "#fde0ef"
            ],
            [
             0.5,
             "#f7f7f7"
            ],
            [
             0.6,
             "#e6f5d0"
            ],
            [
             0.7,
             "#b8e186"
            ],
            [
             0.8,
             "#7fbc41"
            ],
            [
             0.9,
             "#4d9221"
            ],
            [
             1,
             "#276419"
            ]
           ],
           "sequential": [
            [
             0,
             "#0d0887"
            ],
            [
             0.1111111111111111,
             "#46039f"
            ],
            [
             0.2222222222222222,
             "#7201a8"
            ],
            [
             0.3333333333333333,
             "#9c179e"
            ],
            [
             0.4444444444444444,
             "#bd3786"
            ],
            [
             0.5555555555555556,
             "#d8576b"
            ],
            [
             0.6666666666666666,
             "#ed7953"
            ],
            [
             0.7777777777777778,
             "#fb9f3a"
            ],
            [
             0.8888888888888888,
             "#fdca26"
            ],
            [
             1,
             "#f0f921"
            ]
           ],
           "sequentialminus": [
            [
             0,
             "#0d0887"
            ],
            [
             0.1111111111111111,
             "#46039f"
            ],
            [
             0.2222222222222222,
             "#7201a8"
            ],
            [
             0.3333333333333333,
             "#9c179e"
            ],
            [
             0.4444444444444444,
             "#bd3786"
            ],
            [
             0.5555555555555556,
             "#d8576b"
            ],
            [
             0.6666666666666666,
             "#ed7953"
            ],
            [
             0.7777777777777778,
             "#fb9f3a"
            ],
            [
             0.8888888888888888,
             "#fdca26"
            ],
            [
             1,
             "#f0f921"
            ]
           ]
          },
          "colorway": [
           "#636efa",
           "#EF553B",
           "#00cc96",
           "#ab63fa",
           "#FFA15A",
           "#19d3f3",
           "#FF6692",
           "#B6E880",
           "#FF97FF",
           "#FECB52"
          ],
          "font": {
           "color": "#2a3f5f"
          },
          "geo": {
           "bgcolor": "white",
           "lakecolor": "white",
           "landcolor": "#E5ECF6",
           "showlakes": true,
           "showland": true,
           "subunitcolor": "white"
          },
          "hoverlabel": {
           "align": "left"
          },
          "hovermode": "closest",
          "mapbox": {
           "style": "light"
          },
          "paper_bgcolor": "white",
          "plot_bgcolor": "#E5ECF6",
          "polar": {
           "angularaxis": {
            "gridcolor": "white",
            "linecolor": "white",
            "ticks": ""
           },
           "bgcolor": "#E5ECF6",
           "radialaxis": {
            "gridcolor": "white",
            "linecolor": "white",
            "ticks": ""
           }
          },
          "scene": {
           "xaxis": {
            "backgroundcolor": "#E5ECF6",
            "gridcolor": "white",
            "gridwidth": 2,
            "linecolor": "white",
            "showbackground": true,
            "ticks": "",
            "zerolinecolor": "white"
           },
           "yaxis": {
            "backgroundcolor": "#E5ECF6",
            "gridcolor": "white",
            "gridwidth": 2,
            "linecolor": "white",
            "showbackground": true,
            "ticks": "",
            "zerolinecolor": "white"
           },
           "zaxis": {
            "backgroundcolor": "#E5ECF6",
            "gridcolor": "white",
            "gridwidth": 2,
            "linecolor": "white",
            "showbackground": true,
            "ticks": "",
            "zerolinecolor": "white"
           }
          },
          "shapedefaults": {
           "line": {
            "color": "#2a3f5f"
           }
          },
          "ternary": {
           "aaxis": {
            "gridcolor": "white",
            "linecolor": "white",
            "ticks": ""
           },
           "baxis": {
            "gridcolor": "white",
            "linecolor": "white",
            "ticks": ""
           },
           "bgcolor": "#E5ECF6",
           "caxis": {
            "gridcolor": "white",
            "linecolor": "white",
            "ticks": ""
           }
          },
          "title": {
           "x": 0.05
          },
          "xaxis": {
           "automargin": true,
           "gridcolor": "white",
           "linecolor": "white",
           "ticks": "",
           "title": {
            "standoff": 15
           },
           "zerolinecolor": "white",
           "zerolinewidth": 2
          },
          "yaxis": {
           "automargin": true,
           "gridcolor": "white",
           "linecolor": "white",
           "ticks": "",
           "title": {
            "standoff": 15
           },
           "zerolinecolor": "white",
           "zerolinewidth": 2
          }
         }
        },
        "title": {
         "text": "Stock Prices"
        },
        "xaxis": {
         "title": {
          "font": {
           "color": "#7f7f7f",
           "family": "Courier New, monospace",
           "size": 18
          },
          "text": "Day"
         }
        },
        "yaxis": {
         "title": {
          "font": {
           "color": "#7f7f7f",
           "family": "Courier New, monospace",
           "size": 18
          },
          "text": "Date"
         }
        }
       }
      },
      "text/html": [
       "<div>                            <div id=\"6d1ae32b-62b4-4e11-9815-e223aad90c2d\" class=\"plotly-graph-div\" style=\"height:525px; width:100%;\"></div>            <script type=\"text/javascript\">                require([\"plotly\"], function(Plotly) {                    window.PLOTLYENV=window.PLOTLYENV || {};                                    if (document.getElementById(\"6d1ae32b-62b4-4e11-9815-e223aad90c2d\")) {                    Plotly.newPlot(                        \"6d1ae32b-62b4-4e11-9815-e223aad90c2d\",                        [{\"x\":[\"May 06, 2022\",\"May 04, 2022\",\"May 03, 2022\",\"May 02, 2022\",\"Apr 29, 2022\",\"Apr 28, 2022\",\"Apr 27, 2022\",\"Apr 26, 2022\",\"Apr 25, 2022\",\"Apr 22, 2022\",\"Apr 21, 2022\",\"Apr 20, 2022\",\"Apr 19, 2022\",\"Apr 18, 2022\",\"Apr 14, 2022\",\"Apr 13, 2022\",\"Apr 12, 2022\",\"Apr 11, 2022\",\"Apr 08, 2022\",\"Apr 07, 2022\",\"Apr 06, 2022\",\"Apr 05, 2022\",\"Apr 04, 2022\",\"Apr 01, 2022\",\"Mar 31, 2022\",\"Mar 30, 2022\",\"Mar 29, 2022\",\"Mar 28, 2022\",\"Mar 25, 2022\",\"Mar 24, 2022\",\"Mar 23, 2022\",\"Mar 22, 2022\",\"Mar 21, 2022\",\"Mar 18, 2022\",\"Mar 17, 2022\",\"Mar 16, 2022\",\"Mar 15, 2022\",\"Mar 14, 2022\",\"Mar 11, 2022\",\"Mar 10, 2022\",\"Mar 09, 2022\",\"Mar 08, 2022\",\"Mar 07, 2022\",\"Mar 04, 2022\",\"Mar 03, 2022\",\"Mar 01, 2022\",\"Feb 28, 2022\",\"Feb 25, 2022\",\"Feb 24, 2022\",\"Feb 23, 2022\",\"Feb 22, 2022\",\"Feb 18, 2022\",\"Feb 17, 2022\",\"Feb 15, 2022\",\"Feb 14, 2022\",\"Feb 11, 2022\",\"Feb 10, 2022\",\"Feb 09, 2022\",\"Feb 08, 2022\",\"Feb 07, 2022\",\"Feb 04, 2022\",\"Feb 03, 2022\",\"Feb 02, 2022\",\"Feb 01, 2022\",\"Jan 31, 2022\",\"Jan 28, 2022\",\"Jan 27, 2022\",\"Jan 26, 2022\",\"Jan 25, 2022\",\"Jan 24, 2022\",\"Jan 21, 2022\",\"Jan 20, 2022\",\"Jan 19, 2022\",\"Jan 18, 2022\",\"Jan 14, 2022\",\"Jan 13, 2022\",\"Jan 12, 2022\",\"Jan 11, 2022\",\"Jan 10, 2022\",\"Jan 07, 2022\",\"Jan 06, 2022\",\"Jan 05, 2022\",\"Jan 04, 2022\",\"Jan 03, 2022\",\"Dec 31, 2021\",\"Dec 30, 2021\",\"Dec 29, 2021\",\"Dec 28, 2021\",\"Dec 27, 2021\",\"Dec 23, 2021\",\"Dec 22, 2021\",\"Dec 21, 2021\",\"Dec 20, 2021\",\"Dec 17, 2021\",\"Dec 16, 2021\",\"Dec 15, 2021\",\"Dec 14, 2021\",\"Dec 13, 2021\",\"Dec 10, 2021\",\"Dec 09, 2021\",\"Dec 08, 2021\",\"Dec 07, 2021\",\"Dec 06, 2021\",\"Dec 03, 2021\",\"Dec 02, 2021\",\"Nov 30, 2021\",\"Nov 29, 2021\",\"Nov 26, 2021\",\"Nov 24, 2021\",\"Nov 23, 2021\",\"Nov 22, 2021\",\"Nov 19, 2021\",\"Nov 18, 2021\",\"Nov 16, 2021\",\"Nov 15, 2021\",\"Nov 12, 2021\",\"Nov 11, 2021\",\"Nov 10, 2021\",\"Nov 09, 2021\",\"Nov 08, 2021\",\"Nov 05, 2021\",\"Nov 03, 2021\",\"Nov 02, 2021\",\"Nov 01, 2021\",\"Oct 29, 2021\",\"Oct 28, 2021\",\"Oct 27, 2021\",\"Oct 26, 2021\",\"Oct 25, 2021\",\"Oct 22, 2021\",\"Oct 21, 2021\",\"Oct 20, 2021\",\"Oct 19, 2021\",\"Oct 18, 2021\",\"Oct 15, 2021\",\"Oct 14, 2021\",\"Oct 13, 2021\",\"Oct 12, 2021\",\"Oct 11, 2021\",\"Oct 08, 2021\",\"Oct 07, 2021\",\"Oct 06, 2021\",\"Oct 05, 2021\",\"Oct 04, 2021\",\"Oct 01, 2021\",\"Sep 30, 2021\",\"Sep 29, 2021\",\"Sep 28, 2021\",\"Sep 27, 2021\",\"Sep 24, 2021\",\"Sep 23, 2021\",\"Sep 22, 2021\",\"Sep 21, 2021\",\"Sep 20, 2021\",\"Sep 17, 2021\",\"Sep 16, 2021\",\"Sep 15, 2021\",\"Sep 14, 2021\",\"Sep 13, 2021\",\"Sep 10, 2021\",\"Sep 09, 2021\",\"Sep 08, 2021\",\"Sep 07, 2021\",\"Sep 03, 2021\",\"Sep 02, 2021\",\"Sep 01, 2021\",\"Aug 30, 2021\",\"Aug 27, 2021\",\"Aug 26, 2021\",\"Aug 25, 2021\",\"Aug 24, 2021\",\"Aug 23, 2021\",\"Aug 20, 2021\",\"Aug 19, 2021\",\"Aug 17, 2021\",\"Aug 16, 2021\",\"Aug 13, 2021\",\"Aug 12, 2021\",\"Aug 11, 2021\",\"Aug 10, 2021\",\"Aug 09, 2021\",\"Aug 06, 2021\",\"Aug 04, 2021\",\"Aug 03, 2021\",\"Aug 02, 2021\",\"Jul 30, 2021\",\"Jul 29, 2021\",\"Jul 28, 2021\",\"Jul 27, 2021\",\"Jul 26, 2021\",\"Jul 23, 2021\",\"Jul 22, 2021\",\"Jul 21, 2021\",\"Jul 19, 2021\",\"Jul 16, 2021\",\"Jul 15, 2021\",\"Jul 14, 2021\",\"Jul 13, 2021\",\"Jul 12, 2021\",\"Jul 09, 2021\",\"Jul 08, 2021\",\"Jul 07, 2021\",\"Jul 06, 2021\",\"Jul 02, 2021\",\"Jul 01, 2021\",\"Jun 30, 2021\",\"Jun 29, 2021\",\"Jun 28, 2021\",\"Jun 25, 2021\",\"Jun 24, 2021\",\"Jun 23, 2021\",\"Jun 22, 2021\",\"Jun 21, 2021\",\"Jun 18, 2021\",\"Jun 17, 2021\",\"Jun 16, 2021\",\"Jun 15, 2021\",\"Jun 14, 2021\",\"Jun 11, 2021\",\"Jun 10, 2021\",\"Jun 09, 2021\",\"Jun 07, 2021\",\"Jun 04, 2021\",\"Jun 03, 2021\",\"Jun 02, 2021\",\"Jun 01, 2021\",\"May 28, 2021\",\"May 27, 2021\",\"May 26, 2021\",\"May 25, 2021\",\"May 24, 2021\",\"May 21, 2021\",\"May 20, 2021\",\"May 18, 2021\",\"May 17, 2021\",\"May 14, 2021\",\"May 13, 2021\",\"May 12, 2021\",\"May 11, 2021\",\"May 10, 2021\",\"May 07, 2021\",\"May 05, 2021\",\"May 04, 2021\",\"May 03, 2021\",\"Apr 30, 2021\",\"Apr 29, 2021\",\"Apr 28, 2021\",\"Apr 27, 2021\",\"Apr 26, 2021\",\"Apr 23, 2021\",\"Apr 22, 2021\",\"Apr 21, 2021\",\"Apr 20, 2021\",\"Apr 19, 2021\",\"Apr 16, 2021\",\"Apr 15, 2021\",\"Apr 14, 2021\",\"Apr 13, 2021\",\"Apr 12, 2021\",\"Apr 09, 2021\",\"Apr 08, 2021\",\"Apr 07, 2021\",\"Apr 06, 2021\",\"Apr 05, 2021\",\"Apr 01, 2021\",\"Mar 31, 2021\",\"Mar 30, 2021\",\"Mar 29, 2021\",\"Mar 26, 2021\",\"Mar 25, 2021\",\"Mar 24, 2021\",\"Mar 23, 2021\",\"Mar 22, 2021\",\"Mar 19, 2021\",\"Mar 18, 2021\",\"Mar 17, 2021\",\"Mar 16, 2021\",\"Mar 15, 2021\",\"Mar 12, 2021\",\"Mar 11, 2021\",\"Mar 10, 2021\",\"Mar 09, 2021\",\"Mar 05, 2021\",\"Mar 04, 2021\",\"Mar 03, 2021\",\"Mar 02, 2021\",\"Mar 01, 2021\",\"Feb 26, 2021\",\"Feb 25, 2021\",\"Feb 24, 2021\",\"Feb 23, 2021\",\"Feb 22, 2021\",\"Feb 19, 2021\",\"Feb 18, 2021\",\"Feb 16, 2021\",\"Feb 12, 2021\",\"Feb 11, 2021\",\"Feb 10, 2021\",\"Feb 09, 2021\",\"Feb 08, 2021\",\"Feb 05, 2021\",\"Feb 03, 2021\",\"Feb 02, 2021\",\"Feb 01, 2021\",\"Jan 29, 2021\",\"Jan 28, 2021\",\"Jan 27, 2021\",\"Jan 26, 2021\",\"Jan 25, 2021\",\"Jan 22, 2021\",\"Jan 21, 2021\",\"Jan 20, 2021\",\"Jan 19, 2021\",\"Jan 15, 2021\",\"Jan 14, 2021\",\"Jan 13, 2021\",\"Jan 12, 2021\",\"Jan 11, 2021\",\"Jan 08, 2021\",\"Jan 07, 2021\",\"Jan 06, 2021\",\"Jan 05, 2021\",\"Jan 04, 2021\",\"Dec 31, 2020\",\"Dec 30, 2020\",\"Dec 29, 2020\",\"Dec 28, 2020\",\"Dec 24, 2020\",\"Dec 23, 2020\",\"Dec 22, 2020\",\"Dec 21, 2020\",\"Dec 18, 2020\",\"Dec 17, 2020\",\"Dec 16, 2020\",\"Dec 15, 2020\",\"Dec 14, 2020\",\"Dec 11, 2020\",\"Dec 10, 2020\",\"Dec 09, 2020\",\"Dec 08, 2020\",\"Dec 07, 2020\",\"Dec 04, 2020\",\"Dec 03, 2020\",\"Dec 01, 2020\",\"Nov 30, 2020\",\"Nov 27, 2020\",\"Nov 25, 2020\",\"Nov 24, 2020\",\"Nov 23, 2020\",\"Nov 20, 2020\",\"Nov 19, 2020\",\"Nov 17, 2020\",\"Nov 16, 2020\",\"Nov 13, 2020\",\"Nov 12, 2020\",\"Nov 11, 2020\",\"Nov 10, 2020\",\"Nov 09, 2020\",\"Nov 06, 2020\",\"Nov 04, 2020\",\"Nov 03, 2020\",\"Nov 02, 2020\",\"Oct 30, 2020\",\"Oct 29, 2020\",\"Oct 28, 2020\",\"Oct 27, 2020\",\"Oct 26, 2020\",\"Oct 23, 2020\",\"Oct 22, 2020\",\"Oct 21, 2020\",\"Oct 20, 2020\",\"Oct 19, 2020\",\"Oct 16, 2020\",\"Oct 15, 2020\",\"Oct 14, 2020\",\"Oct 13, 2020\",\"Oct 12, 2020\",\"Oct 09, 2020\",\"Oct 08, 2020\",\"Oct 07, 2020\",\"Oct 06, 2020\",\"Oct 05, 2020\",\"Oct 02, 2020\",\"Oct 01, 2020\",\"Sep 30, 2020\",\"Sep 29, 2020\",\"Sep 28, 2020\",\"Sep 25, 2020\",\"Sep 24, 2020\",\"Sep 23, 2020\",\"Sep 22, 2020\",\"Sep 21, 2020\",\"Sep 18, 2020\",\"Sep 17, 2020\",\"Sep 16, 2020\",\"Sep 15, 2020\",\"Sep 14, 2020\",\"Sep 11, 2020\",\"Sep 10, 2020\",\"Sep 08, 2020\",\"Sep 04, 2020\",\"Sep 03, 2020\",\"Sep 02, 2020\",\"Sep 01, 2020\",\"Aug 27, 2020\",\"Aug 26, 2020\",\"Aug 25, 2020\",\"Aug 24, 2020\",\"Aug 21, 2020\",\"Aug 20, 2020\",\"Aug 18, 2020\",\"Aug 17, 2020\",\"Aug 14, 2020\",\"Aug 13, 2020\",\"Aug 12, 2020\",\"Aug 11, 2020\",\"Aug 10, 2020\",\"Aug 07, 2020\",\"Aug 06, 2020\",\"Aug 05, 2020\",\"Aug 04, 2020\",\"Aug 03, 2020\",\"Jul 31, 2020\",\"Jul 30, 2020\",\"Jul 29, 2020\",\"Jul 28, 2020\",\"Jul 27, 2020\",\"Jul 24, 2020\",\"Jul 23, 2020\",\"Jul 22, 2020\",\"Jul 21, 2020\",\"Jul 20, 2020\",\"Jul 17, 2020\",\"Jul 16, 2020\",\"Jul 15, 2020\",\"Jul 14, 2020\",\"Jul 13, 2020\",\"Jul 10, 2020\",\"Jul 09, 2020\",\"Jul 08, 2020\",\"Jul 07, 2020\",\"Jul 06, 2020\",\"Jul 02, 2020\",\"Jul 01, 2020\",\"Jun 30, 2020\",\"Jun 29, 2020\",\"Jun 26, 2020\",\"Jun 25, 2020\",\"Jun 24, 2020\",\"Jun 23, 2020\",\"Jun 22, 2020\",\"Jun 19, 2020\",\"Jun 18, 2020\",\"Jun 17, 2020\",\"Jun 16, 2020\",\"Jun 15, 2020\",\"Jun 12, 2020\",\"Jun 11, 2020\",\"Jun 10, 2020\",\"Jun 09, 2020\",\"Jun 08, 2020\",\"Jun 05, 2020\",\"Jun 04, 2020\",\"Jun 02, 2020\",\"Jun 01, 2020\",\"May 29, 2020\",\"May 28, 2020\",\"May 27, 2020\",\"May 26, 2020\",\"May 22, 2020\",\"May 21, 2020\",\"May 19, 2020\",\"May 18, 2020\",\"May 15, 2020\",\"May 14, 2020\",\"May 13, 2020\",\"May 12, 2020\",\"May 11, 2020\",\"May 08, 2020\",\"May 07, 2020\",\"May 05, 2020\",\"May 04, 2020\",\"May 01, 2020\",\"Apr 30, 2020\",\"Apr 29, 2020\",\"Apr 28, 2020\",\"Apr 27, 2020\",\"Apr 24, 2020\",\"Apr 23, 2020\",\"Apr 22, 2020\",\"Apr 21, 2020\",\"Apr 20, 2020\",\"Apr 17, 2020\",\"Apr 16, 2020\",\"Apr 15, 2020\",\"Apr 14, 2020\",\"Apr 13, 2020\",\"Apr 09, 2020\",\"Apr 08, 2020\",\"Apr 07, 2020\",\"Apr 06, 2020\",\"Apr 03, 2020\",\"Apr 02, 2020\",\"Apr 01, 2020\",\"Mar 31, 2020\",\"Mar 30, 2020\",\"Mar 27, 2020\",\"Mar 26, 2020\",\"Mar 25, 2020\",\"Mar 24, 2020\",\"Mar 23, 2020\",\"Mar 20, 2020\",\"Mar 19, 2020\",\"Mar 18, 2020\",\"Mar 17, 2020\",\"Mar 16, 2020\",\"Mar 13, 2020\",\"Mar 12, 2020\",\"Mar 11, 2020\",\"Mar 10, 2020\",\"Mar 09, 2020\",\"Mar 06, 2020\",\"Mar 05, 2020\",\"Mar 04, 2020\",\"Mar 03, 2020\",\"Mar 02, 2020\",\"Feb 28, 2020\",\"Feb 27, 2020\",\"Feb 25, 2020\",\"Feb 24, 2020\",\"Feb 21, 2020\",\"Feb 20, 2020\",\"Feb 18, 2020\",\"Feb 14, 2020\",\"Feb 13, 2020\",\"Feb 12, 2020\",\"Feb 11, 2020\",\"Feb 10, 2020\",\"Feb 07, 2020\",\"Feb 06, 2020\",\"Feb 05, 2020\",\"Feb 04, 2020\",\"Feb 03, 2020\",\"Jan 31, 2020\",\"Jan 30, 2020\",\"Jan 29, 2020\",\"Jan 28, 2020\",\"Jan 27, 2020\",\"Jan 24, 2020\",\"Jan 23, 2020\",\"Jan 22, 2020\",\"Jan 21, 2020\",\"Jan 17, 2020\",\"Jan 16, 2020\",\"Jan 15, 2020\",\"Jan 14, 2020\",\"Jan 13, 2020\",\"Jan 10, 2020\",\"Jan 09, 2020\",\"Jan 08, 2020\",\"Jan 07, 2020\",\"Jan 06, 2020\",\"Jan 03, 2020\",\"Jan 02, 2020\",\"Dec 31, 2019\",\"Dec 30, 2019\",\"Dec 27, 2019\",\"Dec 26, 2019\",\"Dec 24, 2019\",\"Dec 23, 2019\",\"Dec 20, 2019\",\"Dec 19, 2019\",\"Dec 18, 2019\",\"Dec 17, 2019\",\"Dec 16, 2019\",\"Dec 13, 2019\",\"Dec 12, 2019\",\"Dec 11, 2019\",\"Dec 10, 2019\",\"Dec 09, 2019\",\"Dec 06, 2019\",\"Dec 05, 2019\",\"Dec 04, 2019\",\"Dec 03, 2019\",\"Dec 02, 2019\",\"Nov 29, 2019\",\"Nov 27, 2019\",\"Nov 25, 2019\",\"Nov 22, 2019\",\"Nov 21, 2019\",\"Nov 19, 2019\",\"Nov 18, 2019\",\"Nov 15, 2019\",\"Nov 14, 2019\",\"Nov 13, 2019\",\"Nov 12, 2019\",\"Nov 11, 2019\",\"Nov 08, 2019\",\"Nov 07, 2019\",\"Nov 06, 2019\",\"Nov 05, 2019\",\"Nov 04, 2019\",\"Nov 01, 2019\",\"Oct 31, 2019\",\"Oct 30, 2019\",\"Oct 29, 2019\",\"Oct 28, 2019\",\"Oct 25, 2019\",\"Oct 24, 2019\",\"Oct 23, 2019\",\"Oct 22, 2019\",\"Oct 21, 2019\",\"Oct 18, 2019\",\"Oct 17, 2019\",\"Oct 16, 2019\",\"Oct 15, 2019\",\"Oct 14, 2019\",\"Oct 11, 2019\",\"Oct 10, 2019\",\"Oct 09, 2019\",\"Oct 08, 2019\",\"Oct 07, 2019\",\"Oct 04, 2019\",\"Oct 03, 2019\",\"Oct 02, 2019\",\"Oct 01, 2019\",\"Sep 30, 2019\",\"Sep 27, 2019\",\"Sep 26, 2019\",\"Sep 25, 2019\",\"Sep 24, 2019\",\"Sep 23, 2019\",\"Sep 20, 2019\",\"Sep 19, 2019\",\"Sep 18, 2019\",\"Sep 17, 2019\",\"Sep 16, 2019\",\"Sep 13, 2019\",\"Sep 12, 2019\",\"Sep 11, 2019\",\"Sep 10, 2019\",\"Sep 09, 2019\",\"Sep 06, 2019\",\"Sep 05, 2019\",\"Sep 04, 2019\",\"Sep 03, 2019\",\"Aug 30, 2019\",\"Aug 29, 2019\",\"Aug 28, 2019\",\"Aug 26, 2019\",\"Aug 23, 2019\",\"Aug 22, 2019\",\"Aug 21, 2019\",\"Aug 20, 2019\",\"Aug 19, 2019\",\"Aug 16, 2019\",\"Aug 15, 2019\",\"Aug 13, 2019\",\"Aug 12, 2019\",\"Aug 09, 2019\",\"Aug 08, 2019\",\"Aug 06, 2019\",\"Aug 05, 2019\",\"Aug 02, 2019\",\"Aug 01, 2019\",\"Jul 31, 2019\",\"Jul 30, 2019\",\"Jul 29, 2019\",\"Jul 26, 2019\",\"Jul 25, 2019\",\"Jul 24, 2019\",\"Jul 23, 2019\",\"Jul 22, 2019\",\"Jul 19, 2019\",\"Jul 18, 2019\",\"Jul 17, 2019\",\"Jul 16, 2019\",\"Jul 15, 2019\",\"Jul 12, 2019\",\"Jul 11, 2019\",\"Jul 10, 2019\",\"Jul 09, 2019\",\"Jul 08, 2019\",\"Jul 05, 2019\",\"Jul 03, 2019\",\"Jul 02, 2019\",\"Jul 01, 2019\",\"Jun 28, 2019\",\"Jun 27, 2019\",\"Jun 26, 2019\",\"Jun 25, 2019\",\"Jun 24, 2019\",\"Jun 21, 2019\",\"Jun 20, 2019\",\"Jun 19, 2019\",\"Jun 18, 2019\",\"Jun 17, 2019\",\"Jun 14, 2019\",\"Jun 13, 2019\",\"Jun 12, 2019\",\"Jun 11, 2019\",\"Jun 10, 2019\",\"Jun 07, 2019\",\"Jun 06, 2019\",\"Jun 05, 2019\",\"Jun 04, 2019\",\"Jun 03, 2019\",\"May 31, 2019\",\"May 30, 2019\",\"May 28, 2019\",\"May 24, 2019\",\"May 23, 2019\",\"May 22, 2019\",\"May 21, 2019\",\"May 20, 2019\",\"May 17, 2019\",\"May 16, 2019\",\"May 14, 2019\",\"May 13, 2019\",\"May 10, 2019\",\"May 09, 2019\",\"May 07, 2019\",\"May 06, 2019\",\"May 03, 2019\",\"May 02, 2019\",\"May 01, 2019\",\"Apr 30, 2019\",\"Apr 29, 2019\",\"Apr 26, 2019\",\"Apr 25, 2019\",\"Apr 24, 2019\",\"Apr 23, 2019\",\"Apr 22, 2019\",\"Apr 18, 2019\",\"Apr 17, 2019\",\"Apr 16, 2019\",\"Apr 15, 2019\",\"Apr 12, 2019\",\"Apr 11, 2019\",\"Apr 10, 2019\",\"Apr 09, 2019\",\"Apr 08, 2019\",\"Apr 05, 2019\",\"Apr 04, 2019\",\"Apr 03, 2019\",\"Apr 02, 2019\",\"Apr 01, 2019\",\"Mar 29, 2019\",\"Mar 28, 2019\",\"Mar 27, 2019\",\"Mar 26, 2019\",\"Mar 25, 2019\",\"Mar 22, 2019\",\"Mar 21, 2019\",\"Mar 20, 2019\",\"Mar 19, 2019\",\"Mar 18, 2019\",\"Mar 15, 2019\",\"Mar 14, 2019\",\"Mar 13, 2019\",\"Mar 12, 2019\",\"Mar 11, 2019\",\"Mar 08, 2019\",\"Mar 07, 2019\",\"Mar 06, 2019\",\"Mar 05, 2019\",\"Mar 04, 2019\",\"Mar 01, 2019\",\"Feb 28, 2019\",\"Feb 26, 2019\",\"Feb 25, 2019\",\"Feb 22, 2019\",\"Feb 21, 2019\",\"Feb 19, 2019\",\"Feb 15, 2019\",\"Feb 14, 2019\",\"Feb 13, 2019\",\"Feb 12, 2019\",\"Feb 11, 2019\",\"Feb 08, 2019\",\"Feb 07, 2019\",\"Feb 05, 2019\",\"Feb 04, 2019\",\"Feb 01, 2019\",\"Jan 31, 2019\",\"Jan 30, 2019\",\"Jan 29, 2019\",\"Jan 28, 2019\",\"Jan 25, 2019\",\"Jan 24, 2019\",\"Jan 23, 2019\",\"Jan 22, 2019\",\"Jan 18, 2019\",\"Jan 17, 2019\",\"Jan 16, 2019\",\"Jan 15, 2019\",\"Jan 14, 2019\",\"Jan 11, 2019\",\"Jan 10, 2019\",\"Jan 09, 2019\",\"Jan 08, 2019\",\"Jan 07, 2019\",\"Jan 04, 2019\",\"Jan 03, 2019\",\"Jan 02, 2019\",\"Dec 31, 2018\",\"Dec 28, 2018\",\"Dec 27, 2018\",\"Dec 26, 2018\",\"Dec 24, 2018\",\"Dec 21, 2018\",\"Dec 20, 2018\",\"Dec 19, 2018\",\"Dec 18, 2018\",\"Dec 17, 2018\",\"Dec 14, 2018\",\"Dec 13, 2018\",\"Dec 12, 2018\",\"Dec 11, 2018\",\"Dec 10, 2018\",\"Dec 07, 2018\",\"Dec 06, 2018\",\"Dec 04, 2018\",\"Dec 03, 2018\",\"Nov 30, 2018\",\"Nov 29, 2018\",\"Nov 27, 2018\",\"Nov 26, 2018\",\"Nov 23, 2018\",\"Nov 21, 2018\",\"Nov 20, 2018\",\"Nov 19, 2018\",\"Nov 16, 2018\",\"Nov 15, 2018\",\"Nov 13, 2018\",\"Nov 12, 2018\",\"Nov 09, 2018\",\"Nov 08, 2018\",\"Nov 07, 2018\",\"Nov 05, 2018\",\"Nov 02, 2018\",\"Nov 01, 2018\",\"Oct 31, 2018\",\"Oct 30, 2018\",\"Oct 29, 2018\",\"Oct 26, 2018\",\"Oct 25, 2018\",\"Oct 24, 2018\",\"Oct 23, 2018\",\"Oct 22, 2018\",\"Oct 19, 2018\",\"Oct 18, 2018\",\"Oct 17, 2018\",\"Oct 16, 2018\",\"Oct 15, 2018\",\"Oct 12, 2018\",\"Oct 11, 2018\",\"Oct 10, 2018\",\"Oct 09, 2018\",\"Oct 08, 2018\",\"Oct 05, 2018\",\"Oct 04, 2018\",\"Oct 03, 2018\",\"Oct 02, 2018\",\"Oct 01, 2018\",\"Sep 28, 2018\",\"Sep 27, 2018\",\"Sep 26, 2018\",\"Sep 25, 2018\",\"Sep 24, 2018\",\"Sep 21, 2018\",\"Sep 20, 2018\",\"Sep 19, 2018\",\"Sep 18, 2018\",\"Sep 17, 2018\",\"Sep 14, 2018\",\"Sep 13, 2018\",\"Sep 12, 2018\",\"Sep 11, 2018\",\"Sep 10, 2018\",\"Sep 07, 2018\",\"Sep 06, 2018\",\"Sep 05, 2018\",\"Sep 04, 2018\",\"Aug 31, 2018\",\"Aug 30, 2018\",\"Aug 29, 2018\",\"Aug 27, 2018\",\"Aug 24, 2018\",\"Aug 23, 2018\",\"Aug 22, 2018\",\"Aug 21, 2018\",\"Aug 20, 2018\",\"Aug 17, 2018\",\"Aug 16, 2018\",\"Aug 14, 2018\",\"Aug 13, 2018\",\"Aug 10, 2018\",\"Aug 09, 2018\",\"Aug 07, 2018\",\"Aug 06, 2018\",\"Aug 03, 2018\",\"Aug 02, 2018\",\"Aug 01, 2018\",\"Jul 31, 2018\",\"Jul 30, 2018\",\"Jul 27, 2018\",\"Jul 26, 2018\",\"Jul 25, 2018\",\"Jul 24, 2018\",\"Jul 23, 2018\",\"Jul 20, 2018\",\"Jul 19, 2018\",\"Jul 18, 2018\",\"Jul 17, 2018\",\"Jul 16, 2018\",\"Jul 13, 2018\",\"Jul 12, 2018\",\"Jul 11, 2018\",\"Jul 10, 2018\",\"Jul 09, 2018\",\"Jul 06, 2018\",\"Jul 05, 2018\",\"Jul 03, 2018\",\"Jul 02, 2018\",\"Jun 29, 2018\",\"Jun 28, 2018\",\"Jun 27, 2018\",\"Jun 26, 2018\",\"Jun 25, 2018\",\"Jun 22, 2018\",\"Jun 21, 2018\",\"Jun 20, 2018\",\"Jun 19, 2018\",\"Jun 18, 2018\",\"Jun 15, 2018\",\"Jun 14, 2018\",\"Jun 13, 2018\",\"Jun 12, 2018\",\"Jun 11, 2018\",\"Jun 08, 2018\",\"Jun 07, 2018\",\"Jun 06, 2018\",\"Jun 05, 2018\",\"Jun 04, 2018\",\"Jun 01, 2018\",\"May 31, 2018\",\"May 30, 2018\",\"May 29, 2018\",\"May 25, 2018\",\"May 24, 2018\",\"May 23, 2018\",\"May 21, 2018\",\"May 18, 2018\",\"May 17, 2018\",\"May 15, 2018\",\"May 14, 2018\",\"May 11, 2018\",\"May 10, 2018\",\"May 08, 2018\",\"May 07, 2018\",\"May 04, 2018\",\"May 03, 2018\",\"May 02, 2018\",\"May 01, 2018\",\"Apr 30, 2018\",\"Apr 27, 2018\",\"Apr 26, 2018\",\"Apr 25, 2018\",\"Apr 24, 2018\",\"Apr 23, 2018\",\"Apr 20, 2018\",\"Apr 19, 2018\",\"Apr 18, 2018\",\"Apr 17, 2018\",\"Apr 16, 2018\",\"Apr 13, 2018\",\"Apr 12, 2018\",\"Apr 11, 2018\",\"Apr 10, 2018\",\"Apr 09, 2018\",\"Apr 06, 2018\",\"Apr 05, 2018\",\"Apr 04, 2018\",\"Apr 03, 2018\",\"Apr 02, 2018\",\"Mar 29, 2018\",\"Mar 28, 2018\",\"Mar 27, 2018\",\"Mar 26, 2018\",\"Mar 23, 2018\",\"Mar 22, 2018\",\"Mar 21, 2018\",\"Mar 20, 2018\",\"Mar 19, 2018\",\"Mar 16, 2018\",\"Mar 15, 2018\",\"Mar 14, 2018\",\"Mar 13, 2018\",\"Mar 12, 2018\",\"Mar 09, 2018\",\"Mar 08, 2018\",\"Mar 07, 2018\",\"Mar 06, 2018\",\"Mar 05, 2018\",\"Mar 02, 2018\",\"Mar 01, 2018\",\"Feb 28, 2018\",\"Feb 27, 2018\",\"Feb 26, 2018\",\"Feb 23, 2018\",\"Feb 22, 2018\",\"Feb 20, 2018\",\"Feb 16, 2018\",\"Feb 15, 2018\",\"Feb 13, 2018\",\"Feb 12, 2018\",\"Feb 09, 2018\",\"Feb 08, 2018\",\"Feb 06, 2018\",\"Feb 05, 2018\",\"Feb 02, 2018\",\"Feb 01, 2018\",\"Jan 31, 2018\",\"Jan 30, 2018\",\"Jan 29, 2018\",\"Jan 26, 2018\",\"Jan 25, 2018\",\"Jan 24, 2018\",\"Jan 23, 2018\",\"Jan 22, 2018\",\"Jan 19, 2018\",\"Jan 18, 2018\",\"Jan 17, 2018\",\"Jan 16, 2018\",\"Jan 12, 2018\",\"Jan 11, 2018\",\"Jan 10, 2018\",\"Jan 09, 2018\",\"Jan 08, 2018\",\"Jan 05, 2018\",\"Jan 04, 2018\",\"Jan 03, 2018\",\"Jan 02, 2018\",\"Dec 29, 2017\",\"Dec 28, 2017\",\"Dec 27, 2017\",\"Dec 26, 2017\",\"Dec 22, 2017\",\"Dec 21, 2017\",\"Dec 20, 2017\",\"Dec 19, 2017\",\"Dec 18, 2017\",\"Dec 15, 2017\",\"Dec 14, 2017\",\"Dec 13, 2017\",\"Dec 12, 2017\",\"Dec 11, 2017\",\"Dec 08, 2017\",\"Dec 07, 2017\",\"Dec 06, 2017\",\"Dec 05, 2017\",\"Dec 04, 2017\",\"Dec 01, 2017\",\"Nov 30, 2017\",\"Nov 29, 2017\",\"Nov 28, 2017\",\"Nov 27, 2017\",\"Nov 24, 2017\",\"Nov 22, 2017\",\"Nov 20, 2017\",\"Nov 17, 2017\",\"Nov 16, 2017\",\"Nov 14, 2017\",\"Nov 13, 2017\",\"Nov 10, 2017\",\"Nov 09, 2017\",\"Nov 07, 2017\",\"Nov 06, 2017\",\"Nov 03, 2017\",\"Nov 02, 2017\",\"Nov 01, 2017\",\"Oct 31, 2017\",\"Oct 30, 2017\",\"Oct 27, 2017\",\"Oct 26, 2017\",\"Oct 25, 2017\",\"Oct 24, 2017\",\"Oct 23, 2017\",\"Oct 20, 2017\",\"Oct 19, 2017\",\"Oct 18, 2017\",\"Oct 17, 2017\",\"Oct 16, 2017\",\"Oct 13, 2017\",\"Oct 12, 2017\",\"Oct 11, 2017\",\"Oct 10, 2017\",\"Oct 09, 2017\",\"Oct 06, 2017\",\"Oct 05, 2017\",\"Oct 04, 2017\",\"Oct 03, 2017\",\"Oct 02, 2017\",\"Sep 29, 2017\",\"Sep 28, 2017\",\"Sep 27, 2017\",\"Sep 26, 2017\",\"Sep 25, 2017\",\"Sep 22, 2017\",\"Sep 21, 2017\",\"Sep 20, 2017\",\"Sep 19, 2017\",\"Sep 18, 2017\",\"Sep 15, 2017\",\"Sep 14, 2017\",\"Sep 13, 2017\",\"Sep 12, 2017\",\"Sep 11, 2017\",\"Sep 08, 2017\",\"Sep 07, 2017\",\"Sep 06, 2017\",\"Sep 05, 2017\",\"Sep 01, 2017\",\"Aug 31, 2017\",\"Aug 30, 2017\",\"Aug 29, 2017\",\"Aug 28, 2017\",\"Aug 25, 2017\",\"Aug 24, 2017\",\"Aug 23, 2017\",\"Aug 22, 2017\",\"Aug 18, 2017\",\"Aug 17, 2017\",\"Aug 16, 2017\",\"Aug 14, 2017\",\"Aug 11, 2017\",\"Aug 10, 2017\",\"Aug 09, 2017\",\"Aug 07, 2017\",\"Aug 04, 2017\",\"Aug 03, 2017\",\"Aug 02, 2017\",\"Aug 01, 2017\",\"Jul 31, 2017\",\"Jul 28, 2017\",\"Jul 27, 2017\",\"Jul 26, 2017\",\"Jul 25, 2017\",\"Jul 24, 2017\",\"Jul 21, 2017\",\"Jul 20, 2017\",\"Jul 19, 2017\",\"Jul 18, 2017\",\"Jul 17, 2017\",\"Jul 14, 2017\",\"Jul 13, 2017\",\"Jul 12, 2017\",\"Jul 11, 2017\",\"Jul 10, 2017\",\"Jul 07, 2017\",\"Jul 06, 2017\",\"Jul 05, 2017\",\"Jul 03, 2017\",\"Jun 30, 2017\",\"Jun 29, 2017\",\"Jun 28, 2017\",\"Jun 27, 2017\",\"Jun 26, 2017\",\"Jun 23, 2017\",\"Jun 22, 2017\",\"Jun 21, 2017\",\"Jun 20, 2017\",\"Jun 19, 2017\",\"Jun 16, 2017\",\"Jun 15, 2017\",\"Jun 14, 2017\",\"Jun 13, 2017\",\"Jun 12, 2017\",\"Jun 09, 2017\",\"Jun 08, 2017\",\"Jun 07, 2017\",\"Jun 06, 2017\",\"Jun 05, 2017\",\"Jun 02, 2017\",\"Jun 01, 2017\",\"May 31, 2017\",\"May 30, 2017\",\"May 26, 2017\",\"May 25, 2017\",\"May 24, 2017\",\"May 23, 2017\",\"May 22, 2017\",\"May 19, 2017\",\"May 17, 2017\",\"May 15, 2017\",\"May 12, 2017\",\"May 11, 2017\",\"May 10, 2017\",\"May 08, 2017\",\"May 05, 2017\",\"May 04, 2017\",\"May 03, 2017\",\"May 02, 2017\",\"May 01, 2017\",\"Apr 28, 2017\",\"Apr 27, 2017\",\"Apr 26, 2017\",\"Apr 25, 2017\",\"Apr 24, 2017\",\"Apr 21, 2017\",\"Apr 20, 2017\",\"Apr 19, 2017\",\"Apr 18, 2017\",\"Apr 17, 2017\",\"Apr 13, 2017\",\"Apr 12, 2017\",\"Apr 11, 2017\",\"Apr 10, 2017\",\"Apr 07, 2017\",\"Apr 06, 2017\",\"Apr 05, 2017\",\"Apr 04, 2017\",\"Apr 03, 2017\",\"Mar 31, 2017\",\"Mar 30, 2017\",\"Mar 29, 2017\",\"Mar 28, 2017\",\"Mar 27, 2017\",\"Mar 24, 2017\",\"Mar 23, 2017\",\"Mar 22, 2017\",\"Mar 21, 2017\",\"Mar 20, 2017\",\"Mar 17, 2017\",\"Mar 16, 2017\",\"Mar 15, 2017\",\"Mar 14, 2017\",\"Mar 13, 2017\",\"Mar 10, 2017\",\"Mar 09, 2017\",\"Mar 08, 2017\",\"Mar 07, 2017\",\"Mar 06, 2017\",\"Mar 03, 2017\",\"Mar 02, 2017\",\"Mar 01, 2017\",\"Feb 28, 2017\",\"Feb 27, 2017\",\"Feb 24, 2017\",\"Feb 23, 2017\",\"Feb 22, 2017\",\"Feb 17, 2017\",\"Feb 16, 2017\",\"Feb 15, 2017\",\"Feb 13, 2017\",\"Feb 10, 2017\",\"Feb 09, 2017\",\"Feb 08, 2017\",\"Feb 06, 2017\",\"Feb 03, 2017\",\"Feb 02, 2017\",\"Feb 01, 2017\",\"Jan 31, 2017\",\"Jan 30, 2017\",\"Jan 27, 2017\",\"Jan 26, 2017\",\"Jan 25, 2017\",\"Jan 24, 2017\",\"Jan 23, 2017\",\"Jan 20, 2017\",\"Jan 19, 2017\",\"Jan 18, 2017\",\"Jan 17, 2017\",\"Jan 13, 2017\",\"Jan 12, 2017\",\"Jan 11, 2017\",\"Jan 10, 2017\",\"Jan 09, 2017\",\"Jan 06, 2017\",\"Jan 05, 2017\",\"Jan 04, 2017\",\"Jan 03, 2017\",\"Dec 30, 2016\",\"Dec 29, 2016\",\"Dec 28, 2016\",\"Dec 27, 2016\",\"Dec 23, 2016\",\"Dec 22, 2016\",\"Dec 21, 2016\",\"Dec 20, 2016\",\"Dec 19, 2016\",\"Dec 16, 2016\",\"Dec 15, 2016\",\"Dec 14, 2016\",\"Dec 13, 2016\",\"Dec 12, 2016\",\"Dec 09, 2016\",\"Dec 08, 2016\",\"Dec 07, 2016\",\"Dec 06, 2016\",\"Dec 05, 2016\",\"Dec 02, 2016\",\"Dec 01, 2016\",\"Nov 30, 2016\",\"Nov 29, 2016\",\"Nov 28, 2016\",\"Nov 25, 2016\",\"Nov 23, 2016\",\"Nov 21, 2016\",\"Nov 18, 2016\",\"Nov 17, 2016\",\"Nov 16, 2016\",\"Nov 14, 2016\",\"Nov 11, 2016\",\"Nov 10, 2016\",\"Nov 09, 2016\",\"Nov 08, 2016\",\"Nov 07, 2016\",\"Nov 04, 2016\",\"Nov 03, 2016\",\"Nov 01, 2016\",\"Oct 31, 2016\",\"Oct 28, 2016\",\"Oct 27, 2016\",\"Oct 26, 2016\",\"Oct 25, 2016\",\"Oct 24, 2016\",\"Oct 21, 2016\",\"Oct 20, 2016\",\"Oct 19, 2016\",\"Oct 18, 2016\",\"Oct 17, 2016\",\"Oct 14, 2016\",\"Oct 13, 2016\",\"Oct 12, 2016\",\"Oct 11, 2016\",\"Oct 10, 2016\",\"Oct 07, 2016\",\"Oct 06, 2016\",\"Oct 05, 2016\",\"Oct 04, 2016\",\"Oct 03, 2016\",\"Sep 30, 2016\",\"Sep 29, 2016\",\"Sep 28, 2016\",\"Sep 27, 2016\",\"Sep 26, 2016\",\"Sep 23, 2016\",\"Sep 22, 2016\",\"Sep 21, 2016\",\"Sep 20, 2016\",\"Sep 19, 2016\",\"Sep 16, 2016\",\"Sep 15, 2016\",\"Sep 14, 2016\",\"Sep 13, 2016\",\"Sep 12, 2016\",\"Sep 09, 2016\",\"Sep 08, 2016\",\"Sep 07, 2016\",\"Sep 06, 2016\",\"Sep 02, 2016\",\"Sep 01, 2016\",\"Aug 31, 2016\",\"Aug 30, 2016\",\"Aug 29, 2016\",\"Aug 26, 2016\",\"Aug 25, 2016\",\"Aug 24, 2016\",\"Aug 23, 2016\",\"Aug 19, 2016\",\"Aug 18, 2016\",\"Aug 17, 2016\",\"Aug 15, 2016\",\"Aug 12, 2016\",\"Aug 11, 2016\",\"Aug 10, 2016\",\"Aug 09, 2016\",\"Aug 08, 2016\",\"Aug 05, 2016\",\"Aug 04, 2016\",\"Aug 03, 2016\",\"Aug 02, 2016\",\"Aug 01, 2016\",\"Jul 29, 2016\",\"Jul 28, 2016\",\"Jul 27, 2016\",\"Jul 26, 2016\",\"Jul 25, 2016\",\"Jul 22, 2016\",\"Jul 21, 2016\",\"Jul 20, 2016\",\"Jul 19, 2016\",\"Jul 18, 2016\",\"Jul 15, 2016\",\"Jul 14, 2016\",\"Jul 13, 2016\",\"Jul 12, 2016\",\"Jul 11, 2016\",\"Jul 08, 2016\",\"Jul 07, 2016\",\"Jul 06, 2016\",\"Jul 05, 2016\",\"Jul 01, 2016\",\"Jun 30, 2016\",\"Jun 29, 2016\",\"Jun 28, 2016\",\"Jun 27, 2016\",\"Jun 24, 2016\",\"Jun 23, 2016\",\"Jun 22, 2016\",\"Jun 21, 2016\",\"Jun 20, 2016\",\"Jun 17, 2016\",\"Jun 16, 2016\",\"Jun 15, 2016\",\"Jun 14, 2016\",\"Jun 13, 2016\",\"Jun 10, 2016\",\"Jun 09, 2016\",\"Jun 08, 2016\",\"Jun 07, 2016\",\"Jun 06, 2016\",\"Jun 03, 2016\",\"Jun 02, 2016\",\"Jun 01, 2016\",\"May 31, 2016\",\"May 27, 2016\",\"May 26, 2016\",\"May 25, 2016\",\"May 24, 2016\",\"May 20, 2016\",\"May 19, 2016\",\"May 18, 2016\",\"May 16, 2016\",\"May 13, 2016\",\"May 12, 2016\",\"May 11, 2016\",\"May 10, 2016\",\"May 09, 2016\",\"May 06, 2016\",\"May 05, 2016\",\"May 04, 2016\",\"May 03, 2016\",\"May 02, 2016\",\"Apr 29, 2016\",\"Apr 28, 2016\",\"Apr 27, 2016\",\"Apr 26, 2016\",\"Apr 25, 2016\",\"Apr 22, 2016\",\"Apr 21, 2016\",\"Apr 20, 2016\",\"Apr 19, 2016\",\"Apr 18, 2016\",\"Apr 15, 2016\",\"Apr 14, 2016\",\"Apr 13, 2016\",\"Apr 12, 2016\",\"Apr 11, 2016\",\"Apr 08, 2016\",\"Apr 07, 2016\",\"Apr 06, 2016\",\"Apr 05, 2016\",\"Apr 04, 2016\",\"Apr 01, 2016\",\"Mar 31, 2016\",\"Mar 30, 2016\",\"Mar 29, 2016\",\"Mar 28, 2016\",\"Mar 24, 2016\",\"Mar 23, 2016\",\"Mar 22, 2016\",\"Mar 21, 2016\",\"Mar 18, 2016\",\"Mar 17, 2016\",\"Mar 16, 2016\",\"Mar 15, 2016\",\"Mar 14, 2016\",\"Mar 11, 2016\",\"Mar 10, 2016\",\"Mar 09, 2016\",\"Mar 08, 2016\",\"Mar 07, 2016\",\"Mar 04, 2016\",\"Mar 03, 2016\",\"Mar 02, 2016\",\"Mar 01, 2016\",\"Feb 29, 2016\",\"Feb 25, 2016\",\"Feb 24, 2016\",\"Feb 23, 2016\",\"Feb 22, 2016\",\"Feb 19, 2016\",\"Feb 18, 2016\",\"Feb 17, 2016\",\"Feb 12, 2016\",\"Feb 11, 2016\",\"Feb 10, 2016\",\"Feb 09, 2016\",\"Feb 08, 2016\",\"Feb 05, 2016\",\"Feb 04, 2016\",\"Feb 03, 2016\",\"Feb 02, 2016\",\"Feb 01, 2016\",\"Jan 29, 2016\",\"Jan 28, 2016\",\"Jan 27, 2016\",\"Jan 26, 2016\",\"Jan 25, 2016\",\"Jan 22, 2016\",\"Jan 21, 2016\",\"Jan 20, 2016\",\"Jan 19, 2016\",\"Jan 15, 2016\",\"Jan 14, 2016\",\"Jan 13, 2016\",\"Jan 12, 2016\",\"Jan 11, 2016\",\"Jan 08, 2016\",\"Jan 07, 2016\",\"Jan 06, 2016\",\"Jan 05, 2016\",\"Jan 04, 2016\",\"Dec 31, 2015\",\"Dec 30, 2015\",\"Dec 29, 2015\",\"Dec 28, 2015\",\"Dec 24, 2015\",\"Dec 23, 2015\",\"Dec 22, 2015\",\"Dec 21, 2015\",\"Dec 18, 2015\",\"Dec 17, 2015\",\"Dec 16, 2015\",\"Dec 15, 2015\",\"Dec 14, 2015\",\"Dec 11, 2015\",\"Dec 10, 2015\",\"Dec 09, 2015\",\"Dec 08, 2015\",\"Dec 07, 2015\",\"Dec 04, 2015\",\"Dec 03, 2015\",\"Dec 02, 2015\",\"Dec 01, 2015\",\"Nov 30, 2015\",\"Nov 27, 2015\",\"Nov 25, 2015\",\"Nov 24, 2015\",\"Nov 23, 2015\",\"Nov 20, 2015\",\"Nov 19, 2015\",\"Nov 18, 2015\",\"Nov 16, 2015\",\"Nov 13, 2015\",\"Nov 12, 2015\",\"Nov 11, 2015\",\"Nov 10, 2015\",\"Nov 09, 2015\",\"Nov 06, 2015\",\"Nov 05, 2015\",\"Nov 04, 2015\",\"Nov 03, 2015\",\"Nov 02, 2015\",\"Oct 30, 2015\",\"Oct 29, 2015\",\"Oct 28, 2015\",\"Oct 27, 2015\",\"Oct 26, 2015\",\"Oct 23, 2015\",\"Oct 22, 2015\",\"Oct 21, 2015\",\"Oct 20, 2015\",\"Oct 19, 2015\",\"Oct 16, 2015\",\"Oct 15, 2015\",\"Oct 14, 2015\",\"Oct 13, 2015\",\"Oct 12, 2015\",\"Oct 09, 2015\",\"Oct 08, 2015\",\"Oct 07, 2015\",\"Oct 06, 2015\",\"Oct 05, 2015\",\"Oct 02, 2015\",\"Oct 01, 2015\",\"Sep 30, 2015\",\"Sep 29, 2015\",\"Sep 28, 2015\",\"Sep 25, 2015\",\"Sep 24, 2015\",\"Sep 23, 2015\",\"Sep 22, 2015\",\"Sep 21, 2015\",\"Sep 18, 2015\",\"Sep 17, 2015\",\"Sep 16, 2015\",\"Sep 15, 2015\",\"Sep 14, 2015\",\"Sep 11, 2015\",\"Sep 10, 2015\",\"Sep 09, 2015\",\"Sep 08, 2015\",\"Sep 04, 2015\",\"Sep 03, 2015\",\"Sep 02, 2015\",\"Sep 01, 2015\",\"Aug 31, 2015\",\"Aug 28, 2015\",\"Aug 27, 2015\",\"Aug 26, 2015\",\"Aug 25, 2015\",\"Aug 24, 2015\",\"Aug 21, 2015\",\"Aug 20, 2015\",\"Aug 19, 2015\",\"Aug 14, 2015\",\"Aug 13, 2015\",\"Aug 12, 2015\",\"Aug 11, 2015\",\"Aug 10, 2015\",\"Aug 07, 2015\",\"Aug 06, 2015\",\"Aug 05, 2015\",\"Aug 04, 2015\",\"Aug 03, 2015\",\"Jul 31, 2015\",\"Jul 30, 2015\",\"Jul 29, 2015\",\"Jul 28, 2015\",\"Jul 27, 2015\",\"Jul 24, 2015\",\"Jul 23, 2015\",\"Jul 22, 2015\",\"Jul 21, 2015\",\"Jul 20, 2015\",\"Jul 17, 2015\",\"Jul 16, 2015\",\"Jul 15, 2015\",\"Jul 14, 2015\",\"Jul 13, 2015\",\"Jul 10, 2015\",\"Jul 09, 2015\",\"Jul 08, 2015\",\"Jul 07, 2015\",\"Jul 06, 2015\",\"Jul 02, 2015\",\"Jul 01, 2015\",\"Jun 30, 2015\",\"Jun 29, 2015\",\"Jun 26, 2015\",\"Jun 25, 2015\",\"Jun 24, 2015\",\"Jun 23, 2015\",\"Jun 22, 2015\",\"Jun 19, 2015\",\"Jun 18, 2015\",\"Jun 17, 2015\",\"Jun 16, 2015\",\"Jun 15, 2015\",\"Jun 12, 2015\",\"Jun 11, 2015\",\"Jun 10, 2015\",\"Jun 09, 2015\",\"Jun 08, 2015\",\"Jun 05, 2015\",\"Jun 04, 2015\",\"Jun 03, 2015\",\"Jun 02, 2015\",\"Jun 01, 2015\",\"May 29, 2015\",\"May 28, 2015\",\"May 27, 2015\",\"May 26, 2015\",\"May 22, 2015\",\"May 21, 2015\",\"May 20, 2015\",\"May 15, 2015\",\"May 14, 2015\",\"May 13, 2015\",\"May 12, 2015\",\"May 11, 2015\",\"May 08, 2015\",\"May 07, 2015\",\"May 06, 2015\",\"May 04, 2015\",\"May 01, 2015\",\"Apr 30, 2015\",\"Apr 29, 2015\",\"Apr 28, 2015\",\"Apr 27, 2015\",\"Apr 24, 2015\",\"Apr 23, 2015\",\"Apr 22, 2015\",\"Apr 21, 2015\",\"Apr 20, 2015\",\"Apr 17, 2015\",\"Apr 16, 2015\",\"Apr 15, 2015\",\"Apr 14, 2015\",\"Apr 13, 2015\",\"Apr 10, 2015\",\"Apr 09, 2015\",\"Apr 08, 2015\",\"Apr 07, 2015\",\"Apr 06, 2015\",\"Apr 02, 2015\",\"Apr 01, 2015\",\"Mar 31, 2015\",\"Mar 30, 2015\",\"Mar 27, 2015\",\"Mar 26, 2015\",\"Mar 25, 2015\",\"Mar 24, 2015\",\"Mar 23, 2015\",\"Mar 20, 2015\",\"Mar 19, 2015\",\"Mar 18, 2015\",\"Mar 17, 2015\",\"Mar 16, 2015\",\"Mar 13, 2015\",\"Mar 12, 2015\",\"Mar 11, 2015\",\"Mar 10, 2015\",\"Mar 09, 2015\",\"Mar 06, 2015\",\"Mar 05, 2015\",\"Mar 04, 2015\",\"Mar 03, 2015\",\"Mar 02, 2015\",\"Feb 27, 2015\",\"Feb 26, 2015\",\"Feb 25, 2015\",\"Feb 24, 2015\",\"Feb 20, 2015\",\"Feb 19, 2015\",\"Feb 18, 2015\",\"Feb 13, 2015\",\"Feb 12, 2015\",\"Feb 11, 2015\",\"Feb 10, 2015\",\"Feb 09, 2015\",\"Feb 06, 2015\",\"Feb 05, 2015\",\"Feb 04, 2015\",\"Feb 03, 2015\",\"Feb 02, 2015\",\"Jan 30, 2015\",\"Jan 29, 2015\",\"Jan 28, 2015\",\"Jan 27, 2015\",\"Jan 26, 2015\",\"Jan 23, 2015\",\"Jan 22, 2015\",\"Jan 21, 2015\",\"Jan 20, 2015\",\"Jan 16, 2015\",\"Jan 15, 2015\",\"Jan 14, 2015\",\"Jan 13, 2015\",\"Jan 12, 2015\",\"Jan 09, 2015\",\"Jan 08, 2015\",\"Jan 07, 2015\",\"Jan 06, 2015\",\"Jan 05, 2015\",\"Jan 02, 2015\",\"Dec 31, 2014\",\"Dec 30, 2014\",\"Dec 29, 2014\",\"Dec 26, 2014\",\"Dec 24, 2014\",\"Dec 23, 2014\",\"Dec 22, 2014\",\"Dec 19, 2014\",\"Dec 18, 2014\",\"Dec 17, 2014\",\"Dec 16, 2014\",\"Dec 15, 2014\",\"Dec 12, 2014\",\"Dec 11, 2014\",\"Dec 10, 2014\",\"Dec 09, 2014\",\"Dec 08, 2014\",\"Dec 05, 2014\",\"Dec 04, 2014\",\"Dec 03, 2014\",\"Dec 02, 2014\",\"Dec 01, 2014\",\"Nov 28, 2014\",\"Nov 26, 2014\",\"Nov 25, 2014\",\"Nov 24, 2014\",\"Nov 21, 2014\",\"Nov 20, 2014\",\"Nov 19, 2014\",\"Nov 17, 2014\",\"Nov 14, 2014\",\"Nov 13, 2014\",\"Nov 12, 2014\",\"Nov 11, 2014\",\"Nov 10, 2014\",\"Nov 07, 2014\",\"Nov 06, 2014\",\"Nov 05, 2014\",\"Nov 04, 2014\",\"Nov 03, 2014\",\"Oct 31, 2014\",\"Oct 30, 2014\",\"Oct 29, 2014\",\"Oct 28, 2014\",\"Oct 27, 2014\",\"Oct 24, 2014\",\"Oct 23, 2014\",\"Oct 22, 2014\",\"Oct 21, 2014\",\"Oct 20, 2014\",\"Oct 17, 2014\",\"Oct 16, 2014\",\"Oct 15, 2014\",\"Oct 14, 2014\",\"Oct 13, 2014\",\"Oct 10, 2014\",\"Oct 09, 2014\",\"Oct 08, 2014\",\"Oct 07, 2014\",\"Oct 06, 2014\",\"Oct 03, 2014\",\"Oct 02, 2014\",\"Oct 01, 2014\",\"Sep 30, 2014\",\"Sep 29, 2014\",\"Sep 26, 2014\",\"Sep 25, 2014\",\"Sep 24, 2014\",\"Sep 23, 2014\",\"Sep 22, 2014\",\"Sep 19, 2014\",\"Sep 18, 2014\",\"Sep 17, 2014\",\"Sep 16, 2014\",\"Sep 15, 2014\",\"Sep 12, 2014\",\"Sep 11, 2014\",\"Sep 10, 2014\",\"Sep 09, 2014\",\"Sep 08, 2014\",\"Sep 05, 2014\",\"Sep 04, 2014\",\"Sep 03, 2014\",\"Sep 02, 2014\",\"Aug 29, 2014\",\"Aug 28, 2014\",\"Aug 27, 2014\",\"Aug 26, 2014\",\"Aug 25, 2014\",\"Aug 22, 2014\",\"Aug 21, 2014\",\"Aug 20, 2014\",\"Aug 15, 2014\",\"Aug 14, 2014\",\"Aug 13, 2014\",\"Aug 12, 2014\",\"Aug 11, 2014\",\"Aug 08, 2014\",\"Aug 07, 2014\",\"Aug 06, 2014\",\"Aug 04, 2014\",\"Aug 01, 2014\",\"Jul 31, 2014\",\"Jul 30, 2014\",\"Jul 29, 2014\",\"Jul 28, 2014\",\"Jul 25, 2014\",\"Jul 24, 2014\",\"Jul 23, 2014\",\"Jul 22, 2014\",\"Jul 21, 2014\",\"Jul 18, 2014\",\"Jul 17, 2014\",\"Jul 16, 2014\",\"Jul 15, 2014\",\"Jul 14, 2014\",\"Jul 11, 2014\",\"Jul 10, 2014\",\"Jul 09, 2014\",\"Jul 08, 2014\",\"Jul 07, 2014\",\"Jul 03, 2014\",\"Jul 02, 2014\",\"Jul 01, 2014\",\"Jun 30, 2014\",\"Jun 27, 2014\",\"Jun 26, 2014\",\"Jun 25, 2014\",\"Jun 24, 2014\",\"Jun 23, 2014\",\"Jun 20, 2014\",\"Jun 19, 2014\",\"Jun 18, 2014\",\"Jun 17, 2014\",\"Jun 16, 2014\",\"Jun 13, 2014\",\"Jun 12, 2014\",\"Jun 11, 2014\",\"Jun 10, 2014\",\"Jun 09, 2014\",\"Jun 06, 2014\",\"Jun 04, 2014\",\"Jun 03, 2014\",\"Jun 02, 2014\",\"May 30, 2014\",\"May 29, 2014\",\"May 28, 2014\",\"May 27, 2014\",\"May 23, 2014\",\"May 22, 2014\",\"May 21, 2014\",\"May 20, 2014\",\"May 16, 2014\",\"May 15, 2014\",\"May 14, 2014\",\"May 12, 2014\",\"May 09, 2014\",\"May 08, 2014\",\"May 07, 2014\",\"May 06, 2014\",\"May 02, 2014\",\"May 01, 2014\",\"Apr 30, 2014\",\"Apr 29, 2014\",\"Apr 28, 2014\",\"Apr 25, 2014\",\"Apr 24, 2014\",\"Apr 23, 2014\",\"Apr 22, 2014\",\"Apr 21, 2014\",\"Apr 17, 2014\",\"Apr 16, 2014\",\"Apr 15, 2014\",\"Apr 14, 2014\",\"Apr 11, 2014\",\"Apr 10, 2014\",\"Apr 09, 2014\",\"Apr 08, 2014\",\"Apr 07, 2014\",\"Apr 04, 2014\",\"Apr 03, 2014\",\"Apr 02, 2014\",\"Apr 01, 2014\",\"Mar 31, 2014\",\"Mar 28, 2014\",\"Mar 27, 2014\",\"Mar 26, 2014\",\"Mar 25, 2014\",\"Mar 24, 2014\",\"Mar 21, 2014\",\"Mar 20, 2014\",\"Mar 19, 2014\",\"Mar 18, 2014\",\"Mar 17, 2014\",\"Mar 14, 2014\",\"Mar 13, 2014\",\"Mar 12, 2014\",\"Mar 11, 2014\",\"Mar 10, 2014\",\"Mar 07, 2014\",\"Mar 06, 2014\",\"Mar 05, 2014\",\"Mar 04, 2014\",\"Mar 03, 2014\",\"Feb 28, 2014\",\"Feb 27, 2014\",\"Feb 26, 2014\",\"Feb 25, 2014\",\"Feb 21, 2014\",\"Feb 20, 2014\",\"Feb 19, 2014\",\"Feb 14, 2014\",\"Feb 13, 2014\",\"Feb 12, 2014\",\"Feb 11, 2014\",\"Feb 10, 2014\",\"Feb 07, 2014\",\"Feb 06, 2014\",\"Feb 05, 2014\",\"Feb 03, 2014\",\"Jan 31, 2014\",\"Jan 30, 2014\",\"Jan 29, 2014\",\"Jan 28, 2014\",\"Jan 27, 2014\",\"Jan 24, 2014\",\"Jan 23, 2014\",\"Jan 22, 2014\",\"Jan 21, 2014\",\"Jan 17, 2014\",\"Jan 16, 2014\",\"Jan 15, 2014\",\"Jan 14, 2014\",\"Jan 13, 2014\",\"Jan 10, 2014\",\"Jan 09, 2014\",\"Jan 08, 2014\",\"Jan 07, 2014\",\"Jan 06, 2014\",\"Jan 03, 2014\",\"Jan 02, 2014\",\"Dec 31, 2013\",\"Dec 30, 2013\",\"Dec 27, 2013\",\"Dec 26, 2013\",\"Dec 24, 2013\",\"Dec 23, 2013\",\"Dec 20, 2013\",\"Dec 19, 2013\",\"Dec 18, 2013\",\"Dec 17, 2013\",\"Dec 16, 2013\",\"Dec 13, 2013\",\"Dec 12, 2013\",\"Dec 11, 2013\",\"Dec 10, 2013\",\"Dec 09, 2013\",\"Dec 06, 2013\",\"Dec 05, 2013\",\"Dec 04, 2013\",\"Dec 03, 2013\",\"Dec 02, 2013\",\"Nov 29, 2013\",\"Nov 27, 2013\",\"Nov 26, 2013\",\"Nov 25, 2013\",\"Nov 22, 2013\",\"Nov 21, 2013\",\"Nov 20, 2013\",\"Nov 15, 2013\",\"Nov 14, 2013\",\"Nov 13, 2013\",\"Nov 12, 2013\",\"Nov 11, 2013\",\"Nov 08, 2013\",\"Nov 07, 2013\",\"Nov 06, 2013\",\"Nov 05, 2013\",\"Nov 01, 2013\",\"Oct 31, 2013\",\"Oct 30, 2013\",\"Oct 29, 2013\",\"Oct 28, 2013\",\"Oct 25, 2013\",\"Oct 24, 2013\",\"Oct 23, 2013\",\"Oct 22, 2013\",\"Oct 21, 2013\",\"Oct 18, 2013\",\"Oct 17, 2013\",\"Oct 16, 2013\",\"Oct 15, 2013\",\"Oct 14, 2013\",\"Oct 11, 2013\",\"Oct 10, 2013\",\"Oct 09, 2013\",\"Oct 08, 2013\",\"Oct 07, 2013\",\"Oct 04, 2013\",\"Oct 03, 2013\",\"Oct 02, 2013\",\"Oct 01, 2013\",\"Sep 30, 2013\",\"Sep 27, 2013\",\"Sep 26, 2013\",\"Sep 25, 2013\",\"Sep 24, 2013\",\"Sep 23, 2013\",\"Sep 20, 2013\",\"Sep 19, 2013\",\"Sep 18, 2013\",\"Sep 17, 2013\",\"Sep 16, 2013\",\"Sep 13, 2013\",\"Sep 12, 2013\",\"Sep 11, 2013\",\"Sep 10, 2013\",\"Sep 09, 2013\",\"Sep 06, 2013\",\"Sep 05, 2013\",\"Sep 04, 2013\",\"Sep 03, 2013\",\"Aug 30, 2013\",\"Aug 29, 2013\",\"Aug 28, 2013\",\"Aug 27, 2013\",\"Aug 26, 2013\",\"Aug 23, 2013\",\"Aug 22, 2013\",\"Aug 21, 2013\",\"Aug 20, 2013\",\"Aug 16, 2013\",\"Aug 15, 2013\",\"Aug 14, 2013\",\"Aug 12, 2013\",\"Aug 09, 2013\",\"Aug 08, 2013\",\"Aug 07, 2013\",\"Aug 06, 2013\",\"Aug 02, 2013\",\"Aug 01, 2013\",\"Jul 31, 2013\",\"Jul 30, 2013\",\"Jul 29, 2013\",\"Jul 26, 2013\",\"Jul 25, 2013\",\"Jul 24, 2013\",\"Jul 23, 2013\",\"Jul 22, 2013\",\"Jul 19, 2013\",\"Jul 18, 2013\",\"Jul 17, 2013\",\"Jul 16, 2013\",\"Jul 15, 2013\",\"Jul 12, 2013\",\"Jul 11, 2013\",\"Jul 10, 2013\",\"Jul 09, 2013\",\"Jul 08, 2013\",\"Jul 05, 2013\",\"Jul 03, 2013\",\"Jul 02, 2013\",\"Jul 01, 2013\",\"Jun 28, 2013\",\"Jun 27, 2013\",\"Jun 26, 2013\",\"Jun 25, 2013\",\"Jun 24, 2013\",\"Jun 21, 2013\",\"Jun 20, 2013\",\"Jun 19, 2013\",\"Jun 18, 2013\",\"Jun 17, 2013\",\"Jun 14, 2013\",\"Jun 13, 2013\",\"Jun 12, 2013\",\"Jun 11, 2013\",\"Jun 10, 2013\",\"Jun 07, 2013\",\"Jun 06, 2013\",\"Jun 05, 2013\",\"Jun 04, 2013\",\"Jun 03, 2013\",\"May 31, 2013\",\"May 30, 2013\",\"May 29, 2013\",\"May 28, 2013\",\"May 24, 2013\",\"May 23, 2013\",\"May 22, 2013\",\"May 21, 2013\",\"May 17, 2013\",\"May 16, 2013\",\"May 15, 2013\",\"May 13, 2013\",\"May 10, 2013\",\"May 09, 2013\",\"May 08, 2013\",\"May 07, 2013\",\"May 03, 2013\",\"May 02, 2013\",\"May 01, 2013\",\"Apr 30, 2013\",\"Apr 29, 2013\",\"Apr 26, 2013\",\"Apr 25, 2013\",\"Apr 24, 2013\",\"Apr 23, 2013\",\"Apr 22, 2013\",\"Apr 19, 2013\",\"Apr 18, 2013\",\"Apr 17, 2013\",\"Apr 16, 2013\",\"Apr 15, 2013\",\"Apr 12, 2013\",\"Apr 11, 2013\",\"Apr 10, 2013\",\"Apr 09, 2013\",\"Apr 08, 2013\",\"Apr 05, 2013\",\"Apr 04, 2013\",\"Apr 03, 2013\",\"Apr 02, 2013\",\"Apr 01, 2013\",\"Mar 28, 2013\",\"Mar 27, 2013\",\"Mar 26, 2013\",\"Mar 25, 2013\",\"Mar 22, 2013\",\"Mar 21, 2013\",\"Mar 20, 2013\",\"Mar 19, 2013\",\"Mar 18, 2013\",\"Mar 15, 2013\",\"Mar 14, 2013\",\"Mar 13, 2013\",\"Mar 12, 2013\",\"Mar 11, 2013\",\"Mar 08, 2013\",\"Mar 07, 2013\",\"Mar 06, 2013\",\"Mar 05, 2013\",\"Mar 04, 2013\",\"Mar 01, 2013\",\"Feb 28, 2013\",\"Feb 27, 2013\",\"Feb 26, 2013\",\"Feb 22, 2013\",\"Feb 21, 2013\",\"Feb 20, 2013\",\"Feb 15, 2013\",\"Feb 14, 2013\",\"Feb 13, 2013\",\"Feb 12, 2013\",\"Feb 11, 2013\",\"Feb 08, 2013\",\"Feb 07, 2013\",\"Feb 06, 2013\",\"Feb 05, 2013\",\"Feb 04, 2013\",\"Feb 01, 2013\",\"Jan 31, 2013\",\"Jan 30, 2013\",\"Jan 29, 2013\",\"Jan 28, 2013\",\"Jan 25, 2013\",\"Jan 24, 2013\",\"Jan 23, 2013\",\"Jan 22, 2013\",\"Jan 18, 2013\",\"Jan 17, 2013\",\"Jan 16, 2013\",\"Jan 15, 2013\",\"Jan 14, 2013\",\"Jan 11, 2013\",\"Jan 10, 2013\",\"Jan 09, 2013\",\"Jan 08, 2013\",\"Jan 07, 2013\",\"Jan 04, 2013\",\"Jan 03, 2013\",\"Jan 02, 2013\",\"Dec 31, 2012\",\"Dec 28, 2012\",\"Dec 27, 2012\",\"Dec 26, 2012\",\"Dec 24, 2012\",\"Dec 21, 2012\",\"Dec 20, 2012\",\"Dec 19, 2012\",\"Dec 18, 2012\",\"Dec 17, 2012\",\"Dec 14, 2012\",\"Dec 13, 2012\",\"Dec 12, 2012\",\"Dec 11, 2012\",\"Dec 10, 2012\",\"Dec 07, 2012\",\"Dec 06, 2012\",\"Dec 05, 2012\",\"Dec 04, 2012\",\"Dec 03, 2012\",\"Nov 30, 2012\",\"Nov 29, 2012\",\"Nov 28, 2012\",\"Nov 27, 2012\",\"Nov 26, 2012\",\"Nov 23, 2012\",\"Nov 21, 2012\",\"Nov 20, 2012\",\"Nov 16, 2012\",\"Nov 15, 2012\",\"Nov 14, 2012\",\"Nov 12, 2012\",\"Nov 09, 2012\",\"Nov 08, 2012\",\"Nov 07, 2012\",\"Nov 06, 2012\",\"Nov 05, 2012\",\"Nov 02, 2012\",\"Nov 01, 2012\",\"Oct 31, 2012\",\"Oct 26, 2012\",\"Oct 25, 2012\",\"Oct 24, 2012\",\"Oct 23, 2012\",\"Oct 22, 2012\",\"Oct 19, 2012\",\"Oct 18, 2012\",\"Oct 17, 2012\",\"Oct 16, 2012\",\"Oct 15, 2012\",\"Oct 12, 2012\",\"Oct 11, 2012\",\"Oct 10, 2012\",\"Oct 09, 2012\",\"Oct 08, 2012\",\"Oct 05, 2012\",\"Oct 04, 2012\",\"Oct 03, 2012\",\"Oct 02, 2012\",\"Oct 01, 2012\",\"Sep 28, 2012\",\"Sep 27, 2012\",\"Sep 26, 2012\",\"Sep 25, 2012\",\"Sep 24, 2012\",\"Sep 21, 2012\",\"Sep 20, 2012\",\"Sep 19, 2012\",\"Sep 18, 2012\",\"Sep 17, 2012\",\"Sep 14, 2012\",\"Sep 13, 2012\",\"Sep 12, 2012\",\"Sep 11, 2012\",\"Sep 10, 2012\",\"Sep 07, 2012\",\"Sep 06, 2012\",\"Sep 05, 2012\",\"Sep 04, 2012\",\"Aug 31, 2012\",\"Aug 30, 2012\",\"Aug 29, 2012\",\"Aug 28, 2012\",\"Aug 27, 2012\",\"Aug 24, 2012\",\"Aug 23, 2012\",\"Aug 22, 2012\",\"Aug 21, 2012\",\"Aug 20, 2012\",\"Aug 17, 2012\",\"Aug 16, 2012\",\"Aug 15, 2012\",\"Aug 13, 2012\",\"Aug 10, 2012\",\"Aug 09, 2012\",\"Aug 08, 2012\",\"Aug 07, 2012\",\"Aug 03, 2012\",\"Aug 02, 2012\",\"Aug 01, 2012\",\"Jul 31, 2012\",\"Jul 30, 2012\",\"Jul 27, 2012\",\"Jul 26, 2012\",\"Jul 25, 2012\",\"Jul 24, 2012\",\"Jul 23, 2012\",\"Jul 20, 2012\",\"Jul 19, 2012\",\"Jul 18, 2012\",\"Jul 17, 2012\",\"Jul 16, 2012\",\"Jul 13, 2012\",\"Jul 12, 2012\",\"Jul 11, 2012\",\"Jul 10, 2012\",\"Jul 09, 2012\",\"Jul 06, 2012\",\"Jul 05, 2012\",\"Jul 03, 2012\",\"Jul 02, 2012\",\"Jun 29, 2012\",\"Jun 28, 2012\",\"Jun 27, 2012\",\"Jun 26, 2012\",\"Jun 25, 2012\",\"Jun 22, 2012\",\"Jun 21, 2012\",\"Jun 20, 2012\",\"Jun 19, 2012\",\"Jun 18, 2012\",\"Jun 15, 2012\",\"Jun 14, 2012\",\"Jun 13, 2012\",\"Jun 12, 2012\",\"Jun 11, 2012\",\"Jun 08, 2012\",\"Jun 07, 2012\",\"Jun 06, 2012\",\"Jun 05, 2012\",\"Jun 04, 2012\",\"Jun 01, 2012\",\"May 31, 2012\",\"May 30, 2012\",\"May 29, 2012\",\"May 25, 2012\",\"May 24, 2012\",\"May 23, 2012\",\"May 22, 2012\",\"May 21, 2012\",\"May 18, 2012\",\"May 17, 2012\",\"May 16, 2012\",\"May 14, 2012\",\"May 11, 2012\",\"May 10, 2012\",\"May 09, 2012\",\"May 08, 2012\",\"May 07, 2012\",\"May 04, 2012\",\"May 03, 2012\",\"May 02, 2012\",\"May 01, 2012\",\"Apr 30, 2012\",\"Apr 27, 2012\",\"Apr 26, 2012\",\"Apr 25, 2012\",\"Apr 24, 2012\",\"Apr 23, 2012\",\"Apr 20, 2012\",\"Apr 19, 2012\",\"Apr 18, 2012\",\"Apr 17, 2012\",\"Apr 16, 2012\",\"Apr 13, 2012\",\"Apr 12, 2012\",\"Apr 11, 2012\",\"Apr 10, 2012\",\"Apr 09, 2012\",\"Apr 05, 2012\",\"Apr 04, 2012\",\"Apr 03, 2012\",\"Apr 02, 2012\",\"Mar 30, 2012\",\"Mar 29, 2012\",\"Mar 28, 2012\",\"Mar 27, 2012\",\"Mar 26, 2012\",\"Mar 23, 2012\",\"Mar 22, 2012\",\"Mar 21, 2012\",\"Mar 20, 2012\",\"Mar 19, 2012\",\"Mar 16, 2012\",\"Mar 15, 2012\",\"Mar 14, 2012\",\"Mar 13, 2012\",\"Mar 12, 2012\",\"Mar 09, 2012\",\"Mar 08, 2012\",\"Mar 07, 2012\",\"Mar 06, 2012\",\"Mar 05, 2012\",\"Mar 02, 2012\",\"Mar 01, 2012\",\"Feb 29, 2012\",\"Feb 28, 2012\",\"Feb 27, 2012\",\"Feb 24, 2012\",\"Feb 23, 2012\",\"Feb 22, 2012\",\"Feb 21, 2012\",\"Feb 17, 2012\",\"Feb 16, 2012\",\"Feb 15, 2012\",\"Feb 13, 2012\",\"Feb 10, 2012\",\"Feb 09, 2012\",\"Feb 08, 2012\",\"Feb 07, 2012\",\"Feb 06, 2012\",\"Feb 03, 2012\",\"Feb 02, 2012\",\"Feb 01, 2012\",\"Jan 31, 2012\",\"Jan 30, 2012\",\"Jan 27, 2012\",\"Jan 26, 2012\",\"Jan 25, 2012\",\"Jan 24, 2012\",\"Jan 23, 2012\",\"Jan 20, 2012\",\"Jan 19, 2012\",\"Jan 18, 2012\",\"Jan 17, 2012\",\"Jan 13, 2012\",\"Jan 12, 2012\",\"Jan 11, 2012\",\"Jan 10, 2012\",\"Jan 09, 2012\",\"Jan 06, 2012\",\"Jan 05, 2012\",\"Jan 04, 2012\",\"Jan 03, 2012\",\"Dec 30, 2011\",\"Dec 29, 2011\",\"Dec 28, 2011\",\"Dec 27, 2011\",\"Dec 23, 2011\",\"Dec 22, 2011\",\"Dec 21, 2011\",\"Dec 20, 2011\",\"Dec 19, 2011\",\"Dec 16, 2011\",\"Dec 15, 2011\",\"Dec 14, 2011\",\"Dec 13, 2011\",\"Dec 12, 2011\",\"Dec 09, 2011\",\"Dec 08, 2011\",\"Dec 07, 2011\",\"Dec 06, 2011\",\"Dec 05, 2011\",\"Dec 02, 2011\",\"Dec 01, 2011\",\"Nov 30, 2011\",\"Nov 29, 2011\",\"Nov 28, 2011\",\"Nov 25, 2011\",\"Nov 23, 2011\",\"Nov 22, 2011\",\"Nov 21, 2011\",\"Nov 18, 2011\",\"Nov 17, 2011\",\"Nov 16, 2011\",\"Nov 14, 2011\",\"Nov 11, 2011\",\"Nov 10, 2011\",\"Nov 09, 2011\",\"Nov 08, 2011\",\"Nov 07, 2011\",\"Nov 04, 2011\",\"Nov 03, 2011\",\"Nov 02, 2011\",\"Nov 01, 2011\",\"Oct 31, 2011\",\"Oct 28, 2011\",\"Oct 27, 2011\",\"Oct 26, 2011\",\"Oct 25, 2011\",\"Oct 24, 2011\",\"Oct 21, 2011\",\"Oct 20, 2011\",\"Oct 19, 2011\",\"Oct 18, 2011\",\"Oct 17, 2011\"],\"y\":[865.65,909.25,902.94,870.76,877.51,881.51,876.42,998.02,1005.05,1008.78,977.2,1028.15,1004.29,985.0,1022.37,986.95,975.93,1025.49,1057.26,1045.76,1091.26,1145.45,1084.59,1077.6,1093.99,1099.57,1091.84,1010.64,1013.92,999.11,993.98,921.16,905.39,871.6,840.23,801.89,766.37,795.35,838.3,858.97,824.4,804.58,838.29,839.29,879.89,870.43,809.87,800.77,764.04,821.53,856.98,876.35,923.39,875.76,860.0,904.55,932.0,922.0,907.34,923.32,891.14,931.25,936.72,846.35,829.1,937.41,918.4,930.0,943.9,996.27,995.65,1030.51,1049.61,1031.56,1106.22,1064.4,1058.12,1026.96,1064.7,1088.12,1149.59,1199.78,1056.78,1070.34,1086.19,1088.47,1093.94,1067.0,1008.87,938.53,899.94,932.57,926.92,975.99,958.51,966.41,1017.03,1003.8,1068.96,1051.75,1009.01,1014.97,1084.6,1095.0,1144.76,1081.92,1116.0,1109.03,1156.87,1137.06,1096.38,1089.01,1054.73,1033.42,1063.51,1067.95,1023.5,1162.94,1222.09,1229.91,1213.86,1114.0,1077.04,1037.86,1018.43,1024.86,909.68,894.0,865.8,864.27,870.11,843.03,818.32,811.08,805.72,791.94,785.49,793.61,782.75,780.59,781.53,775.22,775.48,781.31,777.56,791.36,774.39,753.64,751.94,739.38,730.17,759.49,756.99,755.83,744.49,743.0,736.27,754.86,753.87,752.92,733.57,732.39,734.09,735.72,730.91,711.92,711.2,708.49,706.3,680.26,673.47,688.99,665.71,686.17,722.25,707.82,709.99,713.76,699.1,714.63,710.92,709.74,677.35,646.98,644.78,657.62,643.38,649.26,655.29,660.5,646.22,644.22,650.6,668.54,685.7,656.95,652.81,644.65,659.58,678.9,677.92,679.7,680.76,688.72,671.87,679.82,656.57,623.71,620.83,623.31,616.6,604.87,599.36,617.69,609.89,610.12,598.78,603.59,605.13,599.05,572.84,623.9,625.22,630.85,619.13,604.69,606.44,580.88,586.78,563.46,577.87,576.83,589.74,589.89,617.2,629.04,672.37,663.54,670.94,673.6,684.9,694.4,704.74,738.2,729.4,719.69,744.12,718.99,714.63,739.78,738.85,732.23,762.32,701.98,677.02,683.8,670.97,691.62,691.05,661.75,667.93,635.62,611.29,618.71,640.39,630.27,662.16,670.0,654.87,653.16,701.81,676.88,707.94,693.73,699.6,668.06,673.58,563.0,597.95,621.44,653.2,686.44,675.5,682.22,742.02,698.84,714.5,781.3,787.38,798.15,796.22,816.12,811.66,804.82,863.42,852.23,849.99,854.69,872.79,839.81,793.53,883.09,880.8,846.64,844.99,850.45,844.55,826.16,845.0,854.41,849.44,811.19,880.02,816.04,755.98,735.11,729.77,705.67,694.78,665.99,663.69,661.77,645.98,640.34,649.86,695.0,655.9,622.77,633.25,639.83,609.99,627.07,604.48,649.88,641.76,599.04,593.38,568.82,584.76,567.6,585.76,574.0,555.38,489.61,499.27,486.64,441.61,408.09,408.5,411.76,417.13,421.26,429.95,438.09,420.98,423.9,400.51,388.04,410.83,420.28,420.63,425.79,422.64,421.94,430.83,439.67,448.88,461.3,446.65,442.3,434.0,425.92,425.3,413.98,425.68,415.09,448.16,429.01,419.07,421.2,407.34,387.79,380.36,424.23,449.39,442.15,423.43,441.76,449.76,419.62,372.72,371.34,366.28,330.21,418.32,407.0,447.37,475.05,498.32,442.68,447.75,430.63,404.67,402.84,375.71,377.42,367.13,330.14,324.2,310.95,283.71,290.54,297.92,297.0,297.4,297.0,286.15,297.5,299.82,307.92,283.4,302.61,318.47,313.67,328.6,300.17,300.13,309.2,303.36,299.41,308.93,278.86,273.18,277.97,274.32,241.73,223.93,215.96,201.87,191.95,197.2,192.17,200.36,198.86,200.18,200.79,198.36,196.43,198.18,187.06,194.57,205.01,188.13,189.98,177.13,172.88,176.59,176.31,179.62,167.0,161.16,164.05,163.77,165.52,163.11,161.6,162.73,159.83,160.67,158.19,161.88,163.88,156.01,156.52,153.64,152.24,140.26,156.38,160.1,153.82,141.13,146.42,137.34,149.27,150.78,149.04,145.97,141.98,130.19,114.6,109.77,109.09,103.25,96.0,90.89,96.31,104.8,100.43,102.87,105.63,107.85,101.0,86.86,85.51,85.53,72.24,86.04,89.01,109.32,112.11,126.85,129.07,121.6,140.7,144.91,149.9,149.1,148.72,133.6,135.8,155.76,159.98,166.76,180.2,179.88,183.48,171.68,160.01,153.46,154.88,154.26,149.61,146.94,177.41,156.0,130.11,128.16,116.2,113.38,111.6,114.44,113.91,109.44,102.1,102.7,103.7,107.58,104.97,95.63,96.27,98.43,93.81,90.31,88.6,86.05,83.67,82.94,86.08,86.19,85.05,83.84,81.12,80.81,78.63,75.8,76.3,71.68,71.94,70.54,69.77,67.91,67.18,66.07,66.61,67.24,66.97,65.99,66.26,65.78,67.27,66.61,70.97,70.44,71.9,70.0,70.43,69.87,69.99,69.02,67.43,65.32,63.44,63.49,62.66,62.98,63.0,63.24,65.54,65.63,59.94,51.12,50.7,51.39,52.39,51.95,51.58,51.39,49.58,48.95,48.91,48.01,47.54,46.29,46.61,48.63,48.94,48.17,48.43,48.51,45.74,44.64,48.25,48.12,49.32,48.7,48.96,48.56,49.04,49.17,49.42,47.11,46.36,45.49,45.92,44.14,45.0,45.12,44.34,43.12,42.82,43.0,42.28,44.43,44.17,45.17,45.37,43.99,43.13,43.92,45.8,47.0,47.66,46.68,46.15,45.66,46.87,46.77,48.45,47.15,45.61,45.76,52.03,51.64,50.71,50.97,50.48,50.7,49.02,47.72,47.78,46.01,46.07,46.62,46.98,44.91,45.43,44.69,44.57,43.85,43.95,44.73,44.37,43.92,45.29,44.95,45.01,42.98,42.78,41.85,43.42,42.58,40.9,41.19,39.32,38.72,35.79,37.03,37.64,37.97,37.74,38.13,39.1,38.55,41.02,41.07,42.21,45.67,46.39,46.46,47.9,48.4,48.97,49.41,51.07,51.01,48.82,46.8,48.29,47.03,49.53,51.73,52.55,54.65,54.67,53.28,53.54,53.68,55.21,54.46,54.64,54.99,53.56,58.36,57.18,57.84,55.97,55.72,54.97,53.55,52.08,52.91,54.8,54.72,53.49,53.9,55.09,57.99,57.79,56.67,58.18,56.83,55.32,55.25,55.31,57.07,58.96,63.98,62.95,59.57,59.75,58.94,58.25,60.51,61.13,61.58,60.75,61.63,62.36,62.57,61.5,63.44,64.27,62.58,61.4,61.75,59.49,59.28,59.41,58.3,57.52,59.78,69.21,68.89,66.88,69.45,68.99,67.71,67.07,66.99,63.54,60.07,62.02,66.56,66.77,63.23,65.22,59.08,63.95,63.08,66.59,67.41,69.68,73.14,75.36,73.32,73.35,73.03,71.59,72.61,71.94,71.7,70.1,68.23,69.57,68.78,69.2,65.17,67.64,69.5,70.69,70.86,69.69,68.8,67.75,66.26,70.1,69.63,68.21,68.28,69.28,68.86,67.46,65.98,66.97,62.97,57.7,58.83,52.19,52.0,55.32,51.92,51.76,50.45,51.38,52.56,50.11,52.39,56.37,58.96,60.2,62.14,52.95,61.5,61.92,60.2,59.94,59.82,59.67,59.8,56.99,58.97,59.04,57.89,58.11,55.89,57.1,52.65,56.19,56.15,57.79,60.33,60.63,61.0,62.37,63.85,64.56,64.02,64.33,64.38,61.69,61.1,67.09,67.74,69.53,71.28,71.1,70.49,75.91,68.4,69.63,69.91,60.17,59.63,58.03,59.44,61.75,59.49,60.64,62.72,64.77,64.54,63.77,63.34,63.79,64.49,63.7,61.78,61.83,62.17,67.01,68.59,69.99,68.9,68.4,66.6,66.73,69.5,72.44,70.51,74.17,71.63,71.54,68.96,68.55,66.42,63.53,63.22,63.9,58.23,59.35,58.36,56.95,58.34,56.75,55.77,55.57,55.81,55.0,56.9,55.36,56.91,57.3,56.84,58.39,60.21,61.0,61.37,60.39,60.55,58.82,56.89,60.23,58.78,58.82,57.1,56.69,56.67,58.05,60.02,57.54,58.24,60.07,60.19,60.94,57.93,59.86,61.14,57.39,53.51,50.5,53.23,51.56,55.84,60.84,60.31,61.82,63.31,62.11,62.71,64.27,65.12,65.33,68.37,69.1,65.43,65.82,66.46,65.64,66.67,67.02,66.19,68.61,70.2,71.48,70.41,69.23,66.66,66.95,67.1,66.81,64.46,64.73,63.15,62.08,63.05,69.0,66.79,66.63,68.75,69.85,70.86,69.16,68.57,67.53,69.18,70.31,70.0,68.91,69.43,67.24,66.96,66.74,67.28,63.32,62.92,63.45,64.11,62.27,63.07,62.33,63.46,65.04,66.33,65.8,66.22,67.77,68.69,67.58,67.81,68.21,65.78,63.03,62.25,62.65,60.74,61.04,61.31,61.77,61.51,63.51,63.36,63.11,62.52,63.56,61.75,63.01,62.5,62.26,61.74,63.08,60.6,60.6,60.88,61.21,60.56,61.22,59.85,64.22,66.31,64.02,65.23,65.17,67.47,69.02,70.36,71.93,71.15,71.11,71.14,71.12,68.59,71.38,71.07,71.0,69.63,68.31,68.22,67.92,68.19,69.05,69.0,70.22,73.3,74.78,75.02,77.0,75.96,75.53,73.25,72.55,72.74,68.68,70.12,68.91,69.92,71.08,71.18,70.64,69.47,69.13,69.61,70.59,70.55,68.27,67.57,69.49,70.38,72.58,72.47,72.76,71.57,71.08,72.71,73.04,71.03,71.38,69.42,65.18,63.91,64.69,67.01,66.89,67.92,68.5,65.68,65.05,65.65,63.91,65.56,65.9,65.44,63.21,61.77,65.42,70.52,72.32,72.15,74.25,72.47,75.5,76.69,76.52,75.28,74.45,73.96,74.28,75.07,76.13,75.19,71.8,71.46,74.0,71.93,70.57,69.46,67.97,68.07,68.2,67.02,65.03,63.37,62.04,60.77,62.07,62.17,62.61,61.22,63.4,63.18,64.96,64.62,65.04,64.25,61.44,61.67,59.09,62.2,63.78,64.57,62.81,61.73,62.03,62.76,61.61,60.5,60.05,60.29,60.8,59.37,62.48,60.51,59.74,59.0,59.7,55.66,55.58,55.48,55.49,54.04,52.63,50.96,51.0,50.14,52.38,52.3,52.41,51.15,51.6,49.23,48.74,48.98,49.37,49.72,50.24,50.31,50.1,50.0,50.0,49.25,51.4,51.2,54.7,55.48,54.45,53.79,55.95,56.2,56.12,53.85,53.84,52.42,51.5,51.55,50.27,50.31,49.85,50.39,50.13,50.59,50.5,50.89,50.92,48.95,48.75,47.67,47.55,45.92,45.95,45.97,45.8,45.35,43.4,42.74,42.94,43.95,43.91,42.67,41.69,41.54,41.76,40.55,40.5,39.52,39.74,39.63,38.49,38.44,38.46,38.63,37.17,37.36,36.29,36.38,37.88,37.91,39.22,39.33,38.63,38.23,36.9,37.0,37.73,36.79,36.75,36.29,37.71,37.07,38.01,38.99,38.64,38.11,37.48,37.6,38.16,39.55,39.99,40.8,40.45,40.47,40.02,39.82,40.71,39.82,39.3,40.05,40.3,40.02,40.19,39.32,40.2,41.69,40.81,40.14,41.25,41.16,41.8,41.49,41.29,41.04,40.93,41.27,41.08,40.08,39.28,39.21,39.66,38.89,39.47,40.34,40.57,39.56,40.15,42.4,42.27,43.04,44.0,44.19,44.52,44.97,44.59,45.0,44.7,44.65,44.72,45.12,45.12,44.98,45.13,45.82,45.23,46.01,46.12,45.16,45.44,46.0,46.96,46.12,45.7,45.9,46.0,44.45,45.67,45.05,45.25,44.31,44.51,44.93,44.96,43.36,43.19,42.89,42.8,43.3,42.04,40.36,39.71,38.63,39.28,39.33,43.92,43.94,43.09,43.59,43.54,42.99,43.57,43.76,45.87,47.1,46.47,44.14,43.8,43.79,43.91,44.65,44.61,45.02,43.92,43.58,43.24,44.06,43.04,42.23,40.93,41.66,41.52,41.46,41.79,41.74,41.78,42.99,42.31,44.51,46.46,48.36,48.15,49.54,50.29,50.75,50.36,50.75,49.66,49.47,50.78,50.9,50.91,49.56,49.98,50.01,51.44,53.08,51.09,49.4,47.52,45.38,46.03,46.05,45.55,44.52,46.85,47.66,46.55,45.28,44.39,43.67,43.03,41.5,41.04,41.74,40.52,41.06,40.21,39.15,37.67,37.27,38.39,38.07,37.49,35.8,35.44,35.55,33.32,33.35,33.74,31.03,30.21,30.09,28.73,29.65,29.6,32.52,35.07,34.7,36.56,39.39,38.24,37.94,37.61,38.71,39.28,39.99,39.74,40.94,41.0,41.24,40.06,41.99,42.2,43.13,43.81,44.69,44.68,48.0,47.62,47.44,46.11,45.94,45.99,46.51,46.09,46.68,46.9,44.22,43.72,43.4,45.41,44.9,45.34,46.23,46.08,46.54,46.4,47.44,46.05,46.32,45.93,43.65,43.55,44.0,44.36,44.21,42.8,42.86,41.44,42.59,43.82,43.3,45.07,46.47,46.35,46.33,41.67,42.76,41.39,42.33,42.59,42.07,43.05,41.82,42.34,42.02,42.61,45.62,45.4,44.26,43.38,43.12,44.14,45.34,46.39,48.29,49.23,49.51,47.98,49.68,49.69,51.38,52.62,52.21,52.19,52.84,52.12,52.41,52.45,50.71,50.64,50.05,49.7,49.78,49.63,48.39,49.11,49.54,47.73,49.81,49.7,48.6,44.97,44.01,43.77,46.15,48.44,51.05,52.14,51.0,48.63,48.5,47.63,47.47,48.23,48.5,49.23,54.03,53.26,52.0,53.23,53.36,52.76,52.96,50.6,53.08,53.44,53.57,53.35,56.45,54.93,53.34,52.63,53.13,51.58,50.99,53.58,55.94,56.0,53.83,53.65,52.4,53.76,53.03,53.53,51.96,52.5,52.38,52.08,50.62,50.08,50.14,50.28,50.14,51.2,51.26,49.83,49.18,49.8,49.67,49.89,50.16,50.29,49.49,49.49,49.55,49.12,48.87,49.43,49.75,49.77,48.82,48.64,48.95,47.9,47.32,47.36,46.09,46.59,46.1,45.21,45.21,46.49,46.1,46.31,43.69,43.72,43.89,41.88,41.05,41.36,41.34,41.57,41.49,41.96,41.53,40.65,40.62,38.2,37.52,37.75,38.11,37.0,40.34,39.93,39.62,39.13,40.14,38.95,39.14,37.74,38.21,38.75,38.06,38.18,38.78,40.13,40.49,39.91,39.47,40.67,41.44,40.75,40.82,41.47,43.42,42.34,40.89,40.87,40.75,40.58,42.56,43.26,43.5,43.47,44.2,43.71,43.67,42.19,40.72,41.04,39.87,41.2,41.31,40.26,40.32,39.31,38.39,38.61,38.37,38.54,40.85,41.33,42.12,42.19,42.02,43.86,44.48,44.45,45.14,45.56,44.45,44.19,43.86,43.65,41.16,39.56,40.81,41.4,41.78,41.97,43.38,42.87,44.74,45.66,45.86,46.29,46.33,48.9,49.69,49.62,49.34,48.56,49.74,49.55,51.54,50.8,51.74,50.34,49.82,50.22,48.39,48.04,48.24,46.19,47.79,48.52,48.34,47.73,47.62,48.55,44.33,47.05,47.06,46.22,47.07,46.09,45.5,45.27,45.94,45.41,44.92,47.38,51.4,51.91,52.12,51.04,50.28,48.05,48.54,49.05,49.32,49.39,50.08,50.01,51.86,52.76,52.28,52.15,50.77,55.84,56.06,56.22,55.7,56.42,55.48,57.21,56.24,56.82,53.94,52.77,52.65,52.35,52.51,51.36,50.87,51.14,51.35,51.99,52.4,52.28,52.06,51.99,51.86,49.63,50.48,49.79,47.7,47.7,46.65,44.66,45.78,45.0,44.96,44.71,44.71,44.5,43.92,44.11,44.0,43.08,43.43,43.92,45.34,43.63,43.89,44.61,45.85,45.89,47.94,48.01,47.81,47.12,47.38,46.5,45.56,45.42,46.33,44.92,41.28,40.7,40.89,40.46,41.06,41.63,41.38,40.8,40.99,40.94,41.55,42.05,42.05,42.31,41.46,40.98,39.89,39.06,39.22,38.31,37.72,38.12,38.03,36.93,36.45,35.72,40.27,41.46,43.32,42.18,41.55,41.58,41.38,39.7,39.97,41.57,41.6,40.88,39.62,39.82,38.78,39.62,40.76,40.84,43.39,43.09,41.5,42.45,46.06,43.39,41.69,41.46,42.59,44.09,44.03,45.78,48.01,46.8,46.19,47.56,48.3,46.88,47.77,49.24,50.59,50.53,50.97,50.11,48.96,50.51,50.6,49.6,43.53,41.92,41.99,38.73,40.74,39.65,39.93,39.06,39.32,39.31,37.31,35.68,34.88,35.75,35.42,36.28,36.57,35.05,35.68,33.92,34.92,36.3,35.71,35.34,34.0,34.19,32.83,32.25,27.87,29.14,29.51,30.26,29.4,29.91,30.02,30.49,30.22,31.1,30.28,28.71,28.65,28.14,29.6,29.53,29.49,27.93,28.44,28.32,27.47,28.1,27.79,28.94,24.83,25.46,25.39,24.1,24.17,24.28,24.42,24.22,25.22,24.32,27.09,27.52,27.74,27.56,28.94,27.59,27.95,30.23,35.36,35.04,32.43,31.99,31.84,32.89,32.57,33.93,34.63,32.9,34.31,34.52,36.68,36.56,36.71,36.79,35.94,35.74,34.59,33.76,34.95,36.61,36.2,38.6,38.67,38.18,37.73,37.05,36.47,36.22,36.68,35.58,33.32,33.11,32.99,32.7,33.27,32.14,33.39,33.99,34.12,33.79,33.8,33.21,33.29,33.4,32.84,32.37,31.42,29.57,29.92,28.98,28.4,27.93,27.87,29.09,29.48,30.6,30.7,26.85,28.43,28.94,27.6,27.11,26.86,26.35,26.92,25.88,24.81,24.34,24.55,24.49,23.94,23.81,24.05,21.81,25.45,25.98,25.12,24.45,24.69,24.32,24.02,23.05,23.56,21.47,21.85,21.14,20.3,19.91,20.13,20.94,20.68,19.64,19.55,18.89,20.01,20.41,19.47,19.07,18.97,18.52,19.55,20.99,20.93,22.07,19.42,18.55,17.45,17.52,17.99,18.3,18.45,16.97,16.65,17.56,15.35,13.88,11.16,11.1,11.9,10.91,10.82,10.66,10.8,10.99,10.24,10.4,10.09,10.2,10.04,9.57,9.39,9.09,9.12,8.66,8.75,8.72,8.37,8.1,8.37,8.27,8.4,8.22,8.87,7.58,7.63,7.57,7.32,7.2,7.19,7.02,7.03,7.37,7.82,7.82,7.69,7.65,7.54,7.33,7.12,6.93,6.97,7.02,6.89,6.88,7.22,7.03,7.71,7.86,7.41,7.65,7.69,7.58,7.68,7.85,7.9,7.83,7.63,7.55,7.66,7.5,7.5,7.59,7.61,7.4,7.4,7.2,7.04,6.9,6.88,6.82,6.78,6.65,6.58,6.71,6.73,6.74,6.87,6.88,6.95,6.77,6.64,6.74,6.86,6.8,6.89,6.92,6.92,6.88,6.76,6.72,7.05,6.91,6.83,6.78,6.74,6.78,6.92,6.76,6.74,6.65,6.43,6.45,6.43,6.49,6.6,6.58,6.37,6.16,6.28,6.32,6.21,6.06,6.26,6.31,6.23,6.3,5.78,5.85,5.63,5.48,5.5,5.48,5.68,5.57,5.55,5.61,5.76,5.61,5.47,5.53,5.66,5.68,5.67,5.85,5.78,5.88,5.86,5.96,5.83,5.86,5.7,5.51,6.13,6.0,6.18,6.27,6.51,6.08,5.9,5.66,5.56,5.87,5.71,5.59,5.63,5.7,5.68,5.68,5.74,5.66,5.9,6.15,5.99,5.82,5.9,6.0,6.06,5.88,5.88,6.23,5.99,5.88,5.82,6.05,5.65,5.45,5.22,5.25,5.48,5.47,5.9,5.63,5.79,5.97,6.13,6.36,6.45,6.43,6.67,7.19,6.85,6.54,6.3,6.25,6.3,6.2,6.25,6.13,6.08,6.26,6.28,6.39,6.32,6.62,6.76,6.44,6.42,6.37,5.98,5.88,5.95,5.82,5.79,5.84,5.58,5.58,5.63,5.9,6.08,6.34,5.96,6.06,6.2,6.16,5.75,5.51,5.71,5.84,5.89,6.01,6.45,6.59,6.01,6.04,6.49,6.37,6.49,6.79,6.76,6.63,6.67,6.7,6.58,6.36,6.39,6.63,6.63,6.53,6.45,6.45,6.72,6.69,6.62,6.49,6.63,6.9,7.0,7.6,7.32,7.45,7.47,7.57,7.59,7.48,6.82,6.88,7.03,7.0,7.06,7.0,7.06,7.22,7.2,6.95,6.61,6.62,6.75,6.81,6.88,6.68,6.76,6.72,6.75,6.91,6.84,6.9,6.99,6.84,6.72,6.63,6.3,6.22,6.52,6.39,6.32,6.36,6.23,6.05,5.92,5.81,5.91,5.87,5.79,5.59,5.48,5.35,5.32,5.35,5.36,5.32,4.56,5.65,5.65,5.52,5.45,5.38,5.42,5.54,5.62,5.71,5.75,5.7,5.71,5.58,5.55,5.51,5.58,5.55,5.6,5.71,5.89,6.08,6.21,6.18,6.84,6.97,6.66,6.52,6.55,6.35,6.51,6.33,6.29,6.41,6.35,6.52,6.74,6.99,6.79,6.64,6.73,6.27,6.18,6.37,6.25,6.46,6.49,5.74,5.78,5.87,5.97,5.75,5.6,5.65,5.71,5.61,5.47,5.51,5.67,5.48,5.61,5.59,5.56,5.52,5.58,5.4,5.39,5.07,4.73,4.75,4.88,4.82,4.92,5.24,5.1,5.28,5.13,5.17,5.2,5.16,4.96,4.87,4.82,4.58,4.59,4.72,4.77,4.61,4.8,4.95,4.93,4.94,4.75,4.62,4.77,4.59,4.39,4.46,4.85,5.17],\"type\":\"scatter\"}],                        {\"template\":{\"data\":{\"barpolar\":[{\"marker\":{\"line\":{\"color\":\"#E5ECF6\",\"width\":0.5},\"pattern\":{\"fillmode\":\"overlay\",\"size\":10,\"solidity\":0.2}},\"type\":\"barpolar\"}],\"bar\":[{\"error_x\":{\"color\":\"#2a3f5f\"},\"error_y\":{\"color\":\"#2a3f5f\"},\"marker\":{\"line\":{\"color\":\"#E5ECF6\",\"width\":0.5},\"pattern\":{\"fillmode\":\"overlay\",\"size\":10,\"solidity\":0.2}},\"type\":\"bar\"}],\"carpet\":[{\"aaxis\":{\"endlinecolor\":\"#2a3f5f\",\"gridcolor\":\"white\",\"linecolor\":\"white\",\"minorgridcolor\":\"white\",\"startlinecolor\":\"#2a3f5f\"},\"baxis\":{\"endlinecolor\":\"#2a3f5f\",\"gridcolor\":\"white\",\"linecolor\":\"white\",\"minorgridcolor\":\"white\",\"startlinecolor\":\"#2a3f5f\"},\"type\":\"carpet\"}],\"choropleth\":[{\"colorbar\":{\"outlinewidth\":0,\"ticks\":\"\"},\"type\":\"choropleth\"}],\"contourcarpet\":[{\"colorbar\":{\"outlinewidth\":0,\"ticks\":\"\"},\"type\":\"contourcarpet\"}],\"contour\":[{\"colorbar\":{\"outlinewidth\":0,\"ticks\":\"\"},\"colorscale\":[[0.0,\"#0d0887\"],[0.1111111111111111,\"#46039f\"],[0.2222222222222222,\"#7201a8\"],[0.3333333333333333,\"#9c179e\"],[0.4444444444444444,\"#bd3786\"],[0.5555555555555556,\"#d8576b\"],[0.6666666666666666,\"#ed7953\"],[0.7777777777777778,\"#fb9f3a\"],[0.8888888888888888,\"#fdca26\"],[1.0,\"#f0f921\"]],\"type\":\"contour\"}],\"heatmapgl\":[{\"colorbar\":{\"outlinewidth\":0,\"ticks\":\"\"},\"colorscale\":[[0.0,\"#0d0887\"],[0.1111111111111111,\"#46039f\"],[0.2222222222222222,\"#7201a8\"],[0.3333333333333333,\"#9c179e\"],[0.4444444444444444,\"#bd3786\"],[0.5555555555555556,\"#d8576b\"],[0.6666666666666666,\"#ed7953\"],[0.7777777777777778,\"#fb9f3a\"],[0.8888888888888888,\"#fdca26\"],[1.0,\"#f0f921\"]],\"type\":\"heatmapgl\"}],\"heatmap\":[{\"colorbar\":{\"outlinewidth\":0,\"ticks\":\"\"},\"colorscale\":[[0.0,\"#0d0887\"],[0.1111111111111111,\"#46039f\"],[0.2222222222222222,\"#7201a8\"],[0.3333333333333333,\"#9c179e\"],[0.4444444444444444,\"#bd3786\"],[0.5555555555555556,\"#d8576b\"],[0.6666666666666666,\"#ed7953\"],[0.7777777777777778,\"#fb9f3a\"],[0.8888888888888888,\"#fdca26\"],[1.0,\"#f0f921\"]],\"type\":\"heatmap\"}],\"histogram2dcontour\":[{\"colorbar\":{\"outlinewidth\":0,\"ticks\":\"\"},\"colorscale\":[[0.0,\"#0d0887\"],[0.1111111111111111,\"#46039f\"],[0.2222222222222222,\"#7201a8\"],[0.3333333333333333,\"#9c179e\"],[0.4444444444444444,\"#bd3786\"],[0.5555555555555556,\"#d8576b\"],[0.6666666666666666,\"#ed7953\"],[0.7777777777777778,\"#fb9f3a\"],[0.8888888888888888,\"#fdca26\"],[1.0,\"#f0f921\"]],\"type\":\"histogram2dcontour\"}],\"histogram2d\":[{\"colorbar\":{\"outlinewidth\":0,\"ticks\":\"\"},\"colorscale\":[[0.0,\"#0d0887\"],[0.1111111111111111,\"#46039f\"],[0.2222222222222222,\"#7201a8\"],[0.3333333333333333,\"#9c179e\"],[0.4444444444444444,\"#bd3786\"],[0.5555555555555556,\"#d8576b\"],[0.6666666666666666,\"#ed7953\"],[0.7777777777777778,\"#fb9f3a\"],[0.8888888888888888,\"#fdca26\"],[1.0,\"#f0f921\"]],\"type\":\"histogram2d\"}],\"histogram\":[{\"marker\":{\"pattern\":{\"fillmode\":\"overlay\",\"size\":10,\"solidity\":0.2}},\"type\":\"histogram\"}],\"mesh3d\":[{\"colorbar\":{\"outlinewidth\":0,\"ticks\":\"\"},\"type\":\"mesh3d\"}],\"parcoords\":[{\"line\":{\"colorbar\":{\"outlinewidth\":0,\"ticks\":\"\"}},\"type\":\"parcoords\"}],\"pie\":[{\"automargin\":true,\"type\":\"pie\"}],\"scatter3d\":[{\"line\":{\"colorbar\":{\"outlinewidth\":0,\"ticks\":\"\"}},\"marker\":{\"colorbar\":{\"outlinewidth\":0,\"ticks\":\"\"}},\"type\":\"scatter3d\"}],\"scattercarpet\":[{\"marker\":{\"colorbar\":{\"outlinewidth\":0,\"ticks\":\"\"}},\"type\":\"scattercarpet\"}],\"scattergeo\":[{\"marker\":{\"colorbar\":{\"outlinewidth\":0,\"ticks\":\"\"}},\"type\":\"scattergeo\"}],\"scattergl\":[{\"marker\":{\"colorbar\":{\"outlinewidth\":0,\"ticks\":\"\"}},\"type\":\"scattergl\"}],\"scattermapbox\":[{\"marker\":{\"colorbar\":{\"outlinewidth\":0,\"ticks\":\"\"}},\"type\":\"scattermapbox\"}],\"scatterpolargl\":[{\"marker\":{\"colorbar\":{\"outlinewidth\":0,\"ticks\":\"\"}},\"type\":\"scatterpolargl\"}],\"scatterpolar\":[{\"marker\":{\"colorbar\":{\"outlinewidth\":0,\"ticks\":\"\"}},\"type\":\"scatterpolar\"}],\"scatter\":[{\"fillpattern\":{\"fillmode\":\"overlay\",\"size\":10,\"solidity\":0.2},\"type\":\"scatter\"}],\"scatterternary\":[{\"marker\":{\"colorbar\":{\"outlinewidth\":0,\"ticks\":\"\"}},\"type\":\"scatterternary\"}],\"surface\":[{\"colorbar\":{\"outlinewidth\":0,\"ticks\":\"\"},\"colorscale\":[[0.0,\"#0d0887\"],[0.1111111111111111,\"#46039f\"],[0.2222222222222222,\"#7201a8\"],[0.3333333333333333,\"#9c179e\"],[0.4444444444444444,\"#bd3786\"],[0.5555555555555556,\"#d8576b\"],[0.6666666666666666,\"#ed7953\"],[0.7777777777777778,\"#fb9f3a\"],[0.8888888888888888,\"#fdca26\"],[1.0,\"#f0f921\"]],\"type\":\"surface\"}],\"table\":[{\"cells\":{\"fill\":{\"color\":\"#EBF0F8\"},\"line\":{\"color\":\"white\"}},\"header\":{\"fill\":{\"color\":\"#C8D4E3\"},\"line\":{\"color\":\"white\"}},\"type\":\"table\"}]},\"layout\":{\"annotationdefaults\":{\"arrowcolor\":\"#2a3f5f\",\"arrowhead\":0,\"arrowwidth\":1},\"autotypenumbers\":\"strict\",\"coloraxis\":{\"colorbar\":{\"outlinewidth\":0,\"ticks\":\"\"}},\"colorscale\":{\"diverging\":[[0,\"#8e0152\"],[0.1,\"#c51b7d\"],[0.2,\"#de77ae\"],[0.3,\"#f1b6da\"],[0.4,\"#fde0ef\"],[0.5,\"#f7f7f7\"],[0.6,\"#e6f5d0\"],[0.7,\"#b8e186\"],[0.8,\"#7fbc41\"],[0.9,\"#4d9221\"],[1,\"#276419\"]],\"sequential\":[[0.0,\"#0d0887\"],[0.1111111111111111,\"#46039f\"],[0.2222222222222222,\"#7201a8\"],[0.3333333333333333,\"#9c179e\"],[0.4444444444444444,\"#bd3786\"],[0.5555555555555556,\"#d8576b\"],[0.6666666666666666,\"#ed7953\"],[0.7777777777777778,\"#fb9f3a\"],[0.8888888888888888,\"#fdca26\"],[1.0,\"#f0f921\"]],\"sequentialminus\":[[0.0,\"#0d0887\"],[0.1111111111111111,\"#46039f\"],[0.2222222222222222,\"#7201a8\"],[0.3333333333333333,\"#9c179e\"],[0.4444444444444444,\"#bd3786\"],[0.5555555555555556,\"#d8576b\"],[0.6666666666666666,\"#ed7953\"],[0.7777777777777778,\"#fb9f3a\"],[0.8888888888888888,\"#fdca26\"],[1.0,\"#f0f921\"]]},\"colorway\":[\"#636efa\",\"#EF553B\",\"#00cc96\",\"#ab63fa\",\"#FFA15A\",\"#19d3f3\",\"#FF6692\",\"#B6E880\",\"#FF97FF\",\"#FECB52\"],\"font\":{\"color\":\"#2a3f5f\"},\"geo\":{\"bgcolor\":\"white\",\"lakecolor\":\"white\",\"landcolor\":\"#E5ECF6\",\"showlakes\":true,\"showland\":true,\"subunitcolor\":\"white\"},\"hoverlabel\":{\"align\":\"left\"},\"hovermode\":\"closest\",\"mapbox\":{\"style\":\"light\"},\"paper_bgcolor\":\"white\",\"plot_bgcolor\":\"#E5ECF6\",\"polar\":{\"angularaxis\":{\"gridcolor\":\"white\",\"linecolor\":\"white\",\"ticks\":\"\"},\"bgcolor\":\"#E5ECF6\",\"radialaxis\":{\"gridcolor\":\"white\",\"linecolor\":\"white\",\"ticks\":\"\"}},\"scene\":{\"xaxis\":{\"backgroundcolor\":\"#E5ECF6\",\"gridcolor\":\"white\",\"gridwidth\":2,\"linecolor\":\"white\",\"showbackground\":true,\"ticks\":\"\",\"zerolinecolor\":\"white\"},\"yaxis\":{\"backgroundcolor\":\"#E5ECF6\",\"gridcolor\":\"white\",\"gridwidth\":2,\"linecolor\":\"white\",\"showbackground\":true,\"ticks\":\"\",\"zerolinecolor\":\"white\"},\"zaxis\":{\"backgroundcolor\":\"#E5ECF6\",\"gridcolor\":\"white\",\"gridwidth\":2,\"linecolor\":\"white\",\"showbackground\":true,\"ticks\":\"\",\"zerolinecolor\":\"white\"}},\"shapedefaults\":{\"line\":{\"color\":\"#2a3f5f\"}},\"ternary\":{\"aaxis\":{\"gridcolor\":\"white\",\"linecolor\":\"white\",\"ticks\":\"\"},\"baxis\":{\"gridcolor\":\"white\",\"linecolor\":\"white\",\"ticks\":\"\"},\"bgcolor\":\"#E5ECF6\",\"caxis\":{\"gridcolor\":\"white\",\"linecolor\":\"white\",\"ticks\":\"\"}},\"title\":{\"x\":0.05},\"xaxis\":{\"automargin\":true,\"gridcolor\":\"white\",\"linecolor\":\"white\",\"ticks\":\"\",\"title\":{\"standoff\":15},\"zerolinecolor\":\"white\",\"zerolinewidth\":2},\"yaxis\":{\"automargin\":true,\"gridcolor\":\"white\",\"linecolor\":\"white\",\"ticks\":\"\",\"title\":{\"standoff\":15},\"zerolinecolor\":\"white\",\"zerolinewidth\":2}}},\"title\":{\"text\":\"Stock Prices\"},\"xaxis\":{\"title\":{\"font\":{\"color\":\"#7f7f7f\",\"family\":\"Courier New, monospace\",\"size\":18},\"text\":\"Day\"}},\"yaxis\":{\"title\":{\"font\":{\"color\":\"#7f7f7f\",\"family\":\"Courier New, monospace\",\"size\":18},\"text\":\"Date\"}}},                        {\"responsive\": true}                    ).then(function(){\n",
       "                            \n",
       "var gd = document.getElementById('6d1ae32b-62b4-4e11-9815-e223aad90c2d');\n",
       "var x = new MutationObserver(function (mutations, observer) {{\n",
       "        var display = window.getComputedStyle(gd).display;\n",
       "        if (!display || display === 'none') {{\n",
       "            console.log([gd, 'removed!']);\n",
       "            Plotly.purge(gd);\n",
       "            observer.disconnect();\n",
       "        }}\n",
       "}});\n",
       "\n",
       "// Listen for the removal of the full notebook cells\n",
       "var notebookContainer = gd.closest('#notebook-container');\n",
       "if (notebookContainer) {{\n",
       "    x.observe(notebookContainer, {childList: true});\n",
       "}}\n",
       "\n",
       "// Listen for the clearing of the current output cell\n",
       "var outputEl = gd.closest('.output');\n",
       "if (outputEl) {{\n",
       "    x.observe(outputEl, {childList: true});\n",
       "}}\n",
       "\n",
       "                        })                };                });            </script>        </div>"
      ]
     },
     "metadata": {},
     "output_type": "display_data"
    }
   ],
   "source": [
    "iplot(plot)"
   ]
  },
  {
   "cell_type": "code",
   "execution_count": 146,
   "id": "017e5fa9",
   "metadata": {},
   "outputs": [
    {
     "ename": "ValueError",
     "evalue": "Found input variables with inconsistent numbers of samples: [17836, 2548]",
     "output_type": "error",
     "traceback": [
      "\u001b[1;31m---------------------------------------------------------------------------\u001b[0m",
      "\u001b[1;31mValueError\u001b[0m                                Traceback (most recent call last)",
      "\u001b[1;32m~\\AppData\\Local\\Temp/ipykernel_2636/2309600572.py\u001b[0m in \u001b[0;36m<module>\u001b[1;34m\u001b[0m\n\u001b[0;32m      4\u001b[0m \u001b[1;33m\u001b[0m\u001b[0m\n\u001b[0;32m      5\u001b[0m \u001b[1;33m\u001b[0m\u001b[0m\n\u001b[1;32m----> 6\u001b[1;33m \u001b[0mX_train\u001b[0m\u001b[1;33m,\u001b[0m \u001b[0mX_test\u001b[0m\u001b[1;33m,\u001b[0m \u001b[0mY_train\u001b[0m\u001b[1;33m,\u001b[0m \u001b[0mY_test\u001b[0m \u001b[1;33m=\u001b[0m \u001b[0mtrain_test_split\u001b[0m\u001b[1;33m(\u001b[0m\u001b[0mX\u001b[0m\u001b[1;33m,\u001b[0m \u001b[0mY\u001b[0m\u001b[1;33m,\u001b[0m \u001b[0mrandom_state\u001b[0m\u001b[1;33m=\u001b[0m\u001b[1;36m101\u001b[0m\u001b[1;33m,\u001b[0m \u001b[0mtest_size\u001b[0m \u001b[1;33m=\u001b[0m \u001b[1;36m0.3\u001b[0m\u001b[1;33m)\u001b[0m\u001b[1;33m\u001b[0m\u001b[1;33m\u001b[0m\u001b[0m\n\u001b[0m",
      "\u001b[1;32mD:\\Programs\\Anaconda\\lib\\site-packages\\sklearn\\model_selection\\_split.py\u001b[0m in \u001b[0;36mtrain_test_split\u001b[1;34m(test_size, train_size, random_state, shuffle, stratify, *arrays)\u001b[0m\n\u001b[0;32m   2170\u001b[0m         \u001b[1;32mraise\u001b[0m \u001b[0mValueError\u001b[0m\u001b[1;33m(\u001b[0m\u001b[1;34m\"At least one array required as input\"\u001b[0m\u001b[1;33m)\u001b[0m\u001b[1;33m\u001b[0m\u001b[1;33m\u001b[0m\u001b[0m\n\u001b[0;32m   2171\u001b[0m \u001b[1;33m\u001b[0m\u001b[0m\n\u001b[1;32m-> 2172\u001b[1;33m     \u001b[0marrays\u001b[0m \u001b[1;33m=\u001b[0m \u001b[0mindexable\u001b[0m\u001b[1;33m(\u001b[0m\u001b[1;33m*\u001b[0m\u001b[0marrays\u001b[0m\u001b[1;33m)\u001b[0m\u001b[1;33m\u001b[0m\u001b[1;33m\u001b[0m\u001b[0m\n\u001b[0m\u001b[0;32m   2173\u001b[0m \u001b[1;33m\u001b[0m\u001b[0m\n\u001b[0;32m   2174\u001b[0m     \u001b[0mn_samples\u001b[0m \u001b[1;33m=\u001b[0m \u001b[0m_num_samples\u001b[0m\u001b[1;33m(\u001b[0m\u001b[0marrays\u001b[0m\u001b[1;33m[\u001b[0m\u001b[1;36m0\u001b[0m\u001b[1;33m]\u001b[0m\u001b[1;33m)\u001b[0m\u001b[1;33m\u001b[0m\u001b[1;33m\u001b[0m\u001b[0m\n",
      "\u001b[1;32mD:\\Programs\\Anaconda\\lib\\site-packages\\sklearn\\utils\\validation.py\u001b[0m in \u001b[0;36mindexable\u001b[1;34m(*iterables)\u001b[0m\n\u001b[0;32m    354\u001b[0m     \"\"\"\n\u001b[0;32m    355\u001b[0m     \u001b[0mresult\u001b[0m \u001b[1;33m=\u001b[0m \u001b[1;33m[\u001b[0m\u001b[0m_make_indexable\u001b[0m\u001b[1;33m(\u001b[0m\u001b[0mX\u001b[0m\u001b[1;33m)\u001b[0m \u001b[1;32mfor\u001b[0m \u001b[0mX\u001b[0m \u001b[1;32min\u001b[0m \u001b[0miterables\u001b[0m\u001b[1;33m]\u001b[0m\u001b[1;33m\u001b[0m\u001b[1;33m\u001b[0m\u001b[0m\n\u001b[1;32m--> 356\u001b[1;33m     \u001b[0mcheck_consistent_length\u001b[0m\u001b[1;33m(\u001b[0m\u001b[1;33m*\u001b[0m\u001b[0mresult\u001b[0m\u001b[1;33m)\u001b[0m\u001b[1;33m\u001b[0m\u001b[1;33m\u001b[0m\u001b[0m\n\u001b[0m\u001b[0;32m    357\u001b[0m     \u001b[1;32mreturn\u001b[0m \u001b[0mresult\u001b[0m\u001b[1;33m\u001b[0m\u001b[1;33m\u001b[0m\u001b[0m\n\u001b[0;32m    358\u001b[0m \u001b[1;33m\u001b[0m\u001b[0m\n",
      "\u001b[1;32mD:\\Programs\\Anaconda\\lib\\site-packages\\sklearn\\utils\\validation.py\u001b[0m in \u001b[0;36mcheck_consistent_length\u001b[1;34m(*arrays)\u001b[0m\n\u001b[0;32m    317\u001b[0m     \u001b[0muniques\u001b[0m \u001b[1;33m=\u001b[0m \u001b[0mnp\u001b[0m\u001b[1;33m.\u001b[0m\u001b[0munique\u001b[0m\u001b[1;33m(\u001b[0m\u001b[0mlengths\u001b[0m\u001b[1;33m)\u001b[0m\u001b[1;33m\u001b[0m\u001b[1;33m\u001b[0m\u001b[0m\n\u001b[0;32m    318\u001b[0m     \u001b[1;32mif\u001b[0m \u001b[0mlen\u001b[0m\u001b[1;33m(\u001b[0m\u001b[0muniques\u001b[0m\u001b[1;33m)\u001b[0m \u001b[1;33m>\u001b[0m \u001b[1;36m1\u001b[0m\u001b[1;33m:\u001b[0m\u001b[1;33m\u001b[0m\u001b[1;33m\u001b[0m\u001b[0m\n\u001b[1;32m--> 319\u001b[1;33m         raise ValueError(\"Found input variables with inconsistent numbers of\"\n\u001b[0m\u001b[0;32m    320\u001b[0m                          \" samples: %r\" % [int(l) for l in lengths])\n\u001b[0;32m    321\u001b[0m \u001b[1;33m\u001b[0m\u001b[0m\n",
      "\u001b[1;31mValueError\u001b[0m: Found input variables with inconsistent numbers of samples: [17836, 2548]"
     ]
    }
   ],
   "source": [
    "X = np.array(tdf).reshape(-1,1)\n",
    "Y = tdf['TSLA Close']\n",
    "\n",
    "\n",
    "\n",
    "X_train, X_test, Y_train, Y_test = train_test_split(X, Y, random_state=101, test_size = 0.3)\n"
   ]
  },
  {
   "cell_type": "code",
   "execution_count": 139,
   "id": "f6b8cfb2",
   "metadata": {},
   "outputs": [
    {
     "ename": "ValueError",
     "evalue": "could not convert string to float: 'Nov 27, 2020'",
     "output_type": "error",
     "traceback": [
      "\u001b[1;31m---------------------------------------------------------------------------\u001b[0m",
      "\u001b[1;31mValueError\u001b[0m                                Traceback (most recent call last)",
      "\u001b[1;32m~\\AppData\\Local\\Temp/ipykernel_2636/1461911923.py\u001b[0m in \u001b[0;36m<module>\u001b[1;34m\u001b[0m\n\u001b[1;32m----> 1\u001b[1;33m \u001b[0mScaler\u001b[0m \u001b[1;33m=\u001b[0m \u001b[0mStandardScaler\u001b[0m\u001b[1;33m(\u001b[0m\u001b[1;33m)\u001b[0m\u001b[1;33m.\u001b[0m\u001b[0mfit\u001b[0m\u001b[1;33m(\u001b[0m\u001b[0mX_train\u001b[0m\u001b[1;33m)\u001b[0m\u001b[1;33m\u001b[0m\u001b[1;33m\u001b[0m\u001b[0m\n\u001b[0m",
      "\u001b[1;32mD:\\Programs\\Anaconda\\lib\\site-packages\\sklearn\\preprocessing\\_data.py\u001b[0m in \u001b[0;36mfit\u001b[1;34m(self, X, y, sample_weight)\u001b[0m\n\u001b[0;32m    728\u001b[0m         \u001b[1;31m# Reset internal state before fitting\u001b[0m\u001b[1;33m\u001b[0m\u001b[1;33m\u001b[0m\u001b[0m\n\u001b[0;32m    729\u001b[0m         \u001b[0mself\u001b[0m\u001b[1;33m.\u001b[0m\u001b[0m_reset\u001b[0m\u001b[1;33m(\u001b[0m\u001b[1;33m)\u001b[0m\u001b[1;33m\u001b[0m\u001b[1;33m\u001b[0m\u001b[0m\n\u001b[1;32m--> 730\u001b[1;33m         \u001b[1;32mreturn\u001b[0m \u001b[0mself\u001b[0m\u001b[1;33m.\u001b[0m\u001b[0mpartial_fit\u001b[0m\u001b[1;33m(\u001b[0m\u001b[0mX\u001b[0m\u001b[1;33m,\u001b[0m \u001b[0my\u001b[0m\u001b[1;33m,\u001b[0m \u001b[0msample_weight\u001b[0m\u001b[1;33m)\u001b[0m\u001b[1;33m\u001b[0m\u001b[1;33m\u001b[0m\u001b[0m\n\u001b[0m\u001b[0;32m    731\u001b[0m \u001b[1;33m\u001b[0m\u001b[0m\n\u001b[0;32m    732\u001b[0m     \u001b[1;32mdef\u001b[0m \u001b[0mpartial_fit\u001b[0m\u001b[1;33m(\u001b[0m\u001b[0mself\u001b[0m\u001b[1;33m,\u001b[0m \u001b[0mX\u001b[0m\u001b[1;33m,\u001b[0m \u001b[0my\u001b[0m\u001b[1;33m=\u001b[0m\u001b[1;32mNone\u001b[0m\u001b[1;33m,\u001b[0m \u001b[0msample_weight\u001b[0m\u001b[1;33m=\u001b[0m\u001b[1;32mNone\u001b[0m\u001b[1;33m)\u001b[0m\u001b[1;33m:\u001b[0m\u001b[1;33m\u001b[0m\u001b[1;33m\u001b[0m\u001b[0m\n",
      "\u001b[1;32mD:\\Programs\\Anaconda\\lib\\site-packages\\sklearn\\preprocessing\\_data.py\u001b[0m in \u001b[0;36mpartial_fit\u001b[1;34m(self, X, y, sample_weight)\u001b[0m\n\u001b[0;32m    764\u001b[0m         \"\"\"\n\u001b[0;32m    765\u001b[0m         \u001b[0mfirst_call\u001b[0m \u001b[1;33m=\u001b[0m \u001b[1;32mnot\u001b[0m \u001b[0mhasattr\u001b[0m\u001b[1;33m(\u001b[0m\u001b[0mself\u001b[0m\u001b[1;33m,\u001b[0m \u001b[1;34m\"n_samples_seen_\"\u001b[0m\u001b[1;33m)\u001b[0m\u001b[1;33m\u001b[0m\u001b[1;33m\u001b[0m\u001b[0m\n\u001b[1;32m--> 766\u001b[1;33m         X = self._validate_data(X, accept_sparse=('csr', 'csc'),\n\u001b[0m\u001b[0;32m    767\u001b[0m                                 \u001b[0mestimator\u001b[0m\u001b[1;33m=\u001b[0m\u001b[0mself\u001b[0m\u001b[1;33m,\u001b[0m \u001b[0mdtype\u001b[0m\u001b[1;33m=\u001b[0m\u001b[0mFLOAT_DTYPES\u001b[0m\u001b[1;33m,\u001b[0m\u001b[1;33m\u001b[0m\u001b[1;33m\u001b[0m\u001b[0m\n\u001b[0;32m    768\u001b[0m                                 force_all_finite='allow-nan', reset=first_call)\n",
      "\u001b[1;32mD:\\Programs\\Anaconda\\lib\\site-packages\\sklearn\\base.py\u001b[0m in \u001b[0;36m_validate_data\u001b[1;34m(self, X, y, reset, validate_separately, **check_params)\u001b[0m\n\u001b[0;32m    419\u001b[0m             \u001b[0mout\u001b[0m \u001b[1;33m=\u001b[0m \u001b[0mX\u001b[0m\u001b[1;33m\u001b[0m\u001b[1;33m\u001b[0m\u001b[0m\n\u001b[0;32m    420\u001b[0m         \u001b[1;32melif\u001b[0m \u001b[0misinstance\u001b[0m\u001b[1;33m(\u001b[0m\u001b[0my\u001b[0m\u001b[1;33m,\u001b[0m \u001b[0mstr\u001b[0m\u001b[1;33m)\u001b[0m \u001b[1;32mand\u001b[0m \u001b[0my\u001b[0m \u001b[1;33m==\u001b[0m \u001b[1;34m'no_validation'\u001b[0m\u001b[1;33m:\u001b[0m\u001b[1;33m\u001b[0m\u001b[1;33m\u001b[0m\u001b[0m\n\u001b[1;32m--> 421\u001b[1;33m             \u001b[0mX\u001b[0m \u001b[1;33m=\u001b[0m \u001b[0mcheck_array\u001b[0m\u001b[1;33m(\u001b[0m\u001b[0mX\u001b[0m\u001b[1;33m,\u001b[0m \u001b[1;33m**\u001b[0m\u001b[0mcheck_params\u001b[0m\u001b[1;33m)\u001b[0m\u001b[1;33m\u001b[0m\u001b[1;33m\u001b[0m\u001b[0m\n\u001b[0m\u001b[0;32m    422\u001b[0m             \u001b[0mout\u001b[0m \u001b[1;33m=\u001b[0m \u001b[0mX\u001b[0m\u001b[1;33m\u001b[0m\u001b[1;33m\u001b[0m\u001b[0m\n\u001b[0;32m    423\u001b[0m         \u001b[1;32melse\u001b[0m\u001b[1;33m:\u001b[0m\u001b[1;33m\u001b[0m\u001b[1;33m\u001b[0m\u001b[0m\n",
      "\u001b[1;32mD:\\Programs\\Anaconda\\lib\\site-packages\\sklearn\\utils\\validation.py\u001b[0m in \u001b[0;36minner_f\u001b[1;34m(*args, **kwargs)\u001b[0m\n\u001b[0;32m     61\u001b[0m             \u001b[0mextra_args\u001b[0m \u001b[1;33m=\u001b[0m \u001b[0mlen\u001b[0m\u001b[1;33m(\u001b[0m\u001b[0margs\u001b[0m\u001b[1;33m)\u001b[0m \u001b[1;33m-\u001b[0m \u001b[0mlen\u001b[0m\u001b[1;33m(\u001b[0m\u001b[0mall_args\u001b[0m\u001b[1;33m)\u001b[0m\u001b[1;33m\u001b[0m\u001b[1;33m\u001b[0m\u001b[0m\n\u001b[0;32m     62\u001b[0m             \u001b[1;32mif\u001b[0m \u001b[0mextra_args\u001b[0m \u001b[1;33m<=\u001b[0m \u001b[1;36m0\u001b[0m\u001b[1;33m:\u001b[0m\u001b[1;33m\u001b[0m\u001b[1;33m\u001b[0m\u001b[0m\n\u001b[1;32m---> 63\u001b[1;33m                 \u001b[1;32mreturn\u001b[0m \u001b[0mf\u001b[0m\u001b[1;33m(\u001b[0m\u001b[1;33m*\u001b[0m\u001b[0margs\u001b[0m\u001b[1;33m,\u001b[0m \u001b[1;33m**\u001b[0m\u001b[0mkwargs\u001b[0m\u001b[1;33m)\u001b[0m\u001b[1;33m\u001b[0m\u001b[1;33m\u001b[0m\u001b[0m\n\u001b[0m\u001b[0;32m     64\u001b[0m \u001b[1;33m\u001b[0m\u001b[0m\n\u001b[0;32m     65\u001b[0m             \u001b[1;31m# extra_args > 0\u001b[0m\u001b[1;33m\u001b[0m\u001b[1;33m\u001b[0m\u001b[0m\n",
      "\u001b[1;32mD:\\Programs\\Anaconda\\lib\\site-packages\\sklearn\\utils\\validation.py\u001b[0m in \u001b[0;36mcheck_array\u001b[1;34m(array, accept_sparse, accept_large_sparse, dtype, order, copy, force_all_finite, ensure_2d, allow_nd, ensure_min_samples, ensure_min_features, estimator)\u001b[0m\n\u001b[0;32m    671\u001b[0m                     \u001b[0marray\u001b[0m \u001b[1;33m=\u001b[0m \u001b[0marray\u001b[0m\u001b[1;33m.\u001b[0m\u001b[0mastype\u001b[0m\u001b[1;33m(\u001b[0m\u001b[0mdtype\u001b[0m\u001b[1;33m,\u001b[0m \u001b[0mcasting\u001b[0m\u001b[1;33m=\u001b[0m\u001b[1;34m\"unsafe\"\u001b[0m\u001b[1;33m,\u001b[0m \u001b[0mcopy\u001b[0m\u001b[1;33m=\u001b[0m\u001b[1;32mFalse\u001b[0m\u001b[1;33m)\u001b[0m\u001b[1;33m\u001b[0m\u001b[1;33m\u001b[0m\u001b[0m\n\u001b[0;32m    672\u001b[0m                 \u001b[1;32melse\u001b[0m\u001b[1;33m:\u001b[0m\u001b[1;33m\u001b[0m\u001b[1;33m\u001b[0m\u001b[0m\n\u001b[1;32m--> 673\u001b[1;33m                     \u001b[0marray\u001b[0m \u001b[1;33m=\u001b[0m \u001b[0mnp\u001b[0m\u001b[1;33m.\u001b[0m\u001b[0masarray\u001b[0m\u001b[1;33m(\u001b[0m\u001b[0marray\u001b[0m\u001b[1;33m,\u001b[0m \u001b[0morder\u001b[0m\u001b[1;33m=\u001b[0m\u001b[0morder\u001b[0m\u001b[1;33m,\u001b[0m \u001b[0mdtype\u001b[0m\u001b[1;33m=\u001b[0m\u001b[0mdtype\u001b[0m\u001b[1;33m)\u001b[0m\u001b[1;33m\u001b[0m\u001b[1;33m\u001b[0m\u001b[0m\n\u001b[0m\u001b[0;32m    674\u001b[0m             \u001b[1;32mexcept\u001b[0m \u001b[0mComplexWarning\u001b[0m \u001b[1;32mas\u001b[0m \u001b[0mcomplex_warning\u001b[0m\u001b[1;33m:\u001b[0m\u001b[1;33m\u001b[0m\u001b[1;33m\u001b[0m\u001b[0m\n\u001b[0;32m    675\u001b[0m                 raise ValueError(\"Complex data not supported\\n\"\n",
      "\u001b[1;32mD:\\Programs\\Anaconda\\lib\\site-packages\\numpy\\core\\_asarray.py\u001b[0m in \u001b[0;36masarray\u001b[1;34m(a, dtype, order, like)\u001b[0m\n\u001b[0;32m    100\u001b[0m         \u001b[1;32mreturn\u001b[0m \u001b[0m_asarray_with_like\u001b[0m\u001b[1;33m(\u001b[0m\u001b[0ma\u001b[0m\u001b[1;33m,\u001b[0m \u001b[0mdtype\u001b[0m\u001b[1;33m=\u001b[0m\u001b[0mdtype\u001b[0m\u001b[1;33m,\u001b[0m \u001b[0morder\u001b[0m\u001b[1;33m=\u001b[0m\u001b[0morder\u001b[0m\u001b[1;33m,\u001b[0m \u001b[0mlike\u001b[0m\u001b[1;33m=\u001b[0m\u001b[0mlike\u001b[0m\u001b[1;33m)\u001b[0m\u001b[1;33m\u001b[0m\u001b[1;33m\u001b[0m\u001b[0m\n\u001b[0;32m    101\u001b[0m \u001b[1;33m\u001b[0m\u001b[0m\n\u001b[1;32m--> 102\u001b[1;33m     \u001b[1;32mreturn\u001b[0m \u001b[0marray\u001b[0m\u001b[1;33m(\u001b[0m\u001b[0ma\u001b[0m\u001b[1;33m,\u001b[0m \u001b[0mdtype\u001b[0m\u001b[1;33m,\u001b[0m \u001b[0mcopy\u001b[0m\u001b[1;33m=\u001b[0m\u001b[1;32mFalse\u001b[0m\u001b[1;33m,\u001b[0m \u001b[0morder\u001b[0m\u001b[1;33m=\u001b[0m\u001b[0morder\u001b[0m\u001b[1;33m)\u001b[0m\u001b[1;33m\u001b[0m\u001b[1;33m\u001b[0m\u001b[0m\n\u001b[0m\u001b[0;32m    103\u001b[0m \u001b[1;33m\u001b[0m\u001b[0m\n\u001b[0;32m    104\u001b[0m \u001b[1;33m\u001b[0m\u001b[0m\n",
      "\u001b[1;31mValueError\u001b[0m: could not convert string to float: 'Nov 27, 2020'"
     ]
    }
   ],
   "source": [
    "Scaler = StandardScaler().fit(X_train)"
   ]
  },
  {
   "cell_type": "code",
   "execution_count": 140,
   "id": "b3c7e874",
   "metadata": {},
   "outputs": [
    {
     "ename": "ValueError",
     "evalue": "could not convert string to float: 'Nov 27, 2020'",
     "output_type": "error",
     "traceback": [
      "\u001b[1;31m---------------------------------------------------------------------------\u001b[0m",
      "\u001b[1;31mValueError\u001b[0m                                Traceback (most recent call last)",
      "\u001b[1;32m~\\AppData\\Local\\Temp/ipykernel_2636/3711272008.py\u001b[0m in \u001b[0;36m<module>\u001b[1;34m\u001b[0m\n\u001b[0;32m      1\u001b[0m \u001b[0mlm\u001b[0m \u001b[1;33m=\u001b[0m \u001b[0mLinearRegression\u001b[0m\u001b[1;33m(\u001b[0m\u001b[1;33m)\u001b[0m\u001b[1;33m\u001b[0m\u001b[1;33m\u001b[0m\u001b[0m\n\u001b[1;32m----> 2\u001b[1;33m \u001b[0mlm\u001b[0m\u001b[1;33m.\u001b[0m\u001b[0mfit\u001b[0m\u001b[1;33m(\u001b[0m\u001b[0mX_train\u001b[0m\u001b[1;33m,\u001b[0m\u001b[0mY_train\u001b[0m\u001b[1;33m)\u001b[0m\u001b[1;33m\u001b[0m\u001b[1;33m\u001b[0m\u001b[0m\n\u001b[0m",
      "\u001b[1;32mD:\\Programs\\Anaconda\\lib\\site-packages\\sklearn\\linear_model\\_base.py\u001b[0m in \u001b[0;36mfit\u001b[1;34m(self, X, y, sample_weight)\u001b[0m\n\u001b[0;32m    516\u001b[0m         \u001b[0maccept_sparse\u001b[0m \u001b[1;33m=\u001b[0m \u001b[1;32mFalse\u001b[0m \u001b[1;32mif\u001b[0m \u001b[0mself\u001b[0m\u001b[1;33m.\u001b[0m\u001b[0mpositive\u001b[0m \u001b[1;32melse\u001b[0m \u001b[1;33m[\u001b[0m\u001b[1;34m'csr'\u001b[0m\u001b[1;33m,\u001b[0m \u001b[1;34m'csc'\u001b[0m\u001b[1;33m,\u001b[0m \u001b[1;34m'coo'\u001b[0m\u001b[1;33m]\u001b[0m\u001b[1;33m\u001b[0m\u001b[1;33m\u001b[0m\u001b[0m\n\u001b[0;32m    517\u001b[0m \u001b[1;33m\u001b[0m\u001b[0m\n\u001b[1;32m--> 518\u001b[1;33m         X, y = self._validate_data(X, y, accept_sparse=accept_sparse,\n\u001b[0m\u001b[0;32m    519\u001b[0m                                    y_numeric=True, multi_output=True)\n\u001b[0;32m    520\u001b[0m \u001b[1;33m\u001b[0m\u001b[0m\n",
      "\u001b[1;32mD:\\Programs\\Anaconda\\lib\\site-packages\\sklearn\\base.py\u001b[0m in \u001b[0;36m_validate_data\u001b[1;34m(self, X, y, reset, validate_separately, **check_params)\u001b[0m\n\u001b[0;32m    431\u001b[0m                 \u001b[0my\u001b[0m \u001b[1;33m=\u001b[0m \u001b[0mcheck_array\u001b[0m\u001b[1;33m(\u001b[0m\u001b[0my\u001b[0m\u001b[1;33m,\u001b[0m \u001b[1;33m**\u001b[0m\u001b[0mcheck_y_params\u001b[0m\u001b[1;33m)\u001b[0m\u001b[1;33m\u001b[0m\u001b[1;33m\u001b[0m\u001b[0m\n\u001b[0;32m    432\u001b[0m             \u001b[1;32melse\u001b[0m\u001b[1;33m:\u001b[0m\u001b[1;33m\u001b[0m\u001b[1;33m\u001b[0m\u001b[0m\n\u001b[1;32m--> 433\u001b[1;33m                 \u001b[0mX\u001b[0m\u001b[1;33m,\u001b[0m \u001b[0my\u001b[0m \u001b[1;33m=\u001b[0m \u001b[0mcheck_X_y\u001b[0m\u001b[1;33m(\u001b[0m\u001b[0mX\u001b[0m\u001b[1;33m,\u001b[0m \u001b[0my\u001b[0m\u001b[1;33m,\u001b[0m \u001b[1;33m**\u001b[0m\u001b[0mcheck_params\u001b[0m\u001b[1;33m)\u001b[0m\u001b[1;33m\u001b[0m\u001b[1;33m\u001b[0m\u001b[0m\n\u001b[0m\u001b[0;32m    434\u001b[0m             \u001b[0mout\u001b[0m \u001b[1;33m=\u001b[0m \u001b[0mX\u001b[0m\u001b[1;33m,\u001b[0m \u001b[0my\u001b[0m\u001b[1;33m\u001b[0m\u001b[1;33m\u001b[0m\u001b[0m\n\u001b[0;32m    435\u001b[0m \u001b[1;33m\u001b[0m\u001b[0m\n",
      "\u001b[1;32mD:\\Programs\\Anaconda\\lib\\site-packages\\sklearn\\utils\\validation.py\u001b[0m in \u001b[0;36minner_f\u001b[1;34m(*args, **kwargs)\u001b[0m\n\u001b[0;32m     61\u001b[0m             \u001b[0mextra_args\u001b[0m \u001b[1;33m=\u001b[0m \u001b[0mlen\u001b[0m\u001b[1;33m(\u001b[0m\u001b[0margs\u001b[0m\u001b[1;33m)\u001b[0m \u001b[1;33m-\u001b[0m \u001b[0mlen\u001b[0m\u001b[1;33m(\u001b[0m\u001b[0mall_args\u001b[0m\u001b[1;33m)\u001b[0m\u001b[1;33m\u001b[0m\u001b[1;33m\u001b[0m\u001b[0m\n\u001b[0;32m     62\u001b[0m             \u001b[1;32mif\u001b[0m \u001b[0mextra_args\u001b[0m \u001b[1;33m<=\u001b[0m \u001b[1;36m0\u001b[0m\u001b[1;33m:\u001b[0m\u001b[1;33m\u001b[0m\u001b[1;33m\u001b[0m\u001b[0m\n\u001b[1;32m---> 63\u001b[1;33m                 \u001b[1;32mreturn\u001b[0m \u001b[0mf\u001b[0m\u001b[1;33m(\u001b[0m\u001b[1;33m*\u001b[0m\u001b[0margs\u001b[0m\u001b[1;33m,\u001b[0m \u001b[1;33m**\u001b[0m\u001b[0mkwargs\u001b[0m\u001b[1;33m)\u001b[0m\u001b[1;33m\u001b[0m\u001b[1;33m\u001b[0m\u001b[0m\n\u001b[0m\u001b[0;32m     64\u001b[0m \u001b[1;33m\u001b[0m\u001b[0m\n\u001b[0;32m     65\u001b[0m             \u001b[1;31m# extra_args > 0\u001b[0m\u001b[1;33m\u001b[0m\u001b[1;33m\u001b[0m\u001b[0m\n",
      "\u001b[1;32mD:\\Programs\\Anaconda\\lib\\site-packages\\sklearn\\utils\\validation.py\u001b[0m in \u001b[0;36mcheck_X_y\u001b[1;34m(X, y, accept_sparse, accept_large_sparse, dtype, order, copy, force_all_finite, ensure_2d, allow_nd, multi_output, ensure_min_samples, ensure_min_features, y_numeric, estimator)\u001b[0m\n\u001b[0;32m    869\u001b[0m         \u001b[1;32mraise\u001b[0m \u001b[0mValueError\u001b[0m\u001b[1;33m(\u001b[0m\u001b[1;34m\"y cannot be None\"\u001b[0m\u001b[1;33m)\u001b[0m\u001b[1;33m\u001b[0m\u001b[1;33m\u001b[0m\u001b[0m\n\u001b[0;32m    870\u001b[0m \u001b[1;33m\u001b[0m\u001b[0m\n\u001b[1;32m--> 871\u001b[1;33m     X = check_array(X, accept_sparse=accept_sparse,\n\u001b[0m\u001b[0;32m    872\u001b[0m                     \u001b[0maccept_large_sparse\u001b[0m\u001b[1;33m=\u001b[0m\u001b[0maccept_large_sparse\u001b[0m\u001b[1;33m,\u001b[0m\u001b[1;33m\u001b[0m\u001b[1;33m\u001b[0m\u001b[0m\n\u001b[0;32m    873\u001b[0m                     \u001b[0mdtype\u001b[0m\u001b[1;33m=\u001b[0m\u001b[0mdtype\u001b[0m\u001b[1;33m,\u001b[0m \u001b[0morder\u001b[0m\u001b[1;33m=\u001b[0m\u001b[0morder\u001b[0m\u001b[1;33m,\u001b[0m \u001b[0mcopy\u001b[0m\u001b[1;33m=\u001b[0m\u001b[0mcopy\u001b[0m\u001b[1;33m,\u001b[0m\u001b[1;33m\u001b[0m\u001b[1;33m\u001b[0m\u001b[0m\n",
      "\u001b[1;32mD:\\Programs\\Anaconda\\lib\\site-packages\\sklearn\\utils\\validation.py\u001b[0m in \u001b[0;36minner_f\u001b[1;34m(*args, **kwargs)\u001b[0m\n\u001b[0;32m     61\u001b[0m             \u001b[0mextra_args\u001b[0m \u001b[1;33m=\u001b[0m \u001b[0mlen\u001b[0m\u001b[1;33m(\u001b[0m\u001b[0margs\u001b[0m\u001b[1;33m)\u001b[0m \u001b[1;33m-\u001b[0m \u001b[0mlen\u001b[0m\u001b[1;33m(\u001b[0m\u001b[0mall_args\u001b[0m\u001b[1;33m)\u001b[0m\u001b[1;33m\u001b[0m\u001b[1;33m\u001b[0m\u001b[0m\n\u001b[0;32m     62\u001b[0m             \u001b[1;32mif\u001b[0m \u001b[0mextra_args\u001b[0m \u001b[1;33m<=\u001b[0m \u001b[1;36m0\u001b[0m\u001b[1;33m:\u001b[0m\u001b[1;33m\u001b[0m\u001b[1;33m\u001b[0m\u001b[0m\n\u001b[1;32m---> 63\u001b[1;33m                 \u001b[1;32mreturn\u001b[0m \u001b[0mf\u001b[0m\u001b[1;33m(\u001b[0m\u001b[1;33m*\u001b[0m\u001b[0margs\u001b[0m\u001b[1;33m,\u001b[0m \u001b[1;33m**\u001b[0m\u001b[0mkwargs\u001b[0m\u001b[1;33m)\u001b[0m\u001b[1;33m\u001b[0m\u001b[1;33m\u001b[0m\u001b[0m\n\u001b[0m\u001b[0;32m     64\u001b[0m \u001b[1;33m\u001b[0m\u001b[0m\n\u001b[0;32m     65\u001b[0m             \u001b[1;31m# extra_args > 0\u001b[0m\u001b[1;33m\u001b[0m\u001b[1;33m\u001b[0m\u001b[0m\n",
      "\u001b[1;32mD:\\Programs\\Anaconda\\lib\\site-packages\\sklearn\\utils\\validation.py\u001b[0m in \u001b[0;36mcheck_array\u001b[1;34m(array, accept_sparse, accept_large_sparse, dtype, order, copy, force_all_finite, ensure_2d, allow_nd, ensure_min_samples, ensure_min_features, estimator)\u001b[0m\n\u001b[0;32m    671\u001b[0m                     \u001b[0marray\u001b[0m \u001b[1;33m=\u001b[0m \u001b[0marray\u001b[0m\u001b[1;33m.\u001b[0m\u001b[0mastype\u001b[0m\u001b[1;33m(\u001b[0m\u001b[0mdtype\u001b[0m\u001b[1;33m,\u001b[0m \u001b[0mcasting\u001b[0m\u001b[1;33m=\u001b[0m\u001b[1;34m\"unsafe\"\u001b[0m\u001b[1;33m,\u001b[0m \u001b[0mcopy\u001b[0m\u001b[1;33m=\u001b[0m\u001b[1;32mFalse\u001b[0m\u001b[1;33m)\u001b[0m\u001b[1;33m\u001b[0m\u001b[1;33m\u001b[0m\u001b[0m\n\u001b[0;32m    672\u001b[0m                 \u001b[1;32melse\u001b[0m\u001b[1;33m:\u001b[0m\u001b[1;33m\u001b[0m\u001b[1;33m\u001b[0m\u001b[0m\n\u001b[1;32m--> 673\u001b[1;33m                     \u001b[0marray\u001b[0m \u001b[1;33m=\u001b[0m \u001b[0mnp\u001b[0m\u001b[1;33m.\u001b[0m\u001b[0masarray\u001b[0m\u001b[1;33m(\u001b[0m\u001b[0marray\u001b[0m\u001b[1;33m,\u001b[0m \u001b[0morder\u001b[0m\u001b[1;33m=\u001b[0m\u001b[0morder\u001b[0m\u001b[1;33m,\u001b[0m \u001b[0mdtype\u001b[0m\u001b[1;33m=\u001b[0m\u001b[0mdtype\u001b[0m\u001b[1;33m)\u001b[0m\u001b[1;33m\u001b[0m\u001b[1;33m\u001b[0m\u001b[0m\n\u001b[0m\u001b[0;32m    674\u001b[0m             \u001b[1;32mexcept\u001b[0m \u001b[0mComplexWarning\u001b[0m \u001b[1;32mas\u001b[0m \u001b[0mcomplex_warning\u001b[0m\u001b[1;33m:\u001b[0m\u001b[1;33m\u001b[0m\u001b[1;33m\u001b[0m\u001b[0m\n\u001b[0;32m    675\u001b[0m                 raise ValueError(\"Complex data not supported\\n\"\n",
      "\u001b[1;32mD:\\Programs\\Anaconda\\lib\\site-packages\\numpy\\core\\_asarray.py\u001b[0m in \u001b[0;36masarray\u001b[1;34m(a, dtype, order, like)\u001b[0m\n\u001b[0;32m    100\u001b[0m         \u001b[1;32mreturn\u001b[0m \u001b[0m_asarray_with_like\u001b[0m\u001b[1;33m(\u001b[0m\u001b[0ma\u001b[0m\u001b[1;33m,\u001b[0m \u001b[0mdtype\u001b[0m\u001b[1;33m=\u001b[0m\u001b[0mdtype\u001b[0m\u001b[1;33m,\u001b[0m \u001b[0morder\u001b[0m\u001b[1;33m=\u001b[0m\u001b[0morder\u001b[0m\u001b[1;33m,\u001b[0m \u001b[0mlike\u001b[0m\u001b[1;33m=\u001b[0m\u001b[0mlike\u001b[0m\u001b[1;33m)\u001b[0m\u001b[1;33m\u001b[0m\u001b[1;33m\u001b[0m\u001b[0m\n\u001b[0;32m    101\u001b[0m \u001b[1;33m\u001b[0m\u001b[0m\n\u001b[1;32m--> 102\u001b[1;33m     \u001b[1;32mreturn\u001b[0m \u001b[0marray\u001b[0m\u001b[1;33m(\u001b[0m\u001b[0ma\u001b[0m\u001b[1;33m,\u001b[0m \u001b[0mdtype\u001b[0m\u001b[1;33m,\u001b[0m \u001b[0mcopy\u001b[0m\u001b[1;33m=\u001b[0m\u001b[1;32mFalse\u001b[0m\u001b[1;33m,\u001b[0m \u001b[0morder\u001b[0m\u001b[1;33m=\u001b[0m\u001b[0morder\u001b[0m\u001b[1;33m)\u001b[0m\u001b[1;33m\u001b[0m\u001b[1;33m\u001b[0m\u001b[0m\n\u001b[0m\u001b[0;32m    103\u001b[0m \u001b[1;33m\u001b[0m\u001b[0m\n\u001b[0;32m    104\u001b[0m \u001b[1;33m\u001b[0m\u001b[0m\n",
      "\u001b[1;31mValueError\u001b[0m: could not convert string to float: 'Nov 27, 2020'"
     ]
    }
   ],
   "source": [
    "lm = LinearRegression()\n",
    "lm.fit(X_train,Y_train)"
   ]
  },
  {
   "cell_type": "code",
   "execution_count": 159,
   "id": "b1ed9e2d",
   "metadata": {},
   "outputs": [
    {
     "ename": "NotFittedError",
     "evalue": "This LinearRegression instance is not fitted yet. Call 'fit' with appropriate arguments before using this estimator.",
     "output_type": "error",
     "traceback": [
      "\u001b[1;31m---------------------------------------------------------------------------\u001b[0m",
      "\u001b[1;31mNotFittedError\u001b[0m                            Traceback (most recent call last)",
      "\u001b[1;32m~\\AppData\\Local\\Temp/ipykernel_2636/2435383076.py\u001b[0m in \u001b[0;36m<module>\u001b[1;34m\u001b[0m\n\u001b[0;32m      7\u001b[0m trace1 = go.Scatter(\n\u001b[0;32m      8\u001b[0m     \u001b[0mx\u001b[0m \u001b[1;33m=\u001b[0m \u001b[0mX_train\u001b[0m\u001b[1;33m.\u001b[0m\u001b[0mT\u001b[0m\u001b[1;33m[\u001b[0m\u001b[1;36m0\u001b[0m\u001b[1;33m]\u001b[0m\u001b[1;33m,\u001b[0m\u001b[1;33m\u001b[0m\u001b[1;33m\u001b[0m\u001b[0m\n\u001b[1;32m----> 9\u001b[1;33m     \u001b[0my\u001b[0m \u001b[1;33m=\u001b[0m \u001b[0mlm\u001b[0m\u001b[1;33m.\u001b[0m\u001b[0mpredict\u001b[0m\u001b[1;33m(\u001b[0m\u001b[0mX_train\u001b[0m\u001b[1;33m)\u001b[0m\u001b[1;33m.\u001b[0m\u001b[0mT\u001b[0m\u001b[1;33m,\u001b[0m\u001b[1;33m\u001b[0m\u001b[1;33m\u001b[0m\u001b[0m\n\u001b[0m\u001b[0;32m     10\u001b[0m     \u001b[0mmode\u001b[0m \u001b[1;33m=\u001b[0m \u001b[1;34m'lines'\u001b[0m\u001b[1;33m,\u001b[0m\u001b[1;33m\u001b[0m\u001b[1;33m\u001b[0m\u001b[0m\n\u001b[0;32m     11\u001b[0m     \u001b[0mname\u001b[0m \u001b[1;33m=\u001b[0m \u001b[1;34m'Predicted'\u001b[0m\u001b[1;33m\u001b[0m\u001b[1;33m\u001b[0m\u001b[0m\n",
      "\u001b[1;32mD:\\Programs\\Anaconda\\lib\\site-packages\\sklearn\\linear_model\\_base.py\u001b[0m in \u001b[0;36mpredict\u001b[1;34m(self, X)\u001b[0m\n\u001b[0;32m    236\u001b[0m             \u001b[0mReturns\u001b[0m \u001b[0mpredicted\u001b[0m \u001b[0mvalues\u001b[0m\u001b[1;33m.\u001b[0m\u001b[1;33m\u001b[0m\u001b[1;33m\u001b[0m\u001b[0m\n\u001b[0;32m    237\u001b[0m         \"\"\"\n\u001b[1;32m--> 238\u001b[1;33m         \u001b[1;32mreturn\u001b[0m \u001b[0mself\u001b[0m\u001b[1;33m.\u001b[0m\u001b[0m_decision_function\u001b[0m\u001b[1;33m(\u001b[0m\u001b[0mX\u001b[0m\u001b[1;33m)\u001b[0m\u001b[1;33m\u001b[0m\u001b[1;33m\u001b[0m\u001b[0m\n\u001b[0m\u001b[0;32m    239\u001b[0m \u001b[1;33m\u001b[0m\u001b[0m\n\u001b[0;32m    240\u001b[0m     \u001b[0m_preprocess_data\u001b[0m \u001b[1;33m=\u001b[0m \u001b[0mstaticmethod\u001b[0m\u001b[1;33m(\u001b[0m\u001b[0m_preprocess_data\u001b[0m\u001b[1;33m)\u001b[0m\u001b[1;33m\u001b[0m\u001b[1;33m\u001b[0m\u001b[0m\n",
      "\u001b[1;32mD:\\Programs\\Anaconda\\lib\\site-packages\\sklearn\\linear_model\\_base.py\u001b[0m in \u001b[0;36m_decision_function\u001b[1;34m(self, X)\u001b[0m\n\u001b[0;32m    216\u001b[0m \u001b[1;33m\u001b[0m\u001b[0m\n\u001b[0;32m    217\u001b[0m     \u001b[1;32mdef\u001b[0m \u001b[0m_decision_function\u001b[0m\u001b[1;33m(\u001b[0m\u001b[0mself\u001b[0m\u001b[1;33m,\u001b[0m \u001b[0mX\u001b[0m\u001b[1;33m)\u001b[0m\u001b[1;33m:\u001b[0m\u001b[1;33m\u001b[0m\u001b[1;33m\u001b[0m\u001b[0m\n\u001b[1;32m--> 218\u001b[1;33m         \u001b[0mcheck_is_fitted\u001b[0m\u001b[1;33m(\u001b[0m\u001b[0mself\u001b[0m\u001b[1;33m)\u001b[0m\u001b[1;33m\u001b[0m\u001b[1;33m\u001b[0m\u001b[0m\n\u001b[0m\u001b[0;32m    219\u001b[0m \u001b[1;33m\u001b[0m\u001b[0m\n\u001b[0;32m    220\u001b[0m         \u001b[0mX\u001b[0m \u001b[1;33m=\u001b[0m \u001b[0mcheck_array\u001b[0m\u001b[1;33m(\u001b[0m\u001b[0mX\u001b[0m\u001b[1;33m,\u001b[0m \u001b[0maccept_sparse\u001b[0m\u001b[1;33m=\u001b[0m\u001b[1;33m[\u001b[0m\u001b[1;34m'csr'\u001b[0m\u001b[1;33m,\u001b[0m \u001b[1;34m'csc'\u001b[0m\u001b[1;33m,\u001b[0m \u001b[1;34m'coo'\u001b[0m\u001b[1;33m]\u001b[0m\u001b[1;33m)\u001b[0m\u001b[1;33m\u001b[0m\u001b[1;33m\u001b[0m\u001b[0m\n",
      "\u001b[1;32mD:\\Programs\\Anaconda\\lib\\site-packages\\sklearn\\utils\\validation.py\u001b[0m in \u001b[0;36minner_f\u001b[1;34m(*args, **kwargs)\u001b[0m\n\u001b[0;32m     61\u001b[0m             \u001b[0mextra_args\u001b[0m \u001b[1;33m=\u001b[0m \u001b[0mlen\u001b[0m\u001b[1;33m(\u001b[0m\u001b[0margs\u001b[0m\u001b[1;33m)\u001b[0m \u001b[1;33m-\u001b[0m \u001b[0mlen\u001b[0m\u001b[1;33m(\u001b[0m\u001b[0mall_args\u001b[0m\u001b[1;33m)\u001b[0m\u001b[1;33m\u001b[0m\u001b[1;33m\u001b[0m\u001b[0m\n\u001b[0;32m     62\u001b[0m             \u001b[1;32mif\u001b[0m \u001b[0mextra_args\u001b[0m \u001b[1;33m<=\u001b[0m \u001b[1;36m0\u001b[0m\u001b[1;33m:\u001b[0m\u001b[1;33m\u001b[0m\u001b[1;33m\u001b[0m\u001b[0m\n\u001b[1;32m---> 63\u001b[1;33m                 \u001b[1;32mreturn\u001b[0m \u001b[0mf\u001b[0m\u001b[1;33m(\u001b[0m\u001b[1;33m*\u001b[0m\u001b[0margs\u001b[0m\u001b[1;33m,\u001b[0m \u001b[1;33m**\u001b[0m\u001b[0mkwargs\u001b[0m\u001b[1;33m)\u001b[0m\u001b[1;33m\u001b[0m\u001b[1;33m\u001b[0m\u001b[0m\n\u001b[0m\u001b[0;32m     64\u001b[0m \u001b[1;33m\u001b[0m\u001b[0m\n\u001b[0;32m     65\u001b[0m             \u001b[1;31m# extra_args > 0\u001b[0m\u001b[1;33m\u001b[0m\u001b[1;33m\u001b[0m\u001b[0m\n",
      "\u001b[1;32mD:\\Programs\\Anaconda\\lib\\site-packages\\sklearn\\utils\\validation.py\u001b[0m in \u001b[0;36mcheck_is_fitted\u001b[1;34m(estimator, attributes, msg, all_or_any)\u001b[0m\n\u001b[0;32m   1096\u001b[0m \u001b[1;33m\u001b[0m\u001b[0m\n\u001b[0;32m   1097\u001b[0m     \u001b[1;32mif\u001b[0m \u001b[1;32mnot\u001b[0m \u001b[0mattrs\u001b[0m\u001b[1;33m:\u001b[0m\u001b[1;33m\u001b[0m\u001b[1;33m\u001b[0m\u001b[0m\n\u001b[1;32m-> 1098\u001b[1;33m         \u001b[1;32mraise\u001b[0m \u001b[0mNotFittedError\u001b[0m\u001b[1;33m(\u001b[0m\u001b[0mmsg\u001b[0m \u001b[1;33m%\u001b[0m \u001b[1;33m{\u001b[0m\u001b[1;34m'name'\u001b[0m\u001b[1;33m:\u001b[0m \u001b[0mtype\u001b[0m\u001b[1;33m(\u001b[0m\u001b[0mestimator\u001b[0m\u001b[1;33m)\u001b[0m\u001b[1;33m.\u001b[0m\u001b[0m__name__\u001b[0m\u001b[1;33m}\u001b[0m\u001b[1;33m)\u001b[0m\u001b[1;33m\u001b[0m\u001b[1;33m\u001b[0m\u001b[0m\n\u001b[0m\u001b[0;32m   1099\u001b[0m \u001b[1;33m\u001b[0m\u001b[0m\n\u001b[0;32m   1100\u001b[0m \u001b[1;33m\u001b[0m\u001b[0m\n",
      "\u001b[1;31mNotFittedError\u001b[0m: This LinearRegression instance is not fitted yet. Call 'fit' with appropriate arguments before using this estimator."
     ]
    }
   ],
   "source": [
    "trace0 = go.Scatter(\n",
    "    x = X_train.T[0],\n",
    "    y = Y_train,\n",
    "    mode = 'markers',\n",
    "    name = 'Actual'\n",
    ")\n",
    "trace1 = go.Scatter(\n",
    "    x = X_train.T[0],\n",
    "    y = lm.predict(X_train).T,\n",
    "    mode = 'lines',\n",
    "    name = 'Predicted'\n",
    ")\n",
    "tesla_data =[trace0,trace1]\n",
    "layout.xaxis.title.text = 'Day'\n",
    "plot2 =go.Figure(data = tesla_data, layout = layout)"
   ]
  },
  {
   "cell_type": "code",
   "execution_count": 142,
   "id": "f0fbae6f",
   "metadata": {},
   "outputs": [
    {
     "data": {
      "application/vnd.plotly.v1+json": {
       "config": {
        "linkText": "Export to plot.ly",
        "plotlyServerURL": "https://plot.ly",
        "showLink": false
       },
       "data": [
        {
         "mode": "markers",
         "name": "Actual",
         "type": "scatter",
         "x": [
          448.35,
          29.61,
          48,
          1039.66,
          64.17,
          50.61,
          50.31,
          41.7,
          48.97,
          995.43,
          50.5,
          734.79,
          5.72,
          6.46,
          6.7,
          61.88,
          23.66,
          641.87,
          116.18,
          37.02,
          51.62,
          42.47,
          59.6,
          6.57,
          678.98,
          1003.31,
          45.64,
          5.38,
          856.3,
          6.76,
          45.28,
          68.03,
          87.64,
          59.35,
          72.21,
          45.81,
          126.48,
          8.36,
          60.96,
          6.39,
          74.88,
          442,
          6.63,
          50.28,
          71.2,
          63.45,
          14.02,
          6.86,
          57.44,
          87,
          30,
          6.95,
          6.6,
          70.35,
          51.3,
          40.89,
          5.6,
          56.7,
          5.2,
          52.5,
          6.96,
          904.76,
          60.2,
          115.14,
          424.62,
          50.41,
          42.64,
          63.2,
          39.88,
          139.79,
          64.17,
          55.4,
          73.52,
          407.23,
          45.2,
          42.09,
          60.2,
          333,
          7.19,
          73.8,
          177.62,
          700,
          53.93,
          38.14,
          54.22,
          4.73,
          49.78,
          43.23,
          40.3,
          63,
          57.6,
          46.6,
          6.42,
          55.52,
          4.81,
          40.66,
          670,
          51.08,
          7.66,
          758.49,
          6.02,
          910.7,
          42.98,
          62.8,
          42.17,
          882,
          52.3,
          656.44,
          5.68,
          76.13,
          23.89,
          63.2,
          831.56,
          36.85,
          58.34,
          44.91,
          101.52,
          143.39,
          6.68,
          36.14,
          60.45,
          50,
          39.39,
          654.68,
          45.99,
          47.12,
          5.07,
          52.48,
          62.57,
          815.01,
          710.17,
          34.62,
          41.59,
          39.79,
          36,
          40.27,
          45.87,
          945,
          6.11,
          6.9,
          556.44,
          6.17,
          46.1,
          73.88,
          56.51,
          37.17,
          67.81,
          57.38,
          449.78,
          6.25,
          6.91,
          66.44,
          184.7,
          44,
          60.71,
          6.17,
          49.5,
          46.3,
          69.36,
          54.25,
          41.63,
          68.8,
          38.79,
          874.49,
          717.96,
          5.51,
          63.27,
          44.86,
          5.94,
          40.79,
          8.14,
          800.93,
          909.63,
          42.5,
          70.13,
          41.51,
          39.34,
          61.76,
          61.5,
          39.09,
          72.4,
          6.4,
          57.53,
          6.01,
          71.27,
          67.99,
          6.57,
          1106.55,
          74.6,
          69.4,
          38.01,
          41,
          51.47,
          41.78,
          39.14,
          38.71,
          568,
          450.31,
          4.68,
          707.71,
          39.82,
          52.77,
          56.96,
          60.68,
          50.84,
          52.57,
          71.27,
          42.05,
          319.8,
          73.98,
          540.4,
          52.42,
          43.55,
          44.54,
          62.76,
          45.27,
          36.58,
          6.88,
          38.2,
          7.4,
          50.12,
          6.45,
          4.84,
          4.92,
          421.84,
          52.39,
          27.94,
          62.05,
          5.58,
          34.02,
          27.37,
          40.7,
          35.57,
          373,
          58.72,
          6.9,
          299,
          60.21,
          47.07,
          40.21,
          47.06,
          7.05,
          52.38,
          76.49,
          6.5,
          72.2,
          49.7,
          46.14,
          61.6,
          72.01,
          41.46,
          50.83,
          51.05,
          331.8,
          52.72,
          58.44,
          30,
          40.1,
          46.79,
          46.34,
          36.5,
          46.83,
          52.49,
          60.5,
          745.89,
          62.25,
          428.3,
          59.39,
          45.86,
          711.85,
          175.57,
          165.56,
          63.16,
          110.84,
          7.04,
          787.65,
          872.71,
          914.05,
          6.4,
          63.78,
          46.68,
          28.86,
          4.5,
          40,
          68.39,
          52.48,
          34.84,
          54.87,
          41.75,
          44.82,
          1044.2,
          70.77,
          66.75,
          41.6,
          50.26,
          43.48,
          56,
          628.23,
          64.77,
          674.51,
          5.71,
          5.7,
          6.72,
          781,
          37.38,
          552.55,
          164.65,
          5.52,
          62.66,
          613,
          40.58,
          51.46,
          40.49,
          423.79,
          815.49,
          1041.71,
          6.73,
          47,
          860.77,
          59.05,
          43,
          68.94,
          60.36,
          47.48,
          36.7,
          914.77,
          40.5,
          62.05,
          415.6,
          38.99,
          44.43,
          39.42,
          6.77,
          64.64,
          24.58,
          45.73,
          653.18,
          6.63,
          71.51,
          5.9,
          5.61,
          7.7,
          47,
          40.89,
          5.62,
          29.38,
          100.25,
          70.92,
          47.55,
          686.32,
          734.08,
          48.1,
          45.86,
          63.24,
          454.44,
          52.4,
          6.38,
          653.69,
          684.29,
          6.2,
          42.06,
          6.36,
          36.22,
          68.3,
          5.45,
          51.1,
          44.94,
          297.6,
          69.2,
          43.57,
          996.34,
          4.9,
          8.7,
          62.56,
          63.46,
          40.5,
          812.44,
          53.75,
          49.47,
          1010.41,
          24.27,
          669.75,
          7.57,
          58.87,
          1234.41,
          795,
          16.36,
          6.41,
          429.6,
          898.58,
          106.05,
          69.38,
          42,
          1098.64,
          40.44,
          27.05,
          688.37,
          45.2,
          6.85,
          335.4,
          6.97,
          50.61,
          63.99,
          37.42,
          47.39,
          65.13,
          53.4,
          39.64,
          46.21,
          47.49,
          38.41,
          1006.8,
          40.2,
          202.37,
          4.39,
          196,
          34.95,
          49.01,
          165.4,
          41.5,
          67,
          45.47,
          7.89,
          65.9,
          72.4,
          989.03,
          42.83,
          47.33,
          63.68,
          40.72,
          6.79,
          5.57,
          6.82,
          37.87,
          65.51,
          5.7,
          50.22,
          5.91,
          299.91,
          44.7,
          190.85,
          41.52,
          41.93,
          28.38,
          18.52,
          41.83,
          52.85,
          980.4,
          743.53,
          6.35,
          37.75,
          59.34,
          1136.3,
          56.93,
          50.51,
          44.61,
          63,
          44.82,
          7.78,
          5.71,
          44.65,
          153.76,
          71.25,
          59.79,
          44.51,
          335.79,
          41.64,
          979.94,
          19.3,
          35.03,
          48.96,
          646.36,
          36.75,
          60.9,
          46.44,
          39.82,
          49.06,
          930,
          67.11,
          45.79,
          608.18,
          198.96,
          6.03,
          7.14,
          4.77,
          162.7,
          41.81,
          719.6,
          44.83,
          844.68,
          59.62,
          108.4,
          55.76,
          37.79,
          48.02,
          5.48,
          67.32,
          42.16,
          7,
          801.26,
          74.03,
          40.38,
          58.5,
          37.66,
          46.58,
          852,
          7.05,
          65.09,
          43.65,
          632,
          5.53,
          5.55,
          53.48,
          43.3,
          1102.77,
          43.6,
          41.8,
          32.6,
          39.55,
          42.45,
          28.95,
          45.1,
          6.06,
          53.29,
          49.3,
          5.9,
          441.92,
          757.15,
          61.31,
          42.09,
          58.45,
          712.71,
          6.76,
          74.9,
          49.43,
          36.71,
          67.95,
          60.07,
          55.7,
          39.74,
          4.93,
          34.14,
          664.27,
          41,
          6.95,
          68.75,
          70.31,
          49.58,
          45.25,
          63.83,
          935.21,
          38.48,
          830.99,
          52.7,
          40.87,
          298.6,
          50.17,
          421.39,
          34.55,
          46,
          41.16,
          1107.99,
          50.41,
          6.28,
          31.74,
          52.77,
          70.59,
          41.8,
          61.2,
          6.33,
          46.85,
          96.36,
          51.82,
          42,
          67.38,
          161,
          43.5,
          53.16,
          5.71,
          439.5,
          45.87,
          914.98,
          430.13,
          6.36,
          39.89,
          140.2,
          55.61,
          43.24,
          7.64,
          59.34,
          45.59,
          7.61,
          39.61,
          8.62,
          65.68,
          32.8,
          49.69,
          6.4,
          784.8,
          42.62,
          70.58,
          1009.73,
          44,
          41.35,
          5.6,
          47.97,
          26.92,
          75.6,
          24.26,
          67.8,
          44.06,
          68.42,
          42.56,
          44.83,
          44.8,
          281,
          66.02,
          39.24,
          5.14,
          38.4,
          52.12,
          40.61,
          600.55,
          50.02,
          436.09,
          42.59,
          64.8,
          166.9,
          66.87,
          6.03,
          1094.57,
          49.86,
          37.79,
          7.68,
          5.7,
          34.55,
          6.86,
          57.55,
          43.56,
          23.98,
          67.98,
          52.4,
          83.67,
          43.93,
          52.25,
          40.42,
          52.02,
          5.68,
          51.34,
          8.4,
          61.1,
          51.64,
          54.5,
          6.42,
          865.35,
          55.67,
          26.54,
          60.8,
          65.56,
          40.37,
          42.26,
          453.13,
          675.77,
          62.88,
          5.8,
          574.37,
          55.75,
          6.09,
          82.36,
          74.05,
          40.7,
          6.2,
          51.17,
          92.28,
          51,
          1160.7,
          44.12,
          60.5,
          6.9,
          19.36,
          51.6,
          54.52,
          49.94,
          1081.86,
          68.41,
          50.12,
          45.32,
          20.93,
          6.65,
          36.56,
          62.12,
          68.94,
          42.91,
          52.79,
          7.43,
          62.76,
          6.51,
          53.15,
          48.84,
          62.47,
          46.99,
          60.15,
          66.63,
          67.1,
          302.69,
          39.6,
          56.61,
          77.8,
          42.29,
          47.77,
          6.78,
          1009.73,
          45.3,
          63.5,
          40.18,
          44.85,
          52.43,
          6.26,
          35.78,
          53.96,
          46.16,
          6.73,
          5.86,
          109.05,
          42.85,
          6.21,
          1091.17,
          50,
          38.12,
          56.09,
          44.36,
          43.71,
          57.75,
          40.83,
          643.28,
          16.2,
          36.53,
          49.4,
          70.2,
          42.67,
          40.99,
          5.88,
          46.49,
          28.33,
          5.9,
          49.67,
          68.48,
          646.6,
          55.78,
          48.79,
          108.85,
          602.21,
          1228,
          662.13,
          40.2,
          46.13,
          7.77,
          6.79,
          50.91,
          41.22,
          67.1,
          48.77,
          5.72,
          44.59,
          49.78,
          60.36,
          183.56,
          6.06,
          777.63,
          47.95,
          1149.79,
          52.9,
          705,
          5.85,
          852.76,
          728.65,
          255.34,
          5.82,
          67.76,
          45.54,
          684.59,
          381.94,
          30.48,
          459.02,
          48.23,
          125.94,
          478.99,
          6.19,
          62.62,
          54.33,
          49,
          45.82,
          47.43,
          197.54,
          41.93,
          42.4,
          6.8,
          379.8,
          6,
          155.57,
          5.54,
          34.1,
          35.6,
          28.17,
          48.5,
          39.15,
          47.3,
          70.51,
          49.63,
          50.28,
          57,
          69.56,
          45.02,
          5.45,
          48.53,
          44.62,
          1109.49,
          56.1,
          632.2,
          43.14,
          63.3,
          62.78,
          6.68,
          39.11,
          818,
          50.15,
          67.98,
          625.51,
          1162.33,
          64,
          5.56,
          58.26,
          69.8,
          62.98,
          146.54,
          46.2,
          5.98,
          45.3,
          6.16,
          5.57,
          69.22,
          39.95,
          680.76,
          19.79,
          5.57,
          66.57,
          41.87,
          658.39,
          5.67,
          70.98,
          10.77,
          655.8,
          28.94,
          44.61,
          5.81,
          703.35,
          39.54,
          32.5,
          5.46,
          6.63,
          12.4,
          67.35,
          6.11,
          67.34,
          60.67,
          779.8,
          31.13,
          43.26,
          67.55,
          44.31,
          63.68,
          44.17,
          44.45,
          34.04,
          656.87,
          67,
          158.75,
          41.03,
          43.22,
          965.66,
          33.6,
          42.08,
          66.22,
          55.53,
          38,
          33.28,
          11.29,
          672,
          28,
          699.4,
          40.8,
          45,
          444.61,
          6.65,
          843.39,
          74.98,
          550.06,
          43.32,
          1000,
          5.64,
          60,
          65.65,
          44.6,
          49.94,
          44.62,
          50.2,
          48.76,
          50.44,
          32.73,
          62.17,
          45.35,
          63.6,
          40.01,
          51.5,
          49.6,
          5.3,
          1089.38,
          61.45,
          952.43,
          849.1,
          46.9,
          997.64,
          289.6,
          5.28,
          62.93,
          61.4,
          30.45,
          289.84,
          42.48,
          59.03,
          69,
          38.13,
          38.73,
          29.89,
          30,
          47.1,
          706.34,
          45,
          62.58,
          4.62,
          71.2,
          279.4,
          29.84,
          6.31,
          6.75,
          28.69,
          51.54,
          44.25,
          37.81,
          62.97,
          696.41,
          45.08,
          41.95,
          5.61,
          1077,
          1167.51,
          6.52,
          322.2,
          29.77,
          409.96,
          21.3,
          7.73,
          47.21,
          41.12,
          68.37,
          7.47,
          44.45,
          41.05,
          48.3,
          46,
          6.38,
          47.32,
          44.04,
          5.64,
          48.49,
          71.39,
          7.6,
          47.17,
          65.88,
          53.66,
          7.5,
          40.06,
          7.55,
          5.77,
          69.73,
          138,
          48.8,
          719.46,
          169.8,
          18.55,
          6.22,
          36.75,
          73.03,
          72.6,
          933.36,
          48.93,
          40.47,
          7.2,
          46.91,
          56.1,
          1080.39,
          41.42,
          52.1,
          36.72,
          66.54,
          55.75,
          5.19,
          30.22,
          56.66,
          50.62,
          46.3,
          5.6,
          855,
          19.05,
          59.94,
          52.48,
          689.58,
          64.29,
          156,
          6.8,
          50.45,
          37.06,
          29.9,
          37.34,
          49.5,
          35.66,
          164.1,
          66.89,
          981.08,
          1014.91,
          33.69,
          5.72,
          43.9,
          42.97,
          55.3,
          6.38,
          55.54,
          583.41,
          41.86,
          47.1,
          678.21,
          52.84,
          47.33,
          41.52,
          42.72,
          44.82,
          41.71,
          49.45,
          53.52,
          25.1,
          101,
          7.2,
          628.5,
          7.18,
          878.77,
          49.09,
          6.06,
          718.28,
          67.65,
          163.2,
          50.2,
          42.53,
          47.88,
          63.12,
          591.01,
          43.6,
          5.7,
          38.24,
          40.88,
          502.14,
          37.01,
          46.24,
          35.56,
          244.3,
          51.08,
          75.6,
          28.1,
          21.35,
          674.99,
          65.89,
          43.16,
          6.59,
          67.73,
          55.77,
          6.64,
          44.29,
          48.6,
          35.26,
          40.13,
          38.23,
          723.66,
          5.96,
          56.06,
          40.4,
          42.4,
          46.64,
          26.61,
          64.5,
          109,
          42.25,
          7.4,
          65.4,
          45.69,
          35,
          54.52,
          53.48,
          49.1,
          45.83,
          5.44,
          16.96,
          810.47,
          39.68,
          50.53,
          5.53,
          425.26,
          59.54,
          75,
          6.49,
          8.84,
          43.98,
          200.6,
          28.32,
          69.98,
          69.67,
          49.4,
          39.41,
          69.9,
          64.9,
          43.45,
          46.14,
          54.93,
          157.96,
          61.22,
          7.56,
          5.68,
          30.87,
          43.33,
          6.41,
          65.1,
          52.54,
          142.25,
          75.28,
          54.01,
          52.67,
          145.52,
          39.3,
          41.16,
          61.2,
          44.1,
          5.66,
          33.71,
          742.57,
          47.78,
          45.34,
          5.33,
          28.3,
          39.6,
          62.09,
          6.31,
          43.4,
          63.26,
          34.48,
          45.38,
          42.84,
          48.49,
          4.54,
          60.72,
          167.8,
          41.9,
          705.07,
          50.55,
          419.87,
          61.84,
          114.38,
          43.83,
          28.38,
          62.6,
          54.15,
          7,
          62.92,
          684.65,
          1073.67,
          1047.5,
          199.99,
          601.8,
          65.41,
          1008,
          41.95,
          4.96,
          6.56,
          22.71,
          5.4,
          181.4,
          31.4,
          6.22,
          68.98,
          43.78,
          46.37,
          42,
          47.2,
          75,
          410.85,
          710.68,
          41.2,
          5,
          48.3,
          49.2,
          46.85,
          69.09,
          59.18,
          37.1,
          62.6,
          59.5,
          4.96,
          436.56,
          596.11,
          58.22,
          164.17,
          831,
          46.7,
          61.3,
          47.44,
          45.23,
          743.1,
          39.16,
          33,
          24.08,
          39.2,
          4.67,
          869.67,
          36.2,
          5.2,
          27,
          10.2,
          51.03,
          70.8,
          443.35,
          773.12,
          67.9,
          48,
          28.97,
          50.65,
          1109.07,
          144.75,
          61.39,
          75.33,
          41.64,
          68.23,
          64.7,
          6.54,
          431.75,
          49.53,
          700.3,
          1061.33,
          37.65,
          599.24,
          17.7,
          46.47,
          5.79,
          155.3,
          62.35,
          32.93,
          45.42,
          999.29,
          7.04,
          43.44,
          39.92,
          49.38,
          68.19,
          7.84,
          53.29,
          46.14,
          39.8,
          79.46,
          151,
          37.91,
          24.8,
          43.94,
          839.48,
          58.49,
          45.4,
          71.4,
          5.48,
          40.9,
          36.71,
          386.21,
          7.3,
          35.83,
          160,
          71.69,
          50.93,
          615.64,
          719.8,
          50.41,
          8.65,
          5.98,
          70.63,
          32.29,
          39.82,
          46.26,
          68.35,
          6.5,
          49.12,
          7.78,
          66.09,
          1099.06,
          6.58,
          51.14,
          51.15,
          6.83,
          923.79,
          50.61,
          694.09,
          70.76,
          45.81,
          43.04,
          72,
          54.04,
          45.39,
          6.73,
          4.72,
          39.1,
          41,
          5.7,
          356.6,
          70.85,
          198.82,
          38.9,
          48.3,
          7.34,
          38.16,
          53.73,
          72.51,
          44.87,
          4.66,
          49.04,
          7.69,
          66.5,
          42.31,
          303.8,
          55.35,
          42.01,
          58.88,
          5.98,
          6.26,
          6.7,
          40.31,
          6.56,
          59.9,
          416.45,
          823.74,
          69.04,
          47.95,
          914.2,
          601.75,
          732.25,
          52.89,
          193.8,
          311.2,
          1084.79,
          51.71,
          5.49,
          46.58,
          446.24,
          62.7,
          94.74,
          46.88,
          6.78,
          626.06,
          60.41,
          412,
          60.66,
          45.92,
          47.2,
          905.53,
          740,
          73.11,
          492,
          1001.09,
          40.12,
          70.7,
          44.7,
          699.99,
          55.43,
          31.06,
          677.38,
          7.59,
          53.25,
          47.17,
          447.94,
          60.2,
          45.1,
          46.27,
          1005.06,
          6.82,
          6.32,
          759.6,
          6.96,
          44.44,
          49.91,
          891.38,
          51.36,
          5.56,
          63.52,
          69,
          61.97,
          67.49,
          155.44,
          707.03,
          5.6,
          666.24,
          726.15,
          168.32,
          855,
          719,
          18.22,
          67.8,
          405.16,
          18.84,
          7.37,
          67.05,
          52.14,
          6.5,
          308.6,
          72.93,
          6.93,
          415.05,
          48.61,
          752.83,
          50.86,
          38.87,
          48.1,
          157.44,
          43.58,
          51.3,
          44.2,
          38.71,
          11.2,
          6.62,
          62.4,
          69.8,
          36.77,
          51.48,
          45.34,
          70.9,
          72.9,
          40.89,
          31,
          88.1,
          76,
          59.71,
          57.07,
          5.76,
          99.42,
          295.43,
          67.54,
          46.04,
          40.57,
          45.85,
          37.8,
          24.9,
          51.51,
          858.74,
          23.6,
          45.52,
          64.05,
          66.88,
          49.39,
          741,
          39.49,
          44.84,
          74.94,
          37.69,
          36.83,
          49.22,
          61.54,
          49.85,
          6.7,
          49.67,
          68.2,
          42.33,
          49.59,
          54.65,
          5.34,
          46.91,
          1043.21,
          745,
          49.04,
          48.37,
          33.03,
          60,
          20.31,
          4.96,
          146,
          35.73,
          43.32,
          38.77,
          34.16,
          67.59,
          5.5,
          953.21,
          17.27,
          45.54,
          6.43,
          620.24,
          5.8,
          48.13,
          43.35,
          439.87,
          63.1,
          131.89,
          5.99,
          44.2,
          877.02,
          44.42,
          44.62,
          96.21,
          28.54,
          682.85,
          6.84,
          5.6,
          63.84,
          294,
          903.18,
          8.72,
          37.8,
          38.67,
          201.3,
          72.32,
          28.03,
          44.1,
          24.64,
          37.75,
          69.07,
          49.58,
          681.06,
          50.56,
          4.62,
          69.69,
          48.07,
          56.8,
          279.2,
          45.65,
          761.58,
          43.95,
          60.4,
          35.06,
          28.2,
          47.26,
          183.8,
          86.72,
          5.1,
          47.91,
          69.65,
          5.7,
          69.44,
          69.13,
          6,
          39.79,
          46.93,
          52,
          6.11,
          202.56,
          394.98,
          49.63,
          47.63,
          741.5,
          7.64,
          48.6,
          65.72,
          64.82,
          43.08,
          61.4,
          45.96,
          158.03,
          5.68,
          849.4,
          46.12,
          69.46,
          18.5,
          46.25,
          6.75,
          45.74,
          66.08,
          72,
          25.63,
          38.48,
          64.2,
          45.38,
          49.45,
          9.1,
          48.51,
          43.39,
          5.65,
          32.84,
          4.77,
          49.77,
          733,
          6.76,
          46.32,
          55.09,
          411.63,
          44.36,
          6.52,
          57.66,
          624.48,
          28.01,
          1026.61,
          8.22,
          1060.64,
          69.53,
          5.7,
          44,
          1081.15,
          84.9,
          42.11,
          63.92,
          11.28,
          44,
          71.11,
          62.96,
          27.78,
          44.39,
          5.9,
          70.27,
          51.01,
          69.5,
          6.38,
          69.88,
          10.18,
          35.97,
          629.89,
          1030,
          51.86,
          31.42,
          57.87,
          787.2,
          70.18,
          85.58,
          50.59,
          49.9,
          5.74,
          68.5,
          53.26,
          1146.65,
          7,
          68.37,
          18.73,
          77.34,
          39.85,
          51.72,
          48.26,
          69.2,
          579.71,
          795.53,
          6,
          39.72,
          68.1,
          42.44,
          59.8,
          6.59,
          34.25,
          35.45,
          685.7,
          23.65,
          59.7,
          82.06,
          45.92,
          5.49,
          41.23,
          1073.44,
          5.53,
          5.61,
          32.62,
          64.34,
          49.39,
          6.99,
          73.04,
          37.23,
          163.03,
          27.29,
          416,
          63.48,
          35.28,
          32.55,
          49.06,
          46.01,
          809.23,
          37.99,
          40.96,
          198.38,
          5.95,
          38.88,
          41.69,
          406.9,
          20.49,
          5.75,
          63.79,
          5.98,
          60.16,
          45.44,
          6.26,
          38.64,
          41.28,
          6.79,
          54.05,
          902.25,
          112.85,
          5.9,
          47.7,
          402.81,
          62.75,
          11.2,
          678.94,
          51.11,
          5.46,
          43.13,
          67.03,
          72.75,
          5.57,
          700.39,
          46.36,
          56.6,
          6.62,
          41.59,
          37.8,
          51.08,
          29.96,
          109.48,
          287,
          40.32,
          40.07,
          38.48,
          69.03,
          6.2,
          58.9,
          6.13,
          67.7,
          422.7,
          121.08,
          44.76,
          49.97,
          38.85,
          216.6,
          60.99,
          66.51,
          64.59,
          37.17,
          5.58,
          43.47,
          8.41,
          497.99,
          49.64,
          46.82,
          6.41,
          39.75,
          48.18,
          49.82,
          20.41,
          40.74,
          438.44,
          7.86,
          42.9,
          49.2,
          41.02,
          834.13,
          23.7,
          171.04,
          66.35,
          40.37,
          57.46,
          5.86,
          55.55,
          46.95,
          49.53,
          61.47,
          1053.67,
          36.9,
          59.67,
          47.63,
          45.14,
          42.28,
          56.29
         ],
         "y": [
          [
           486.64
          ],
          [
           29.53
          ],
          [
           48.25
          ],
          [
           1037.86
          ],
          [
           64.33
          ],
          [
           49.85
          ],
          [
           51
          ],
          [
           42.31
          ],
          [
           47.52
          ],
          [
           876.42
          ],
          [
           49.39
          ],
          [
           739.38
          ],
          [
           5.68
          ],
          [
           6.37
          ],
          [
           6.74
          ],
          [
           64.25
          ],
          [
           24.02
          ],
          [
           618.71
          ],
          [
           112.11
          ],
          [
           37.03
          ],
          [
           51.99
          ],
          [
           41.46
          ],
          [
           61.67
          ],
          [
           6.39
          ],
          [
           678.9
          ],
          [
           1054.73
          ],
          [
           46.1
          ],
          [
           5.32
          ],
          [
           804.58
          ],
          [
           6.76
          ],
          [
           45.35
          ],
          [
           66.61
          ],
          [
           85.51
          ],
          [
           61.75
          ],
          [
           71.68
          ],
          [
           45.92
          ],
          [
           128.16
          ],
          [
           8.1
          ],
          [
           59.78
          ],
          [
           6.49
          ],
          [
           71.46
          ],
          [
           442.3
          ],
          [
           6.49
          ],
          [
           50.59
          ],
          [
           71.07
          ],
          [
           61.77
          ],
          [
           13.88
          ],
          [
           6.83
          ],
          [
           56.95
          ],
          [
           86.08
          ],
          [
           30.28
          ],
          [
           7.12
          ],
          [
           6.77
          ],
          [
           71.9
          ],
          [
           53.23
          ],
          [
           41.19
          ],
          [
           5.58
          ],
          [
           55.09
          ],
          [
           4.92
          ],
          [
           52.28
          ],
          [
           6.88
          ],
          [
           930
          ],
          [
           61.4
          ],
          [
           116.2
          ],
          [
           421.2
          ],
          [
           49.78
          ],
          [
           43.67
          ],
          [
           62.33
          ],
          [
           39.74
          ],
          [
           141.98
          ],
          [
           64.46
          ],
          [
           55.49
          ],
          [
           75.19
          ],
          [
           407
          ],
          [
           42.45
          ],
          [
           42.4
          ],
          [
           61.21
          ],
          [
           330.14
          ],
          [
           7.2
          ],
          [
           71.59
          ],
          [
           176.59
          ],
          [
           675.5
          ],
          [
           53.44
          ],
          [
           39.22
          ],
          [
           53.83
          ],
          [
           4.61
          ],
          [
           49.67
          ],
          [
           43.08
          ],
          [
           40.89
          ],
          [
           64.73
          ],
          [
           57.89
          ],
          [
           45.8
          ],
          [
           6.45
          ],
          [
           53.79
          ],
          [
           5.07
          ],
          [
           40.85
          ],
          [
           693.73
          ],
          [
           52.14
          ],
          [
           7.69
          ],
          [
           755.98
          ],
          [
           6.16
          ],
          [
           899.94
          ],
          [
           43.91
          ],
          [
           62.5
          ],
          [
           42.99
          ],
          [
           891.14
          ],
          [
           52.4
          ],
          [
           649.26
          ],
          [
           5.74
          ],
          [
           78.63
          ],
          [
           25.22
          ],
          [
           65.44
          ],
          [
           846.35
          ],
          [
           37.71
          ],
          [
           61.69
          ],
          [
           45.74
          ],
          [
           102.1
          ],
          [
           149.04
          ],
          [
           6.72
          ],
          [
           35.75
          ],
          [
           60.63
          ],
          [
           50.92
          ],
          [
           39.06
          ],
          [
           644.22
          ],
          [
           45.21
          ],
          [
           49.51
          ],
          [
           5.39
          ],
          [
           52.28
          ],
          [
           62.92
          ],
          [
           870.43
          ],
          [
           713.76
          ],
          [
           34.59
          ],
          [
           41.5
          ],
          [
           41
          ],
          [
           35.36
          ],
          [
           40.19
          ],
          [
           45.44
          ],
          [
           958.51
          ],
          [
           5.89
          ],
          [
           6.74
          ],
          [
           568.82
          ],
          [
           6.18
          ],
          [
           44.01
          ],
          [
           73.32
          ],
          [
           55.48
          ],
          [
           38.11
          ],
          [
           68.21
          ],
          [
           59.7
          ],
          [
           461.3
          ],
          [
           6.06
          ],
          [
           7.04
          ],
          [
           66.96
          ],
          [
           183.48
          ],
          [
           46.06
          ],
          [
           59.67
          ],
          [
           6.18
          ],
          [
           49.18
          ],
          [
           45.42
          ],
          [
           71.12
          ],
          [
           54.65
          ],
          [
           41.66
          ],
          [
           68.07
          ],
          [
           38.6
          ],
          [
           905.39
          ],
          [
           704.74
          ],
          [
           5.48
          ],
          [
           63.51
          ],
          [
           44.97
          ],
          [
           6.23
          ],
          [
           40.72
          ],
          [
           8.37
          ],
          [
           805.72
          ],
          [
           860
          ],
          [
           43.89
          ],
          [
           70.43
          ],
          [
           41.74
          ],
          [
           38.71
          ],
          [
           64.54
          ],
          [
           61
          ],
          [
           38.95
          ],
          [
           69.68
          ],
          [
           6.42
          ],
          [
           56.24
          ],
          [
           5.9
          ],
          [
           70.69
          ],
          [
           69.77
          ],
          [
           6.66
          ],
          [
           1096.38
          ],
          [
           74.78
          ],
          [
           71.38
          ],
          [
           37.6
          ],
          [
           41.36
          ],
          [
           49.69
          ],
          [
           42.76
          ],
          [
           39.28
          ],
          [
           37.75
          ],
          [
           577.87
          ],
          [
           448.88
          ],
          [
           4.77
          ],
          [
           691.05
          ],
          [
           38.78
          ],
          [
           51.73
          ],
          [
           56.19
          ],
          [
           60.75
          ],
          [
           50
          ],
          [
           50.14
          ],
          [
           71.93
          ],
          [
           42.58
          ],
          [
           318.47
          ],
          [
           73.35
          ],
          [
           555.38
          ],
          [
           53.13
          ],
          [
           43.82
          ],
          [
           44.71
          ],
          [
           61.75
          ],
          [
           44.69
          ],
          [
           36.29
          ],
          [
           7.02
          ],
          [
           37.88
          ],
          [
           7.4
          ],
          [
           49.55
          ],
          [
           6.22
          ],
          [
           4.94
          ],
          [
           4.96
          ],
          [
           420.63
          ],
          [
           52.4
          ],
          [
           29.49
          ],
          [
           63.31
          ],
          [
           5.51
          ],
          [
           35.55
          ],
          [
           27.09
          ],
          [
           40.52
          ],
          [
           34.92
          ],
          [
           375.71
          ],
          [
           58.78
          ],
          [
           6.74
          ],
          [
           297.4
          ],
          [
           57.7
          ],
          [
           47.66
          ],
          [
           41.04
          ],
          [
           46.19
          ],
          [
           7
          ],
          [
           53.56
          ],
          [
           76.69
          ],
          [
           6.04
          ],
          [
           72.71
          ],
          [
           49.49
          ],
          [
           44.68
          ],
          [
           62.76
          ],
          [
           67.01
          ],
          [
           40.82
          ],
          [
           50.59
          ],
          [
           52.56
          ],
          [
           299.41
          ],
          [
           54.03
          ],
          [
           59.57
          ],
          [
           29.91
          ],
          [
           40.05
          ],
          [
           46.68
          ],
          [
           46.51
          ],
          [
           37.36
          ],
          [
           47.78
          ],
          [
           50.6
          ],
          [
           60.6
          ],
          [
           774.39
          ],
          [
           60.31
          ],
          [
           438.09
          ],
          [
           57.79
          ],
          [
           46.46
          ],
          [
           742.02
          ],
          [
           177.13
          ],
          [
           162.73
          ],
          [
           63.79
          ],
          [
           109.77
          ],
          [
           6.95
          ],
          [
           791.94
          ],
          [
           936.72
          ],
          [
           923.39
          ],
          [
           6.65
          ],
          [
           63.98
          ],
          [
           45.5
          ],
          [
           27.79
          ],
          [
           4.58
          ],
          [
           39.7
          ],
          [
           67.07
          ],
          [
           52.41
          ],
          [
           33.93
          ],
          [
           50.77
          ],
          [
           43.53
          ],
          [
           46.33
          ],
          [
           1051.75
          ],
          [
           71.63
          ],
          [
           65.64
          ],
          [
           42.67
          ],
          [
           50.9
          ],
          [
           43.59
          ],
          [
           55.95
          ],
          [
           622.77
          ],
          [
           63.46
          ],
          [
           663.69
          ],
          [
           5.63
          ],
          [
           5.71
          ],
          [
           6.67
          ],
          [
           775.48
          ],
          [
           38.01
          ],
          [
           563.46
          ],
          [
           146.94
          ],
          [
           5.65
          ],
          [
           61.5
          ],
          [
           640.39
          ],
          [
           40.47
          ],
          [
           50.89
          ],
          [
           40.2
          ],
          [
           413.98
          ],
          [
           818.32
          ],
          [
           995.65
          ],
          [
           6.52
          ],
          [
           47.63
          ],
          [
           902.94
          ],
          [
           59.49
          ],
          [
           41.82
          ],
          [
           68.55
          ],
          [
           62.95
          ],
          [
           49.42
          ],
          [
           37.73
          ],
          [
           932.57
          ],
          [
           40.55
          ],
          [
           61
          ],
          [
           423.43
          ],
          [
           40.14
          ],
          [
           44
          ],
          [
           40.88
          ],
          [
           6.71
          ],
          [
           65.56
          ],
          [
           24.42
          ],
          [
           44.74
          ],
          [
           656.95
          ],
          [
           6.76
          ],
          [
           73.04
          ],
          [
           5.91
          ],
          [
           5.58
          ],
          [
           7.41
          ],
          [
           45.87
          ],
          [
           40.46
          ],
          [
           5.55
          ],
          [
           28.14
          ],
          [
           104.8
          ],
          [
           69.18
          ],
          [
           46.59
          ],
          [
           668.54
          ],
          [
           734.09
          ],
          [
           51.09
          ],
          [
           46.39
          ],
          [
           62.36
          ],
          [
           439.67
          ],
          [
           52.38
          ],
          [
           6.28
          ],
          [
           604.48
          ],
          [
           653.16
          ],
          [
           6.26
          ],
          [
           41.55
          ],
          [
           6.32
          ],
          [
           38.72
          ],
          [
           68.57
          ],
          [
           5.59
          ],
          [
           51.86
          ],
          [
           45.41
          ],
          [
           297.5
          ],
          [
           66.89
          ],
          [
           42.2
          ],
          [
           943.9
          ],
          [
           4.93
          ],
          [
           8.66
          ],
          [
           62.07
          ],
          [
           61.51
          ],
          [
           39.55
          ],
          [
           811.66
          ],
          [
           54.97
          ],
          [
           49.62
          ],
          [
           1067.95
          ],
          [
           24.32
          ],
          [
           688.99
          ],
          [
           7.5
          ],
          [
           59.35
          ],
          [
           1229.91
          ],
          [
           781.3
          ],
          [
           16.97
          ],
          [
           6.32
          ],
          [
           424.23
          ],
          [
           881.51
          ],
          [
           109.44
          ],
          [
           69.99
          ],
          [
           42.89
          ],
          [
           1086.19
          ],
          [
           41.24
          ],
          [
           24.32
          ],
          [
           661.75
          ],
          [
           45.12
          ],
          [
           6.75
          ],
          [
           367.13
          ],
          [
           6.9
          ],
          [
           51.04
          ],
          [
           62.08
          ],
          [
           37.97
          ],
          [
           48.01
          ],
          [
           63.01
          ],
          [
           53.03
          ],
          [
           41.38
          ],
          [
           47.44
          ],
          [
           47.7
          ],
          [
           38.46
          ],
          [
           1067
          ],
          [
           40.45
          ],
          [
           196.43
          ],
          [
           4.59
          ],
          [
           187.06
          ],
          [
           33.76
          ],
          [
           49.63
          ],
          [
           161.88
          ],
          [
           41.25
          ],
          [
           67.18
          ],
          [
           45.16
          ],
          [
           7.85
          ],
          [
           65.04
          ],
          [
           69.5
          ],
          [
           1004.29
          ],
          [
           41.97
          ],
          [
           47.67
          ],
          [
           63.18
          ],
          [
           41.58
          ],
          [
           6.8
          ],
          [
           5.58
          ],
          [
           6.78
          ],
          [
           39.31
          ],
          [
           65.54
          ],
          [
           5.48
          ],
          [
           50.64
          ],
          [
           5.95
          ],
          [
           290.54
          ],
          [
           43.3
          ],
          [
           197.2
          ],
          [
           41.79
          ],
          [
           40.27
          ],
          [
           26.85
          ],
          [
           19.42
          ],
          [
           42.23
          ],
          [
           52.76
          ],
          [
           975.93
          ],
          [
           751.94
          ],
          [
           6.41
          ],
          [
           39.39
          ],
          [
           60.8
          ],
          [
           1091.26
          ],
          [
           55.36
          ],
          [
           50.13
          ],
          [
           44.65
          ],
          [
           61.74
          ],
          [
           44.93
          ],
          [
           7.37
          ],
          [
           5.9
          ],
          [
           44.73
          ],
          [
           154.88
          ],
          [
           70.2
          ],
          [
           60.94
          ],
          [
           46.31
          ],
          [
           302.61
          ],
          [
           41.69
          ],
          [
           999.11
          ],
          [
           20.3
          ],
          [
           33.92
          ],
          [
           48.82
          ],
          [
           643.38
          ],
          [
           37.67
          ],
          [
           61.58
          ],
          [
           45.94
          ],
          [
           38.89
          ],
          [
           48.95
          ],
          [
           993.98
          ],
          [
           69.23
          ],
          [
           46.01
          ],
          [
           673.58
          ],
          [
           191.95
          ],
          [
           5.96
          ],
          [
           7.22
          ],
          [
           4.46
          ],
          [
           161.16
          ],
          [
           40.93
          ],
          [
           714.63
          ],
          [
           44.59
          ],
          [
           872.79
          ],
          [
           57.07
          ],
          [
           111.6
          ],
          [
           56.89
          ],
          [
           38.12
          ],
          [
           48.95
          ],
          [
           5.61
          ],
          [
           67.91
          ],
          [
           43.42
          ],
          [
           6.67
          ],
          [
           816.12
          ],
          [
           75.36
          ],
          [
           40.36
          ],
          [
           57.52
          ],
          [
           39.15
          ],
          [
           48.45
          ],
          [
           826.16
          ],
          [
           7.19
          ],
          [
           66.46
          ],
          [
           43.72
          ],
          [
           656.57
          ],
          [
           5.59
          ],
          [
           5.56
          ],
          [
           53.08
          ],
          [
           41.69
          ],
          [
           1063.51
          ],
          [
           44.39
          ],
          [
           43.39
          ],
          [
           32.43
          ],
          [
           41.02
          ],
          [
           41.69
          ],
          [
           28.43
          ],
          [
           44.72
          ],
          [
           6.01
          ],
          [
           51.44
          ],
          [
           47.03
          ],
          [
           5.83
          ],
          [
           425.79
          ],
          [
           759.49
          ],
          [
           61.13
          ],
          [
           41.96
          ],
          [
           59.63
          ],
          [
           707.82
          ],
          [
           6.78
          ],
          [
           75.96
          ],
          [
           48.87
          ],
          [
           36.56
          ],
          [
           67.97
          ],
          [
           57.93
          ],
          [
           56.75
          ],
          [
           39.32
          ],
          [
           4.8
          ],
          [
           35.07
          ],
          [
           644.65
          ],
          [
           40.9
          ],
          [
           6.9
          ],
          [
           69.28
          ],
          [
           66.73
          ],
          [
           50.24
          ],
          [
           45.86
          ],
          [
           64.02
          ],
          [
           931.25
          ],
          [
           36.56
          ],
          [
           871.6
          ],
          [
           52.65
          ],
          [
           40.8
          ],
          [
           297
          ],
          [
           51.26
          ],
          [
           415.09
          ],
          [
           35.8
          ],
          [
           49.6
          ],
          [
           41.88
          ],
          [
           1099.57
          ],
          [
           50.75
          ],
          [
           6.43
          ],
          [
           31.03
          ],
          [
           58.83
          ],
          [
           71.14
          ],
          [
           40.15
          ],
          [
           62.26
          ],
          [
           6.25
          ],
          [
           47.07
          ],
          [
           95.63
          ],
          [
           51.58
          ],
          [
           42.05
          ],
          [
           67.01
          ],
          [
           149.1
          ],
          [
           43.72
          ],
          [
           54.45
          ],
          [
           5.87
          ],
          [
           421.26
          ],
          [
           45.7
          ],
          [
           921.16
          ],
          [
           434
          ],
          [
           6.36
          ],
          [
           39.33
          ],
          [
           152.24
          ],
          [
           55.58
          ],
          [
           44.37
          ],
          [
           7.47
          ],
          [
           56.99
          ],
          [
           44.97
          ],
          [
           7.69
          ],
          [
           38.16
          ],
          [
           8.22
          ],
          [
           65.98
          ],
          [
           32.99
          ],
          [
           49.43
          ],
          [
           6.52
          ],
          [
           780.59
          ],
          [
           43.19
          ],
          [
           69.49
          ],
          [
           996.27
          ],
          [
           45.94
          ],
          [
           44.92
          ],
          [
           5.51
          ],
          [
           48.5
          ],
          [
           27.6
          ],
          [
           76.52
          ],
          [
           25.39
          ],
          [
           69
          ],
          [
           43.85
          ],
          [
           69.45
          ],
          [
           42.12
          ],
          [
           44.09
          ],
          [
           44.45
          ],
          [
           273.18
          ],
          [
           66.6
          ],
          [
           39.89
          ],
          [
           4.82
          ],
          [
           39.14
          ],
          [
           52.38
          ],
          [
           41.76
          ],
          [
           563
          ],
          [
           50.48
          ],
          [
           447.75
          ],
          [
           41.44
          ],
          [
           63.78
          ],
          [
           163.77
          ],
          [
           65.17
          ],
          [
           5.9
          ],
          [
           1077.6
          ],
          [
           50.48
          ],
          [
           38.31
          ],
          [
           7.55
          ],
          [
           5.68
          ],
          [
           35.74
          ],
          [
           7.19
          ],
          [
           55
          ],
          [
           43.36
          ],
          [
           24.49
          ],
          [
           67.92
          ],
          [
           52.06
          ],
          [
           85.05
          ],
          [
           45.25
          ],
          [
           50.51
          ],
          [
           39.82
          ],
          [
           52.65
          ],
          [
           4.56
          ],
          [
           52.03
          ],
          [
           8.27
          ],
          [
           60.88
          ],
          [
           51.5
          ],
          [
           54.93
          ],
          [
           6.53
          ],
          [
           865.8
          ],
          [
           55.48
          ],
          [
           28.94
          ],
          [
           55.84
          ],
          [
           65.23
          ],
          [
           40.02
          ],
          [
           42.59
          ],
          [
           449.39
          ],
          [
           662.16
          ],
          [
           61.22
          ],
          [
           5.74
          ],
          [
           627.07
          ],
          [
           57.1
          ],
          [
           6.08
          ],
          [
           83.84
          ],
          [
           70.52
          ],
          [
           40.99
          ],
          [
           6.2
          ],
          [
           51.54
          ],
          [
           93.81
          ],
          [
           50.01
          ],
          [
           1095
          ],
          [
           43.63
          ],
          [
           60.6
          ],
          [
           6.84
          ],
          [
           19.55
          ],
          [
           51.86
          ],
          [
           54.8
          ],
          [
           50.08
          ],
          [
           1114
          ],
          [
           68.69
          ],
          [
           50.34
          ],
          [
           45
          ],
          [
           20.13
          ],
          [
           6.62
          ],
          [
           36.75
          ],
          [
           64.38
          ],
          [
           70.57
          ],
          [
           42.02
          ],
          [
           52.41
          ],
          [
           7.59
          ],
          [
           63.11
          ],
          [
           6.52
          ],
          [
           54.67
          ],
          [
           50
          ],
          [
           61.63
          ],
          [
           46.8
          ],
          [
           60.19
          ],
          [
           67.75
          ],
          [
           64.69
          ],
          [
           300.17
          ],
          [
           40.62
          ],
          [
           58.3
          ],
          [
           72.24
          ],
          [
           41.46
          ],
          [
           46.8
          ],
          [
           6.92
          ],
          [
           1013.92
          ],
          [
           46.68
          ],
          [
           65.65
          ],
          [
           39.56
          ],
          [
           44.96
          ],
          [
           51.96
          ],
          [
           6.54
          ],
          [
           36.68
          ],
          [
           53.51
          ],
          [
           47.11
          ],
          [
           6.76
          ],
          [
           5.96
          ],
          [
           107.85
          ],
          [
           43.67
          ],
          [
           6.13
          ],
          [
           1093.99
          ],
          [
           51.07
          ],
          [
           38.63
          ],
          [
           56.06
          ],
          [
           43.43
          ],
          [
           42.94
          ],
          [
           59.04
          ],
          [
           40.89
          ],
          [
           633.25
          ],
          [
           17.56
          ],
          [
           36.79
          ],
          [
           49.37
          ],
          [
           69.85
          ],
          [
           42.19
          ],
          [
           40.75
          ],
          [
           5.98
          ],
          [
           46.08
          ],
          [
           28.4
          ],
          [
           5.47
          ],
          [
           49.69
          ],
          [
           66.88
          ],
          [
           654.87
          ],
          [
           55.94
          ],
          [
           49.77
          ],
          [
           107.58
          ],
          [
           567.6
          ],
          [
           1222.09
          ],
          [
           698.84
          ],
          [
           39.32
          ],
          [
           48.51
          ],
          [
           7.82
          ],
          [
           6.62
          ],
          [
           51.36
          ],
          [
           42.86
          ],
          [
           67.71
          ],
          [
           51.01
          ],
          [
           5.75
          ],
          [
           41.85
          ],
          [
           50.75
          ],
          [
           58.25
          ],
          [
           198.18
          ],
          [
           5.82
          ],
          [
           816.04
          ],
          [
           47.9
          ],
          [
           1162.94
          ],
          [
           50.11
          ],
          [
           711.92
          ],
          [
           5.78
          ],
          [
           854.41
          ],
          [
           739.78
          ],
          [
           274.32
          ],
          [
           5.67
          ],
          [
           67.47
          ],
          [
           46.23
          ],
          [
           670
          ],
          [
           372.72
          ],
          [
           30.6
          ],
          [
           442.68
          ],
          [
           47.62
          ],
          [
           133.6
          ],
          [
           447.37
          ],
          [
           6.18
          ],
          [
           62.98
          ],
          [
           54.46
          ],
          [
           48.7
          ],
          [
           46.55
          ],
          [
           47.47
          ],
          [
           198.36
          ],
          [
           41.16
          ],
          [
           40.06
          ],
          [
           6.73
          ],
          [
           377.42
          ],
          [
           6.49
          ],
          [
           153.46
          ],
          [
           5.63
          ],
          [
           34.31
          ],
          [
           36.57
          ],
          [
           27.74
          ],
          [
           48.34
          ],
          [
           39.28
          ],
          [
           46.88
          ],
          [
           68.61
          ],
          [
           49.25
          ],
          [
           49.89
          ],
          [
           56.84
          ],
          [
           69.63
          ],
          [
           45.29
          ],
          [
           5.56
          ],
          [
           46.77
          ],
          [
           44.19
          ],
          [
           1088.47
          ],
          [
           55.84
          ],
          [
           645.98
          ],
          [
           41.78
          ],
          [
           62.71
          ],
          [
           61.82
          ],
          [
           6.64
          ],
          [
           37.91
          ],
          [
           796.22
          ],
          [
           50.31
          ],
          [
           67.09
          ],
          [
           649.88
          ],
          [
           1156.87
          ],
          [
           63.24
          ],
          [
           5.5
          ],
          [
           56.67
          ],
          [
           68.68
          ],
          [
           64.57
          ],
          [
           149.27
          ],
          [
           48.6
          ],
          [
           5.81
          ],
          [
           45.62
          ],
          [
           6.25
          ],
          [
           5.71
          ],
          [
           69.87
          ],
          [
           40.71
          ],
          [
           663.54
          ],
          [
           20.01
          ],
          [
           5.48
          ],
          [
           65.82
          ],
          [
           43.38
          ],
          [
           650.6
          ],
          [
           5.75
          ],
          [
           71.94
          ],
          [
           10.82
          ],
          [
           621.44
          ],
          [
           27.56
          ],
          [
           45.4
          ],
          [
           5.92
          ],
          [
           676.88
          ],
          [
           41.06
          ],
          [
           34.19
          ],
          [
           5.58
          ],
          [
           6.63
          ],
          [
           11.1
          ],
          [
           65.33
          ],
          [
           6.2
          ],
          [
           65.17
          ],
          [
           58.96
          ],
          [
           781.31
          ],
          [
           31.99
          ],
          [
           42.74
          ],
          [
           66.61
          ],
          [
           43.95
          ],
          [
           62.37
          ],
          [
           43.13
          ],
          [
           46.47
          ],
          [
           34
          ],
          [
           701.81
          ],
          [
           68.89
          ],
          [
           163.88
          ],
          [
           42.04
          ],
          [
           42.27
          ],
          [
           1008.87
          ],
          [
           33.32
          ],
          [
           42.78
          ],
          [
           66.26
          ],
          [
           55.77
          ],
          [
           37.72
          ],
          [
           32.7
          ],
          [
           10.91
          ],
          [
           694.78
          ],
          [
           28.94
          ],
          [
           699.6
          ],
          [
           39.99
          ],
          [
           45.05
          ],
          [
           498.32
          ],
          [
           6.62
          ],
          [
           845
          ],
          [
           73.3
          ],
          [
           574
          ],
          [
           43.58
          ],
          [
           1058.12
          ],
          [
           5.6
          ],
          [
           65.22
          ],
          [
           65.05
          ],
          [
           43.92
          ],
          [
           50.1
          ],
          [
           44.48
          ],
          [
           50.16
          ],
          [
           47.56
          ],
          [
           48.56
          ],
          [
           33.32
          ],
          [
           63.56
          ],
          [
           43.92
          ],
          [
           63.85
          ],
          [
           39.28
          ],
          [
           50.8
          ],
          [
           50.7
          ],
          [
           5.1
          ],
          [
           1145.45
          ],
          [
           59.44
          ],
          [
           937.41
          ],
          [
           838.29
          ],
          [
           48.24
          ],
          [
           986.95
          ],
          [
           283.71
          ],
          [
           5.17
          ],
          [
           65.78
          ],
          [
           62.61
          ],
          [
           29.6
          ],
          [
           297
          ],
          [
           43.65
          ],
          [
           58.05
          ],
          [
           67.92
          ],
          [
           37
          ],
          [
           39.33
          ],
          [
           29.48
          ],
          [
           29.4
          ],
          [
           46.54
          ],
          [
           722.25
          ],
          [
           44.61
          ],
          [
           63.21
          ],
          [
           4.39
          ],
          [
           72.61
          ],
          [
           278.86
          ],
          [
           31.42
          ],
          [
           6.33
          ],
          [
           6.69
          ],
          [
           28.98
          ],
          [
           51.58
          ],
          [
           44.61
          ],
          [
           37
          ],
          [
           62.11
          ],
          [
           694.4
          ],
          [
           45.12
          ],
          [
           41.63
          ],
          [
           5.79
          ],
          [
           1064.7
          ],
          [
           1109.03
          ],
          [
           6.49
          ],
          [
           324.2
          ],
          [
           30.26
          ],
          [
           410.83
          ],
          [
           24.05
          ],
          [
           7.65
          ],
          [
           47
          ],
          [
           40.14
          ],
          [
           68.22
          ],
          [
           7.32
          ],
          [
           46
          ],
          [
           40.74
          ],
          [
           48.36
          ],
          [
           47.55
          ],
          [
           6.39
          ],
          [
           47.62
          ],
          [
           43.86
          ],
          [
           5.54
          ],
          [
           48.96
          ],
          [
           71.57
          ],
          [
           7.57
          ],
          [
           48.01
          ],
          [
           66.97
          ],
          [
           53.68
          ],
          [
           7.45
          ],
          [
           40.26
          ],
          [
           7.65
          ],
          [
           5.85
          ],
          [
           69.99
          ],
          [
           140.7
          ],
          [
           49.05
          ],
          [
           729.77
          ],
          [
           159.98
          ],
          [
           18.97
          ],
          [
           6.36
          ],
          [
           38.03
          ],
          [
           70.51
          ],
          [
           72.58
          ],
          [
           829.1
          ],
          [
           47.38
          ],
          [
           39.56
          ],
          [
           7.4
          ],
          [
           46.29
          ],
          [
           59.8
          ],
          [
           1116
          ],
          [
           41.55
          ],
          [
           50.01
          ],
          [
           34.7
          ],
          [
           65.8
          ],
          [
           55.66
          ],
          [
           5.17
          ],
          [
           30.49
          ],
          [
           58.34
          ],
          [
           49.47
          ],
          [
           48.3
          ],
          [
           5.57
          ],
          [
           849.99
          ],
          [
           19.47
          ],
          [
           60.05
          ],
          [
           52.5
          ],
          [
           671.87
          ],
          [
           63.34
          ],
          [
           160.67
          ],
          [
           6.99
          ],
          [
           50.78
          ],
          [
           36.79
          ],
          [
           29.09
          ],
          [
           37.73
          ],
          [
           47.98
          ],
          [
           34.88
          ],
          [
           163.11
          ],
          [
           66.95
          ],
          [
           1022.37
          ],
          [
           1005.05
          ],
          [
           32.83
          ],
          [
           5.7
          ],
          [
           43.94
          ],
          [
           42.07
          ],
          [
           55.25
          ],
          [
           6.01
          ],
          [
           54.64
          ],
          [
           589.74
          ],
          [
           40.81
          ],
          [
           46
          ],
          [
           673.47
          ],
          [
           53.34
          ],
          [
           46.39
          ],
          [
           39.62
          ],
          [
           43.04
          ],
          [
           45
          ],
          [
           41.49
          ],
          [
           49.7
          ],
          [
           53.23
          ],
          [
           25.98
          ],
          [
           102.87
          ],
          [
           7.33
          ],
          [
           625.22
          ],
          [
           6.97
          ],
          [
           839.29
          ],
          [
           48.95
          ],
          [
           6.21
          ],
          [
           686.44
          ],
          [
           68.86
          ],
          [
           165.52
          ],
          [
           49.98
          ],
          [
           43.03
          ],
          [
           46.98
          ],
          [
           63.77
          ],
          [
           599.04
          ],
          [
           44.14
          ],
          [
           5.97
          ],
          [
           37.74
          ],
          [
           41.2
          ],
          [
           475.05
          ],
          [
           36.9
          ],
          [
           43.92
          ],
          [
           35.71
          ],
          [
           241.73
          ],
          [
           50.96
          ],
          [
           74.28
          ],
          [
           32.25
          ],
          [
           21.85
          ],
          [
           679.82
          ],
          [
           65.68
          ],
          [
           45.55
          ],
          [
           6.59
          ],
          [
           67.24
          ],
          [
           55.32
          ],
          [
           6.95
          ],
          [
           45.28
          ],
          [
           48.17
          ],
          [
           35.68
          ],
          [
           39.3
          ],
          [
           38.75
          ],
          [
           735.11
          ],
          [
           5.79
          ],
          [
           54.7
          ],
          [
           39.97
          ],
          [
           42.02
          ],
          [
           46.22
          ],
          [
           25.45
          ],
          [
           66.42
          ],
          [
           109.09
          ],
          [
           42.98
          ],
          [
           7.54
          ],
          [
           67.02
          ],
          [
           42.31
          ],
          [
           35.94
          ],
          [
           52.91
          ],
          [
           52
          ],
          [
           48.82
          ],
          [
           45.12
          ],
          [
           5.35
          ],
          [
           18.55
          ],
          [
           811.08
          ],
          [
           39.52
          ],
          [
           51.4
          ],
          [
           5.51
          ],
          [
           402.84
          ],
          [
           65.63
          ],
          [
           73.96
          ],
          [
           6.45
          ],
          [
           9.12
          ],
          [
           44.2
          ],
          [
           200.79
          ],
          [
           28.65
          ],
          [
           68.19
          ],
          [
           66.26
          ],
          [
           49.75
          ],
          [
           39.21
          ],
          [
           68.91
          ],
          [
           66.81
          ],
          [
           44.11
          ],
          [
           46.96
          ],
          [
           52.39
          ],
          [
           153.64
          ],
          [
           62.02
          ],
          [
           7.57
          ],
          [
           5.78
          ],
          [
           30.7
          ],
          [
           43.99
          ],
          [
           6.58
          ],
          [
           64.96
          ],
          [
           53.36
          ],
          [
           148.72
          ],
          [
           72.47
          ],
          [
           53.35
          ],
          [
           52.76
          ],
          [
           141.13
          ],
          [
           40.08
          ],
          [
           41.5
          ],
          [
           63.54
          ],
          [
           45.02
          ],
          [
           5.53
          ],
          [
           33.39
          ],
          [
           744.49
          ],
          [
           49.79
          ],
          [
           46.09
          ],
          [
           5.48
          ],
          [
           27.47
          ],
          [
           40.21
          ],
          [
           60.77
          ],
          [
           6.25
          ],
          [
           44.06
          ],
          [
           62.66
          ],
          [
           33.35
          ],
          [
           45.14
          ],
          [
           43.13
          ],
          [
           47.94
          ],
          [
           4.75
          ],
          [
           60.07
          ],
          [
           166.76
          ],
          [
           43.32
          ],
          [
           686.17
          ],
          [
           50.71
          ],
          [
           425.3
          ],
          [
           61.61
          ],
          [
           113.91
          ],
          [
           43.42
          ],
          [
           27.93
          ],
          [
           62.58
          ],
          [
           56.12
          ],
          [
           7.2
          ],
          [
           63.03
          ],
          [
           680.76
          ],
          [
           1093.94
          ],
          [
           1033.42
          ],
          [
           198.86
          ],
          [
           572.84
          ],
          [
           63.08
          ],
          [
           1010.64
          ],
          [
           42.8
          ],
          [
           5.16
          ],
          [
           6.26
          ],
          [
           20.93
          ],
          [
           5.4
          ],
          [
           180.2
          ],
          [
           32.37
          ],
          [
           6
          ],
          [
           67.77
          ],
          [
           42.99
          ],
          [
           46.61
          ],
          [
           41.04
          ],
          [
           46.15
          ],
          [
           73.14
          ],
          [
           408.5
          ],
          [
           708.49
          ],
          [
           41.49
          ],
          [
           4.85
          ],
          [
           48.94
          ],
          [
           49.83
          ],
          [
           44.33
          ],
          [
           68.4
          ],
          [
           58.03
          ],
          [
           35.79
          ],
          [
           63
          ],
          [
           60.55
          ],
          [
           4.88
          ],
          [
           449.76
          ],
          [
           580.88
          ],
          [
           60.02
          ],
          [
           164.05
          ],
          [
           849.44
          ],
          [
           45.76
          ],
          [
           61.04
          ],
          [
           46.85
          ],
          [
           44.98
          ],
          [
           738.85
          ],
          [
           39.06
          ],
          [
           35.04
          ],
          [
           24.81
          ],
          [
           39.82
          ],
          [
           4.59
          ],
          [
           863.42
          ],
          [
           37.31
          ],
          [
           5.24
          ],
          [
           27.11
          ],
          [
           10.2
          ],
          [
           52.15
          ],
          [
           71.1
          ],
          [
           446.65
          ],
          [
           791.36
          ],
          [
           69.47
          ],
          [
           48.29
          ],
          [
           28.71
          ],
          [
           50.28
          ],
          [
           1031.56
          ],
          [
           144.91
          ],
          [
           58.96
          ],
          [
           74.45
          ],
          [
           41.53
          ],
          [
           68.27
          ],
          [
           61.1
          ],
          [
           6.45
          ],
          [
           421.94
          ],
          [
           48.98
          ],
          [
           668.06
          ],
          [
           1070.34
          ],
          [
           36.38
          ],
          [
           617.2
          ],
          [
           17.52
          ],
          [
           44.52
          ],
          [
           5.62
          ],
          [
           156.52
          ],
          [
           63.07
          ],
          [
           31.84
          ],
          [
           47.15
          ],
          [
           985
          ],
          [
           7.05
          ],
          [
           43.89
          ],
          [
           39.62
          ],
          [
           48.54
          ],
          [
           67.81
          ],
          [
           7.9
          ],
          [
           53.76
          ],
          [
           46.47
          ],
          [
           40.57
          ],
          [
           80.81
          ],
          [
           140.26
          ],
          [
           39.31
          ],
          [
           24.55
          ],
          [
           45.27
          ],
          [
           858.97
          ],
          [
           57.99
          ],
          [
           46.33
          ],
          [
           71.11
          ],
          [
           5.68
          ],
          [
           41.74
          ],
          [
           37.05
          ],
          [
           371.34
          ],
          [
           7.22
          ],
          [
           36.47
          ],
          [
           154.26
          ],
          [
           69.53
          ],
          [
           51.14
          ],
          [
           611.29
          ],
          [
           729.4
          ],
          [
           49.11
          ],
          [
           8.75
          ],
          [
           5.79
          ],
          [
           69
          ],
          [
           33.27
          ],
          [
           38.55
          ],
          [
           45.85
          ],
          [
           69.5
          ],
          [
           6.35
          ],
          [
           49.81
          ],
          [
           7.82
          ],
          [
           68.21
          ],
          [
           1084.6
          ],
          [
           6.79
          ],
          [
           51.64
          ],
          [
           52.96
          ],
          [
           6.88
          ],
          [
           907.34
          ],
          [
           52.45
          ],
          [
           707.94
          ],
          [
           69.92
          ],
          [
           45.95
          ],
          [
           42.8
          ],
          [
           73.03
          ],
          [
           53.54
          ],
          [
           45.8
          ],
          [
           6.76
          ],
          [
           4.72
          ],
          [
           39.22
          ],
          [
           42.34
          ],
          [
           5.65
          ],
          [
           366.28
          ],
          [
           69.61
          ],
          [
           192.17
          ],
          [
           38.37
          ],
          [
           44.64
          ],
          [
           7.6
          ],
          [
           37.94
          ],
          [
           53.28
          ],
          [
           76.3
          ],
          [
           44.65
          ],
          [
           4.73
          ],
          [
           50.08
          ],
          [
           7.58
          ],
          [
           67.1
          ],
          [
           42.34
          ],
          [
           328.6
          ],
          [
           55.21
          ],
          [
           43.09
          ],
          [
           59.41
          ],
          [
           5.63
          ],
          [
           6.32
          ],
          [
           6.99
          ],
          [
           39.99
          ],
          [
           6.6
          ],
          [
           61.22
          ],
          [
           417.13
          ],
          [
           843.03
          ],
          [
           70.86
          ],
          [
           49.02
          ],
          [
           918.4
          ],
          [
           635.62
          ],
          [
           733.57
          ],
          [
           53.55
          ],
          [
           201.87
          ],
          [
           303.36
          ],
          [
           1014.97
          ],
          [
           51.91
          ],
          [
           5.47
          ],
          [
           46.09
          ],
          [
           430.83
          ],
          [
           59.08
          ],
          [
           98.43
          ],
          [
           47.7
          ],
          [
           6.49
          ],
          [
           597.95
          ],
          [
           59
          ],
          [
           430.63
          ],
          [
           58.39
          ],
          [
           48.55
          ],
          [
           45.78
          ],
          [
           922
          ],
          [
           752.92
          ],
          [
           70.49
          ],
          [
           499.27
          ],
          [
           966.41
          ],
          [
           40.76
          ],
          [
           71.48
          ],
          [
           44
          ],
          [
           705.67
          ],
          [
           55.72
          ],
          [
           30.22
          ],
          [
           683.8
          ],
          [
           7.63
          ],
          [
           53.84
          ],
          [
           48.29
          ],
          [
           442.15
          ],
          [
           59.86
          ],
          [
           44.51
          ],
          [
           46.87
          ],
          [
           1028.15
          ],
          [
           6.63
          ],
          [
           6.39
          ],
          [
           736.27
          ],
          [
           6.87
          ],
          [
           43.92
          ],
          [
           49.23
          ],
          [
           883.09
          ],
          [
           49.41
          ],
          [
           5.7
          ],
          [
           63.4
          ],
          [
           68.9
          ],
          [
           62.81
          ],
          [
           66.97
          ],
          [
           156.01
          ],
          [
           711.2
          ],
          [
           5.71
          ],
          [
           649.86
          ],
          [
           682.22
          ],
          [
           171.68
          ],
          [
           880.8
          ],
          [
           709.74
          ],
          [
           17.99
          ],
          [
           70.55
          ],
          [
           380.36
          ],
          [
           16.65
          ],
          [
           7.61
          ],
          [
           65.78
          ],
          [
           52.19
          ],
          [
           6.45
          ],
          [
           309.2
          ],
          [
           72.76
          ],
          [
           6.84
          ],
          [
           411.76
          ],
          [
           49.12
          ],
          [
           756.99
          ],
          [
           51.12
          ],
          [
           39.1
          ],
          [
           47.79
          ],
          [
           160.01
          ],
          [
           43.92
          ],
          [
           50.87
          ],
          [
           47.36
          ],
          [
           40.58
          ],
          [
           10.66
          ],
          [
           6.65
          ],
          [
           63.7
          ],
          [
           70.1
          ],
          [
           36.93
          ],
          [
           51.95
          ],
          [
           44.9
          ],
          [
           70.97
          ],
          [
           72.55
          ],
          [
           41.38
          ],
          [
           30.21
          ],
          [
           88.6
          ],
          [
           75.02
          ],
          [
           60.23
          ],
          [
           58.82
          ],
          [
           5.6
          ],
          [
           96.27
          ],
          [
           300.13
          ],
          [
           68.2
          ],
          [
           45.43
          ],
          [
           40.13
          ],
          [
           44.66
          ],
          [
           38.67
          ],
          [
           24.17
          ],
          [
           50.45
          ],
          [
           850.45
          ],
          [
           23.05
          ],
          [
           45.17
          ],
          [
           66.31
          ],
          [
           68.99
          ],
          [
           49.04
          ],
          [
           738.2
          ],
          [
           39.62
          ],
          [
           45.37
          ],
          [
           85.53
          ],
          [
           38.06
          ],
          [
           36.68
          ],
          [
           51.6
          ],
          [
           60.21
          ],
          [
           50.39
          ],
          [
           6.84
          ],
          [
           50.31
          ],
          [
           67.58
          ],
          [
           41.92
          ],
          [
           49.74
          ],
          [
           57.1
          ],
          [
           5.36
          ],
          [
           46.62
          ],
          [
           1025.49
          ],
          [
           755.83
          ],
          [
           49.34
          ],
          [
           49.7
          ],
          [
           32.84
          ],
          [
           60.2
          ],
          [
           22.07
          ],
          [
           4.95
          ],
          [
           135.8
          ],
          [
           37.49
          ],
          [
           41.46
          ],
          [
           38.39
          ],
          [
           35.58
          ],
          [
           66.63
          ],
          [
           5.52
          ],
          [
           975.99
          ],
          [
           17.45
          ],
          [
           45.9
          ],
          [
           6.43
          ],
          [
           630.85
          ],
          [
           5.61
          ],
          [
           45.89
          ],
          [
           43.39
          ],
          [
           441.76
          ],
          [
           62.17
          ],
          [
           129.07
          ],
          [
           6.37
          ],
          [
           44.69
          ],
          [
           854.69
          ],
          [
           46.9
          ],
          [
           44.31
          ],
          [
           90.89
          ],
          [
           27.87
          ],
          [
           680.26
          ],
          [
           6.97
          ],
          [
           5.59
          ],
          [
           64.02
          ],
          [
           310.95
          ],
          [
           909.25
          ],
          [
           8.87
          ],
          [
           37.48
          ],
          [
           39.93
          ],
          [
           215.96
          ],
          [
           71.08
          ],
          [
           28.1
          ],
          [
           43.69
          ],
          [
           24.45
          ],
          [
           37.64
          ],
          [
           69.42
          ],
          [
           51.39
          ],
          [
           670.94
          ],
          [
           57.39
          ],
          [
           4.77
          ],
          [
           68.75
          ],
          [
           47.73
          ],
          [
           57.21
          ],
          [
           308.93
          ],
          [
           45.41
          ],
          [
           753.87
          ],
          [
           44.45
          ],
          [
           60.74
          ],
          [
           35.05
          ],
          [
           28.94
          ],
          [
           47.9
          ],
          [
           189.98
          ],
          [
           86.86
          ],
          [
           5.28
          ],
          [
           48.01
          ],
          [
           67.53
          ],
          [
           5.87
          ],
          [
           65.42
          ],
          [
           68.91
          ],
          [
           6.15
          ],
          [
           39.32
          ],
          [
           47.06
          ],
          [
           53.26
          ],
          [
           6.21
          ],
          [
           200.18
          ],
          [
           404.67
          ],
          [
           48.15
          ],
          [
           47.73
          ],
          [
           719.69
          ],
          [
           7.83
          ],
          [
           48.52
          ],
          [
           68.37
          ],
          [
           65.43
          ],
          [
           43.5
          ],
          [
           60.56
          ],
          [
           47.54
          ],
          [
           160.1
          ],
          [
           5.68
          ],
          [
           811.19
          ],
          [
           46.35
          ],
          [
           69.13
          ],
          [
           18.3
          ],
          [
           46.07
          ],
          [
           6.88
          ],
          [
           44.95
          ],
          [
           65.9
          ],
          [
           71.7
          ],
          [
           25.88
          ],
          [
           38.39
          ],
          [
           63.45
          ],
          [
           44.14
          ],
          [
           48.63
          ],
          [
           9.09
          ],
          [
           50.22
          ],
          [
           43.54
          ],
          [
           5.85
          ],
          [
           33.21
          ],
          [
           4.62
          ],
          [
           49.23
          ],
          [
           735.72
          ],
          [
           6.68
          ],
          [
           46.05
          ],
          [
           55.48
          ],
          [
           420.28
          ],
          [
           44.22
          ],
          [
           6.43
          ],
          [
           57.18
          ],
          [
           620.83
          ],
          [
           28.44
          ],
          [
           1030.51
          ],
          [
           8.4
          ],
          [
           1003.8
          ],
          [
           71.54
          ],
          [
           5.63
          ],
          [
           43.8
          ],
          [
           1084.59
          ],
          [
           86.05
          ],
          [
           42.05
          ],
          [
           63.44
          ],
          [
           11.9
          ],
          [
           45.34
          ],
          [
           70.36
          ],
          [
           63.49
          ],
          [
           27.52
          ],
          [
           42.21
          ],
          [
           6.13
          ],
          [
           72.74
          ],
          [
           50.71
          ],
          [
           70.86
          ],
          [
           6.27
          ],
          [
           70.31
          ],
          [
           10.09
          ],
          [
           36.45
          ],
          [
           646.22
          ],
          [
           977.2
          ],
          [
           50.99
          ],
          [
           29.6
          ],
          [
           61.14
          ],
          [
           777.56
          ],
          [
           71.15
          ],
          [
           86.19
          ],
          [
           49.24
          ],
          [
           49.56
          ],
          [
           5.9
          ],
          [
           68.31
          ],
          [
           52
          ],
          [
           1088.12
          ],
          [
           6.93
          ],
          [
           70.1
          ],
          [
           19.07
          ],
          [
           75.5
          ],
          [
           40.49
          ],
          [
           50.6
          ],
          [
           48.91
          ],
          [
           69.57
          ],
          [
           599.05
          ],
          [
           824.4
          ],
          [
           6.34
          ],
          [
           40.02
          ],
          [
           68.28
          ],
          [
           42.56
          ],
          [
           58.24
          ],
          [
           6.85
          ],
          [
           35.34
          ],
          [
           36.3
          ],
          [
           701.98
          ],
          [
           23.56
          ],
          [
           59.94
          ],
          [
           81.12
          ],
          [
           45.66
          ],
          [
           5.52
          ],
          [
           43.3
          ],
          [
           1056.78
          ],
          [
           5.61
          ],
          [
           5.58
          ],
          [
           32.14
          ],
          [
           66.99
          ],
          [
           48.97
          ],
          [
           7.03
          ],
          [
           72.47
          ],
          [
           38.63
          ],
          [
           161.6
          ],
          [
           27.93
          ],
          [
           419.07
          ],
          [
           63.95
          ],
          [
           36.2
          ],
          [
           32.89
          ],
          [
           49.54
          ],
          [
           46.49
          ],
          [
           809.87
          ],
          [
           38.24
          ],
          [
           41.28
          ],
          [
           205.01
          ],
          [
           5.86
          ],
          [
           38.18
          ],
          [
           41.54
          ],
          [
           388.04
          ],
          [
           20.99
          ],
          [
           5.86
          ],
          [
           65.18
          ],
          [
           5.82
          ],
          [
           60.39
          ],
          [
           45.49
          ],
          [
           6.16
          ],
          [
           39.63
          ],
          [
           41.29
          ],
          [
           6.72
          ],
          [
           52.95
          ],
          [
           870.76
          ],
          [
           114.44
          ],
          [
           5.71
          ],
          [
           48
          ],
          [
           418.32
          ],
          [
           61.83
          ],
          [
           10.8
          ],
          [
           673.6
          ],
          [
           51
          ],
          [
           5.67
          ],
          [
           41.47
          ],
          [
           66.74
          ],
          [
           74
          ],
          [
           5.55
          ],
          [
           800.77
          ],
          [
           46.05
          ],
          [
           55.7
          ],
          [
           6.72
          ],
          [
           41.06
          ],
          [
           38.11
          ],
          [
           51.2
          ],
          [
           30.02
          ],
          [
           105.63
          ],
          [
           307.92
          ],
          [
           40.34
          ],
          [
           40.98
          ],
          [
           37.61
          ],
          [
           69.16
          ],
          [
           6.31
          ],
          [
           58.94
          ],
          [
           5.97
          ],
          [
           69.46
          ],
          [
           422.64
          ],
          [
           121.6
          ],
          [
           44.7
          ],
          [
           49.54
          ],
          [
           37.27
          ],
          [
           223.93
          ],
          [
           61.78
          ],
          [
           67.46
          ],
          [
           64.27
          ],
          [
           38.23
          ],
          [
           5.66
          ],
          [
           43.55
          ],
          [
           8.72
          ],
          [
           489.61
          ],
          [
           49.8
          ],
          [
           46.09
          ],
          [
           6.36
          ],
          [
           39.74
          ],
          [
           48.39
          ],
          [
           49.4
          ],
          [
           20.94
          ],
          [
           38.73
          ],
          [
           425.92
          ],
          [
           7.71
          ],
          [
           44.21
          ],
          [
           49.32
          ],
          [
           40.7
          ],
          [
           821.53
          ],
          [
           23.94
          ],
          [
           156.38
          ],
          [
           62.17
          ],
          [
           41.31
          ],
          [
           58.36
          ],
          [
           5.71
          ],
          [
           55.81
          ],
          [
           46.1
          ],
          [
           50.05
          ],
          [
           60.84
          ],
          [
           1064.4
          ],
          [
           36.22
          ],
          [
           59.94
          ],
          [
           48.23
          ],
          [
           46.12
          ],
          [
           43.05
          ],
          [
           58.11
          ]
         ]
        },
        {
         "mode": "lines",
         "name": "Predicted",
         "type": "scatter",
         "x": [
          448.35,
          29.61,
          48,
          1039.66,
          64.17,
          50.61,
          50.31,
          41.7,
          48.97,
          995.43,
          50.5,
          734.79,
          5.72,
          6.46,
          6.7,
          61.88,
          23.66,
          641.87,
          116.18,
          37.02,
          51.62,
          42.47,
          59.6,
          6.57,
          678.98,
          1003.31,
          45.64,
          5.38,
          856.3,
          6.76,
          45.28,
          68.03,
          87.64,
          59.35,
          72.21,
          45.81,
          126.48,
          8.36,
          60.96,
          6.39,
          74.88,
          442,
          6.63,
          50.28,
          71.2,
          63.45,
          14.02,
          6.86,
          57.44,
          87,
          30,
          6.95,
          6.6,
          70.35,
          51.3,
          40.89,
          5.6,
          56.7,
          5.2,
          52.5,
          6.96,
          904.76,
          60.2,
          115.14,
          424.62,
          50.41,
          42.64,
          63.2,
          39.88,
          139.79,
          64.17,
          55.4,
          73.52,
          407.23,
          45.2,
          42.09,
          60.2,
          333,
          7.19,
          73.8,
          177.62,
          700,
          53.93,
          38.14,
          54.22,
          4.73,
          49.78,
          43.23,
          40.3,
          63,
          57.6,
          46.6,
          6.42,
          55.52,
          4.81,
          40.66,
          670,
          51.08,
          7.66,
          758.49,
          6.02,
          910.7,
          42.98,
          62.8,
          42.17,
          882,
          52.3,
          656.44,
          5.68,
          76.13,
          23.89,
          63.2,
          831.56,
          36.85,
          58.34,
          44.91,
          101.52,
          143.39,
          6.68,
          36.14,
          60.45,
          50,
          39.39,
          654.68,
          45.99,
          47.12,
          5.07,
          52.48,
          62.57,
          815.01,
          710.17,
          34.62,
          41.59,
          39.79,
          36,
          40.27,
          45.87,
          945,
          6.11,
          6.9,
          556.44,
          6.17,
          46.1,
          73.88,
          56.51,
          37.17,
          67.81,
          57.38,
          449.78,
          6.25,
          6.91,
          66.44,
          184.7,
          44,
          60.71,
          6.17,
          49.5,
          46.3,
          69.36,
          54.25,
          41.63,
          68.8,
          38.79,
          874.49,
          717.96,
          5.51,
          63.27,
          44.86,
          5.94,
          40.79,
          8.14,
          800.93,
          909.63,
          42.5,
          70.13,
          41.51,
          39.34,
          61.76,
          61.5,
          39.09,
          72.4,
          6.4,
          57.53,
          6.01,
          71.27,
          67.99,
          6.57,
          1106.55,
          74.6,
          69.4,
          38.01,
          41,
          51.47,
          41.78,
          39.14,
          38.71,
          568,
          450.31,
          4.68,
          707.71,
          39.82,
          52.77,
          56.96,
          60.68,
          50.84,
          52.57,
          71.27,
          42.05,
          319.8,
          73.98,
          540.4,
          52.42,
          43.55,
          44.54,
          62.76,
          45.27,
          36.58,
          6.88,
          38.2,
          7.4,
          50.12,
          6.45,
          4.84,
          4.92,
          421.84,
          52.39,
          27.94,
          62.05,
          5.58,
          34.02,
          27.37,
          40.7,
          35.57,
          373,
          58.72,
          6.9,
          299,
          60.21,
          47.07,
          40.21,
          47.06,
          7.05,
          52.38,
          76.49,
          6.5,
          72.2,
          49.7,
          46.14,
          61.6,
          72.01,
          41.46,
          50.83,
          51.05,
          331.8,
          52.72,
          58.44,
          30,
          40.1,
          46.79,
          46.34,
          36.5,
          46.83,
          52.49,
          60.5,
          745.89,
          62.25,
          428.3,
          59.39,
          45.86,
          711.85,
          175.57,
          165.56,
          63.16,
          110.84,
          7.04,
          787.65,
          872.71,
          914.05,
          6.4,
          63.78,
          46.68,
          28.86,
          4.5,
          40,
          68.39,
          52.48,
          34.84,
          54.87,
          41.75,
          44.82,
          1044.2,
          70.77,
          66.75,
          41.6,
          50.26,
          43.48,
          56,
          628.23,
          64.77,
          674.51,
          5.71,
          5.7,
          6.72,
          781,
          37.38,
          552.55,
          164.65,
          5.52,
          62.66,
          613,
          40.58,
          51.46,
          40.49,
          423.79,
          815.49,
          1041.71,
          6.73,
          47,
          860.77,
          59.05,
          43,
          68.94,
          60.36,
          47.48,
          36.7,
          914.77,
          40.5,
          62.05,
          415.6,
          38.99,
          44.43,
          39.42,
          6.77,
          64.64,
          24.58,
          45.73,
          653.18,
          6.63,
          71.51,
          5.9,
          5.61,
          7.7,
          47,
          40.89,
          5.62,
          29.38,
          100.25,
          70.92,
          47.55,
          686.32,
          734.08,
          48.1,
          45.86,
          63.24,
          454.44,
          52.4,
          6.38,
          653.69,
          684.29,
          6.2,
          42.06,
          6.36,
          36.22,
          68.3,
          5.45,
          51.1,
          44.94,
          297.6,
          69.2,
          43.57,
          996.34,
          4.9,
          8.7,
          62.56,
          63.46,
          40.5,
          812.44,
          53.75,
          49.47,
          1010.41,
          24.27,
          669.75,
          7.57,
          58.87,
          1234.41,
          795,
          16.36,
          6.41,
          429.6,
          898.58,
          106.05,
          69.38,
          42,
          1098.64,
          40.44,
          27.05,
          688.37,
          45.2,
          6.85,
          335.4,
          6.97,
          50.61,
          63.99,
          37.42,
          47.39,
          65.13,
          53.4,
          39.64,
          46.21,
          47.49,
          38.41,
          1006.8,
          40.2,
          202.37,
          4.39,
          196,
          34.95,
          49.01,
          165.4,
          41.5,
          67,
          45.47,
          7.89,
          65.9,
          72.4,
          989.03,
          42.83,
          47.33,
          63.68,
          40.72,
          6.79,
          5.57,
          6.82,
          37.87,
          65.51,
          5.7,
          50.22,
          5.91,
          299.91,
          44.7,
          190.85,
          41.52,
          41.93,
          28.38,
          18.52,
          41.83,
          52.85,
          980.4,
          743.53,
          6.35,
          37.75,
          59.34,
          1136.3,
          56.93,
          50.51,
          44.61,
          63,
          44.82,
          7.78,
          5.71,
          44.65,
          153.76,
          71.25,
          59.79,
          44.51,
          335.79,
          41.64,
          979.94,
          19.3,
          35.03,
          48.96,
          646.36,
          36.75,
          60.9,
          46.44,
          39.82,
          49.06,
          930,
          67.11,
          45.79,
          608.18,
          198.96,
          6.03,
          7.14,
          4.77,
          162.7,
          41.81,
          719.6,
          44.83,
          844.68,
          59.62,
          108.4,
          55.76,
          37.79,
          48.02,
          5.48,
          67.32,
          42.16,
          7,
          801.26,
          74.03,
          40.38,
          58.5,
          37.66,
          46.58,
          852,
          7.05,
          65.09,
          43.65,
          632,
          5.53,
          5.55,
          53.48,
          43.3,
          1102.77,
          43.6,
          41.8,
          32.6,
          39.55,
          42.45,
          28.95,
          45.1,
          6.06,
          53.29,
          49.3,
          5.9,
          441.92,
          757.15,
          61.31,
          42.09,
          58.45,
          712.71,
          6.76,
          74.9,
          49.43,
          36.71,
          67.95,
          60.07,
          55.7,
          39.74,
          4.93,
          34.14,
          664.27,
          41,
          6.95,
          68.75,
          70.31,
          49.58,
          45.25,
          63.83,
          935.21,
          38.48,
          830.99,
          52.7,
          40.87,
          298.6,
          50.17,
          421.39,
          34.55,
          46,
          41.16,
          1107.99,
          50.41,
          6.28,
          31.74,
          52.77,
          70.59,
          41.8,
          61.2,
          6.33,
          46.85,
          96.36,
          51.82,
          42,
          67.38,
          161,
          43.5,
          53.16,
          5.71,
          439.5,
          45.87,
          914.98,
          430.13,
          6.36,
          39.89,
          140.2,
          55.61,
          43.24,
          7.64,
          59.34,
          45.59,
          7.61,
          39.61,
          8.62,
          65.68,
          32.8,
          49.69,
          6.4,
          784.8,
          42.62,
          70.58,
          1009.73,
          44,
          41.35,
          5.6,
          47.97,
          26.92,
          75.6,
          24.26,
          67.8,
          44.06,
          68.42,
          42.56,
          44.83,
          44.8,
          281,
          66.02,
          39.24,
          5.14,
          38.4,
          52.12,
          40.61,
          600.55,
          50.02,
          436.09,
          42.59,
          64.8,
          166.9,
          66.87,
          6.03,
          1094.57,
          49.86,
          37.79,
          7.68,
          5.7,
          34.55,
          6.86,
          57.55,
          43.56,
          23.98,
          67.98,
          52.4,
          83.67,
          43.93,
          52.25,
          40.42,
          52.02,
          5.68,
          51.34,
          8.4,
          61.1,
          51.64,
          54.5,
          6.42,
          865.35,
          55.67,
          26.54,
          60.8,
          65.56,
          40.37,
          42.26,
          453.13,
          675.77,
          62.88,
          5.8,
          574.37,
          55.75,
          6.09,
          82.36,
          74.05,
          40.7,
          6.2,
          51.17,
          92.28,
          51,
          1160.7,
          44.12,
          60.5,
          6.9,
          19.36,
          51.6,
          54.52,
          49.94,
          1081.86,
          68.41,
          50.12,
          45.32,
          20.93,
          6.65,
          36.56,
          62.12,
          68.94,
          42.91,
          52.79,
          7.43,
          62.76,
          6.51,
          53.15,
          48.84,
          62.47,
          46.99,
          60.15,
          66.63,
          67.1,
          302.69,
          39.6,
          56.61,
          77.8,
          42.29,
          47.77,
          6.78,
          1009.73,
          45.3,
          63.5,
          40.18,
          44.85,
          52.43,
          6.26,
          35.78,
          53.96,
          46.16,
          6.73,
          5.86,
          109.05,
          42.85,
          6.21,
          1091.17,
          50,
          38.12,
          56.09,
          44.36,
          43.71,
          57.75,
          40.83,
          643.28,
          16.2,
          36.53,
          49.4,
          70.2,
          42.67,
          40.99,
          5.88,
          46.49,
          28.33,
          5.9,
          49.67,
          68.48,
          646.6,
          55.78,
          48.79,
          108.85,
          602.21,
          1228,
          662.13,
          40.2,
          46.13,
          7.77,
          6.79,
          50.91,
          41.22,
          67.1,
          48.77,
          5.72,
          44.59,
          49.78,
          60.36,
          183.56,
          6.06,
          777.63,
          47.95,
          1149.79,
          52.9,
          705,
          5.85,
          852.76,
          728.65,
          255.34,
          5.82,
          67.76,
          45.54,
          684.59,
          381.94,
          30.48,
          459.02,
          48.23,
          125.94,
          478.99,
          6.19,
          62.62,
          54.33,
          49,
          45.82,
          47.43,
          197.54,
          41.93,
          42.4,
          6.8,
          379.8,
          6,
          155.57,
          5.54,
          34.1,
          35.6,
          28.17,
          48.5,
          39.15,
          47.3,
          70.51,
          49.63,
          50.28,
          57,
          69.56,
          45.02,
          5.45,
          48.53,
          44.62,
          1109.49,
          56.1,
          632.2,
          43.14,
          63.3,
          62.78,
          6.68,
          39.11,
          818,
          50.15,
          67.98,
          625.51,
          1162.33,
          64,
          5.56,
          58.26,
          69.8,
          62.98,
          146.54,
          46.2,
          5.98,
          45.3,
          6.16,
          5.57,
          69.22,
          39.95,
          680.76,
          19.79,
          5.57,
          66.57,
          41.87,
          658.39,
          5.67,
          70.98,
          10.77,
          655.8,
          28.94,
          44.61,
          5.81,
          703.35,
          39.54,
          32.5,
          5.46,
          6.63,
          12.4,
          67.35,
          6.11,
          67.34,
          60.67,
          779.8,
          31.13,
          43.26,
          67.55,
          44.31,
          63.68,
          44.17,
          44.45,
          34.04,
          656.87,
          67,
          158.75,
          41.03,
          43.22,
          965.66,
          33.6,
          42.08,
          66.22,
          55.53,
          38,
          33.28,
          11.29,
          672,
          28,
          699.4,
          40.8,
          45,
          444.61,
          6.65,
          843.39,
          74.98,
          550.06,
          43.32,
          1000,
          5.64,
          60,
          65.65,
          44.6,
          49.94,
          44.62,
          50.2,
          48.76,
          50.44,
          32.73,
          62.17,
          45.35,
          63.6,
          40.01,
          51.5,
          49.6,
          5.3,
          1089.38,
          61.45,
          952.43,
          849.1,
          46.9,
          997.64,
          289.6,
          5.28,
          62.93,
          61.4,
          30.45,
          289.84,
          42.48,
          59.03,
          69,
          38.13,
          38.73,
          29.89,
          30,
          47.1,
          706.34,
          45,
          62.58,
          4.62,
          71.2,
          279.4,
          29.84,
          6.31,
          6.75,
          28.69,
          51.54,
          44.25,
          37.81,
          62.97,
          696.41,
          45.08,
          41.95,
          5.61,
          1077,
          1167.51,
          6.52,
          322.2,
          29.77,
          409.96,
          21.3,
          7.73,
          47.21,
          41.12,
          68.37,
          7.47,
          44.45,
          41.05,
          48.3,
          46,
          6.38,
          47.32,
          44.04,
          5.64,
          48.49,
          71.39,
          7.6,
          47.17,
          65.88,
          53.66,
          7.5,
          40.06,
          7.55,
          5.77,
          69.73,
          138,
          48.8,
          719.46,
          169.8,
          18.55,
          6.22,
          36.75,
          73.03,
          72.6,
          933.36,
          48.93,
          40.47,
          7.2,
          46.91,
          56.1,
          1080.39,
          41.42,
          52.1,
          36.72,
          66.54,
          55.75,
          5.19,
          30.22,
          56.66,
          50.62,
          46.3,
          5.6,
          855,
          19.05,
          59.94,
          52.48,
          689.58,
          64.29,
          156,
          6.8,
          50.45,
          37.06,
          29.9,
          37.34,
          49.5,
          35.66,
          164.1,
          66.89,
          981.08,
          1014.91,
          33.69,
          5.72,
          43.9,
          42.97,
          55.3,
          6.38,
          55.54,
          583.41,
          41.86,
          47.1,
          678.21,
          52.84,
          47.33,
          41.52,
          42.72,
          44.82,
          41.71,
          49.45,
          53.52,
          25.1,
          101,
          7.2,
          628.5,
          7.18,
          878.77,
          49.09,
          6.06,
          718.28,
          67.65,
          163.2,
          50.2,
          42.53,
          47.88,
          63.12,
          591.01,
          43.6,
          5.7,
          38.24,
          40.88,
          502.14,
          37.01,
          46.24,
          35.56,
          244.3,
          51.08,
          75.6,
          28.1,
          21.35,
          674.99,
          65.89,
          43.16,
          6.59,
          67.73,
          55.77,
          6.64,
          44.29,
          48.6,
          35.26,
          40.13,
          38.23,
          723.66,
          5.96,
          56.06,
          40.4,
          42.4,
          46.64,
          26.61,
          64.5,
          109,
          42.25,
          7.4,
          65.4,
          45.69,
          35,
          54.52,
          53.48,
          49.1,
          45.83,
          5.44,
          16.96,
          810.47,
          39.68,
          50.53,
          5.53,
          425.26,
          59.54,
          75,
          6.49,
          8.84,
          43.98,
          200.6,
          28.32,
          69.98,
          69.67,
          49.4,
          39.41,
          69.9,
          64.9,
          43.45,
          46.14,
          54.93,
          157.96,
          61.22,
          7.56,
          5.68,
          30.87,
          43.33,
          6.41,
          65.1,
          52.54,
          142.25,
          75.28,
          54.01,
          52.67,
          145.52,
          39.3,
          41.16,
          61.2,
          44.1,
          5.66,
          33.71,
          742.57,
          47.78,
          45.34,
          5.33,
          28.3,
          39.6,
          62.09,
          6.31,
          43.4,
          63.26,
          34.48,
          45.38,
          42.84,
          48.49,
          4.54,
          60.72,
          167.8,
          41.9,
          705.07,
          50.55,
          419.87,
          61.84,
          114.38,
          43.83,
          28.38,
          62.6,
          54.15,
          7,
          62.92,
          684.65,
          1073.67,
          1047.5,
          199.99,
          601.8,
          65.41,
          1008,
          41.95,
          4.96,
          6.56,
          22.71,
          5.4,
          181.4,
          31.4,
          6.22,
          68.98,
          43.78,
          46.37,
          42,
          47.2,
          75,
          410.85,
          710.68,
          41.2,
          5,
          48.3,
          49.2,
          46.85,
          69.09,
          59.18,
          37.1,
          62.6,
          59.5,
          4.96,
          436.56,
          596.11,
          58.22,
          164.17,
          831,
          46.7,
          61.3,
          47.44,
          45.23,
          743.1,
          39.16,
          33,
          24.08,
          39.2,
          4.67,
          869.67,
          36.2,
          5.2,
          27,
          10.2,
          51.03,
          70.8,
          443.35,
          773.12,
          67.9,
          48,
          28.97,
          50.65,
          1109.07,
          144.75,
          61.39,
          75.33,
          41.64,
          68.23,
          64.7,
          6.54,
          431.75,
          49.53,
          700.3,
          1061.33,
          37.65,
          599.24,
          17.7,
          46.47,
          5.79,
          155.3,
          62.35,
          32.93,
          45.42,
          999.29,
          7.04,
          43.44,
          39.92,
          49.38,
          68.19,
          7.84,
          53.29,
          46.14,
          39.8,
          79.46,
          151,
          37.91,
          24.8,
          43.94,
          839.48,
          58.49,
          45.4,
          71.4,
          5.48,
          40.9,
          36.71,
          386.21,
          7.3,
          35.83,
          160,
          71.69,
          50.93,
          615.64,
          719.8,
          50.41,
          8.65,
          5.98,
          70.63,
          32.29,
          39.82,
          46.26,
          68.35,
          6.5,
          49.12,
          7.78,
          66.09,
          1099.06,
          6.58,
          51.14,
          51.15,
          6.83,
          923.79,
          50.61,
          694.09,
          70.76,
          45.81,
          43.04,
          72,
          54.04,
          45.39,
          6.73,
          4.72,
          39.1,
          41,
          5.7,
          356.6,
          70.85,
          198.82,
          38.9,
          48.3,
          7.34,
          38.16,
          53.73,
          72.51,
          44.87,
          4.66,
          49.04,
          7.69,
          66.5,
          42.31,
          303.8,
          55.35,
          42.01,
          58.88,
          5.98,
          6.26,
          6.7,
          40.31,
          6.56,
          59.9,
          416.45,
          823.74,
          69.04,
          47.95,
          914.2,
          601.75,
          732.25,
          52.89,
          193.8,
          311.2,
          1084.79,
          51.71,
          5.49,
          46.58,
          446.24,
          62.7,
          94.74,
          46.88,
          6.78,
          626.06,
          60.41,
          412,
          60.66,
          45.92,
          47.2,
          905.53,
          740,
          73.11,
          492,
          1001.09,
          40.12,
          70.7,
          44.7,
          699.99,
          55.43,
          31.06,
          677.38,
          7.59,
          53.25,
          47.17,
          447.94,
          60.2,
          45.1,
          46.27,
          1005.06,
          6.82,
          6.32,
          759.6,
          6.96,
          44.44,
          49.91,
          891.38,
          51.36,
          5.56,
          63.52,
          69,
          61.97,
          67.49,
          155.44,
          707.03,
          5.6,
          666.24,
          726.15,
          168.32,
          855,
          719,
          18.22,
          67.8,
          405.16,
          18.84,
          7.37,
          67.05,
          52.14,
          6.5,
          308.6,
          72.93,
          6.93,
          415.05,
          48.61,
          752.83,
          50.86,
          38.87,
          48.1,
          157.44,
          43.58,
          51.3,
          44.2,
          38.71,
          11.2,
          6.62,
          62.4,
          69.8,
          36.77,
          51.48,
          45.34,
          70.9,
          72.9,
          40.89,
          31,
          88.1,
          76,
          59.71,
          57.07,
          5.76,
          99.42,
          295.43,
          67.54,
          46.04,
          40.57,
          45.85,
          37.8,
          24.9,
          51.51,
          858.74,
          23.6,
          45.52,
          64.05,
          66.88,
          49.39,
          741,
          39.49,
          44.84,
          74.94,
          37.69,
          36.83,
          49.22,
          61.54,
          49.85,
          6.7,
          49.67,
          68.2,
          42.33,
          49.59,
          54.65,
          5.34,
          46.91,
          1043.21,
          745,
          49.04,
          48.37,
          33.03,
          60,
          20.31,
          4.96,
          146,
          35.73,
          43.32,
          38.77,
          34.16,
          67.59,
          5.5,
          953.21,
          17.27,
          45.54,
          6.43,
          620.24,
          5.8,
          48.13,
          43.35,
          439.87,
          63.1,
          131.89,
          5.99,
          44.2,
          877.02,
          44.42,
          44.62,
          96.21,
          28.54,
          682.85,
          6.84,
          5.6,
          63.84,
          294,
          903.18,
          8.72,
          37.8,
          38.67,
          201.3,
          72.32,
          28.03,
          44.1,
          24.64,
          37.75,
          69.07,
          49.58,
          681.06,
          50.56,
          4.62,
          69.69,
          48.07,
          56.8,
          279.2,
          45.65,
          761.58,
          43.95,
          60.4,
          35.06,
          28.2,
          47.26,
          183.8,
          86.72,
          5.1,
          47.91,
          69.65,
          5.7,
          69.44,
          69.13,
          6,
          39.79,
          46.93,
          52,
          6.11,
          202.56,
          394.98,
          49.63,
          47.63,
          741.5,
          7.64,
          48.6,
          65.72,
          64.82,
          43.08,
          61.4,
          45.96,
          158.03,
          5.68,
          849.4,
          46.12,
          69.46,
          18.5,
          46.25,
          6.75,
          45.74,
          66.08,
          72,
          25.63,
          38.48,
          64.2,
          45.38,
          49.45,
          9.1,
          48.51,
          43.39,
          5.65,
          32.84,
          4.77,
          49.77,
          733,
          6.76,
          46.32,
          55.09,
          411.63,
          44.36,
          6.52,
          57.66,
          624.48,
          28.01,
          1026.61,
          8.22,
          1060.64,
          69.53,
          5.7,
          44,
          1081.15,
          84.9,
          42.11,
          63.92,
          11.28,
          44,
          71.11,
          62.96,
          27.78,
          44.39,
          5.9,
          70.27,
          51.01,
          69.5,
          6.38,
          69.88,
          10.18,
          35.97,
          629.89,
          1030,
          51.86,
          31.42,
          57.87,
          787.2,
          70.18,
          85.58,
          50.59,
          49.9,
          5.74,
          68.5,
          53.26,
          1146.65,
          7,
          68.37,
          18.73,
          77.34,
          39.85,
          51.72,
          48.26,
          69.2,
          579.71,
          795.53,
          6,
          39.72,
          68.1,
          42.44,
          59.8,
          6.59,
          34.25,
          35.45,
          685.7,
          23.65,
          59.7,
          82.06,
          45.92,
          5.49,
          41.23,
          1073.44,
          5.53,
          5.61,
          32.62,
          64.34,
          49.39,
          6.99,
          73.04,
          37.23,
          163.03,
          27.29,
          416,
          63.48,
          35.28,
          32.55,
          49.06,
          46.01,
          809.23,
          37.99,
          40.96,
          198.38,
          5.95,
          38.88,
          41.69,
          406.9,
          20.49,
          5.75,
          63.79,
          5.98,
          60.16,
          45.44,
          6.26,
          38.64,
          41.28,
          6.79,
          54.05,
          902.25,
          112.85,
          5.9,
          47.7,
          402.81,
          62.75,
          11.2,
          678.94,
          51.11,
          5.46,
          43.13,
          67.03,
          72.75,
          5.57,
          700.39,
          46.36,
          56.6,
          6.62,
          41.59,
          37.8,
          51.08,
          29.96,
          109.48,
          287,
          40.32,
          40.07,
          38.48,
          69.03,
          6.2,
          58.9,
          6.13,
          67.7,
          422.7,
          121.08,
          44.76,
          49.97,
          38.85,
          216.6,
          60.99,
          66.51,
          64.59,
          37.17,
          5.58,
          43.47,
          8.41,
          497.99,
          49.64,
          46.82,
          6.41,
          39.75,
          48.18,
          49.82,
          20.41,
          40.74,
          438.44,
          7.86,
          42.9,
          49.2,
          41.02,
          834.13,
          23.7,
          171.04,
          66.35,
          40.37,
          57.46,
          5.86,
          55.55,
          46.95,
          49.53,
          61.47,
          1053.67,
          36.9,
          59.67,
          47.63,
          45.14,
          42.28,
          56.29
         ],
         "y": [
          [
           486.64000000000124,
           29.529999999999777,
           48.24999999999984,
           1037.8600000000029,
           64.32999999999987,
           49.84999999999984,
           50.999999999999844,
           42.309999999999825,
           47.51999999999985,
           876.4200000000027,
           49.389999999999844,
           739.3800000000018,
           5.679999999999703,
           6.369999999999712,
           6.73999999999971,
           64.24999999999989,
           24.01999999999976,
           618.7100000000017,
           112.11000000000007,
           37.0299999999998,
           51.98999999999985,
           41.45999999999983,
           61.66999999999989,
           6.389999999999706,
           678.9000000000019,
           1054.730000000003,
           46.099999999999824,
           5.319999999999711,
           804.5800000000023,
           6.759999999999712,
           45.349999999999824,
           66.6099999999999,
           85.51000000000002,
           61.749999999999886,
           71.67999999999991,
           45.919999999999824,
           128.16000000000008,
           8.09999999999971,
           59.77999999999988,
           6.48999999999971,
           71.45999999999991,
           442.3000000000011,
           6.489999999999715,
           50.58999999999985,
           71.06999999999991,
           61.76999999999989,
           13.879999999999757,
           6.829999999999715,
           56.94999999999987,
           86.07999999999997,
           30.27999999999978,
           7.119999999999714,
           6.769999999999714,
           71.89999999999992,
           53.22999999999986,
           41.18999999999982,
           5.579999999999708,
           55.08999999999987,
           4.919999999999716,
           52.27999999999985,
           6.879999999999712,
           930.0000000000025,
           61.39999999999988,
           116.20000000000003,
           421.20000000000095,
           49.779999999999845,
           43.669999999999824,
           62.32999999999987,
           39.73999999999983,
           141.98000000000016,
           64.45999999999988,
           55.48999999999986,
           75.18999999999991,
           407.000000000001,
           42.44999999999984,
           42.39999999999982,
           61.209999999999866,
           330.14000000000067,
           7.199999999999714,
           71.5899999999999,
           176.59000000000023,
           675.5000000000019,
           53.43999999999984,
           39.21999999999981,
           53.82999999999985,
           4.609999999999711,
           49.66999999999984,
           43.07999999999983,
           40.88999999999982,
           64.72999999999989,
           57.889999999999866,
           45.799999999999834,
           6.449999999999709,
           53.789999999999864,
           5.06999999999972,
           40.84999999999982,
           693.7300000000018,
           52.13999999999985,
           7.689999999999707,
           755.980000000002,
           6.159999999999712,
           899.9400000000026,
           43.909999999999826,
           62.49999999999987,
           42.989999999999824,
           891.1400000000026,
           52.399999999999835,
           649.2600000000017,
           5.739999999999716,
           78.62999999999992,
           25.219999999999775,
           65.43999999999988,
           846.3500000000023,
           37.7099999999998,
           61.689999999999884,
           45.73999999999983,
           102.1,
           149.04000000000016,
           6.719999999999713,
           35.74999999999979,
           60.629999999999875,
           50.919999999999845,
           39.05999999999981,
           644.2200000000017,
           45.20999999999983,
           49.509999999999835,
           5.389999999999723,
           52.27999999999984,
           62.919999999999895,
           870.4300000000023,
           713.7600000000018,
           34.5899999999998,
           41.49999999999982,
           40.999999999999815,
           35.35999999999979,
           40.18999999999981,
           45.43999999999982,
           958.5100000000026,
           5.8899999999997155,
           6.739999999999715,
           568.8200000000015,
           6.179999999999715,
           44.009999999999835,
           73.31999999999991,
           55.47999999999986,
           38.10999999999981,
           68.2099999999999,
           59.69999999999987,
           461.3000000000011,
           6.05999999999971,
           7.039999999999713,
           66.9599999999999,
           183.48000000000022,
           46.05999999999984,
           59.669999999999874,
           6.179999999999712,
           49.17999999999983,
           45.419999999999824,
           71.11999999999992,
           54.64999999999984,
           41.65999999999981,
           68.0699999999999,
           38.59999999999981,
           905.3900000000025,
           704.7400000000019,
           5.47999999999971,
           63.50999999999988,
           44.96999999999982,
           6.229999999999715,
           40.719999999999814,
           8.369999999999713,
           805.7200000000022,
           860.0000000000025,
           43.88999999999984,
           70.42999999999991,
           41.739999999999824,
           38.70999999999981,
           64.53999999999989,
           60.99999999999987,
           38.9499999999998,
           69.6799999999999,
           6.419999999999711,
           56.23999999999987,
           5.899999999999717,
           70.68999999999993,
           69.7699999999999,
           6.6599999999997115,
           1096.3800000000033,
           74.77999999999992,
           71.37999999999991,
           37.59999999999981,
           41.359999999999815,
           49.689999999999856,
           42.75999999999982,
           39.27999999999981,
           37.74999999999981,
           577.8700000000016,
           448.88000000000113,
           4.769999999999701,
           691.0500000000018,
           38.779999999999816,
           51.72999999999984,
           56.18999999999987,
           60.749999999999865,
           49.999999999999844,
           50.13999999999985,
           71.92999999999992,
           42.57999999999982,
           318.4700000000007,
           73.34999999999991,
           555.3800000000014,
           53.129999999999846,
           43.81999999999982,
           44.70999999999982,
           61.74999999999988,
           44.68999999999983,
           36.2899999999998,
           7.0199999999997145,
           37.879999999999804,
           7.399999999999711,
           49.54999999999984,
           6.219999999999717,
           4.939999999999712,
           4.959999999999701,
           420.6300000000009,
           52.39999999999984,
           29.48999999999978,
           63.30999999999988,
           5.509999999999712,
           35.5499999999998,
           27.08999999999978,
           40.51999999999982,
           34.9199999999998,
           375.71000000000083,
           58.779999999999866,
           6.739999999999716,
           297.40000000000055,
           57.69999999999988,
           47.659999999999826,
           41.039999999999814,
           46.189999999999834,
           6.999999999999712,
           53.55999999999986,
           76.68999999999993,
           6.039999999999722,
           72.70999999999991,
           49.48999999999984,
           44.679999999999836,
           62.75999999999987,
           67.0099999999999,
           40.819999999999816,
           50.58999999999985,
           52.55999999999986,
           299.4100000000009,
           54.02999999999986,
           59.56999999999988,
           29.909999999999776,
           40.0499999999998,
           46.67999999999983,
           46.509999999999835,
           37.3599999999998,
           47.77999999999982,
           50.59999999999985,
           60.59999999999987,
           774.390000000002,
           60.30999999999988,
           438.09000000000106,
           57.78999999999987,
           46.45999999999983,
           742.0200000000018,
           177.13000000000025,
           162.7300000000002,
           63.78999999999988,
           109.77000000000002,
           6.9499999999997195,
           791.9400000000022,
           936.7200000000025,
           923.3900000000024,
           6.64999999999972,
           63.979999999999876,
           45.49999999999983,
           27.789999999999786,
           4.579999999999704,
           39.699999999999825,
           67.0699999999999,
           52.40999999999984,
           33.9299999999998,
           50.769999999999875,
           43.52999999999983,
           46.32999999999984,
           1051.750000000003,
           71.62999999999991,
           65.6399999999999,
           42.669999999999824,
           50.89999999999985,
           43.58999999999984,
           55.94999999999986,
           622.7700000000016,
           63.45999999999988,
           663.6900000000019,
           5.629999999999711,
           5.7099999999997015,
           6.669999999999719,
           775.4800000000021,
           38.0099999999998,
           563.4600000000015,
           146.94000000000023,
           5.649999999999709,
           61.49999999999988,
           640.3900000000017,
           40.469999999999814,
           50.889999999999844,
           40.19999999999982,
           413.98000000000104,
           818.3200000000022,
           995.6500000000028,
           6.519999999999714,
           47.62999999999983,
           902.9400000000026,
           59.48999999999987,
           41.81999999999982,
           68.54999999999991,
           62.94999999999989,
           49.41999999999985,
           37.7299999999998,
           932.5700000000027,
           40.54999999999981,
           60.99999999999987,
           423.430000000001,
           40.1399999999998,
           43.999999999999815,
           40.879999999999825,
           6.709999999999706,
           65.55999999999989,
           24.41999999999977,
           44.739999999999824,
           656.9500000000018,
           6.759999999999716,
           73.03999999999992,
           5.909999999999705,
           5.579999999999697,
           7.409999999999705,
           45.86999999999983,
           40.45999999999982,
           5.549999999999713,
           28.139999999999784,
           104.80000000000004,
           69.17999999999991,
           46.58999999999983,
           668.5400000000018,
           734.0900000000019,
           51.089999999999854,
           46.38999999999982,
           62.35999999999988,
           439.6700000000011,
           52.37999999999985,
           6.2799999999997125,
           604.4800000000017,
           653.1600000000018,
           6.259999999999706,
           41.54999999999982,
           6.319999999999713,
           38.719999999999814,
           68.5699999999999,
           5.58999999999971,
           51.85999999999985,
           45.40999999999982,
           297.50000000000057,
           66.8899999999999,
           42.19999999999983,
           943.9000000000026,
           4.929999999999703,
           8.65999999999971,
           62.06999999999987,
           61.509999999999884,
           39.54999999999981,
           811.6600000000022,
           54.96999999999986,
           49.619999999999834,
           1067.9500000000032,
           24.319999999999762,
           688.9900000000018,
           7.499999999999711,
           59.349999999999866,
           1229.9100000000037,
           781.300000000002,
           16.969999999999747,
           6.319999999999712,
           424.23000000000104,
           881.5100000000025,
           109.44000000000001,
           69.9899999999999,
           42.88999999999982,
           1086.1900000000032,
           41.23999999999983,
           24.31999999999979,
           661.7500000000018,
           45.11999999999982,
           6.7499999999997105,
           367.1300000000008,
           6.899999999999711,
           51.039999999999836,
           62.07999999999988,
           37.9699999999998,
           48.00999999999983,
           63.00999999999989,
           53.02999999999986,
           41.379999999999825,
           47.43999999999983,
           47.69999999999984,
           38.4599999999998,
           1067.000000000003,
           40.44999999999982,
           196.43000000000032,
           4.589999999999714,
           187.0600000000003,
           33.7599999999998,
           49.62999999999984,
           161.88000000000022,
           41.249999999999815,
           67.17999999999991,
           45.15999999999982,
           7.849999999999711,
           65.03999999999989,
           69.4999999999999,
           1004.2900000000027,
           41.969999999999814,
           47.66999999999983,
           63.179999999999886,
           41.579999999999814,
           6.799999999999708,
           5.57999999999971,
           6.779999999999714,
           39.309999999999825,
           65.5399999999999,
           5.479999999999707,
           50.639999999999844,
           5.949999999999709,
           290.54000000000065,
           43.29999999999982,
           197.20000000000027,
           41.789999999999814,
           40.26999999999983,
           26.84999999999979,
           19.419999999999753,
           42.229999999999826,
           52.75999999999984,
           975.9300000000026,
           751.940000000002,
           6.409999999999713,
           39.389999999999816,
           60.799999999999876,
           1091.2600000000034,
           55.35999999999987,
           50.129999999999846,
           44.64999999999982,
           61.73999999999988,
           44.92999999999982,
           7.369999999999715,
           5.899999999999715,
           44.729999999999826,
           154.88000000000017,
           70.19999999999992,
           60.93999999999987,
           46.309999999999846,
           302.6100000000008,
           41.68999999999982,
           999.1100000000029,
           20.299999999999756,
           33.9199999999998,
           48.81999999999984,
           643.3800000000017,
           37.66999999999981,
           61.57999999999987,
           45.93999999999982,
           38.88999999999981,
           48.94999999999984,
           993.9800000000027,
           69.2299999999999,
           46.00999999999982,
           673.5800000000019,
           191.95000000000027,
           5.95999999999972,
           7.21999999999971,
           4.4599999999997095,
           161.1600000000002,
           40.92999999999982,
           714.6300000000019,
           44.589999999999826,
           872.7900000000024,
           57.06999999999988,
           111.60000000000002,
           56.889999999999866,
           38.119999999999806,
           48.94999999999983,
           5.609999999999717,
           67.9099999999999,
           43.41999999999983,
           6.66999999999972,
           816.1200000000022,
           75.35999999999991,
           40.359999999999815,
           57.519999999999875,
           39.14999999999981,
           48.44999999999984,
           826.1600000000022,
           7.189999999999714,
           66.45999999999988,
           43.71999999999983,
           656.5700000000018,
           5.589999999999707,
           5.5599999999997065,
           53.07999999999984,
           41.68999999999982,
           1063.5100000000032,
           44.38999999999983,
           43.38999999999983,
           32.42999999999979,
           41.019999999999825,
           41.68999999999982,
           28.42999999999978,
           44.71999999999982,
           6.009999999999703,
           51.43999999999985,
           47.029999999999845,
           5.8299999999997025,
           425.7900000000011,
           759.4900000000019,
           61.129999999999875,
           41.95999999999982,
           59.62999999999987,
           707.8200000000019,
           6.779999999999715,
           75.95999999999991,
           48.869999999999834,
           36.5599999999998,
           67.9699999999999,
           57.929999999999886,
           56.74999999999987,
           39.319999999999816,
           4.7999999999997085,
           35.06999999999979,
           644.6500000000017,
           40.89999999999982,
           6.899999999999712,
           69.2799999999999,
           66.7299999999999,
           50.239999999999846,
           45.85999999999982,
           64.01999999999988,
           931.2500000000025,
           36.55999999999982,
           871.6000000000023,
           52.649999999999835,
           40.79999999999982,
           297.00000000000057,
           51.25999999999985,
           415.09000000000094,
           35.7999999999998,
           49.59999999999986,
           41.879999999999825,
           1099.5700000000031,
           50.749999999999844,
           6.429999999999719,
           31.029999999999806,
           58.829999999999885,
           71.13999999999992,
           40.14999999999983,
           62.25999999999988,
           6.249999999999708,
           47.06999999999982,
           95.62999999999998,
           51.57999999999985,
           42.04999999999982,
           67.0099999999999,
           149.10000000000022,
           43.71999999999982,
           54.449999999999854,
           5.869999999999702,
           421.260000000001,
           45.699999999999825,
           921.1600000000026,
           434.000000000001,
           6.359999999999713,
           39.32999999999982,
           152.24000000000018,
           55.579999999999856,
           44.36999999999983,
           7.4699999999997155,
           56.989999999999895,
           44.96999999999983,
           7.689999999999709,
           38.15999999999981,
           8.219999999999725,
           65.97999999999989,
           32.98999999999979,
           49.42999999999984,
           6.519999999999708,
           780.5900000000021,
           43.18999999999983,
           69.48999999999991,
           996.2700000000028,
           45.93999999999983,
           44.91999999999983,
           5.5099999999997085,
           48.49999999999984,
           27.599999999999778,
           76.51999999999991,
           25.389999999999766,
           68.9999999999999,
           43.84999999999983,
           69.4499999999999,
           42.11999999999982,
           44.08999999999983,
           44.44999999999983,
           273.18000000000063,
           66.5999999999999,
           39.88999999999981,
           4.819999999999716,
           39.1399999999998,
           52.379999999999846,
           41.75999999999981,
           563.0000000000016,
           50.47999999999984,
           447.75000000000114,
           41.43999999999983,
           63.779999999999895,
           163.7700000000002,
           65.1699999999999,
           5.899999999999715,
           1077.600000000003,
           50.47999999999984,
           38.30999999999981,
           7.549999999999713,
           5.6799999999997155,
           35.7399999999998,
           7.189999999999707,
           54.99999999999987,
           43.35999999999983,
           24.48999999999977,
           67.9199999999999,
           52.059999999999846,
           85.04999999999995,
           45.24999999999982,
           50.50999999999985,
           39.819999999999816,
           52.64999999999986,
           4.559999999999735,
           52.02999999999985,
           8.269999999999715,
           60.87999999999987,
           51.49999999999985,
           54.92999999999987,
           6.52999999999971,
           865.8000000000022,
           55.479999999999855,
           28.93999999999979,
           55.83999999999989,
           65.22999999999989,
           40.01999999999982,
           42.589999999999826,
           449.3900000000011,
           662.1600000000018,
           61.21999999999987,
           5.739999999999711,
           627.0700000000018,
           57.099999999999866,
           6.079999999999708,
           83.83999999999996,
           70.51999999999991,
           40.9899999999998,
           6.1999999999997115,
           51.53999999999985,
           93.80999999999997,
           50.00999999999985,
           1095.0000000000032,
           43.629999999999825,
           60.59999999999988,
           6.839999999999718,
           19.549999999999752,
           51.85999999999985,
           54.799999999999855,
           50.07999999999984,
           1114.0000000000032,
           68.6899999999999,
           50.33999999999985,
           44.99999999999982,
           20.129999999999754,
           6.61999999999971,
           36.7499999999998,
           64.37999999999988,
           70.56999999999991,
           42.01999999999982,
           52.40999999999983,
           7.589999999999714,
           63.10999999999988,
           6.519999999999716,
           54.66999999999987,
           49.999999999999844,
           61.629999999999875,
           46.79999999999983,
           60.18999999999988,
           67.7499999999999,
           64.6899999999999,
           300.17000000000064,
           40.61999999999983,
           58.29999999999987,
           72.23999999999995,
           41.45999999999982,
           46.79999999999982,
           6.91999999999971,
           1013.9200000000027,
           46.67999999999982,
           65.64999999999989,
           39.55999999999983,
           44.95999999999983,
           51.95999999999984,
           6.539999999999718,
           36.6799999999998,
           53.50999999999987,
           47.10999999999983,
           6.759999999999716,
           5.95999999999971,
           107.85000000000004,
           43.669999999999824,
           6.129999999999709,
           1093.9900000000032,
           51.069999999999844,
           38.62999999999981,
           56.059999999999874,
           43.42999999999982,
           42.93999999999983,
           59.03999999999987,
           40.889999999999816,
           633.2500000000017,
           17.559999999999754,
           36.7899999999998,
           49.369999999999834,
           69.84999999999991,
           42.18999999999982,
           40.74999999999981,
           5.979999999999709,
           46.07999999999982,
           28.39999999999978,
           5.469999999999714,
           49.68999999999983,
           66.8799999999999,
           654.8700000000017,
           55.939999999999856,
           49.76999999999984,
           107.58000000000001,
           567.6000000000015,
           1222.0900000000036,
           698.840000000002,
           39.31999999999981,
           48.50999999999984,
           7.819999999999708,
           6.619999999999708,
           51.35999999999984,
           42.85999999999982,
           67.7099999999999,
           51.00999999999985,
           5.749999999999708,
           41.84999999999983,
           50.74999999999984,
           58.249999999999865,
           198.1800000000003,
           5.819999999999712,
           816.0400000000021,
           47.89999999999983,
           1162.9400000000037,
           50.10999999999985,
           711.9200000000018,
           5.779999999999712,
           854.4100000000022,
           739.7800000000019,
           274.3200000000005,
           5.669999999999712,
           67.4699999999999,
           46.229999999999826,
           670.0000000000019,
           372.7200000000008,
           30.599999999999785,
           442.6800000000011,
           47.61999999999983,
           133.6000000000001,
           447.37000000000114,
           6.179999999999708,
           62.979999999999876,
           54.45999999999986,
           48.69999999999985,
           46.54999999999983,
           47.46999999999983,
           198.36000000000033,
           41.15999999999982,
           40.059999999999825,
           6.729999999999708,
           377.42000000000087,
           6.489999999999717,
           153.46000000000018,
           5.629999999999709,
           34.30999999999981,
           36.56999999999981,
           27.739999999999778,
           48.33999999999984,
           39.27999999999981,
           46.879999999999846,
           68.60999999999991,
           49.24999999999984,
           49.889999999999844,
           56.83999999999987,
           69.62999999999991,
           45.28999999999982,
           5.559999999999709,
           46.769999999999854,
           44.18999999999982,
           1088.4700000000032,
           55.83999999999986,
           645.9800000000017,
           41.77999999999982,
           62.70999999999989,
           61.81999999999989,
           6.639999999999714,
           37.909999999999805,
           796.2200000000022,
           50.309999999999846,
           67.08999999999992,
           649.8800000000017,
           1156.8700000000033,
           63.239999999999895,
           5.49999999999971,
           56.669999999999874,
           68.67999999999991,
           64.56999999999988,
           149.27000000000015,
           48.59999999999984,
           5.809999999999711,
           45.61999999999982,
           6.249999999999713,
           5.709999999999706,
           69.86999999999992,
           40.70999999999981,
           663.5400000000018,
           20.009999999999756,
           5.479999999999707,
           65.81999999999988,
           43.37999999999984,
           650.6000000000017,
           5.749999999999706,
           71.93999999999991,
           10.819999999999734,
           621.4400000000018,
           27.559999999999782,
           45.39999999999982,
           5.919999999999711,
           676.8800000000018,
           41.05999999999983,
           34.1899999999998,
           5.579999999999712,
           6.62999999999971,
           11.099999999999746,
           65.3299999999999,
           6.199999999999703,
           65.1699999999999,
           58.95999999999987,
           781.310000000002,
           31.989999999999796,
           42.73999999999983,
           66.6099999999999,
           43.949999999999825,
           62.369999999999884,
           43.129999999999825,
           46.46999999999983,
           33.999999999999794,
           701.8100000000019,
           68.8899999999999,
           163.8800000000002,
           42.03999999999982,
           42.269999999999825,
           1008.8700000000027,
           33.319999999999794,
           42.77999999999982,
           66.25999999999989,
           55.76999999999987,
           37.71999999999979,
           32.69999999999979,
           10.90999999999973,
           694.7800000000019,
           28.939999999999785,
           699.600000000002,
           39.98999999999982,
           45.04999999999982,
           498.3200000000012,
           6.6199999999997114,
           845.0000000000023,
           73.29999999999991,
           574.0000000000015,
           43.57999999999983,
           1058.1200000000028,
           5.599999999999708,
           65.21999999999989,
           65.04999999999988,
           43.91999999999984,
           50.099999999999845,
           44.479999999999826,
           50.15999999999984,
           47.55999999999983,
           48.55999999999985,
           33.31999999999979,
           63.55999999999988,
           43.91999999999983,
           63.84999999999989,
           39.27999999999982,
           50.79999999999985,
           50.69999999999985,
           5.0999999999997145,
           1145.4500000000035,
           59.43999999999988,
           937.4100000000027,
           838.2900000000022,
           48.23999999999984,
           986.9500000000028,
           283.7100000000005,
           5.16999999999971,
           65.77999999999989,
           62.60999999999987,
           29.599999999999792,
           297.00000000000057,
           43.649999999999835,
           58.049999999999876,
           67.9199999999999,
           36.9999999999998,
           39.32999999999981,
           29.479999999999784,
           29.39999999999978,
           46.53999999999983,
           722.2500000000018,
           44.60999999999982,
           63.20999999999989,
           4.3899999999997155,
           72.60999999999993,
           278.8600000000006,
           31.419999999999792,
           6.329999999999707,
           6.68999999999971,
           28.979999999999777,
           51.57999999999985,
           44.60999999999982,
           36.99999999999981,
           62.10999999999988,
           694.4000000000019,
           45.11999999999982,
           41.629999999999825,
           5.7899999999997105,
           1064.7000000000032,
           1109.0300000000032,
           6.489999999999708,
           324.2000000000007,
           30.259999999999785,
           410.83000000000095,
           24.049999999999784,
           7.649999999999714,
           46.99999999999983,
           40.139999999999816,
           68.2199999999999,
           7.319999999999717,
           45.99999999999982,
           40.73999999999982,
           48.359999999999836,
           47.54999999999983,
           6.389999999999712,
           47.619999999999834,
           43.859999999999815,
           5.539999999999706,
           48.95999999999984,
           71.56999999999991,
           7.5699999999997045,
           48.009999999999835,
           66.96999999999989,
           53.67999999999985,
           7.449999999999715,
           40.25999999999981,
           7.649999999999717,
           5.849999999999714,
           69.98999999999991,
           140.7000000000001,
           49.049999999999834,
           729.7700000000018,
           159.98000000000022,
           18.969999999999747,
           6.35999999999971,
           38.0299999999998,
           70.50999999999992,
           72.5799999999999,
           829.1000000000026,
           47.379999999999846,
           39.55999999999982,
           7.399999999999717,
           46.289999999999836,
           59.799999999999876,
           1116.0000000000034,
           41.54999999999982,
           50.00999999999985,
           34.6999999999998,
           65.79999999999988,
           55.659999999999854,
           5.169999999999715,
           30.489999999999778,
           58.33999999999987,
           49.46999999999985,
           48.29999999999984,
           5.569999999999711,
           849.9900000000023,
           19.469999999999754,
           60.04999999999986,
           52.499999999999844,
           671.8700000000018,
           63.33999999999989,
           160.67000000000016,
           6.989999999999713,
           50.779999999999845,
           36.7899999999998,
           29.08999999999978,
           37.7299999999998,
           47.97999999999984,
           34.87999999999982,
           163.1100000000002,
           66.94999999999992,
           1022.3700000000027,
           1005.0500000000027,
           32.8299999999998,
           5.699999999999711,
           43.93999999999983,
           42.069999999999816,
           55.24999999999985,
           6.0099999999997165,
           54.639999999999866,
           589.7400000000015,
           40.809999999999825,
           45.99999999999983,
           673.4700000000018,
           53.339999999999854,
           46.38999999999983,
           39.61999999999982,
           43.039999999999814,
           44.99999999999982,
           41.489999999999824,
           49.69999999999985,
           53.22999999999985,
           25.979999999999777,
           102.87000000000003,
           7.329999999999701,
           625.2200000000016,
           6.969999999999714,
           839.2900000000024,
           48.94999999999984,
           6.209999999999718,
           686.4400000000019,
           68.85999999999991,
           165.5200000000002,
           49.979999999999855,
           43.02999999999982,
           46.979999999999826,
           63.76999999999988,
           599.0400000000014,
           44.13999999999983,
           5.969999999999713,
           37.73999999999982,
           41.199999999999825,
           475.0500000000012,
           36.8999999999998,
           43.91999999999984,
           35.7099999999998,
           241.7300000000004,
           50.959999999999845,
           74.27999999999992,
           32.24999999999981,
           21.84999999999976,
           679.820000000002,
           65.6799999999999,
           45.54999999999984,
           6.5899999999997165,
           67.23999999999988,
           55.31999999999988,
           6.949999999999722,
           45.27999999999983,
           48.16999999999984,
           35.6799999999998,
           39.29999999999982,
           38.7499999999998,
           735.1100000000018,
           5.7899999999997105,
           54.69999999999988,
           39.969999999999814,
           42.019999999999825,
           46.21999999999983,
           25.449999999999765,
           66.41999999999989,
           109.09000000000003,
           42.97999999999982,
           7.5399999999997105,
           67.0199999999999,
           42.30999999999984,
           35.9399999999998,
           52.90999999999985,
           51.99999999999985,
           48.81999999999983,
           45.11999999999982,
           5.349999999999709,
           18.549999999999763,
           811.0800000000022,
           39.51999999999981,
           51.39999999999984,
           5.509999999999709,
           402.84000000000094,
           65.62999999999988,
           73.95999999999991,
           6.44999999999972,
           9.119999999999726,
           44.199999999999825,
           200.7900000000003,
           28.649999999999775,
           68.1899999999999,
           66.2599999999999,
           49.74999999999984,
           39.20999999999981,
           68.9099999999999,
           66.80999999999989,
           44.10999999999983,
           46.95999999999983,
           52.38999999999989,
           153.64000000000016,
           62.01999999999988,
           7.569999999999713,
           5.779999999999707,
           30.69999999999979,
           43.98999999999983,
           6.579999999999709,
           64.95999999999988,
           53.35999999999985,
           148.72000000000017,
           72.46999999999991,
           53.349999999999866,
           52.75999999999984,
           141.1300000000001,
           40.079999999999814,
           41.49999999999983,
           63.539999999999885,
           45.01999999999981,
           5.529999999999712,
           33.3899999999998,
           744.4900000000019,
           49.78999999999985,
           46.089999999999826,
           5.479999999999712,
           27.469999999999786,
           40.209999999999816,
           60.769999999999875,
           6.249999999999717,
           44.05999999999983,
           62.659999999999876,
           33.349999999999795,
           45.13999999999982,
           43.129999999999825,
           47.939999999999834,
           4.749999999999715,
           60.06999999999986,
           166.76000000000022,
           43.31999999999983,
           686.1700000000018,
           50.709999999999845,
           425.300000000001,
           61.60999999999987,
           113.91000000000004,
           43.41999999999984,
           27.929999999999772,
           62.57999999999988,
           56.11999999999986,
           7.1999999999997115,
           63.02999999999988,
           680.7600000000018,
           1093.9400000000032,
           1033.420000000003,
           198.86000000000033,
           572.8400000000015,
           63.07999999999989,
           1010.6400000000027,
           42.79999999999981,
           5.1599999999997115,
           6.259999999999715,
           20.929999999999783,
           5.3999999999997135,
           180.20000000000024,
           32.36999999999978,
           5.99999999999972,
           67.7699999999999,
           42.98999999999983,
           46.60999999999983,
           41.03999999999983,
           46.14999999999985,
           73.13999999999993,
           408.5000000000009,
           708.4900000000018,
           41.48999999999982,
           4.849999999999714,
           48.939999999999834,
           49.829999999999835,
           44.32999999999984,
           68.39999999999992,
           58.029999999999866,
           35.7899999999998,
           62.99999999999988,
           60.549999999999876,
           4.87999999999971,
           449.7600000000011,
           580.8800000000015,
           60.01999999999988,
           164.0500000000002,
           849.4400000000023,
           45.75999999999982,
           61.03999999999987,
           46.84999999999983,
           44.97999999999981,
           738.8500000000018,
           39.0599999999998,
           35.0399999999998,
           24.80999999999976,
           39.81999999999981,
           4.589999999999699,
           863.4200000000022,
           37.3099999999998,
           5.239999999999712,
           27.10999999999977,
           10.199999999999728,
           52.14999999999985,
           71.09999999999991,
           446.650000000001,
           791.3600000000021,
           69.4699999999999,
           48.28999999999984,
           28.709999999999784,
           50.279999999999845,
           1031.5600000000031,
           144.91000000000014,
           58.959999999999866,
           74.44999999999992,
           41.52999999999983,
           68.2699999999999,
           61.099999999999895,
           6.449999999999711,
           421.94000000000096,
           48.97999999999984,
           668.0600000000019,
           1070.340000000003,
           36.37999999999981,
           617.2000000000016,
           17.519999999999744,
           44.519999999999854,
           5.619999999999715,
           156.52000000000018,
           63.06999999999987,
           31.839999999999797,
           47.14999999999983,
           985.0000000000027,
           7.049999999999714,
           43.88999999999983,
           39.61999999999981,
           48.539999999999836,
           67.8099999999999,
           7.899999999999714,
           53.75999999999985,
           46.46999999999983,
           40.569999999999816,
           80.80999999999995,
           140.26000000000016,
           39.30999999999981,
           24.549999999999766,
           45.26999999999983,
           858.9700000000023,
           57.98999999999987,
           46.32999999999982,
           71.10999999999991,
           5.679999999999707,
           41.739999999999824,
           37.0499999999998,
           371.3400000000008,
           7.219999999999713,
           36.46999999999981,
           154.2600000000002,
           69.52999999999992,
           51.13999999999985,
           611.2900000000014,
           729.4000000000018,
           49.10999999999984,
           8.749999999999721,
           5.7899999999997105,
           68.99999999999991,
           33.26999999999979,
           38.54999999999981,
           45.849999999999824,
           69.49999999999989,
           6.3499999999997145,
           49.809999999999846,
           7.819999999999714,
           68.2099999999999,
           1084.600000000003,
           6.789999999999711,
           51.63999999999985,
           52.95999999999986,
           6.879999999999713,
           907.3400000000026,
           52.44999999999986,
           707.940000000002,
           69.91999999999992,
           45.949999999999825,
           42.79999999999982,
           73.0299999999999,
           53.53999999999985,
           45.79999999999982,
           6.759999999999713,
           4.719999999999707,
           39.21999999999981,
           42.339999999999826,
           5.649999999999709,
           366.28000000000077,
           69.60999999999991,
           192.17000000000027,
           38.369999999999806,
           44.639999999999844,
           7.5999999999997145,
           37.9399999999998,
           53.27999999999986,
           76.29999999999991,
           44.64999999999982,
           4.729999999999707,
           50.079999999999835,
           7.579999999999713,
           67.0999999999999,
           42.339999999999826,
           328.6000000000007,
           55.20999999999986,
           43.08999999999982,
           59.40999999999986,
           5.629999999999714,
           6.319999999999713,
           6.989999999999716,
           39.98999999999981,
           6.599999999999711,
           61.21999999999987,
           417.1300000000009,
           843.0300000000022,
           70.8599999999999,
           49.01999999999984,
           918.4000000000026,
           635.6200000000016,
           733.5700000000019,
           53.54999999999985,
           201.87000000000032,
           303.3600000000007,
           1014.9700000000031,
           51.90999999999985,
           5.469999999999701,
           46.08999999999983,
           430.83000000000106,
           59.07999999999988,
           98.42999999999999,
           47.69999999999983,
           6.489999999999715,
           597.9500000000016,
           58.99999999999987,
           430.630000000001,
           58.38999999999987,
           48.54999999999985,
           45.77999999999983,
           922.0000000000024,
           752.9200000000019,
           70.4899999999999,
           499.27000000000123,
           966.4100000000026,
           40.75999999999981,
           71.47999999999992,
           43.99999999999982,
           705.6700000000019,
           55.71999999999986,
           30.21999999999978,
           683.8000000000018,
           7.629999999999709,
           53.839999999999854,
           48.28999999999984,
           442.150000000001,
           59.859999999999886,
           44.50999999999982,
           46.86999999999983,
           1028.150000000003,
           6.629999999999716,
           6.389999999999714,
           736.2700000000019,
           6.869999999999708,
           43.919999999999824,
           49.22999999999985,
           883.0900000000024,
           49.40999999999985,
           5.699999999999709,
           63.39999999999988,
           68.8999999999999,
           62.809999999999874,
           66.96999999999991,
           156.01000000000016,
           711.2000000000019,
           5.709999999999709,
           649.8600000000017,
           682.220000000002,
           171.68000000000023,
           880.8000000000023,
           709.7400000000019,
           17.98999999999975,
           70.54999999999991,
           380.3600000000009,
           16.64999999999977,
           7.609999999999717,
           65.77999999999989,
           52.18999999999984,
           6.449999999999717,
           309.2000000000006,
           72.7599999999999,
           6.83999999999971,
           411.760000000001,
           49.11999999999984,
           756.9900000000019,
           51.11999999999984,
           39.09999999999981,
           47.78999999999984,
           160.0100000000002,
           43.91999999999984,
           50.86999999999985,
           47.359999999999836,
           40.579999999999814,
           10.659999999999732,
           6.649999999999712,
           63.699999999999896,
           70.0999999999999,
           36.9299999999998,
           51.949999999999854,
           44.899999999999814,
           70.96999999999991,
           72.5499999999999,
           41.37999999999982,
           30.209999999999788,
           88.59999999999997,
           75.01999999999991,
           60.22999999999987,
           58.81999999999987,
           5.599999999999709,
           96.26999999999998,
           300.13000000000056,
           68.1999999999999,
           45.42999999999983,
           40.12999999999982,
           44.659999999999826,
           38.66999999999981,
           24.16999999999978,
           50.44999999999986,
           850.4500000000023,
           23.04999999999976,
           45.169999999999824,
           66.30999999999989,
           68.9899999999999,
           49.039999999999836,
           738.200000000002,
           39.619999999999806,
           45.36999999999982,
           85.53,
           38.05999999999981,
           36.679999999999794,
           51.59999999999985,
           60.209999999999866,
           50.389999999999844,
           6.8399999999997165,
           50.30999999999985,
           67.5799999999999,
           41.919999999999824,
           49.739999999999846,
           57.09999999999987,
           5.359999999999705,
           46.619999999999834,
           1025.490000000003,
           755.830000000002,
           49.33999999999985,
           49.69999999999984,
           32.8399999999998,
           60.19999999999987,
           22.069999999999766,
           4.949999999999711,
           135.80000000000015,
           37.48999999999982,
           41.45999999999984,
           38.38999999999981,
           35.5799999999998,
           66.6299999999999,
           5.519999999999707,
           975.9900000000026,
           17.449999999999743,
           45.89999999999982,
           6.42999999999971,
           630.8500000000016,
           5.609999999999713,
           45.889999999999844,
           43.38999999999983,
           441.7600000000011,
           62.16999999999988,
           129.07000000000008,
           6.36999999999972,
           44.68999999999982,
           854.6900000000023,
           46.89999999999983,
           44.309999999999825,
           90.88999999999999,
           27.86999999999978,
           680.2600000000018,
           6.969999999999711,
           5.589999999999703,
           64.01999999999988,
           310.9500000000006,
           909.2500000000025,
           8.869999999999717,
           37.4799999999998,
           39.92999999999981,
           215.96000000000038,
           71.0799999999999,
           28.09999999999978,
           43.68999999999982,
           24.449999999999765,
           37.6399999999998,
           69.4199999999999,
           51.38999999999986,
           670.9400000000019,
           57.389999999999894,
           4.7699999999997065,
           68.7499999999999,
           47.72999999999983,
           57.20999999999988,
           308.93000000000075,
           45.409999999999826,
           753.8700000000019,
           44.449999999999825,
           60.739999999999874,
           35.0499999999998,
           28.939999999999785,
           47.899999999999835,
           189.98000000000025,
           86.85999999999997,
           5.2799999999997125,
           48.00999999999983,
           67.5299999999999,
           5.8699999999997114,
           65.4199999999999,
           68.90999999999988,
           6.14999999999971,
           39.319999999999816,
           47.05999999999983,
           53.259999999999856,
           6.209999999999704,
           200.18000000000032,
           404.670000000001,
           48.14999999999984,
           47.72999999999983,
           719.690000000002,
           7.829999999999711,
           48.51999999999984,
           68.36999999999989,
           65.42999999999991,
           43.49999999999983,
           60.559999999999874,
           47.539999999999836,
           160.10000000000016,
           5.679999999999708,
           811.1900000000023,
           46.34999999999983,
           69.1299999999999,
           18.299999999999752,
           46.06999999999982,
           6.879999999999709,
           44.94999999999984,
           65.89999999999989,
           71.6999999999999,
           25.87999999999977,
           38.38999999999981,
           63.449999999999896,
           44.13999999999983,
           48.62999999999983,
           9.089999999999716,
           50.21999999999984,
           43.53999999999983,
           5.849999999999712,
           33.20999999999979,
           4.619999999999704,
           49.22999999999983,
           735.7200000000018,
           6.679999999999708,
           46.049999999999834,
           55.479999999999855,
           420.280000000001,
           44.21999999999982,
           6.429999999999713,
           57.179999999999865,
           620.8300000000016,
           28.439999999999785,
           1030.510000000003,
           8.39999999999972,
           1003.8000000000028,
           71.53999999999992,
           5.629999999999712,
           43.79999999999981,
           1084.590000000003,
           86.04999999999995,
           42.04999999999982,
           63.43999999999988,
           11.899999999999723,
           45.33999999999983,
           70.35999999999991,
           63.48999999999989,
           27.519999999999776,
           42.209999999999845,
           6.129999999999715,
           72.73999999999991,
           50.709999999999845,
           70.85999999999991,
           6.26999999999972,
           70.30999999999992,
           10.089999999999725,
           36.4499999999998,
           646.2200000000017,
           977.2000000000028,
           50.98999999999985,
           29.599999999999792,
           61.13999999999988,
           777.560000000002,
           71.14999999999992,
           86.18999999999996,
           49.239999999999846,
           49.559999999999846,
           5.899999999999712,
           68.3099999999999,
           51.999999999999844,
           1088.1200000000033,
           6.929999999999705,
           70.0999999999999,
           19.06999999999976,
           75.49999999999993,
           40.48999999999982,
           50.599999999999866,
           48.90999999999984,
           69.56999999999991,
           599.0500000000014,
           824.4000000000023,
           6.339999999999718,
           40.01999999999982,
           68.2799999999999,
           42.559999999999825,
           58.239999999999874,
           6.849999999999712,
           35.339999999999804,
           36.2999999999998,
           701.980000000002,
           23.55999999999977,
           59.93999999999987,
           81.11999999999995,
           45.65999999999982,
           5.519999999999704,
           43.299999999999834,
           1056.7800000000032,
           5.609999999999701,
           5.579999999999707,
           32.13999999999979,
           66.9899999999999,
           48.96999999999984,
           7.029999999999716,
           72.4699999999999,
           38.62999999999981,
           161.6000000000002,
           27.929999999999776,
           419.07000000000096,
           63.94999999999989,
           36.199999999999804,
           32.8899999999998,
           49.53999999999983,
           46.48999999999983,
           809.8700000000022,
           38.23999999999982,
           41.279999999999816,
           205.0100000000003,
           5.859999999999712,
           38.17999999999981,
           41.53999999999982,
           388.040000000001,
           20.989999999999768,
           5.859999999999708,
           65.1799999999999,
           5.819999999999714,
           60.38999999999987,
           45.489999999999824,
           6.159999999999711,
           39.62999999999982,
           41.289999999999814,
           6.719999999999716,
           52.94999999999987,
           870.7600000000026,
           114.44000000000004,
           5.709999999999713,
           47.99999999999985,
           418.3200000000011,
           61.82999999999987,
           10.799999999999732,
           673.6000000000018,
           50.99999999999984,
           5.669999999999715,
           41.469999999999835,
           66.7399999999999,
           73.99999999999991,
           5.54999999999971,
           800.7700000000023,
           46.04999999999983,
           55.69999999999986,
           6.719999999999711,
           41.059999999999825,
           38.10999999999981,
           51.19999999999984,
           30.019999999999783,
           105.63000000000002,
           307.92000000000075,
           40.33999999999982,
           40.97999999999981,
           37.60999999999979,
           69.1599999999999,
           6.309999999999709,
           58.939999999999856,
           5.969999999999709,
           69.4599999999999,
           422.640000000001,
           121.6000000000001,
           44.69999999999983,
           49.539999999999836,
           37.26999999999982,
           223.9300000000004,
           61.77999999999988,
           67.4599999999999,
           64.26999999999988,
           38.2299999999998,
           5.659999999999707,
           43.54999999999983,
           8.719999999999722,
           489.61000000000115,
           49.79999999999984,
           46.08999999999983,
           6.3599999999997125,
           39.73999999999982,
           48.38999999999984,
           49.39999999999984,
           20.939999999999753,
           38.72999999999982,
           425.920000000001,
           7.709999999999717,
           44.20999999999983,
           49.319999999999844,
           40.699999999999825,
           821.5300000000022,
           23.939999999999763,
           156.38000000000025,
           62.1699999999999,
           41.30999999999982,
           58.359999999999864,
           5.7099999999997175,
           55.80999999999986,
           46.09999999999983,
           50.04999999999983,
           60.83999999999987,
           1064.400000000003,
           36.21999999999981,
           59.93999999999988,
           48.229999999999826,
           46.11999999999983,
           43.04999999999982,
           58.10999999999987
          ]
         ]
        }
       ],
       "layout": {
        "template": {
         "data": {
          "bar": [
           {
            "error_x": {
             "color": "#2a3f5f"
            },
            "error_y": {
             "color": "#2a3f5f"
            },
            "marker": {
             "line": {
              "color": "#E5ECF6",
              "width": 0.5
             },
             "pattern": {
              "fillmode": "overlay",
              "size": 10,
              "solidity": 0.2
             }
            },
            "type": "bar"
           }
          ],
          "barpolar": [
           {
            "marker": {
             "line": {
              "color": "#E5ECF6",
              "width": 0.5
             },
             "pattern": {
              "fillmode": "overlay",
              "size": 10,
              "solidity": 0.2
             }
            },
            "type": "barpolar"
           }
          ],
          "carpet": [
           {
            "aaxis": {
             "endlinecolor": "#2a3f5f",
             "gridcolor": "white",
             "linecolor": "white",
             "minorgridcolor": "white",
             "startlinecolor": "#2a3f5f"
            },
            "baxis": {
             "endlinecolor": "#2a3f5f",
             "gridcolor": "white",
             "linecolor": "white",
             "minorgridcolor": "white",
             "startlinecolor": "#2a3f5f"
            },
            "type": "carpet"
           }
          ],
          "choropleth": [
           {
            "colorbar": {
             "outlinewidth": 0,
             "ticks": ""
            },
            "type": "choropleth"
           }
          ],
          "contour": [
           {
            "colorbar": {
             "outlinewidth": 0,
             "ticks": ""
            },
            "colorscale": [
             [
              0,
              "#0d0887"
             ],
             [
              0.1111111111111111,
              "#46039f"
             ],
             [
              0.2222222222222222,
              "#7201a8"
             ],
             [
              0.3333333333333333,
              "#9c179e"
             ],
             [
              0.4444444444444444,
              "#bd3786"
             ],
             [
              0.5555555555555556,
              "#d8576b"
             ],
             [
              0.6666666666666666,
              "#ed7953"
             ],
             [
              0.7777777777777778,
              "#fb9f3a"
             ],
             [
              0.8888888888888888,
              "#fdca26"
             ],
             [
              1,
              "#f0f921"
             ]
            ],
            "type": "contour"
           }
          ],
          "contourcarpet": [
           {
            "colorbar": {
             "outlinewidth": 0,
             "ticks": ""
            },
            "type": "contourcarpet"
           }
          ],
          "heatmap": [
           {
            "colorbar": {
             "outlinewidth": 0,
             "ticks": ""
            },
            "colorscale": [
             [
              0,
              "#0d0887"
             ],
             [
              0.1111111111111111,
              "#46039f"
             ],
             [
              0.2222222222222222,
              "#7201a8"
             ],
             [
              0.3333333333333333,
              "#9c179e"
             ],
             [
              0.4444444444444444,
              "#bd3786"
             ],
             [
              0.5555555555555556,
              "#d8576b"
             ],
             [
              0.6666666666666666,
              "#ed7953"
             ],
             [
              0.7777777777777778,
              "#fb9f3a"
             ],
             [
              0.8888888888888888,
              "#fdca26"
             ],
             [
              1,
              "#f0f921"
             ]
            ],
            "type": "heatmap"
           }
          ],
          "heatmapgl": [
           {
            "colorbar": {
             "outlinewidth": 0,
             "ticks": ""
            },
            "colorscale": [
             [
              0,
              "#0d0887"
             ],
             [
              0.1111111111111111,
              "#46039f"
             ],
             [
              0.2222222222222222,
              "#7201a8"
             ],
             [
              0.3333333333333333,
              "#9c179e"
             ],
             [
              0.4444444444444444,
              "#bd3786"
             ],
             [
              0.5555555555555556,
              "#d8576b"
             ],
             [
              0.6666666666666666,
              "#ed7953"
             ],
             [
              0.7777777777777778,
              "#fb9f3a"
             ],
             [
              0.8888888888888888,
              "#fdca26"
             ],
             [
              1,
              "#f0f921"
             ]
            ],
            "type": "heatmapgl"
           }
          ],
          "histogram": [
           {
            "marker": {
             "pattern": {
              "fillmode": "overlay",
              "size": 10,
              "solidity": 0.2
             }
            },
            "type": "histogram"
           }
          ],
          "histogram2d": [
           {
            "colorbar": {
             "outlinewidth": 0,
             "ticks": ""
            },
            "colorscale": [
             [
              0,
              "#0d0887"
             ],
             [
              0.1111111111111111,
              "#46039f"
             ],
             [
              0.2222222222222222,
              "#7201a8"
             ],
             [
              0.3333333333333333,
              "#9c179e"
             ],
             [
              0.4444444444444444,
              "#bd3786"
             ],
             [
              0.5555555555555556,
              "#d8576b"
             ],
             [
              0.6666666666666666,
              "#ed7953"
             ],
             [
              0.7777777777777778,
              "#fb9f3a"
             ],
             [
              0.8888888888888888,
              "#fdca26"
             ],
             [
              1,
              "#f0f921"
             ]
            ],
            "type": "histogram2d"
           }
          ],
          "histogram2dcontour": [
           {
            "colorbar": {
             "outlinewidth": 0,
             "ticks": ""
            },
            "colorscale": [
             [
              0,
              "#0d0887"
             ],
             [
              0.1111111111111111,
              "#46039f"
             ],
             [
              0.2222222222222222,
              "#7201a8"
             ],
             [
              0.3333333333333333,
              "#9c179e"
             ],
             [
              0.4444444444444444,
              "#bd3786"
             ],
             [
              0.5555555555555556,
              "#d8576b"
             ],
             [
              0.6666666666666666,
              "#ed7953"
             ],
             [
              0.7777777777777778,
              "#fb9f3a"
             ],
             [
              0.8888888888888888,
              "#fdca26"
             ],
             [
              1,
              "#f0f921"
             ]
            ],
            "type": "histogram2dcontour"
           }
          ],
          "mesh3d": [
           {
            "colorbar": {
             "outlinewidth": 0,
             "ticks": ""
            },
            "type": "mesh3d"
           }
          ],
          "parcoords": [
           {
            "line": {
             "colorbar": {
              "outlinewidth": 0,
              "ticks": ""
             }
            },
            "type": "parcoords"
           }
          ],
          "pie": [
           {
            "automargin": true,
            "type": "pie"
           }
          ],
          "scatter": [
           {
            "fillpattern": {
             "fillmode": "overlay",
             "size": 10,
             "solidity": 0.2
            },
            "type": "scatter"
           }
          ],
          "scatter3d": [
           {
            "line": {
             "colorbar": {
              "outlinewidth": 0,
              "ticks": ""
             }
            },
            "marker": {
             "colorbar": {
              "outlinewidth": 0,
              "ticks": ""
             }
            },
            "type": "scatter3d"
           }
          ],
          "scattercarpet": [
           {
            "marker": {
             "colorbar": {
              "outlinewidth": 0,
              "ticks": ""
             }
            },
            "type": "scattercarpet"
           }
          ],
          "scattergeo": [
           {
            "marker": {
             "colorbar": {
              "outlinewidth": 0,
              "ticks": ""
             }
            },
            "type": "scattergeo"
           }
          ],
          "scattergl": [
           {
            "marker": {
             "colorbar": {
              "outlinewidth": 0,
              "ticks": ""
             }
            },
            "type": "scattergl"
           }
          ],
          "scattermapbox": [
           {
            "marker": {
             "colorbar": {
              "outlinewidth": 0,
              "ticks": ""
             }
            },
            "type": "scattermapbox"
           }
          ],
          "scatterpolar": [
           {
            "marker": {
             "colorbar": {
              "outlinewidth": 0,
              "ticks": ""
             }
            },
            "type": "scatterpolar"
           }
          ],
          "scatterpolargl": [
           {
            "marker": {
             "colorbar": {
              "outlinewidth": 0,
              "ticks": ""
             }
            },
            "type": "scatterpolargl"
           }
          ],
          "scatterternary": [
           {
            "marker": {
             "colorbar": {
              "outlinewidth": 0,
              "ticks": ""
             }
            },
            "type": "scatterternary"
           }
          ],
          "surface": [
           {
            "colorbar": {
             "outlinewidth": 0,
             "ticks": ""
            },
            "colorscale": [
             [
              0,
              "#0d0887"
             ],
             [
              0.1111111111111111,
              "#46039f"
             ],
             [
              0.2222222222222222,
              "#7201a8"
             ],
             [
              0.3333333333333333,
              "#9c179e"
             ],
             [
              0.4444444444444444,
              "#bd3786"
             ],
             [
              0.5555555555555556,
              "#d8576b"
             ],
             [
              0.6666666666666666,
              "#ed7953"
             ],
             [
              0.7777777777777778,
              "#fb9f3a"
             ],
             [
              0.8888888888888888,
              "#fdca26"
             ],
             [
              1,
              "#f0f921"
             ]
            ],
            "type": "surface"
           }
          ],
          "table": [
           {
            "cells": {
             "fill": {
              "color": "#EBF0F8"
             },
             "line": {
              "color": "white"
             }
            },
            "header": {
             "fill": {
              "color": "#C8D4E3"
             },
             "line": {
              "color": "white"
             }
            },
            "type": "table"
           }
          ]
         },
         "layout": {
          "annotationdefaults": {
           "arrowcolor": "#2a3f5f",
           "arrowhead": 0,
           "arrowwidth": 1
          },
          "autotypenumbers": "strict",
          "coloraxis": {
           "colorbar": {
            "outlinewidth": 0,
            "ticks": ""
           }
          },
          "colorscale": {
           "diverging": [
            [
             0,
             "#8e0152"
            ],
            [
             0.1,
             "#c51b7d"
            ],
            [
             0.2,
             "#de77ae"
            ],
            [
             0.3,
             "#f1b6da"
            ],
            [
             0.4,
             "#fde0ef"
            ],
            [
             0.5,
             "#f7f7f7"
            ],
            [
             0.6,
             "#e6f5d0"
            ],
            [
             0.7,
             "#b8e186"
            ],
            [
             0.8,
             "#7fbc41"
            ],
            [
             0.9,
             "#4d9221"
            ],
            [
             1,
             "#276419"
            ]
           ],
           "sequential": [
            [
             0,
             "#0d0887"
            ],
            [
             0.1111111111111111,
             "#46039f"
            ],
            [
             0.2222222222222222,
             "#7201a8"
            ],
            [
             0.3333333333333333,
             "#9c179e"
            ],
            [
             0.4444444444444444,
             "#bd3786"
            ],
            [
             0.5555555555555556,
             "#d8576b"
            ],
            [
             0.6666666666666666,
             "#ed7953"
            ],
            [
             0.7777777777777778,
             "#fb9f3a"
            ],
            [
             0.8888888888888888,
             "#fdca26"
            ],
            [
             1,
             "#f0f921"
            ]
           ],
           "sequentialminus": [
            [
             0,
             "#0d0887"
            ],
            [
             0.1111111111111111,
             "#46039f"
            ],
            [
             0.2222222222222222,
             "#7201a8"
            ],
            [
             0.3333333333333333,
             "#9c179e"
            ],
            [
             0.4444444444444444,
             "#bd3786"
            ],
            [
             0.5555555555555556,
             "#d8576b"
            ],
            [
             0.6666666666666666,
             "#ed7953"
            ],
            [
             0.7777777777777778,
             "#fb9f3a"
            ],
            [
             0.8888888888888888,
             "#fdca26"
            ],
            [
             1,
             "#f0f921"
            ]
           ]
          },
          "colorway": [
           "#636efa",
           "#EF553B",
           "#00cc96",
           "#ab63fa",
           "#FFA15A",
           "#19d3f3",
           "#FF6692",
           "#B6E880",
           "#FF97FF",
           "#FECB52"
          ],
          "font": {
           "color": "#2a3f5f"
          },
          "geo": {
           "bgcolor": "white",
           "lakecolor": "white",
           "landcolor": "#E5ECF6",
           "showlakes": true,
           "showland": true,
           "subunitcolor": "white"
          },
          "hoverlabel": {
           "align": "left"
          },
          "hovermode": "closest",
          "mapbox": {
           "style": "light"
          },
          "paper_bgcolor": "white",
          "plot_bgcolor": "#E5ECF6",
          "polar": {
           "angularaxis": {
            "gridcolor": "white",
            "linecolor": "white",
            "ticks": ""
           },
           "bgcolor": "#E5ECF6",
           "radialaxis": {
            "gridcolor": "white",
            "linecolor": "white",
            "ticks": ""
           }
          },
          "scene": {
           "xaxis": {
            "backgroundcolor": "#E5ECF6",
            "gridcolor": "white",
            "gridwidth": 2,
            "linecolor": "white",
            "showbackground": true,
            "ticks": "",
            "zerolinecolor": "white"
           },
           "yaxis": {
            "backgroundcolor": "#E5ECF6",
            "gridcolor": "white",
            "gridwidth": 2,
            "linecolor": "white",
            "showbackground": true,
            "ticks": "",
            "zerolinecolor": "white"
           },
           "zaxis": {
            "backgroundcolor": "#E5ECF6",
            "gridcolor": "white",
            "gridwidth": 2,
            "linecolor": "white",
            "showbackground": true,
            "ticks": "",
            "zerolinecolor": "white"
           }
          },
          "shapedefaults": {
           "line": {
            "color": "#2a3f5f"
           }
          },
          "ternary": {
           "aaxis": {
            "gridcolor": "white",
            "linecolor": "white",
            "ticks": ""
           },
           "baxis": {
            "gridcolor": "white",
            "linecolor": "white",
            "ticks": ""
           },
           "bgcolor": "#E5ECF6",
           "caxis": {
            "gridcolor": "white",
            "linecolor": "white",
            "ticks": ""
           }
          },
          "title": {
           "x": 0.05
          },
          "xaxis": {
           "automargin": true,
           "gridcolor": "white",
           "linecolor": "white",
           "ticks": "",
           "title": {
            "standoff": 15
           },
           "zerolinecolor": "white",
           "zerolinewidth": 2
          },
          "yaxis": {
           "automargin": true,
           "gridcolor": "white",
           "linecolor": "white",
           "ticks": "",
           "title": {
            "standoff": 15
           },
           "zerolinecolor": "white",
           "zerolinewidth": 2
          }
         }
        },
        "title": {
         "text": "Stock Prices"
        },
        "xaxis": {
         "title": {
          "font": {
           "color": "#7f7f7f",
           "family": "Courier New, monospace",
           "size": 18
          },
          "text": "Day"
         }
        },
        "yaxis": {
         "title": {
          "font": {
           "color": "#7f7f7f",
           "family": "Courier New, monospace",
           "size": 18
          },
          "text": "Date"
         }
        }
       }
      },
      "text/html": [
       "<div>                            <div id=\"aec0026e-30f9-4a5f-9598-00933de7cb51\" class=\"plotly-graph-div\" style=\"height:525px; width:100%;\"></div>            <script type=\"text/javascript\">                require([\"plotly\"], function(Plotly) {                    window.PLOTLYENV=window.PLOTLYENV || {};                                    if (document.getElementById(\"aec0026e-30f9-4a5f-9598-00933de7cb51\")) {                    Plotly.newPlot(                        \"aec0026e-30f9-4a5f-9598-00933de7cb51\",                        [{\"mode\":\"markers\",\"name\":\"Actual\",\"x\":[448.35,29.61,48.0,1039.66,64.17,50.61,50.31,41.7,48.97,995.43,50.5,734.79,5.72,6.46,6.7,61.88,23.66,641.87,116.18,37.02,51.62,42.47,59.6,6.57,678.98,1003.31,45.64,5.38,856.3,6.76,45.28,68.03,87.64,59.35,72.21,45.81,126.48,8.36,60.96,6.39,74.88,442.0,6.63,50.28,71.2,63.45,14.02,6.86,57.44,87.0,30.0,6.95,6.6,70.35,51.3,40.89,5.6,56.7,5.2,52.5,6.96,904.76,60.2,115.14,424.62,50.41,42.64,63.2,39.88,139.79,64.17,55.4,73.52,407.23,45.2,42.09,60.2,333.0,7.19,73.8,177.62,700.0,53.93,38.14,54.22,4.73,49.78,43.23,40.3,63.0,57.6,46.6,6.42,55.52,4.81,40.66,670.0,51.08,7.66,758.49,6.02,910.7,42.98,62.8,42.17,882.0,52.3,656.44,5.68,76.13,23.89,63.2,831.56,36.85,58.34,44.91,101.52,143.39,6.68,36.14,60.45,50.0,39.39,654.68,45.99,47.12,5.07,52.48,62.57,815.01,710.17,34.62,41.59,39.79,36.0,40.27,45.87,945.0,6.11,6.9,556.44,6.17,46.1,73.88,56.51,37.17,67.81,57.38,449.78,6.25,6.91,66.44,184.7,44.0,60.71,6.17,49.5,46.3,69.36,54.25,41.63,68.8,38.79,874.49,717.96,5.51,63.27,44.86,5.94,40.79,8.14,800.93,909.63,42.5,70.13,41.51,39.34,61.76,61.5,39.09,72.4,6.4,57.53,6.01,71.27,67.99,6.57,1106.55,74.6,69.4,38.01,41.0,51.47,41.78,39.14,38.71,568.0,450.31,4.68,707.71,39.82,52.77,56.96,60.68,50.84,52.57,71.27,42.05,319.8,73.98,540.4,52.42,43.55,44.54,62.76,45.27,36.58,6.88,38.2,7.4,50.12,6.45,4.84,4.92,421.84,52.39,27.94,62.05,5.58,34.02,27.37,40.7,35.57,373.0,58.72,6.9,299.0,60.21,47.07,40.21,47.06,7.05,52.38,76.49,6.5,72.2,49.7,46.14,61.6,72.01,41.46,50.83,51.05,331.8,52.72,58.44,30.0,40.1,46.79,46.34,36.5,46.83,52.49,60.5,745.89,62.25,428.3,59.39,45.86,711.85,175.57,165.56,63.16,110.84,7.04,787.65,872.71,914.05,6.4,63.78,46.68,28.86,4.5,40.0,68.39,52.48,34.84,54.87,41.75,44.82,1044.2,70.77,66.75,41.6,50.26,43.48,56.0,628.23,64.77,674.51,5.71,5.7,6.72,781.0,37.38,552.55,164.65,5.52,62.66,613.0,40.58,51.46,40.49,423.79,815.49,1041.71,6.73,47.0,860.77,59.05,43.0,68.94,60.36,47.48,36.7,914.77,40.5,62.05,415.6,38.99,44.43,39.42,6.77,64.64,24.58,45.73,653.18,6.63,71.51,5.9,5.61,7.7,47.0,40.89,5.62,29.38,100.25,70.92,47.55,686.32,734.08,48.1,45.86,63.24,454.44,52.4,6.38,653.69,684.29,6.2,42.06,6.36,36.22,68.3,5.45,51.1,44.94,297.6,69.2,43.57,996.34,4.9,8.7,62.56,63.46,40.5,812.44,53.75,49.47,1010.41,24.27,669.75,7.57,58.87,1234.41,795.0,16.36,6.41,429.6,898.58,106.05,69.38,42.0,1098.64,40.44,27.05,688.37,45.2,6.85,335.4,6.97,50.61,63.99,37.42,47.39,65.13,53.4,39.64,46.21,47.49,38.41,1006.8,40.2,202.37,4.39,196.0,34.95,49.01,165.4,41.5,67.0,45.47,7.89,65.9,72.4,989.03,42.83,47.33,63.68,40.72,6.79,5.57,6.82,37.87,65.51,5.7,50.22,5.91,299.91,44.7,190.85,41.52,41.93,28.38,18.52,41.83,52.85,980.4,743.53,6.35,37.75,59.34,1136.3,56.93,50.51,44.61,63.0,44.82,7.78,5.71,44.65,153.76,71.25,59.79,44.51,335.79,41.64,979.94,19.3,35.03,48.96,646.36,36.75,60.9,46.44,39.82,49.06,930.0,67.11,45.79,608.18,198.96,6.03,7.14,4.77,162.7,41.81,719.6,44.83,844.68,59.62,108.4,55.76,37.79,48.02,5.48,67.32,42.16,7.0,801.26,74.03,40.38,58.5,37.66,46.58,852.0,7.05,65.09,43.65,632.0,5.53,5.55,53.48,43.3,1102.77,43.6,41.8,32.6,39.55,42.45,28.95,45.1,6.06,53.29,49.3,5.9,441.92,757.15,61.31,42.09,58.45,712.71,6.76,74.9,49.43,36.71,67.95,60.07,55.7,39.74,4.93,34.14,664.27,41.0,6.95,68.75,70.31,49.58,45.25,63.83,935.21,38.48,830.99,52.7,40.87,298.6,50.17,421.39,34.55,46.0,41.16,1107.99,50.41,6.28,31.74,52.77,70.59,41.8,61.2,6.33,46.85,96.36,51.82,42.0,67.38,161.0,43.5,53.16,5.71,439.5,45.87,914.98,430.13,6.36,39.89,140.2,55.61,43.24,7.64,59.34,45.59,7.61,39.61,8.62,65.68,32.8,49.69,6.4,784.8,42.62,70.58,1009.73,44.0,41.35,5.6,47.97,26.92,75.6,24.26,67.8,44.06,68.42,42.56,44.83,44.8,281.0,66.02,39.24,5.14,38.4,52.12,40.61,600.55,50.02,436.09,42.59,64.8,166.9,66.87,6.03,1094.57,49.86,37.79,7.68,5.7,34.55,6.86,57.55,43.56,23.98,67.98,52.4,83.67,43.93,52.25,40.42,52.02,5.68,51.34,8.4,61.1,51.64,54.5,6.42,865.35,55.67,26.54,60.8,65.56,40.37,42.26,453.13,675.77,62.88,5.8,574.37,55.75,6.09,82.36,74.05,40.7,6.2,51.17,92.28,51.0,1160.7,44.12,60.5,6.9,19.36,51.6,54.52,49.94,1081.86,68.41,50.12,45.32,20.93,6.65,36.56,62.12,68.94,42.91,52.79,7.43,62.76,6.51,53.15,48.84,62.47,46.99,60.15,66.63,67.1,302.69,39.6,56.61,77.8,42.29,47.77,6.78,1009.73,45.3,63.5,40.18,44.85,52.43,6.26,35.78,53.96,46.16,6.73,5.86,109.05,42.85,6.21,1091.17,50.0,38.12,56.09,44.36,43.71,57.75,40.83,643.28,16.2,36.53,49.4,70.2,42.67,40.99,5.88,46.49,28.33,5.9,49.67,68.48,646.6,55.78,48.79,108.85,602.21,1228.0,662.13,40.2,46.13,7.77,6.79,50.91,41.22,67.1,48.77,5.72,44.59,49.78,60.36,183.56,6.06,777.63,47.95,1149.79,52.9,705.0,5.85,852.76,728.65,255.34,5.82,67.76,45.54,684.59,381.94,30.48,459.02,48.23,125.94,478.99,6.19,62.62,54.33,49.0,45.82,47.43,197.54,41.93,42.4,6.8,379.8,6.0,155.57,5.54,34.1,35.6,28.17,48.5,39.15,47.3,70.51,49.63,50.28,57.0,69.56,45.02,5.45,48.53,44.62,1109.49,56.1,632.2,43.14,63.3,62.78,6.68,39.11,818.0,50.15,67.98,625.51,1162.33,64.0,5.56,58.26,69.8,62.98,146.54,46.2,5.98,45.3,6.16,5.57,69.22,39.95,680.76,19.79,5.57,66.57,41.87,658.39,5.67,70.98,10.77,655.8,28.94,44.61,5.81,703.35,39.54,32.5,5.46,6.63,12.4,67.35,6.11,67.34,60.67,779.8,31.13,43.26,67.55,44.31,63.68,44.17,44.45,34.04,656.87,67.0,158.75,41.03,43.22,965.66,33.6,42.08,66.22,55.53,38.0,33.28,11.29,672.0,28.0,699.4,40.8,45.0,444.61,6.65,843.39,74.98,550.06,43.32,1000.0,5.64,60.0,65.65,44.6,49.94,44.62,50.2,48.76,50.44,32.73,62.17,45.35,63.6,40.01,51.5,49.6,5.3,1089.38,61.45,952.43,849.1,46.9,997.64,289.6,5.28,62.93,61.4,30.45,289.84,42.48,59.03,69.0,38.13,38.73,29.89,30.0,47.1,706.34,45.0,62.58,4.62,71.2,279.4,29.84,6.31,6.75,28.69,51.54,44.25,37.81,62.97,696.41,45.08,41.95,5.61,1077.0,1167.51,6.52,322.2,29.77,409.96,21.3,7.73,47.21,41.12,68.37,7.47,44.45,41.05,48.3,46.0,6.38,47.32,44.04,5.64,48.49,71.39,7.6,47.17,65.88,53.66,7.5,40.06,7.55,5.77,69.73,138.0,48.8,719.46,169.8,18.55,6.22,36.75,73.03,72.6,933.36,48.93,40.47,7.2,46.91,56.1,1080.39,41.42,52.1,36.72,66.54,55.75,5.19,30.22,56.66,50.62,46.3,5.6,855.0,19.05,59.94,52.48,689.58,64.29,156.0,6.8,50.45,37.06,29.9,37.34,49.5,35.66,164.1,66.89,981.08,1014.91,33.69,5.72,43.9,42.97,55.3,6.38,55.54,583.41,41.86,47.1,678.21,52.84,47.33,41.52,42.72,44.82,41.71,49.45,53.52,25.1,101.0,7.2,628.5,7.18,878.77,49.09,6.06,718.28,67.65,163.2,50.2,42.53,47.88,63.12,591.01,43.6,5.7,38.24,40.88,502.14,37.01,46.24,35.56,244.3,51.08,75.6,28.1,21.35,674.99,65.89,43.16,6.59,67.73,55.77,6.64,44.29,48.6,35.26,40.13,38.23,723.66,5.96,56.06,40.4,42.4,46.64,26.61,64.5,109.0,42.25,7.4,65.4,45.69,35.0,54.52,53.48,49.1,45.83,5.44,16.96,810.47,39.68,50.53,5.53,425.26,59.54,75.0,6.49,8.84,43.98,200.6,28.32,69.98,69.67,49.4,39.41,69.9,64.9,43.45,46.14,54.93,157.96,61.22,7.56,5.68,30.87,43.33,6.41,65.1,52.54,142.25,75.28,54.01,52.67,145.52,39.3,41.16,61.2,44.1,5.66,33.71,742.57,47.78,45.34,5.33,28.3,39.6,62.09,6.31,43.4,63.26,34.48,45.38,42.84,48.49,4.54,60.72,167.8,41.9,705.07,50.55,419.87,61.84,114.38,43.83,28.38,62.6,54.15,7.0,62.92,684.65,1073.67,1047.5,199.99,601.8,65.41,1008.0,41.95,4.96,6.56,22.71,5.4,181.4,31.4,6.22,68.98,43.78,46.37,42.0,47.2,75.0,410.85,710.68,41.2,5.0,48.3,49.2,46.85,69.09,59.18,37.1,62.6,59.5,4.96,436.56,596.11,58.22,164.17,831.0,46.7,61.3,47.44,45.23,743.1,39.16,33.0,24.08,39.2,4.67,869.67,36.2,5.2,27.0,10.2,51.03,70.8,443.35,773.12,67.9,48.0,28.97,50.65,1109.07,144.75,61.39,75.33,41.64,68.23,64.7,6.54,431.75,49.53,700.3,1061.33,37.65,599.24,17.7,46.47,5.79,155.3,62.35,32.93,45.42,999.29,7.04,43.44,39.92,49.38,68.19,7.84,53.29,46.14,39.8,79.46,151.0,37.91,24.8,43.94,839.48,58.49,45.4,71.4,5.48,40.9,36.71,386.21,7.3,35.83,160.0,71.69,50.93,615.64,719.8,50.41,8.65,5.98,70.63,32.29,39.82,46.26,68.35,6.5,49.12,7.78,66.09,1099.06,6.58,51.14,51.15,6.83,923.79,50.61,694.09,70.76,45.81,43.04,72.0,54.04,45.39,6.73,4.72,39.1,41.0,5.7,356.6,70.85,198.82,38.9,48.3,7.34,38.16,53.73,72.51,44.87,4.66,49.04,7.69,66.5,42.31,303.8,55.35,42.01,58.88,5.98,6.26,6.7,40.31,6.56,59.9,416.45,823.74,69.04,47.95,914.2,601.75,732.25,52.89,193.8,311.2,1084.79,51.71,5.49,46.58,446.24,62.7,94.74,46.88,6.78,626.06,60.41,412.0,60.66,45.92,47.2,905.53,740.0,73.11,492.0,1001.09,40.12,70.7,44.7,699.99,55.43,31.06,677.38,7.59,53.25,47.17,447.94,60.2,45.1,46.27,1005.06,6.82,6.32,759.6,6.96,44.44,49.91,891.38,51.36,5.56,63.52,69.0,61.97,67.49,155.44,707.03,5.6,666.24,726.15,168.32,855.0,719.0,18.22,67.8,405.16,18.84,7.37,67.05,52.14,6.5,308.6,72.93,6.93,415.05,48.61,752.83,50.86,38.87,48.1,157.44,43.58,51.3,44.2,38.71,11.2,6.62,62.4,69.8,36.77,51.48,45.34,70.9,72.9,40.89,31.0,88.1,76.0,59.71,57.07,5.76,99.42,295.43,67.54,46.04,40.57,45.85,37.8,24.9,51.51,858.74,23.6,45.52,64.05,66.88,49.39,741.0,39.49,44.84,74.94,37.69,36.83,49.22,61.54,49.85,6.7,49.67,68.2,42.33,49.59,54.65,5.34,46.91,1043.21,745.0,49.04,48.37,33.03,60.0,20.31,4.96,146.0,35.73,43.32,38.77,34.16,67.59,5.5,953.21,17.27,45.54,6.43,620.24,5.8,48.13,43.35,439.87,63.1,131.89,5.99,44.2,877.02,44.42,44.62,96.21,28.54,682.85,6.84,5.6,63.84,294.0,903.18,8.72,37.8,38.67,201.3,72.32,28.03,44.1,24.64,37.75,69.07,49.58,681.06,50.56,4.62,69.69,48.07,56.8,279.2,45.65,761.58,43.95,60.4,35.06,28.2,47.26,183.8,86.72,5.1,47.91,69.65,5.7,69.44,69.13,6.0,39.79,46.93,52.0,6.11,202.56,394.98,49.63,47.63,741.5,7.64,48.6,65.72,64.82,43.08,61.4,45.96,158.03,5.68,849.4,46.12,69.46,18.5,46.25,6.75,45.74,66.08,72.0,25.63,38.48,64.2,45.38,49.45,9.1,48.51,43.39,5.65,32.84,4.77,49.77,733.0,6.76,46.32,55.09,411.63,44.36,6.52,57.66,624.48,28.01,1026.61,8.22,1060.64,69.53,5.7,44.0,1081.15,84.9,42.11,63.92,11.28,44.0,71.11,62.96,27.78,44.39,5.9,70.27,51.01,69.5,6.38,69.88,10.18,35.97,629.89,1030.0,51.86,31.42,57.87,787.2,70.18,85.58,50.59,49.9,5.74,68.5,53.26,1146.65,7.0,68.37,18.73,77.34,39.85,51.72,48.26,69.2,579.71,795.53,6.0,39.72,68.1,42.44,59.8,6.59,34.25,35.45,685.7,23.65,59.7,82.06,45.92,5.49,41.23,1073.44,5.53,5.61,32.62,64.34,49.39,6.99,73.04,37.23,163.03,27.29,416.0,63.48,35.28,32.55,49.06,46.01,809.23,37.99,40.96,198.38,5.95,38.88,41.69,406.9,20.49,5.75,63.79,5.98,60.16,45.44,6.26,38.64,41.28,6.79,54.05,902.25,112.85,5.9,47.7,402.81,62.75,11.2,678.94,51.11,5.46,43.13,67.03,72.75,5.57,700.39,46.36,56.6,6.62,41.59,37.8,51.08,29.96,109.48,287.0,40.32,40.07,38.48,69.03,6.2,58.9,6.13,67.7,422.7,121.08,44.76,49.97,38.85,216.6,60.99,66.51,64.59,37.17,5.58,43.47,8.41,497.99,49.64,46.82,6.41,39.75,48.18,49.82,20.41,40.74,438.44,7.86,42.9,49.2,41.02,834.13,23.7,171.04,66.35,40.37,57.46,5.86,55.55,46.95,49.53,61.47,1053.67,36.9,59.67,47.63,45.14,42.28,56.29],\"y\":[[486.64],[29.53],[48.25],[1037.86],[64.33],[49.85],[51.0],[42.31],[47.52],[876.42],[49.39],[739.38],[5.68],[6.37],[6.74],[64.25],[24.02],[618.71],[112.11],[37.03],[51.99],[41.46],[61.67],[6.39],[678.9],[1054.73],[46.1],[5.32],[804.58],[6.76],[45.35],[66.61],[85.51],[61.75],[71.68],[45.92],[128.16],[8.1],[59.78],[6.49],[71.46],[442.3],[6.49],[50.59],[71.07],[61.77],[13.88],[6.83],[56.95],[86.08],[30.28],[7.12],[6.77],[71.9],[53.23],[41.19],[5.58],[55.09],[4.92],[52.28],[6.88],[930.0],[61.4],[116.2],[421.2],[49.78],[43.67],[62.33],[39.74],[141.98],[64.46],[55.49],[75.19],[407.0],[42.45],[42.4],[61.21],[330.14],[7.2],[71.59],[176.59],[675.5],[53.44],[39.22],[53.83],[4.61],[49.67],[43.08],[40.89],[64.73],[57.89],[45.8],[6.45],[53.79],[5.07],[40.85],[693.73],[52.14],[7.69],[755.98],[6.16],[899.94],[43.91],[62.5],[42.99],[891.14],[52.4],[649.26],[5.74],[78.63],[25.22],[65.44],[846.35],[37.71],[61.69],[45.74],[102.1],[149.04],[6.72],[35.75],[60.63],[50.92],[39.06],[644.22],[45.21],[49.51],[5.39],[52.28],[62.92],[870.43],[713.76],[34.59],[41.5],[41.0],[35.36],[40.19],[45.44],[958.51],[5.89],[6.74],[568.82],[6.18],[44.01],[73.32],[55.48],[38.11],[68.21],[59.7],[461.3],[6.06],[7.04],[66.96],[183.48],[46.06],[59.67],[6.18],[49.18],[45.42],[71.12],[54.65],[41.66],[68.07],[38.6],[905.39],[704.74],[5.48],[63.51],[44.97],[6.23],[40.72],[8.37],[805.72],[860.0],[43.89],[70.43],[41.74],[38.71],[64.54],[61.0],[38.95],[69.68],[6.42],[56.24],[5.9],[70.69],[69.77],[6.66],[1096.38],[74.78],[71.38],[37.6],[41.36],[49.69],[42.76],[39.28],[37.75],[577.87],[448.88],[4.77],[691.05],[38.78],[51.73],[56.19],[60.75],[50.0],[50.14],[71.93],[42.58],[318.47],[73.35],[555.38],[53.13],[43.82],[44.71],[61.75],[44.69],[36.29],[7.02],[37.88],[7.4],[49.55],[6.22],[4.94],[4.96],[420.63],[52.4],[29.49],[63.31],[5.51],[35.55],[27.09],[40.52],[34.92],[375.71],[58.78],[6.74],[297.4],[57.7],[47.66],[41.04],[46.19],[7.0],[53.56],[76.69],[6.04],[72.71],[49.49],[44.68],[62.76],[67.01],[40.82],[50.59],[52.56],[299.41],[54.03],[59.57],[29.91],[40.05],[46.68],[46.51],[37.36],[47.78],[50.6],[60.6],[774.39],[60.31],[438.09],[57.79],[46.46],[742.02],[177.13],[162.73],[63.79],[109.77],[6.95],[791.94],[936.72],[923.39],[6.65],[63.98],[45.5],[27.79],[4.58],[39.7],[67.07],[52.41],[33.93],[50.77],[43.53],[46.33],[1051.75],[71.63],[65.64],[42.67],[50.9],[43.59],[55.95],[622.77],[63.46],[663.69],[5.63],[5.71],[6.67],[775.48],[38.01],[563.46],[146.94],[5.65],[61.5],[640.39],[40.47],[50.89],[40.2],[413.98],[818.32],[995.65],[6.52],[47.63],[902.94],[59.49],[41.82],[68.55],[62.95],[49.42],[37.73],[932.57],[40.55],[61.0],[423.43],[40.14],[44.0],[40.88],[6.71],[65.56],[24.42],[44.74],[656.95],[6.76],[73.04],[5.91],[5.58],[7.41],[45.87],[40.46],[5.55],[28.14],[104.8],[69.18],[46.59],[668.54],[734.09],[51.09],[46.39],[62.36],[439.67],[52.38],[6.28],[604.48],[653.16],[6.26],[41.55],[6.32],[38.72],[68.57],[5.59],[51.86],[45.41],[297.5],[66.89],[42.2],[943.9],[4.93],[8.66],[62.07],[61.51],[39.55],[811.66],[54.97],[49.62],[1067.95],[24.32],[688.99],[7.5],[59.35],[1229.91],[781.3],[16.97],[6.32],[424.23],[881.51],[109.44],[69.99],[42.89],[1086.19],[41.24],[24.32],[661.75],[45.12],[6.75],[367.13],[6.9],[51.04],[62.08],[37.97],[48.01],[63.01],[53.03],[41.38],[47.44],[47.7],[38.46],[1067.0],[40.45],[196.43],[4.59],[187.06],[33.76],[49.63],[161.88],[41.25],[67.18],[45.16],[7.85],[65.04],[69.5],[1004.29],[41.97],[47.67],[63.18],[41.58],[6.8],[5.58],[6.78],[39.31],[65.54],[5.48],[50.64],[5.95],[290.54],[43.3],[197.2],[41.79],[40.27],[26.85],[19.42],[42.23],[52.76],[975.93],[751.94],[6.41],[39.39],[60.8],[1091.26],[55.36],[50.13],[44.65],[61.74],[44.93],[7.37],[5.9],[44.73],[154.88],[70.2],[60.94],[46.31],[302.61],[41.69],[999.11],[20.3],[33.92],[48.82],[643.38],[37.67],[61.58],[45.94],[38.89],[48.95],[993.98],[69.23],[46.01],[673.58],[191.95],[5.96],[7.22],[4.46],[161.16],[40.93],[714.63],[44.59],[872.79],[57.07],[111.6],[56.89],[38.12],[48.95],[5.61],[67.91],[43.42],[6.67],[816.12],[75.36],[40.36],[57.52],[39.15],[48.45],[826.16],[7.19],[66.46],[43.72],[656.57],[5.59],[5.56],[53.08],[41.69],[1063.51],[44.39],[43.39],[32.43],[41.02],[41.69],[28.43],[44.72],[6.01],[51.44],[47.03],[5.83],[425.79],[759.49],[61.13],[41.96],[59.63],[707.82],[6.78],[75.96],[48.87],[36.56],[67.97],[57.93],[56.75],[39.32],[4.8],[35.07],[644.65],[40.9],[6.9],[69.28],[66.73],[50.24],[45.86],[64.02],[931.25],[36.56],[871.6],[52.65],[40.8],[297.0],[51.26],[415.09],[35.8],[49.6],[41.88],[1099.57],[50.75],[6.43],[31.03],[58.83],[71.14],[40.15],[62.26],[6.25],[47.07],[95.63],[51.58],[42.05],[67.01],[149.1],[43.72],[54.45],[5.87],[421.26],[45.7],[921.16],[434.0],[6.36],[39.33],[152.24],[55.58],[44.37],[7.47],[56.99],[44.97],[7.69],[38.16],[8.22],[65.98],[32.99],[49.43],[6.52],[780.59],[43.19],[69.49],[996.27],[45.94],[44.92],[5.51],[48.5],[27.6],[76.52],[25.39],[69.0],[43.85],[69.45],[42.12],[44.09],[44.45],[273.18],[66.6],[39.89],[4.82],[39.14],[52.38],[41.76],[563.0],[50.48],[447.75],[41.44],[63.78],[163.77],[65.17],[5.9],[1077.6],[50.48],[38.31],[7.55],[5.68],[35.74],[7.19],[55.0],[43.36],[24.49],[67.92],[52.06],[85.05],[45.25],[50.51],[39.82],[52.65],[4.56],[52.03],[8.27],[60.88],[51.5],[54.93],[6.53],[865.8],[55.48],[28.94],[55.84],[65.23],[40.02],[42.59],[449.39],[662.16],[61.22],[5.74],[627.07],[57.1],[6.08],[83.84],[70.52],[40.99],[6.2],[51.54],[93.81],[50.01],[1095.0],[43.63],[60.6],[6.84],[19.55],[51.86],[54.8],[50.08],[1114.0],[68.69],[50.34],[45.0],[20.13],[6.62],[36.75],[64.38],[70.57],[42.02],[52.41],[7.59],[63.11],[6.52],[54.67],[50.0],[61.63],[46.8],[60.19],[67.75],[64.69],[300.17],[40.62],[58.3],[72.24],[41.46],[46.8],[6.92],[1013.92],[46.68],[65.65],[39.56],[44.96],[51.96],[6.54],[36.68],[53.51],[47.11],[6.76],[5.96],[107.85],[43.67],[6.13],[1093.99],[51.07],[38.63],[56.06],[43.43],[42.94],[59.04],[40.89],[633.25],[17.56],[36.79],[49.37],[69.85],[42.19],[40.75],[5.98],[46.08],[28.4],[5.47],[49.69],[66.88],[654.87],[55.94],[49.77],[107.58],[567.6],[1222.09],[698.84],[39.32],[48.51],[7.82],[6.62],[51.36],[42.86],[67.71],[51.01],[5.75],[41.85],[50.75],[58.25],[198.18],[5.82],[816.04],[47.9],[1162.94],[50.11],[711.92],[5.78],[854.41],[739.78],[274.32],[5.67],[67.47],[46.23],[670.0],[372.72],[30.6],[442.68],[47.62],[133.6],[447.37],[6.18],[62.98],[54.46],[48.7],[46.55],[47.47],[198.36],[41.16],[40.06],[6.73],[377.42],[6.49],[153.46],[5.63],[34.31],[36.57],[27.74],[48.34],[39.28],[46.88],[68.61],[49.25],[49.89],[56.84],[69.63],[45.29],[5.56],[46.77],[44.19],[1088.47],[55.84],[645.98],[41.78],[62.71],[61.82],[6.64],[37.91],[796.22],[50.31],[67.09],[649.88],[1156.87],[63.24],[5.5],[56.67],[68.68],[64.57],[149.27],[48.6],[5.81],[45.62],[6.25],[5.71],[69.87],[40.71],[663.54],[20.01],[5.48],[65.82],[43.38],[650.6],[5.75],[71.94],[10.82],[621.44],[27.56],[45.4],[5.92],[676.88],[41.06],[34.19],[5.58],[6.63],[11.1],[65.33],[6.2],[65.17],[58.96],[781.31],[31.99],[42.74],[66.61],[43.95],[62.37],[43.13],[46.47],[34.0],[701.81],[68.89],[163.88],[42.04],[42.27],[1008.87],[33.32],[42.78],[66.26],[55.77],[37.72],[32.7],[10.91],[694.78],[28.94],[699.6],[39.99],[45.05],[498.32],[6.62],[845.0],[73.3],[574.0],[43.58],[1058.12],[5.6],[65.22],[65.05],[43.92],[50.1],[44.48],[50.16],[47.56],[48.56],[33.32],[63.56],[43.92],[63.85],[39.28],[50.8],[50.7],[5.1],[1145.45],[59.44],[937.41],[838.29],[48.24],[986.95],[283.71],[5.17],[65.78],[62.61],[29.6],[297.0],[43.65],[58.05],[67.92],[37.0],[39.33],[29.48],[29.4],[46.54],[722.25],[44.61],[63.21],[4.39],[72.61],[278.86],[31.42],[6.33],[6.69],[28.98],[51.58],[44.61],[37.0],[62.11],[694.4],[45.12],[41.63],[5.79],[1064.7],[1109.03],[6.49],[324.2],[30.26],[410.83],[24.05],[7.65],[47.0],[40.14],[68.22],[7.32],[46.0],[40.74],[48.36],[47.55],[6.39],[47.62],[43.86],[5.54],[48.96],[71.57],[7.57],[48.01],[66.97],[53.68],[7.45],[40.26],[7.65],[5.85],[69.99],[140.7],[49.05],[729.77],[159.98],[18.97],[6.36],[38.03],[70.51],[72.58],[829.1],[47.38],[39.56],[7.4],[46.29],[59.8],[1116.0],[41.55],[50.01],[34.7],[65.8],[55.66],[5.17],[30.49],[58.34],[49.47],[48.3],[5.57],[849.99],[19.47],[60.05],[52.5],[671.87],[63.34],[160.67],[6.99],[50.78],[36.79],[29.09],[37.73],[47.98],[34.88],[163.11],[66.95],[1022.37],[1005.05],[32.83],[5.7],[43.94],[42.07],[55.25],[6.01],[54.64],[589.74],[40.81],[46.0],[673.47],[53.34],[46.39],[39.62],[43.04],[45.0],[41.49],[49.7],[53.23],[25.98],[102.87],[7.33],[625.22],[6.97],[839.29],[48.95],[6.21],[686.44],[68.86],[165.52],[49.98],[43.03],[46.98],[63.77],[599.04],[44.14],[5.97],[37.74],[41.2],[475.05],[36.9],[43.92],[35.71],[241.73],[50.96],[74.28],[32.25],[21.85],[679.82],[65.68],[45.55],[6.59],[67.24],[55.32],[6.95],[45.28],[48.17],[35.68],[39.3],[38.75],[735.11],[5.79],[54.7],[39.97],[42.02],[46.22],[25.45],[66.42],[109.09],[42.98],[7.54],[67.02],[42.31],[35.94],[52.91],[52.0],[48.82],[45.12],[5.35],[18.55],[811.08],[39.52],[51.4],[5.51],[402.84],[65.63],[73.96],[6.45],[9.12],[44.2],[200.79],[28.65],[68.19],[66.26],[49.75],[39.21],[68.91],[66.81],[44.11],[46.96],[52.39],[153.64],[62.02],[7.57],[5.78],[30.7],[43.99],[6.58],[64.96],[53.36],[148.72],[72.47],[53.35],[52.76],[141.13],[40.08],[41.5],[63.54],[45.02],[5.53],[33.39],[744.49],[49.79],[46.09],[5.48],[27.47],[40.21],[60.77],[6.25],[44.06],[62.66],[33.35],[45.14],[43.13],[47.94],[4.75],[60.07],[166.76],[43.32],[686.17],[50.71],[425.3],[61.61],[113.91],[43.42],[27.93],[62.58],[56.12],[7.2],[63.03],[680.76],[1093.94],[1033.42],[198.86],[572.84],[63.08],[1010.64],[42.8],[5.16],[6.26],[20.93],[5.4],[180.2],[32.37],[6.0],[67.77],[42.99],[46.61],[41.04],[46.15],[73.14],[408.5],[708.49],[41.49],[4.85],[48.94],[49.83],[44.33],[68.4],[58.03],[35.79],[63.0],[60.55],[4.88],[449.76],[580.88],[60.02],[164.05],[849.44],[45.76],[61.04],[46.85],[44.98],[738.85],[39.06],[35.04],[24.81],[39.82],[4.59],[863.42],[37.31],[5.24],[27.11],[10.2],[52.15],[71.1],[446.65],[791.36],[69.47],[48.29],[28.71],[50.28],[1031.56],[144.91],[58.96],[74.45],[41.53],[68.27],[61.1],[6.45],[421.94],[48.98],[668.06],[1070.34],[36.38],[617.2],[17.52],[44.52],[5.62],[156.52],[63.07],[31.84],[47.15],[985.0],[7.05],[43.89],[39.62],[48.54],[67.81],[7.9],[53.76],[46.47],[40.57],[80.81],[140.26],[39.31],[24.55],[45.27],[858.97],[57.99],[46.33],[71.11],[5.68],[41.74],[37.05],[371.34],[7.22],[36.47],[154.26],[69.53],[51.14],[611.29],[729.4],[49.11],[8.75],[5.79],[69.0],[33.27],[38.55],[45.85],[69.5],[6.35],[49.81],[7.82],[68.21],[1084.6],[6.79],[51.64],[52.96],[6.88],[907.34],[52.45],[707.94],[69.92],[45.95],[42.8],[73.03],[53.54],[45.8],[6.76],[4.72],[39.22],[42.34],[5.65],[366.28],[69.61],[192.17],[38.37],[44.64],[7.6],[37.94],[53.28],[76.3],[44.65],[4.73],[50.08],[7.58],[67.1],[42.34],[328.6],[55.21],[43.09],[59.41],[5.63],[6.32],[6.99],[39.99],[6.6],[61.22],[417.13],[843.03],[70.86],[49.02],[918.4],[635.62],[733.57],[53.55],[201.87],[303.36],[1014.97],[51.91],[5.47],[46.09],[430.83],[59.08],[98.43],[47.7],[6.49],[597.95],[59.0],[430.63],[58.39],[48.55],[45.78],[922.0],[752.92],[70.49],[499.27],[966.41],[40.76],[71.48],[44.0],[705.67],[55.72],[30.22],[683.8],[7.63],[53.84],[48.29],[442.15],[59.86],[44.51],[46.87],[1028.15],[6.63],[6.39],[736.27],[6.87],[43.92],[49.23],[883.09],[49.41],[5.7],[63.4],[68.9],[62.81],[66.97],[156.01],[711.2],[5.71],[649.86],[682.22],[171.68],[880.8],[709.74],[17.99],[70.55],[380.36],[16.65],[7.61],[65.78],[52.19],[6.45],[309.2],[72.76],[6.84],[411.76],[49.12],[756.99],[51.12],[39.1],[47.79],[160.01],[43.92],[50.87],[47.36],[40.58],[10.66],[6.65],[63.7],[70.1],[36.93],[51.95],[44.9],[70.97],[72.55],[41.38],[30.21],[88.6],[75.02],[60.23],[58.82],[5.6],[96.27],[300.13],[68.2],[45.43],[40.13],[44.66],[38.67],[24.17],[50.45],[850.45],[23.05],[45.17],[66.31],[68.99],[49.04],[738.2],[39.62],[45.37],[85.53],[38.06],[36.68],[51.6],[60.21],[50.39],[6.84],[50.31],[67.58],[41.92],[49.74],[57.1],[5.36],[46.62],[1025.49],[755.83],[49.34],[49.7],[32.84],[60.2],[22.07],[4.95],[135.8],[37.49],[41.46],[38.39],[35.58],[66.63],[5.52],[975.99],[17.45],[45.9],[6.43],[630.85],[5.61],[45.89],[43.39],[441.76],[62.17],[129.07],[6.37],[44.69],[854.69],[46.9],[44.31],[90.89],[27.87],[680.26],[6.97],[5.59],[64.02],[310.95],[909.25],[8.87],[37.48],[39.93],[215.96],[71.08],[28.1],[43.69],[24.45],[37.64],[69.42],[51.39],[670.94],[57.39],[4.77],[68.75],[47.73],[57.21],[308.93],[45.41],[753.87],[44.45],[60.74],[35.05],[28.94],[47.9],[189.98],[86.86],[5.28],[48.01],[67.53],[5.87],[65.42],[68.91],[6.15],[39.32],[47.06],[53.26],[6.21],[200.18],[404.67],[48.15],[47.73],[719.69],[7.83],[48.52],[68.37],[65.43],[43.5],[60.56],[47.54],[160.1],[5.68],[811.19],[46.35],[69.13],[18.3],[46.07],[6.88],[44.95],[65.9],[71.7],[25.88],[38.39],[63.45],[44.14],[48.63],[9.09],[50.22],[43.54],[5.85],[33.21],[4.62],[49.23],[735.72],[6.68],[46.05],[55.48],[420.28],[44.22],[6.43],[57.18],[620.83],[28.44],[1030.51],[8.4],[1003.8],[71.54],[5.63],[43.8],[1084.59],[86.05],[42.05],[63.44],[11.9],[45.34],[70.36],[63.49],[27.52],[42.21],[6.13],[72.74],[50.71],[70.86],[6.27],[70.31],[10.09],[36.45],[646.22],[977.2],[50.99],[29.6],[61.14],[777.56],[71.15],[86.19],[49.24],[49.56],[5.9],[68.31],[52.0],[1088.12],[6.93],[70.1],[19.07],[75.5],[40.49],[50.6],[48.91],[69.57],[599.05],[824.4],[6.34],[40.02],[68.28],[42.56],[58.24],[6.85],[35.34],[36.3],[701.98],[23.56],[59.94],[81.12],[45.66],[5.52],[43.3],[1056.78],[5.61],[5.58],[32.14],[66.99],[48.97],[7.03],[72.47],[38.63],[161.6],[27.93],[419.07],[63.95],[36.2],[32.89],[49.54],[46.49],[809.87],[38.24],[41.28],[205.01],[5.86],[38.18],[41.54],[388.04],[20.99],[5.86],[65.18],[5.82],[60.39],[45.49],[6.16],[39.63],[41.29],[6.72],[52.95],[870.76],[114.44],[5.71],[48.0],[418.32],[61.83],[10.8],[673.6],[51.0],[5.67],[41.47],[66.74],[74.0],[5.55],[800.77],[46.05],[55.7],[6.72],[41.06],[38.11],[51.2],[30.02],[105.63],[307.92],[40.34],[40.98],[37.61],[69.16],[6.31],[58.94],[5.97],[69.46],[422.64],[121.6],[44.7],[49.54],[37.27],[223.93],[61.78],[67.46],[64.27],[38.23],[5.66],[43.55],[8.72],[489.61],[49.8],[46.09],[6.36],[39.74],[48.39],[49.4],[20.94],[38.73],[425.92],[7.71],[44.21],[49.32],[40.7],[821.53],[23.94],[156.38],[62.17],[41.31],[58.36],[5.71],[55.81],[46.1],[50.05],[60.84],[1064.4],[36.22],[59.94],[48.23],[46.12],[43.05],[58.11]],\"type\":\"scatter\"},{\"mode\":\"lines\",\"name\":\"Predicted\",\"x\":[448.35,29.61,48.0,1039.66,64.17,50.61,50.31,41.7,48.97,995.43,50.5,734.79,5.72,6.46,6.7,61.88,23.66,641.87,116.18,37.02,51.62,42.47,59.6,6.57,678.98,1003.31,45.64,5.38,856.3,6.76,45.28,68.03,87.64,59.35,72.21,45.81,126.48,8.36,60.96,6.39,74.88,442.0,6.63,50.28,71.2,63.45,14.02,6.86,57.44,87.0,30.0,6.95,6.6,70.35,51.3,40.89,5.6,56.7,5.2,52.5,6.96,904.76,60.2,115.14,424.62,50.41,42.64,63.2,39.88,139.79,64.17,55.4,73.52,407.23,45.2,42.09,60.2,333.0,7.19,73.8,177.62,700.0,53.93,38.14,54.22,4.73,49.78,43.23,40.3,63.0,57.6,46.6,6.42,55.52,4.81,40.66,670.0,51.08,7.66,758.49,6.02,910.7,42.98,62.8,42.17,882.0,52.3,656.44,5.68,76.13,23.89,63.2,831.56,36.85,58.34,44.91,101.52,143.39,6.68,36.14,60.45,50.0,39.39,654.68,45.99,47.12,5.07,52.48,62.57,815.01,710.17,34.62,41.59,39.79,36.0,40.27,45.87,945.0,6.11,6.9,556.44,6.17,46.1,73.88,56.51,37.17,67.81,57.38,449.78,6.25,6.91,66.44,184.7,44.0,60.71,6.17,49.5,46.3,69.36,54.25,41.63,68.8,38.79,874.49,717.96,5.51,63.27,44.86,5.94,40.79,8.14,800.93,909.63,42.5,70.13,41.51,39.34,61.76,61.5,39.09,72.4,6.4,57.53,6.01,71.27,67.99,6.57,1106.55,74.6,69.4,38.01,41.0,51.47,41.78,39.14,38.71,568.0,450.31,4.68,707.71,39.82,52.77,56.96,60.68,50.84,52.57,71.27,42.05,319.8,73.98,540.4,52.42,43.55,44.54,62.76,45.27,36.58,6.88,38.2,7.4,50.12,6.45,4.84,4.92,421.84,52.39,27.94,62.05,5.58,34.02,27.37,40.7,35.57,373.0,58.72,6.9,299.0,60.21,47.07,40.21,47.06,7.05,52.38,76.49,6.5,72.2,49.7,46.14,61.6,72.01,41.46,50.83,51.05,331.8,52.72,58.44,30.0,40.1,46.79,46.34,36.5,46.83,52.49,60.5,745.89,62.25,428.3,59.39,45.86,711.85,175.57,165.56,63.16,110.84,7.04,787.65,872.71,914.05,6.4,63.78,46.68,28.86,4.5,40.0,68.39,52.48,34.84,54.87,41.75,44.82,1044.2,70.77,66.75,41.6,50.26,43.48,56.0,628.23,64.77,674.51,5.71,5.7,6.72,781.0,37.38,552.55,164.65,5.52,62.66,613.0,40.58,51.46,40.49,423.79,815.49,1041.71,6.73,47.0,860.77,59.05,43.0,68.94,60.36,47.48,36.7,914.77,40.5,62.05,415.6,38.99,44.43,39.42,6.77,64.64,24.58,45.73,653.18,6.63,71.51,5.9,5.61,7.7,47.0,40.89,5.62,29.38,100.25,70.92,47.55,686.32,734.08,48.1,45.86,63.24,454.44,52.4,6.38,653.69,684.29,6.2,42.06,6.36,36.22,68.3,5.45,51.1,44.94,297.6,69.2,43.57,996.34,4.9,8.7,62.56,63.46,40.5,812.44,53.75,49.47,1010.41,24.27,669.75,7.57,58.87,1234.41,795.0,16.36,6.41,429.6,898.58,106.05,69.38,42.0,1098.64,40.44,27.05,688.37,45.2,6.85,335.4,6.97,50.61,63.99,37.42,47.39,65.13,53.4,39.64,46.21,47.49,38.41,1006.8,40.2,202.37,4.39,196.0,34.95,49.01,165.4,41.5,67.0,45.47,7.89,65.9,72.4,989.03,42.83,47.33,63.68,40.72,6.79,5.57,6.82,37.87,65.51,5.7,50.22,5.91,299.91,44.7,190.85,41.52,41.93,28.38,18.52,41.83,52.85,980.4,743.53,6.35,37.75,59.34,1136.3,56.93,50.51,44.61,63.0,44.82,7.78,5.71,44.65,153.76,71.25,59.79,44.51,335.79,41.64,979.94,19.3,35.03,48.96,646.36,36.75,60.9,46.44,39.82,49.06,930.0,67.11,45.79,608.18,198.96,6.03,7.14,4.77,162.7,41.81,719.6,44.83,844.68,59.62,108.4,55.76,37.79,48.02,5.48,67.32,42.16,7.0,801.26,74.03,40.38,58.5,37.66,46.58,852.0,7.05,65.09,43.65,632.0,5.53,5.55,53.48,43.3,1102.77,43.6,41.8,32.6,39.55,42.45,28.95,45.1,6.06,53.29,49.3,5.9,441.92,757.15,61.31,42.09,58.45,712.71,6.76,74.9,49.43,36.71,67.95,60.07,55.7,39.74,4.93,34.14,664.27,41.0,6.95,68.75,70.31,49.58,45.25,63.83,935.21,38.48,830.99,52.7,40.87,298.6,50.17,421.39,34.55,46.0,41.16,1107.99,50.41,6.28,31.74,52.77,70.59,41.8,61.2,6.33,46.85,96.36,51.82,42.0,67.38,161.0,43.5,53.16,5.71,439.5,45.87,914.98,430.13,6.36,39.89,140.2,55.61,43.24,7.64,59.34,45.59,7.61,39.61,8.62,65.68,32.8,49.69,6.4,784.8,42.62,70.58,1009.73,44.0,41.35,5.6,47.97,26.92,75.6,24.26,67.8,44.06,68.42,42.56,44.83,44.8,281.0,66.02,39.24,5.14,38.4,52.12,40.61,600.55,50.02,436.09,42.59,64.8,166.9,66.87,6.03,1094.57,49.86,37.79,7.68,5.7,34.55,6.86,57.55,43.56,23.98,67.98,52.4,83.67,43.93,52.25,40.42,52.02,5.68,51.34,8.4,61.1,51.64,54.5,6.42,865.35,55.67,26.54,60.8,65.56,40.37,42.26,453.13,675.77,62.88,5.8,574.37,55.75,6.09,82.36,74.05,40.7,6.2,51.17,92.28,51.0,1160.7,44.12,60.5,6.9,19.36,51.6,54.52,49.94,1081.86,68.41,50.12,45.32,20.93,6.65,36.56,62.12,68.94,42.91,52.79,7.43,62.76,6.51,53.15,48.84,62.47,46.99,60.15,66.63,67.1,302.69,39.6,56.61,77.8,42.29,47.77,6.78,1009.73,45.3,63.5,40.18,44.85,52.43,6.26,35.78,53.96,46.16,6.73,5.86,109.05,42.85,6.21,1091.17,50.0,38.12,56.09,44.36,43.71,57.75,40.83,643.28,16.2,36.53,49.4,70.2,42.67,40.99,5.88,46.49,28.33,5.9,49.67,68.48,646.6,55.78,48.79,108.85,602.21,1228.0,662.13,40.2,46.13,7.77,6.79,50.91,41.22,67.1,48.77,5.72,44.59,49.78,60.36,183.56,6.06,777.63,47.95,1149.79,52.9,705.0,5.85,852.76,728.65,255.34,5.82,67.76,45.54,684.59,381.94,30.48,459.02,48.23,125.94,478.99,6.19,62.62,54.33,49.0,45.82,47.43,197.54,41.93,42.4,6.8,379.8,6.0,155.57,5.54,34.1,35.6,28.17,48.5,39.15,47.3,70.51,49.63,50.28,57.0,69.56,45.02,5.45,48.53,44.62,1109.49,56.1,632.2,43.14,63.3,62.78,6.68,39.11,818.0,50.15,67.98,625.51,1162.33,64.0,5.56,58.26,69.8,62.98,146.54,46.2,5.98,45.3,6.16,5.57,69.22,39.95,680.76,19.79,5.57,66.57,41.87,658.39,5.67,70.98,10.77,655.8,28.94,44.61,5.81,703.35,39.54,32.5,5.46,6.63,12.4,67.35,6.11,67.34,60.67,779.8,31.13,43.26,67.55,44.31,63.68,44.17,44.45,34.04,656.87,67.0,158.75,41.03,43.22,965.66,33.6,42.08,66.22,55.53,38.0,33.28,11.29,672.0,28.0,699.4,40.8,45.0,444.61,6.65,843.39,74.98,550.06,43.32,1000.0,5.64,60.0,65.65,44.6,49.94,44.62,50.2,48.76,50.44,32.73,62.17,45.35,63.6,40.01,51.5,49.6,5.3,1089.38,61.45,952.43,849.1,46.9,997.64,289.6,5.28,62.93,61.4,30.45,289.84,42.48,59.03,69.0,38.13,38.73,29.89,30.0,47.1,706.34,45.0,62.58,4.62,71.2,279.4,29.84,6.31,6.75,28.69,51.54,44.25,37.81,62.97,696.41,45.08,41.95,5.61,1077.0,1167.51,6.52,322.2,29.77,409.96,21.3,7.73,47.21,41.12,68.37,7.47,44.45,41.05,48.3,46.0,6.38,47.32,44.04,5.64,48.49,71.39,7.6,47.17,65.88,53.66,7.5,40.06,7.55,5.77,69.73,138.0,48.8,719.46,169.8,18.55,6.22,36.75,73.03,72.6,933.36,48.93,40.47,7.2,46.91,56.1,1080.39,41.42,52.1,36.72,66.54,55.75,5.19,30.22,56.66,50.62,46.3,5.6,855.0,19.05,59.94,52.48,689.58,64.29,156.0,6.8,50.45,37.06,29.9,37.34,49.5,35.66,164.1,66.89,981.08,1014.91,33.69,5.72,43.9,42.97,55.3,6.38,55.54,583.41,41.86,47.1,678.21,52.84,47.33,41.52,42.72,44.82,41.71,49.45,53.52,25.1,101.0,7.2,628.5,7.18,878.77,49.09,6.06,718.28,67.65,163.2,50.2,42.53,47.88,63.12,591.01,43.6,5.7,38.24,40.88,502.14,37.01,46.24,35.56,244.3,51.08,75.6,28.1,21.35,674.99,65.89,43.16,6.59,67.73,55.77,6.64,44.29,48.6,35.26,40.13,38.23,723.66,5.96,56.06,40.4,42.4,46.64,26.61,64.5,109.0,42.25,7.4,65.4,45.69,35.0,54.52,53.48,49.1,45.83,5.44,16.96,810.47,39.68,50.53,5.53,425.26,59.54,75.0,6.49,8.84,43.98,200.6,28.32,69.98,69.67,49.4,39.41,69.9,64.9,43.45,46.14,54.93,157.96,61.22,7.56,5.68,30.87,43.33,6.41,65.1,52.54,142.25,75.28,54.01,52.67,145.52,39.3,41.16,61.2,44.1,5.66,33.71,742.57,47.78,45.34,5.33,28.3,39.6,62.09,6.31,43.4,63.26,34.48,45.38,42.84,48.49,4.54,60.72,167.8,41.9,705.07,50.55,419.87,61.84,114.38,43.83,28.38,62.6,54.15,7.0,62.92,684.65,1073.67,1047.5,199.99,601.8,65.41,1008.0,41.95,4.96,6.56,22.71,5.4,181.4,31.4,6.22,68.98,43.78,46.37,42.0,47.2,75.0,410.85,710.68,41.2,5.0,48.3,49.2,46.85,69.09,59.18,37.1,62.6,59.5,4.96,436.56,596.11,58.22,164.17,831.0,46.7,61.3,47.44,45.23,743.1,39.16,33.0,24.08,39.2,4.67,869.67,36.2,5.2,27.0,10.2,51.03,70.8,443.35,773.12,67.9,48.0,28.97,50.65,1109.07,144.75,61.39,75.33,41.64,68.23,64.7,6.54,431.75,49.53,700.3,1061.33,37.65,599.24,17.7,46.47,5.79,155.3,62.35,32.93,45.42,999.29,7.04,43.44,39.92,49.38,68.19,7.84,53.29,46.14,39.8,79.46,151.0,37.91,24.8,43.94,839.48,58.49,45.4,71.4,5.48,40.9,36.71,386.21,7.3,35.83,160.0,71.69,50.93,615.64,719.8,50.41,8.65,5.98,70.63,32.29,39.82,46.26,68.35,6.5,49.12,7.78,66.09,1099.06,6.58,51.14,51.15,6.83,923.79,50.61,694.09,70.76,45.81,43.04,72.0,54.04,45.39,6.73,4.72,39.1,41.0,5.7,356.6,70.85,198.82,38.9,48.3,7.34,38.16,53.73,72.51,44.87,4.66,49.04,7.69,66.5,42.31,303.8,55.35,42.01,58.88,5.98,6.26,6.7,40.31,6.56,59.9,416.45,823.74,69.04,47.95,914.2,601.75,732.25,52.89,193.8,311.2,1084.79,51.71,5.49,46.58,446.24,62.7,94.74,46.88,6.78,626.06,60.41,412.0,60.66,45.92,47.2,905.53,740.0,73.11,492.0,1001.09,40.12,70.7,44.7,699.99,55.43,31.06,677.38,7.59,53.25,47.17,447.94,60.2,45.1,46.27,1005.06,6.82,6.32,759.6,6.96,44.44,49.91,891.38,51.36,5.56,63.52,69.0,61.97,67.49,155.44,707.03,5.6,666.24,726.15,168.32,855.0,719.0,18.22,67.8,405.16,18.84,7.37,67.05,52.14,6.5,308.6,72.93,6.93,415.05,48.61,752.83,50.86,38.87,48.1,157.44,43.58,51.3,44.2,38.71,11.2,6.62,62.4,69.8,36.77,51.48,45.34,70.9,72.9,40.89,31.0,88.1,76.0,59.71,57.07,5.76,99.42,295.43,67.54,46.04,40.57,45.85,37.8,24.9,51.51,858.74,23.6,45.52,64.05,66.88,49.39,741.0,39.49,44.84,74.94,37.69,36.83,49.22,61.54,49.85,6.7,49.67,68.2,42.33,49.59,54.65,5.34,46.91,1043.21,745.0,49.04,48.37,33.03,60.0,20.31,4.96,146.0,35.73,43.32,38.77,34.16,67.59,5.5,953.21,17.27,45.54,6.43,620.24,5.8,48.13,43.35,439.87,63.1,131.89,5.99,44.2,877.02,44.42,44.62,96.21,28.54,682.85,6.84,5.6,63.84,294.0,903.18,8.72,37.8,38.67,201.3,72.32,28.03,44.1,24.64,37.75,69.07,49.58,681.06,50.56,4.62,69.69,48.07,56.8,279.2,45.65,761.58,43.95,60.4,35.06,28.2,47.26,183.8,86.72,5.1,47.91,69.65,5.7,69.44,69.13,6.0,39.79,46.93,52.0,6.11,202.56,394.98,49.63,47.63,741.5,7.64,48.6,65.72,64.82,43.08,61.4,45.96,158.03,5.68,849.4,46.12,69.46,18.5,46.25,6.75,45.74,66.08,72.0,25.63,38.48,64.2,45.38,49.45,9.1,48.51,43.39,5.65,32.84,4.77,49.77,733.0,6.76,46.32,55.09,411.63,44.36,6.52,57.66,624.48,28.01,1026.61,8.22,1060.64,69.53,5.7,44.0,1081.15,84.9,42.11,63.92,11.28,44.0,71.11,62.96,27.78,44.39,5.9,70.27,51.01,69.5,6.38,69.88,10.18,35.97,629.89,1030.0,51.86,31.42,57.87,787.2,70.18,85.58,50.59,49.9,5.74,68.5,53.26,1146.65,7.0,68.37,18.73,77.34,39.85,51.72,48.26,69.2,579.71,795.53,6.0,39.72,68.1,42.44,59.8,6.59,34.25,35.45,685.7,23.65,59.7,82.06,45.92,5.49,41.23,1073.44,5.53,5.61,32.62,64.34,49.39,6.99,73.04,37.23,163.03,27.29,416.0,63.48,35.28,32.55,49.06,46.01,809.23,37.99,40.96,198.38,5.95,38.88,41.69,406.9,20.49,5.75,63.79,5.98,60.16,45.44,6.26,38.64,41.28,6.79,54.05,902.25,112.85,5.9,47.7,402.81,62.75,11.2,678.94,51.11,5.46,43.13,67.03,72.75,5.57,700.39,46.36,56.6,6.62,41.59,37.8,51.08,29.96,109.48,287.0,40.32,40.07,38.48,69.03,6.2,58.9,6.13,67.7,422.7,121.08,44.76,49.97,38.85,216.6,60.99,66.51,64.59,37.17,5.58,43.47,8.41,497.99,49.64,46.82,6.41,39.75,48.18,49.82,20.41,40.74,438.44,7.86,42.9,49.2,41.02,834.13,23.7,171.04,66.35,40.37,57.46,5.86,55.55,46.95,49.53,61.47,1053.67,36.9,59.67,47.63,45.14,42.28,56.29],\"y\":[[486.64000000000124,29.529999999999777,48.24999999999984,1037.8600000000029,64.32999999999987,49.84999999999984,50.999999999999844,42.309999999999825,47.51999999999985,876.4200000000027,49.389999999999844,739.3800000000018,5.679999999999703,6.369999999999712,6.73999999999971,64.24999999999989,24.01999999999976,618.7100000000017,112.11000000000007,37.0299999999998,51.98999999999985,41.45999999999983,61.66999999999989,6.389999999999706,678.9000000000019,1054.730000000003,46.099999999999824,5.319999999999711,804.5800000000023,6.759999999999712,45.349999999999824,66.6099999999999,85.51000000000002,61.749999999999886,71.67999999999991,45.919999999999824,128.16000000000008,8.09999999999971,59.77999999999988,6.48999999999971,71.45999999999991,442.3000000000011,6.489999999999715,50.58999999999985,71.06999999999991,61.76999999999989,13.879999999999757,6.829999999999715,56.94999999999987,86.07999999999997,30.27999999999978,7.119999999999714,6.769999999999714,71.89999999999992,53.22999999999986,41.18999999999982,5.579999999999708,55.08999999999987,4.919999999999716,52.27999999999985,6.879999999999712,930.0000000000025,61.39999999999988,116.20000000000003,421.20000000000095,49.779999999999845,43.669999999999824,62.32999999999987,39.73999999999983,141.98000000000016,64.45999999999988,55.48999999999986,75.18999999999991,407.000000000001,42.44999999999984,42.39999999999982,61.209999999999866,330.14000000000067,7.199999999999714,71.5899999999999,176.59000000000023,675.5000000000019,53.43999999999984,39.21999999999981,53.82999999999985,4.609999999999711,49.66999999999984,43.07999999999983,40.88999999999982,64.72999999999989,57.889999999999866,45.799999999999834,6.449999999999709,53.789999999999864,5.06999999999972,40.84999999999982,693.7300000000018,52.13999999999985,7.689999999999707,755.980000000002,6.159999999999712,899.9400000000026,43.909999999999826,62.49999999999987,42.989999999999824,891.1400000000026,52.399999999999835,649.2600000000017,5.739999999999716,78.62999999999992,25.219999999999775,65.43999999999988,846.3500000000023,37.7099999999998,61.689999999999884,45.73999999999983,102.1,149.04000000000016,6.719999999999713,35.74999999999979,60.629999999999875,50.919999999999845,39.05999999999981,644.2200000000017,45.20999999999983,49.509999999999835,5.389999999999723,52.27999999999984,62.919999999999895,870.4300000000023,713.7600000000018,34.5899999999998,41.49999999999982,40.999999999999815,35.35999999999979,40.18999999999981,45.43999999999982,958.5100000000026,5.8899999999997155,6.739999999999715,568.8200000000015,6.179999999999715,44.009999999999835,73.31999999999991,55.47999999999986,38.10999999999981,68.2099999999999,59.69999999999987,461.3000000000011,6.05999999999971,7.039999999999713,66.9599999999999,183.48000000000022,46.05999999999984,59.669999999999874,6.179999999999712,49.17999999999983,45.419999999999824,71.11999999999992,54.64999999999984,41.65999999999981,68.0699999999999,38.59999999999981,905.3900000000025,704.7400000000019,5.47999999999971,63.50999999999988,44.96999999999982,6.229999999999715,40.719999999999814,8.369999999999713,805.7200000000022,860.0000000000025,43.88999999999984,70.42999999999991,41.739999999999824,38.70999999999981,64.53999999999989,60.99999999999987,38.9499999999998,69.6799999999999,6.419999999999711,56.23999999999987,5.899999999999717,70.68999999999993,69.7699999999999,6.6599999999997115,1096.3800000000033,74.77999999999992,71.37999999999991,37.59999999999981,41.359999999999815,49.689999999999856,42.75999999999982,39.27999999999981,37.74999999999981,577.8700000000016,448.88000000000113,4.769999999999701,691.0500000000018,38.779999999999816,51.72999999999984,56.18999999999987,60.749999999999865,49.999999999999844,50.13999999999985,71.92999999999992,42.57999999999982,318.4700000000007,73.34999999999991,555.3800000000014,53.129999999999846,43.81999999999982,44.70999999999982,61.74999999999988,44.68999999999983,36.2899999999998,7.0199999999997145,37.879999999999804,7.399999999999711,49.54999999999984,6.219999999999717,4.939999999999712,4.959999999999701,420.6300000000009,52.39999999999984,29.48999999999978,63.30999999999988,5.509999999999712,35.5499999999998,27.08999999999978,40.51999999999982,34.9199999999998,375.71000000000083,58.779999999999866,6.739999999999716,297.40000000000055,57.69999999999988,47.659999999999826,41.039999999999814,46.189999999999834,6.999999999999712,53.55999999999986,76.68999999999993,6.039999999999722,72.70999999999991,49.48999999999984,44.679999999999836,62.75999999999987,67.0099999999999,40.819999999999816,50.58999999999985,52.55999999999986,299.4100000000009,54.02999999999986,59.56999999999988,29.909999999999776,40.0499999999998,46.67999999999983,46.509999999999835,37.3599999999998,47.77999999999982,50.59999999999985,60.59999999999987,774.390000000002,60.30999999999988,438.09000000000106,57.78999999999987,46.45999999999983,742.0200000000018,177.13000000000025,162.7300000000002,63.78999999999988,109.77000000000002,6.9499999999997195,791.9400000000022,936.7200000000025,923.3900000000024,6.64999999999972,63.979999999999876,45.49999999999983,27.789999999999786,4.579999999999704,39.699999999999825,67.0699999999999,52.40999999999984,33.9299999999998,50.769999999999875,43.52999999999983,46.32999999999984,1051.750000000003,71.62999999999991,65.6399999999999,42.669999999999824,50.89999999999985,43.58999999999984,55.94999999999986,622.7700000000016,63.45999999999988,663.6900000000019,5.629999999999711,5.7099999999997015,6.669999999999719,775.4800000000021,38.0099999999998,563.4600000000015,146.94000000000023,5.649999999999709,61.49999999999988,640.3900000000017,40.469999999999814,50.889999999999844,40.19999999999982,413.98000000000104,818.3200000000022,995.6500000000028,6.519999999999714,47.62999999999983,902.9400000000026,59.48999999999987,41.81999999999982,68.54999999999991,62.94999999999989,49.41999999999985,37.7299999999998,932.5700000000027,40.54999999999981,60.99999999999987,423.430000000001,40.1399999999998,43.999999999999815,40.879999999999825,6.709999999999706,65.55999999999989,24.41999999999977,44.739999999999824,656.9500000000018,6.759999999999716,73.03999999999992,5.909999999999705,5.579999999999697,7.409999999999705,45.86999999999983,40.45999999999982,5.549999999999713,28.139999999999784,104.80000000000004,69.17999999999991,46.58999999999983,668.5400000000018,734.0900000000019,51.089999999999854,46.38999999999982,62.35999999999988,439.6700000000011,52.37999999999985,6.2799999999997125,604.4800000000017,653.1600000000018,6.259999999999706,41.54999999999982,6.319999999999713,38.719999999999814,68.5699999999999,5.58999999999971,51.85999999999985,45.40999999999982,297.50000000000057,66.8899999999999,42.19999999999983,943.9000000000026,4.929999999999703,8.65999999999971,62.06999999999987,61.509999999999884,39.54999999999981,811.6600000000022,54.96999999999986,49.619999999999834,1067.9500000000032,24.319999999999762,688.9900000000018,7.499999999999711,59.349999999999866,1229.9100000000037,781.300000000002,16.969999999999747,6.319999999999712,424.23000000000104,881.5100000000025,109.44000000000001,69.9899999999999,42.88999999999982,1086.1900000000032,41.23999999999983,24.31999999999979,661.7500000000018,45.11999999999982,6.7499999999997105,367.1300000000008,6.899999999999711,51.039999999999836,62.07999999999988,37.9699999999998,48.00999999999983,63.00999999999989,53.02999999999986,41.379999999999825,47.43999999999983,47.69999999999984,38.4599999999998,1067.000000000003,40.44999999999982,196.43000000000032,4.589999999999714,187.0600000000003,33.7599999999998,49.62999999999984,161.88000000000022,41.249999999999815,67.17999999999991,45.15999999999982,7.849999999999711,65.03999999999989,69.4999999999999,1004.2900000000027,41.969999999999814,47.66999999999983,63.179999999999886,41.579999999999814,6.799999999999708,5.57999999999971,6.779999999999714,39.309999999999825,65.5399999999999,5.479999999999707,50.639999999999844,5.949999999999709,290.54000000000065,43.29999999999982,197.20000000000027,41.789999999999814,40.26999999999983,26.84999999999979,19.419999999999753,42.229999999999826,52.75999999999984,975.9300000000026,751.940000000002,6.409999999999713,39.389999999999816,60.799999999999876,1091.2600000000034,55.35999999999987,50.129999999999846,44.64999999999982,61.73999999999988,44.92999999999982,7.369999999999715,5.899999999999715,44.729999999999826,154.88000000000017,70.19999999999992,60.93999999999987,46.309999999999846,302.6100000000008,41.68999999999982,999.1100000000029,20.299999999999756,33.9199999999998,48.81999999999984,643.3800000000017,37.66999999999981,61.57999999999987,45.93999999999982,38.88999999999981,48.94999999999984,993.9800000000027,69.2299999999999,46.00999999999982,673.5800000000019,191.95000000000027,5.95999999999972,7.21999999999971,4.4599999999997095,161.1600000000002,40.92999999999982,714.6300000000019,44.589999999999826,872.7900000000024,57.06999999999988,111.60000000000002,56.889999999999866,38.119999999999806,48.94999999999983,5.609999999999717,67.9099999999999,43.41999999999983,6.66999999999972,816.1200000000022,75.35999999999991,40.359999999999815,57.519999999999875,39.14999999999981,48.44999999999984,826.1600000000022,7.189999999999714,66.45999999999988,43.71999999999983,656.5700000000018,5.589999999999707,5.5599999999997065,53.07999999999984,41.68999999999982,1063.5100000000032,44.38999999999983,43.38999999999983,32.42999999999979,41.019999999999825,41.68999999999982,28.42999999999978,44.71999999999982,6.009999999999703,51.43999999999985,47.029999999999845,5.8299999999997025,425.7900000000011,759.4900000000019,61.129999999999875,41.95999999999982,59.62999999999987,707.8200000000019,6.779999999999715,75.95999999999991,48.869999999999834,36.5599999999998,67.9699999999999,57.929999999999886,56.74999999999987,39.319999999999816,4.7999999999997085,35.06999999999979,644.6500000000017,40.89999999999982,6.899999999999712,69.2799999999999,66.7299999999999,50.239999999999846,45.85999999999982,64.01999999999988,931.2500000000025,36.55999999999982,871.6000000000023,52.649999999999835,40.79999999999982,297.00000000000057,51.25999999999985,415.09000000000094,35.7999999999998,49.59999999999986,41.879999999999825,1099.5700000000031,50.749999999999844,6.429999999999719,31.029999999999806,58.829999999999885,71.13999999999992,40.14999999999983,62.25999999999988,6.249999999999708,47.06999999999982,95.62999999999998,51.57999999999985,42.04999999999982,67.0099999999999,149.10000000000022,43.71999999999982,54.449999999999854,5.869999999999702,421.260000000001,45.699999999999825,921.1600000000026,434.000000000001,6.359999999999713,39.32999999999982,152.24000000000018,55.579999999999856,44.36999999999983,7.4699999999997155,56.989999999999895,44.96999999999983,7.689999999999709,38.15999999999981,8.219999999999725,65.97999999999989,32.98999999999979,49.42999999999984,6.519999999999708,780.5900000000021,43.18999999999983,69.48999999999991,996.2700000000028,45.93999999999983,44.91999999999983,5.5099999999997085,48.49999999999984,27.599999999999778,76.51999999999991,25.389999999999766,68.9999999999999,43.84999999999983,69.4499999999999,42.11999999999982,44.08999999999983,44.44999999999983,273.18000000000063,66.5999999999999,39.88999999999981,4.819999999999716,39.1399999999998,52.379999999999846,41.75999999999981,563.0000000000016,50.47999999999984,447.75000000000114,41.43999999999983,63.779999999999895,163.7700000000002,65.1699999999999,5.899999999999715,1077.600000000003,50.47999999999984,38.30999999999981,7.549999999999713,5.6799999999997155,35.7399999999998,7.189999999999707,54.99999999999987,43.35999999999983,24.48999999999977,67.9199999999999,52.059999999999846,85.04999999999995,45.24999999999982,50.50999999999985,39.819999999999816,52.64999999999986,4.559999999999735,52.02999999999985,8.269999999999715,60.87999999999987,51.49999999999985,54.92999999999987,6.52999999999971,865.8000000000022,55.479999999999855,28.93999999999979,55.83999999999989,65.22999999999989,40.01999999999982,42.589999999999826,449.3900000000011,662.1600000000018,61.21999999999987,5.739999999999711,627.0700000000018,57.099999999999866,6.079999999999708,83.83999999999996,70.51999999999991,40.9899999999998,6.1999999999997115,51.53999999999985,93.80999999999997,50.00999999999985,1095.0000000000032,43.629999999999825,60.59999999999988,6.839999999999718,19.549999999999752,51.85999999999985,54.799999999999855,50.07999999999984,1114.0000000000032,68.6899999999999,50.33999999999985,44.99999999999982,20.129999999999754,6.61999999999971,36.7499999999998,64.37999999999988,70.56999999999991,42.01999999999982,52.40999999999983,7.589999999999714,63.10999999999988,6.519999999999716,54.66999999999987,49.999999999999844,61.629999999999875,46.79999999999983,60.18999999999988,67.7499999999999,64.6899999999999,300.17000000000064,40.61999999999983,58.29999999999987,72.23999999999995,41.45999999999982,46.79999999999982,6.91999999999971,1013.9200000000027,46.67999999999982,65.64999999999989,39.55999999999983,44.95999999999983,51.95999999999984,6.539999999999718,36.6799999999998,53.50999999999987,47.10999999999983,6.759999999999716,5.95999999999971,107.85000000000004,43.669999999999824,6.129999999999709,1093.9900000000032,51.069999999999844,38.62999999999981,56.059999999999874,43.42999999999982,42.93999999999983,59.03999999999987,40.889999999999816,633.2500000000017,17.559999999999754,36.7899999999998,49.369999999999834,69.84999999999991,42.18999999999982,40.74999999999981,5.979999999999709,46.07999999999982,28.39999999999978,5.469999999999714,49.68999999999983,66.8799999999999,654.8700000000017,55.939999999999856,49.76999999999984,107.58000000000001,567.6000000000015,1222.0900000000036,698.840000000002,39.31999999999981,48.50999999999984,7.819999999999708,6.619999999999708,51.35999999999984,42.85999999999982,67.7099999999999,51.00999999999985,5.749999999999708,41.84999999999983,50.74999999999984,58.249999999999865,198.1800000000003,5.819999999999712,816.0400000000021,47.89999999999983,1162.9400000000037,50.10999999999985,711.9200000000018,5.779999999999712,854.4100000000022,739.7800000000019,274.3200000000005,5.669999999999712,67.4699999999999,46.229999999999826,670.0000000000019,372.7200000000008,30.599999999999785,442.6800000000011,47.61999999999983,133.6000000000001,447.37000000000114,6.179999999999708,62.979999999999876,54.45999999999986,48.69999999999985,46.54999999999983,47.46999999999983,198.36000000000033,41.15999999999982,40.059999999999825,6.729999999999708,377.42000000000087,6.489999999999717,153.46000000000018,5.629999999999709,34.30999999999981,36.56999999999981,27.739999999999778,48.33999999999984,39.27999999999981,46.879999999999846,68.60999999999991,49.24999999999984,49.889999999999844,56.83999999999987,69.62999999999991,45.28999999999982,5.559999999999709,46.769999999999854,44.18999999999982,1088.4700000000032,55.83999999999986,645.9800000000017,41.77999999999982,62.70999999999989,61.81999999999989,6.639999999999714,37.909999999999805,796.2200000000022,50.309999999999846,67.08999999999992,649.8800000000017,1156.8700000000033,63.239999999999895,5.49999999999971,56.669999999999874,68.67999999999991,64.56999999999988,149.27000000000015,48.59999999999984,5.809999999999711,45.61999999999982,6.249999999999713,5.709999999999706,69.86999999999992,40.70999999999981,663.5400000000018,20.009999999999756,5.479999999999707,65.81999999999988,43.37999999999984,650.6000000000017,5.749999999999706,71.93999999999991,10.819999999999734,621.4400000000018,27.559999999999782,45.39999999999982,5.919999999999711,676.8800000000018,41.05999999999983,34.1899999999998,5.579999999999712,6.62999999999971,11.099999999999746,65.3299999999999,6.199999999999703,65.1699999999999,58.95999999999987,781.310000000002,31.989999999999796,42.73999999999983,66.6099999999999,43.949999999999825,62.369999999999884,43.129999999999825,46.46999999999983,33.999999999999794,701.8100000000019,68.8899999999999,163.8800000000002,42.03999999999982,42.269999999999825,1008.8700000000027,33.319999999999794,42.77999999999982,66.25999999999989,55.76999999999987,37.71999999999979,32.69999999999979,10.90999999999973,694.7800000000019,28.939999999999785,699.600000000002,39.98999999999982,45.04999999999982,498.3200000000012,6.6199999999997114,845.0000000000023,73.29999999999991,574.0000000000015,43.57999999999983,1058.1200000000028,5.599999999999708,65.21999999999989,65.04999999999988,43.91999999999984,50.099999999999845,44.479999999999826,50.15999999999984,47.55999999999983,48.55999999999985,33.31999999999979,63.55999999999988,43.91999999999983,63.84999999999989,39.27999999999982,50.79999999999985,50.69999999999985,5.0999999999997145,1145.4500000000035,59.43999999999988,937.4100000000027,838.2900000000022,48.23999999999984,986.9500000000028,283.7100000000005,5.16999999999971,65.77999999999989,62.60999999999987,29.599999999999792,297.00000000000057,43.649999999999835,58.049999999999876,67.9199999999999,36.9999999999998,39.32999999999981,29.479999999999784,29.39999999999978,46.53999999999983,722.2500000000018,44.60999999999982,63.20999999999989,4.3899999999997155,72.60999999999993,278.8600000000006,31.419999999999792,6.329999999999707,6.68999999999971,28.979999999999777,51.57999999999985,44.60999999999982,36.99999999999981,62.10999999999988,694.4000000000019,45.11999999999982,41.629999999999825,5.7899999999997105,1064.7000000000032,1109.0300000000032,6.489999999999708,324.2000000000007,30.259999999999785,410.83000000000095,24.049999999999784,7.649999999999714,46.99999999999983,40.139999999999816,68.2199999999999,7.319999999999717,45.99999999999982,40.73999999999982,48.359999999999836,47.54999999999983,6.389999999999712,47.619999999999834,43.859999999999815,5.539999999999706,48.95999999999984,71.56999999999991,7.5699999999997045,48.009999999999835,66.96999999999989,53.67999999999985,7.449999999999715,40.25999999999981,7.649999999999717,5.849999999999714,69.98999999999991,140.7000000000001,49.049999999999834,729.7700000000018,159.98000000000022,18.969999999999747,6.35999999999971,38.0299999999998,70.50999999999992,72.5799999999999,829.1000000000026,47.379999999999846,39.55999999999982,7.399999999999717,46.289999999999836,59.799999999999876,1116.0000000000034,41.54999999999982,50.00999999999985,34.6999999999998,65.79999999999988,55.659999999999854,5.169999999999715,30.489999999999778,58.33999999999987,49.46999999999985,48.29999999999984,5.569999999999711,849.9900000000023,19.469999999999754,60.04999999999986,52.499999999999844,671.8700000000018,63.33999999999989,160.67000000000016,6.989999999999713,50.779999999999845,36.7899999999998,29.08999999999978,37.7299999999998,47.97999999999984,34.87999999999982,163.1100000000002,66.94999999999992,1022.3700000000027,1005.0500000000027,32.8299999999998,5.699999999999711,43.93999999999983,42.069999999999816,55.24999999999985,6.0099999999997165,54.639999999999866,589.7400000000015,40.809999999999825,45.99999999999983,673.4700000000018,53.339999999999854,46.38999999999983,39.61999999999982,43.039999999999814,44.99999999999982,41.489999999999824,49.69999999999985,53.22999999999985,25.979999999999777,102.87000000000003,7.329999999999701,625.2200000000016,6.969999999999714,839.2900000000024,48.94999999999984,6.209999999999718,686.4400000000019,68.85999999999991,165.5200000000002,49.979999999999855,43.02999999999982,46.979999999999826,63.76999999999988,599.0400000000014,44.13999999999983,5.969999999999713,37.73999999999982,41.199999999999825,475.0500000000012,36.8999999999998,43.91999999999984,35.7099999999998,241.7300000000004,50.959999999999845,74.27999999999992,32.24999999999981,21.84999999999976,679.820000000002,65.6799999999999,45.54999999999984,6.5899999999997165,67.23999999999988,55.31999999999988,6.949999999999722,45.27999999999983,48.16999999999984,35.6799999999998,39.29999999999982,38.7499999999998,735.1100000000018,5.7899999999997105,54.69999999999988,39.969999999999814,42.019999999999825,46.21999999999983,25.449999999999765,66.41999999999989,109.09000000000003,42.97999999999982,7.5399999999997105,67.0199999999999,42.30999999999984,35.9399999999998,52.90999999999985,51.99999999999985,48.81999999999983,45.11999999999982,5.349999999999709,18.549999999999763,811.0800000000022,39.51999999999981,51.39999999999984,5.509999999999709,402.84000000000094,65.62999999999988,73.95999999999991,6.44999999999972,9.119999999999726,44.199999999999825,200.7900000000003,28.649999999999775,68.1899999999999,66.2599999999999,49.74999999999984,39.20999999999981,68.9099999999999,66.80999999999989,44.10999999999983,46.95999999999983,52.38999999999989,153.64000000000016,62.01999999999988,7.569999999999713,5.779999999999707,30.69999999999979,43.98999999999983,6.579999999999709,64.95999999999988,53.35999999999985,148.72000000000017,72.46999999999991,53.349999999999866,52.75999999999984,141.1300000000001,40.079999999999814,41.49999999999983,63.539999999999885,45.01999999999981,5.529999999999712,33.3899999999998,744.4900000000019,49.78999999999985,46.089999999999826,5.479999999999712,27.469999999999786,40.209999999999816,60.769999999999875,6.249999999999717,44.05999999999983,62.659999999999876,33.349999999999795,45.13999999999982,43.129999999999825,47.939999999999834,4.749999999999715,60.06999999999986,166.76000000000022,43.31999999999983,686.1700000000018,50.709999999999845,425.300000000001,61.60999999999987,113.91000000000004,43.41999999999984,27.929999999999772,62.57999999999988,56.11999999999986,7.1999999999997115,63.02999999999988,680.7600000000018,1093.9400000000032,1033.420000000003,198.86000000000033,572.8400000000015,63.07999999999989,1010.6400000000027,42.79999999999981,5.1599999999997115,6.259999999999715,20.929999999999783,5.3999999999997135,180.20000000000024,32.36999999999978,5.99999999999972,67.7699999999999,42.98999999999983,46.60999999999983,41.03999999999983,46.14999999999985,73.13999999999993,408.5000000000009,708.4900000000018,41.48999999999982,4.849999999999714,48.939999999999834,49.829999999999835,44.32999999999984,68.39999999999992,58.029999999999866,35.7899999999998,62.99999999999988,60.549999999999876,4.87999999999971,449.7600000000011,580.8800000000015,60.01999999999988,164.0500000000002,849.4400000000023,45.75999999999982,61.03999999999987,46.84999999999983,44.97999999999981,738.8500000000018,39.0599999999998,35.0399999999998,24.80999999999976,39.81999999999981,4.589999999999699,863.4200000000022,37.3099999999998,5.239999999999712,27.10999999999977,10.199999999999728,52.14999999999985,71.09999999999991,446.650000000001,791.3600000000021,69.4699999999999,48.28999999999984,28.709999999999784,50.279999999999845,1031.5600000000031,144.91000000000014,58.959999999999866,74.44999999999992,41.52999999999983,68.2699999999999,61.099999999999895,6.449999999999711,421.94000000000096,48.97999999999984,668.0600000000019,1070.340000000003,36.37999999999981,617.2000000000016,17.519999999999744,44.519999999999854,5.619999999999715,156.52000000000018,63.06999999999987,31.839999999999797,47.14999999999983,985.0000000000027,7.049999999999714,43.88999999999983,39.61999999999981,48.539999999999836,67.8099999999999,7.899999999999714,53.75999999999985,46.46999999999983,40.569999999999816,80.80999999999995,140.26000000000016,39.30999999999981,24.549999999999766,45.26999999999983,858.9700000000023,57.98999999999987,46.32999999999982,71.10999999999991,5.679999999999707,41.739999999999824,37.0499999999998,371.3400000000008,7.219999999999713,36.46999999999981,154.2600000000002,69.52999999999992,51.13999999999985,611.2900000000014,729.4000000000018,49.10999999999984,8.749999999999721,5.7899999999997105,68.99999999999991,33.26999999999979,38.54999999999981,45.849999999999824,69.49999999999989,6.3499999999997145,49.809999999999846,7.819999999999714,68.2099999999999,1084.600000000003,6.789999999999711,51.63999999999985,52.95999999999986,6.879999999999713,907.3400000000026,52.44999999999986,707.940000000002,69.91999999999992,45.949999999999825,42.79999999999982,73.0299999999999,53.53999999999985,45.79999999999982,6.759999999999713,4.719999999999707,39.21999999999981,42.339999999999826,5.649999999999709,366.28000000000077,69.60999999999991,192.17000000000027,38.369999999999806,44.639999999999844,7.5999999999997145,37.9399999999998,53.27999999999986,76.29999999999991,44.64999999999982,4.729999999999707,50.079999999999835,7.579999999999713,67.0999999999999,42.339999999999826,328.6000000000007,55.20999999999986,43.08999999999982,59.40999999999986,5.629999999999714,6.319999999999713,6.989999999999716,39.98999999999981,6.599999999999711,61.21999999999987,417.1300000000009,843.0300000000022,70.8599999999999,49.01999999999984,918.4000000000026,635.6200000000016,733.5700000000019,53.54999999999985,201.87000000000032,303.3600000000007,1014.9700000000031,51.90999999999985,5.469999999999701,46.08999999999983,430.83000000000106,59.07999999999988,98.42999999999999,47.69999999999983,6.489999999999715,597.9500000000016,58.99999999999987,430.630000000001,58.38999999999987,48.54999999999985,45.77999999999983,922.0000000000024,752.9200000000019,70.4899999999999,499.27000000000123,966.4100000000026,40.75999999999981,71.47999999999992,43.99999999999982,705.6700000000019,55.71999999999986,30.21999999999978,683.8000000000018,7.629999999999709,53.839999999999854,48.28999999999984,442.150000000001,59.859999999999886,44.50999999999982,46.86999999999983,1028.150000000003,6.629999999999716,6.389999999999714,736.2700000000019,6.869999999999708,43.919999999999824,49.22999999999985,883.0900000000024,49.40999999999985,5.699999999999709,63.39999999999988,68.8999999999999,62.809999999999874,66.96999999999991,156.01000000000016,711.2000000000019,5.709999999999709,649.8600000000017,682.220000000002,171.68000000000023,880.8000000000023,709.7400000000019,17.98999999999975,70.54999999999991,380.3600000000009,16.64999999999977,7.609999999999717,65.77999999999989,52.18999999999984,6.449999999999717,309.2000000000006,72.7599999999999,6.83999999999971,411.760000000001,49.11999999999984,756.9900000000019,51.11999999999984,39.09999999999981,47.78999999999984,160.0100000000002,43.91999999999984,50.86999999999985,47.359999999999836,40.579999999999814,10.659999999999732,6.649999999999712,63.699999999999896,70.0999999999999,36.9299999999998,51.949999999999854,44.899999999999814,70.96999999999991,72.5499999999999,41.37999999999982,30.209999999999788,88.59999999999997,75.01999999999991,60.22999999999987,58.81999999999987,5.599999999999709,96.26999999999998,300.13000000000056,68.1999999999999,45.42999999999983,40.12999999999982,44.659999999999826,38.66999999999981,24.16999999999978,50.44999999999986,850.4500000000023,23.04999999999976,45.169999999999824,66.30999999999989,68.9899999999999,49.039999999999836,738.200000000002,39.619999999999806,45.36999999999982,85.53,38.05999999999981,36.679999999999794,51.59999999999985,60.209999999999866,50.389999999999844,6.8399999999997165,50.30999999999985,67.5799999999999,41.919999999999824,49.739999999999846,57.09999999999987,5.359999999999705,46.619999999999834,1025.490000000003,755.830000000002,49.33999999999985,49.69999999999984,32.8399999999998,60.19999999999987,22.069999999999766,4.949999999999711,135.80000000000015,37.48999999999982,41.45999999999984,38.38999999999981,35.5799999999998,66.6299999999999,5.519999999999707,975.9900000000026,17.449999999999743,45.89999999999982,6.42999999999971,630.8500000000016,5.609999999999713,45.889999999999844,43.38999999999983,441.7600000000011,62.16999999999988,129.07000000000008,6.36999999999972,44.68999999999982,854.6900000000023,46.89999999999983,44.309999999999825,90.88999999999999,27.86999999999978,680.2600000000018,6.969999999999711,5.589999999999703,64.01999999999988,310.9500000000006,909.2500000000025,8.869999999999717,37.4799999999998,39.92999999999981,215.96000000000038,71.0799999999999,28.09999999999978,43.68999999999982,24.449999999999765,37.6399999999998,69.4199999999999,51.38999999999986,670.9400000000019,57.389999999999894,4.7699999999997065,68.7499999999999,47.72999999999983,57.20999999999988,308.93000000000075,45.409999999999826,753.8700000000019,44.449999999999825,60.739999999999874,35.0499999999998,28.939999999999785,47.899999999999835,189.98000000000025,86.85999999999997,5.2799999999997125,48.00999999999983,67.5299999999999,5.8699999999997114,65.4199999999999,68.90999999999988,6.14999999999971,39.319999999999816,47.05999999999983,53.259999999999856,6.209999999999704,200.18000000000032,404.670000000001,48.14999999999984,47.72999999999983,719.690000000002,7.829999999999711,48.51999999999984,68.36999999999989,65.42999999999991,43.49999999999983,60.559999999999874,47.539999999999836,160.10000000000016,5.679999999999708,811.1900000000023,46.34999999999983,69.1299999999999,18.299999999999752,46.06999999999982,6.879999999999709,44.94999999999984,65.89999999999989,71.6999999999999,25.87999999999977,38.38999999999981,63.449999999999896,44.13999999999983,48.62999999999983,9.089999999999716,50.21999999999984,43.53999999999983,5.849999999999712,33.20999999999979,4.619999999999704,49.22999999999983,735.7200000000018,6.679999999999708,46.049999999999834,55.479999999999855,420.280000000001,44.21999999999982,6.429999999999713,57.179999999999865,620.8300000000016,28.439999999999785,1030.510000000003,8.39999999999972,1003.8000000000028,71.53999999999992,5.629999999999712,43.79999999999981,1084.590000000003,86.04999999999995,42.04999999999982,63.43999999999988,11.899999999999723,45.33999999999983,70.35999999999991,63.48999999999989,27.519999999999776,42.209999999999845,6.129999999999715,72.73999999999991,50.709999999999845,70.85999999999991,6.26999999999972,70.30999999999992,10.089999999999725,36.4499999999998,646.2200000000017,977.2000000000028,50.98999999999985,29.599999999999792,61.13999999999988,777.560000000002,71.14999999999992,86.18999999999996,49.239999999999846,49.559999999999846,5.899999999999712,68.3099999999999,51.999999999999844,1088.1200000000033,6.929999999999705,70.0999999999999,19.06999999999976,75.49999999999993,40.48999999999982,50.599999999999866,48.90999999999984,69.56999999999991,599.0500000000014,824.4000000000023,6.339999999999718,40.01999999999982,68.2799999999999,42.559999999999825,58.239999999999874,6.849999999999712,35.339999999999804,36.2999999999998,701.980000000002,23.55999999999977,59.93999999999987,81.11999999999995,45.65999999999982,5.519999999999704,43.299999999999834,1056.7800000000032,5.609999999999701,5.579999999999707,32.13999999999979,66.9899999999999,48.96999999999984,7.029999999999716,72.4699999999999,38.62999999999981,161.6000000000002,27.929999999999776,419.07000000000096,63.94999999999989,36.199999999999804,32.8899999999998,49.53999999999983,46.48999999999983,809.8700000000022,38.23999999999982,41.279999999999816,205.0100000000003,5.859999999999712,38.17999999999981,41.53999999999982,388.040000000001,20.989999999999768,5.859999999999708,65.1799999999999,5.819999999999714,60.38999999999987,45.489999999999824,6.159999999999711,39.62999999999982,41.289999999999814,6.719999999999716,52.94999999999987,870.7600000000026,114.44000000000004,5.709999999999713,47.99999999999985,418.3200000000011,61.82999999999987,10.799999999999732,673.6000000000018,50.99999999999984,5.669999999999715,41.469999999999835,66.7399999999999,73.99999999999991,5.54999999999971,800.7700000000023,46.04999999999983,55.69999999999986,6.719999999999711,41.059999999999825,38.10999999999981,51.19999999999984,30.019999999999783,105.63000000000002,307.92000000000075,40.33999999999982,40.97999999999981,37.60999999999979,69.1599999999999,6.309999999999709,58.939999999999856,5.969999999999709,69.4599999999999,422.640000000001,121.6000000000001,44.69999999999983,49.539999999999836,37.26999999999982,223.9300000000004,61.77999999999988,67.4599999999999,64.26999999999988,38.2299999999998,5.659999999999707,43.54999999999983,8.719999999999722,489.61000000000115,49.79999999999984,46.08999999999983,6.3599999999997125,39.73999999999982,48.38999999999984,49.39999999999984,20.939999999999753,38.72999999999982,425.920000000001,7.709999999999717,44.20999999999983,49.319999999999844,40.699999999999825,821.5300000000022,23.939999999999763,156.38000000000025,62.1699999999999,41.30999999999982,58.359999999999864,5.7099999999997175,55.80999999999986,46.09999999999983,50.04999999999983,60.83999999999987,1064.400000000003,36.21999999999981,59.93999999999988,48.229999999999826,46.11999999999983,43.04999999999982,58.10999999999987]],\"type\":\"scatter\"}],                        {\"template\":{\"data\":{\"barpolar\":[{\"marker\":{\"line\":{\"color\":\"#E5ECF6\",\"width\":0.5},\"pattern\":{\"fillmode\":\"overlay\",\"size\":10,\"solidity\":0.2}},\"type\":\"barpolar\"}],\"bar\":[{\"error_x\":{\"color\":\"#2a3f5f\"},\"error_y\":{\"color\":\"#2a3f5f\"},\"marker\":{\"line\":{\"color\":\"#E5ECF6\",\"width\":0.5},\"pattern\":{\"fillmode\":\"overlay\",\"size\":10,\"solidity\":0.2}},\"type\":\"bar\"}],\"carpet\":[{\"aaxis\":{\"endlinecolor\":\"#2a3f5f\",\"gridcolor\":\"white\",\"linecolor\":\"white\",\"minorgridcolor\":\"white\",\"startlinecolor\":\"#2a3f5f\"},\"baxis\":{\"endlinecolor\":\"#2a3f5f\",\"gridcolor\":\"white\",\"linecolor\":\"white\",\"minorgridcolor\":\"white\",\"startlinecolor\":\"#2a3f5f\"},\"type\":\"carpet\"}],\"choropleth\":[{\"colorbar\":{\"outlinewidth\":0,\"ticks\":\"\"},\"type\":\"choropleth\"}],\"contourcarpet\":[{\"colorbar\":{\"outlinewidth\":0,\"ticks\":\"\"},\"type\":\"contourcarpet\"}],\"contour\":[{\"colorbar\":{\"outlinewidth\":0,\"ticks\":\"\"},\"colorscale\":[[0.0,\"#0d0887\"],[0.1111111111111111,\"#46039f\"],[0.2222222222222222,\"#7201a8\"],[0.3333333333333333,\"#9c179e\"],[0.4444444444444444,\"#bd3786\"],[0.5555555555555556,\"#d8576b\"],[0.6666666666666666,\"#ed7953\"],[0.7777777777777778,\"#fb9f3a\"],[0.8888888888888888,\"#fdca26\"],[1.0,\"#f0f921\"]],\"type\":\"contour\"}],\"heatmapgl\":[{\"colorbar\":{\"outlinewidth\":0,\"ticks\":\"\"},\"colorscale\":[[0.0,\"#0d0887\"],[0.1111111111111111,\"#46039f\"],[0.2222222222222222,\"#7201a8\"],[0.3333333333333333,\"#9c179e\"],[0.4444444444444444,\"#bd3786\"],[0.5555555555555556,\"#d8576b\"],[0.6666666666666666,\"#ed7953\"],[0.7777777777777778,\"#fb9f3a\"],[0.8888888888888888,\"#fdca26\"],[1.0,\"#f0f921\"]],\"type\":\"heatmapgl\"}],\"heatmap\":[{\"colorbar\":{\"outlinewidth\":0,\"ticks\":\"\"},\"colorscale\":[[0.0,\"#0d0887\"],[0.1111111111111111,\"#46039f\"],[0.2222222222222222,\"#7201a8\"],[0.3333333333333333,\"#9c179e\"],[0.4444444444444444,\"#bd3786\"],[0.5555555555555556,\"#d8576b\"],[0.6666666666666666,\"#ed7953\"],[0.7777777777777778,\"#fb9f3a\"],[0.8888888888888888,\"#fdca26\"],[1.0,\"#f0f921\"]],\"type\":\"heatmap\"}],\"histogram2dcontour\":[{\"colorbar\":{\"outlinewidth\":0,\"ticks\":\"\"},\"colorscale\":[[0.0,\"#0d0887\"],[0.1111111111111111,\"#46039f\"],[0.2222222222222222,\"#7201a8\"],[0.3333333333333333,\"#9c179e\"],[0.4444444444444444,\"#bd3786\"],[0.5555555555555556,\"#d8576b\"],[0.6666666666666666,\"#ed7953\"],[0.7777777777777778,\"#fb9f3a\"],[0.8888888888888888,\"#fdca26\"],[1.0,\"#f0f921\"]],\"type\":\"histogram2dcontour\"}],\"histogram2d\":[{\"colorbar\":{\"outlinewidth\":0,\"ticks\":\"\"},\"colorscale\":[[0.0,\"#0d0887\"],[0.1111111111111111,\"#46039f\"],[0.2222222222222222,\"#7201a8\"],[0.3333333333333333,\"#9c179e\"],[0.4444444444444444,\"#bd3786\"],[0.5555555555555556,\"#d8576b\"],[0.6666666666666666,\"#ed7953\"],[0.7777777777777778,\"#fb9f3a\"],[0.8888888888888888,\"#fdca26\"],[1.0,\"#f0f921\"]],\"type\":\"histogram2d\"}],\"histogram\":[{\"marker\":{\"pattern\":{\"fillmode\":\"overlay\",\"size\":10,\"solidity\":0.2}},\"type\":\"histogram\"}],\"mesh3d\":[{\"colorbar\":{\"outlinewidth\":0,\"ticks\":\"\"},\"type\":\"mesh3d\"}],\"parcoords\":[{\"line\":{\"colorbar\":{\"outlinewidth\":0,\"ticks\":\"\"}},\"type\":\"parcoords\"}],\"pie\":[{\"automargin\":true,\"type\":\"pie\"}],\"scatter3d\":[{\"line\":{\"colorbar\":{\"outlinewidth\":0,\"ticks\":\"\"}},\"marker\":{\"colorbar\":{\"outlinewidth\":0,\"ticks\":\"\"}},\"type\":\"scatter3d\"}],\"scattercarpet\":[{\"marker\":{\"colorbar\":{\"outlinewidth\":0,\"ticks\":\"\"}},\"type\":\"scattercarpet\"}],\"scattergeo\":[{\"marker\":{\"colorbar\":{\"outlinewidth\":0,\"ticks\":\"\"}},\"type\":\"scattergeo\"}],\"scattergl\":[{\"marker\":{\"colorbar\":{\"outlinewidth\":0,\"ticks\":\"\"}},\"type\":\"scattergl\"}],\"scattermapbox\":[{\"marker\":{\"colorbar\":{\"outlinewidth\":0,\"ticks\":\"\"}},\"type\":\"scattermapbox\"}],\"scatterpolargl\":[{\"marker\":{\"colorbar\":{\"outlinewidth\":0,\"ticks\":\"\"}},\"type\":\"scatterpolargl\"}],\"scatterpolar\":[{\"marker\":{\"colorbar\":{\"outlinewidth\":0,\"ticks\":\"\"}},\"type\":\"scatterpolar\"}],\"scatter\":[{\"fillpattern\":{\"fillmode\":\"overlay\",\"size\":10,\"solidity\":0.2},\"type\":\"scatter\"}],\"scatterternary\":[{\"marker\":{\"colorbar\":{\"outlinewidth\":0,\"ticks\":\"\"}},\"type\":\"scatterternary\"}],\"surface\":[{\"colorbar\":{\"outlinewidth\":0,\"ticks\":\"\"},\"colorscale\":[[0.0,\"#0d0887\"],[0.1111111111111111,\"#46039f\"],[0.2222222222222222,\"#7201a8\"],[0.3333333333333333,\"#9c179e\"],[0.4444444444444444,\"#bd3786\"],[0.5555555555555556,\"#d8576b\"],[0.6666666666666666,\"#ed7953\"],[0.7777777777777778,\"#fb9f3a\"],[0.8888888888888888,\"#fdca26\"],[1.0,\"#f0f921\"]],\"type\":\"surface\"}],\"table\":[{\"cells\":{\"fill\":{\"color\":\"#EBF0F8\"},\"line\":{\"color\":\"white\"}},\"header\":{\"fill\":{\"color\":\"#C8D4E3\"},\"line\":{\"color\":\"white\"}},\"type\":\"table\"}]},\"layout\":{\"annotationdefaults\":{\"arrowcolor\":\"#2a3f5f\",\"arrowhead\":0,\"arrowwidth\":1},\"autotypenumbers\":\"strict\",\"coloraxis\":{\"colorbar\":{\"outlinewidth\":0,\"ticks\":\"\"}},\"colorscale\":{\"diverging\":[[0,\"#8e0152\"],[0.1,\"#c51b7d\"],[0.2,\"#de77ae\"],[0.3,\"#f1b6da\"],[0.4,\"#fde0ef\"],[0.5,\"#f7f7f7\"],[0.6,\"#e6f5d0\"],[0.7,\"#b8e186\"],[0.8,\"#7fbc41\"],[0.9,\"#4d9221\"],[1,\"#276419\"]],\"sequential\":[[0.0,\"#0d0887\"],[0.1111111111111111,\"#46039f\"],[0.2222222222222222,\"#7201a8\"],[0.3333333333333333,\"#9c179e\"],[0.4444444444444444,\"#bd3786\"],[0.5555555555555556,\"#d8576b\"],[0.6666666666666666,\"#ed7953\"],[0.7777777777777778,\"#fb9f3a\"],[0.8888888888888888,\"#fdca26\"],[1.0,\"#f0f921\"]],\"sequentialminus\":[[0.0,\"#0d0887\"],[0.1111111111111111,\"#46039f\"],[0.2222222222222222,\"#7201a8\"],[0.3333333333333333,\"#9c179e\"],[0.4444444444444444,\"#bd3786\"],[0.5555555555555556,\"#d8576b\"],[0.6666666666666666,\"#ed7953\"],[0.7777777777777778,\"#fb9f3a\"],[0.8888888888888888,\"#fdca26\"],[1.0,\"#f0f921\"]]},\"colorway\":[\"#636efa\",\"#EF553B\",\"#00cc96\",\"#ab63fa\",\"#FFA15A\",\"#19d3f3\",\"#FF6692\",\"#B6E880\",\"#FF97FF\",\"#FECB52\"],\"font\":{\"color\":\"#2a3f5f\"},\"geo\":{\"bgcolor\":\"white\",\"lakecolor\":\"white\",\"landcolor\":\"#E5ECF6\",\"showlakes\":true,\"showland\":true,\"subunitcolor\":\"white\"},\"hoverlabel\":{\"align\":\"left\"},\"hovermode\":\"closest\",\"mapbox\":{\"style\":\"light\"},\"paper_bgcolor\":\"white\",\"plot_bgcolor\":\"#E5ECF6\",\"polar\":{\"angularaxis\":{\"gridcolor\":\"white\",\"linecolor\":\"white\",\"ticks\":\"\"},\"bgcolor\":\"#E5ECF6\",\"radialaxis\":{\"gridcolor\":\"white\",\"linecolor\":\"white\",\"ticks\":\"\"}},\"scene\":{\"xaxis\":{\"backgroundcolor\":\"#E5ECF6\",\"gridcolor\":\"white\",\"gridwidth\":2,\"linecolor\":\"white\",\"showbackground\":true,\"ticks\":\"\",\"zerolinecolor\":\"white\"},\"yaxis\":{\"backgroundcolor\":\"#E5ECF6\",\"gridcolor\":\"white\",\"gridwidth\":2,\"linecolor\":\"white\",\"showbackground\":true,\"ticks\":\"\",\"zerolinecolor\":\"white\"},\"zaxis\":{\"backgroundcolor\":\"#E5ECF6\",\"gridcolor\":\"white\",\"gridwidth\":2,\"linecolor\":\"white\",\"showbackground\":true,\"ticks\":\"\",\"zerolinecolor\":\"white\"}},\"shapedefaults\":{\"line\":{\"color\":\"#2a3f5f\"}},\"ternary\":{\"aaxis\":{\"gridcolor\":\"white\",\"linecolor\":\"white\",\"ticks\":\"\"},\"baxis\":{\"gridcolor\":\"white\",\"linecolor\":\"white\",\"ticks\":\"\"},\"bgcolor\":\"#E5ECF6\",\"caxis\":{\"gridcolor\":\"white\",\"linecolor\":\"white\",\"ticks\":\"\"}},\"title\":{\"x\":0.05},\"xaxis\":{\"automargin\":true,\"gridcolor\":\"white\",\"linecolor\":\"white\",\"ticks\":\"\",\"title\":{\"standoff\":15},\"zerolinecolor\":\"white\",\"zerolinewidth\":2},\"yaxis\":{\"automargin\":true,\"gridcolor\":\"white\",\"linecolor\":\"white\",\"ticks\":\"\",\"title\":{\"standoff\":15},\"zerolinecolor\":\"white\",\"zerolinewidth\":2}}},\"title\":{\"text\":\"Stock Prices\"},\"xaxis\":{\"title\":{\"font\":{\"color\":\"#7f7f7f\",\"family\":\"Courier New, monospace\",\"size\":18},\"text\":\"Day\"}},\"yaxis\":{\"title\":{\"font\":{\"color\":\"#7f7f7f\",\"family\":\"Courier New, monospace\",\"size\":18},\"text\":\"Date\"}}},                        {\"responsive\": true}                    ).then(function(){\n",
       "                            \n",
       "var gd = document.getElementById('aec0026e-30f9-4a5f-9598-00933de7cb51');\n",
       "var x = new MutationObserver(function (mutations, observer) {{\n",
       "        var display = window.getComputedStyle(gd).display;\n",
       "        if (!display || display === 'none') {{\n",
       "            console.log([gd, 'removed!']);\n",
       "            Plotly.purge(gd);\n",
       "            observer.disconnect();\n",
       "        }}\n",
       "}});\n",
       "\n",
       "// Listen for the removal of the full notebook cells\n",
       "var notebookContainer = gd.closest('#notebook-container');\n",
       "if (notebookContainer) {{\n",
       "    x.observe(notebookContainer, {childList: true});\n",
       "}}\n",
       "\n",
       "// Listen for the clearing of the current output cell\n",
       "var outputEl = gd.closest('.output');\n",
       "if (outputEl) {{\n",
       "    x.observe(outputEl, {childList: true});\n",
       "}}\n",
       "\n",
       "                        })                };                });            </script>        </div>"
      ]
     },
     "metadata": {},
     "output_type": "display_data"
    }
   ],
   "source": [
    "iplot(plot2)"
   ]
  },
  {
   "cell_type": "code",
   "execution_count": null,
   "id": "ce416305",
   "metadata": {},
   "outputs": [],
   "source": []
  },
  {
   "cell_type": "code",
   "execution_count": null,
   "id": "c4c436a0",
   "metadata": {},
   "outputs": [],
   "source": []
  },
  {
   "cell_type": "code",
   "execution_count": null,
   "id": "f4cc090f",
   "metadata": {},
   "outputs": [],
   "source": []
  },
  {
   "cell_type": "code",
   "execution_count": null,
   "id": "999ba997",
   "metadata": {},
   "outputs": [],
   "source": []
  },
  {
   "cell_type": "code",
   "execution_count": 272,
   "id": "f97b6f4d",
   "metadata": {},
   "outputs": [],
   "source": [
    "import matplotlib.pyplot as plt\n",
    "%matplotlib inline\n",
    "\n",
    "#!pip install keras\n",
    "#pip install tensorflow\n",
    "from matplotlib.pylab import rcParams\n",
    "rcParams['figure.figsize']=20,10\n",
    "from keras.models import Sequential\n",
    "from keras.layers import LSTM,Dropout,Dense\n",
    "from sklearn.preprocessing import MinMaxScaler"
   ]
  },
  {
   "cell_type": "code",
   "execution_count": 273,
   "id": "bc354c4f",
   "metadata": {},
   "outputs": [
    {
     "data": {
      "text/html": [
       "<div>\n",
       "<style scoped>\n",
       "    .dataframe tbody tr th:only-of-type {\n",
       "        vertical-align: middle;\n",
       "    }\n",
       "\n",
       "    .dataframe tbody tr th {\n",
       "        vertical-align: top;\n",
       "    }\n",
       "\n",
       "    .dataframe thead th {\n",
       "        text-align: right;\n",
       "    }\n",
       "</style>\n",
       "<table border=\"1\" class=\"dataframe\">\n",
       "  <thead>\n",
       "    <tr style=\"text-align: right;\">\n",
       "      <th></th>\n",
       "      <th>Date</th>\n",
       "      <th>TSLA Open</th>\n",
       "      <th>TSLA High</th>\n",
       "      <th>TSLA Low</th>\n",
       "      <th>TSLA Close</th>\n",
       "      <th>TSLA Daily change</th>\n",
       "      <th>TSLA Volume</th>\n",
       "    </tr>\n",
       "    <tr>\n",
       "      <th>Date</th>\n",
       "      <th></th>\n",
       "      <th></th>\n",
       "      <th></th>\n",
       "      <th></th>\n",
       "      <th></th>\n",
       "      <th></th>\n",
       "      <th></th>\n",
       "    </tr>\n",
       "  </thead>\n",
       "  <tbody>\n",
       "    <tr>\n",
       "      <th>2010-06-29</th>\n",
       "      <td>1277769600000000000</td>\n",
       "      <td>NaN</td>\n",
       "      <td>NaN</td>\n",
       "      <td>NaN</td>\n",
       "      <td>NaN</td>\n",
       "      <td>NaN</td>\n",
       "      <td>NaN</td>\n",
       "    </tr>\n",
       "    <tr>\n",
       "      <th>2010-06-30</th>\n",
       "      <td>1277856000000000000</td>\n",
       "      <td>NaN</td>\n",
       "      <td>NaN</td>\n",
       "      <td>NaN</td>\n",
       "      <td>NaN</td>\n",
       "      <td>NaN</td>\n",
       "      <td>NaN</td>\n",
       "    </tr>\n",
       "    <tr>\n",
       "      <th>2010-07-01</th>\n",
       "      <td>1277942400000000000</td>\n",
       "      <td>NaN</td>\n",
       "      <td>NaN</td>\n",
       "      <td>NaN</td>\n",
       "      <td>NaN</td>\n",
       "      <td>NaN</td>\n",
       "      <td>NaN</td>\n",
       "    </tr>\n",
       "    <tr>\n",
       "      <th>2010-07-02</th>\n",
       "      <td>1278028800000000000</td>\n",
       "      <td>NaN</td>\n",
       "      <td>NaN</td>\n",
       "      <td>NaN</td>\n",
       "      <td>NaN</td>\n",
       "      <td>NaN</td>\n",
       "      <td>NaN</td>\n",
       "    </tr>\n",
       "    <tr>\n",
       "      <th>2010-07-06</th>\n",
       "      <td>1278374400000000000</td>\n",
       "      <td>NaN</td>\n",
       "      <td>NaN</td>\n",
       "      <td>NaN</td>\n",
       "      <td>NaN</td>\n",
       "      <td>NaN</td>\n",
       "      <td>NaN</td>\n",
       "    </tr>\n",
       "  </tbody>\n",
       "</table>\n",
       "</div>"
      ],
      "text/plain": [
       "                           Date  TSLA Open  TSLA High  TSLA Low  TSLA Close  \\\n",
       "Date                                                                          \n",
       "2010-06-29  1277769600000000000        NaN        NaN       NaN         NaN   \n",
       "2010-06-30  1277856000000000000        NaN        NaN       NaN         NaN   \n",
       "2010-07-01  1277942400000000000        NaN        NaN       NaN         NaN   \n",
       "2010-07-02  1278028800000000000        NaN        NaN       NaN         NaN   \n",
       "2010-07-06  1278374400000000000        NaN        NaN       NaN         NaN   \n",
       "\n",
       "            TSLA Daily change  TSLA Volume  \n",
       "Date                                        \n",
       "2010-06-29                NaN          NaN  \n",
       "2010-06-30                NaN          NaN  \n",
       "2010-07-01                NaN          NaN  \n",
       "2010-07-02                NaN          NaN  \n",
       "2010-07-06                NaN          NaN  "
      ]
     },
     "execution_count": 273,
     "metadata": {},
     "output_type": "execute_result"
    }
   ],
   "source": [
    "tdf = pd.DataFrame(df, columns = [ 'Date' , 'TSLA Open', 'TSLA High','TSLA Low' , 'TSLA Close','TSLA Daily change','TSLA Volume'])\n",
    "tdf['Date'] = pd.to_datetime(tdf['Date']).copy()\n",
    "tdf[\"Date\"]= pd.to_datetime(tdf.Date,format=\"%Y-%m-%d\").copy()\n",
    "tdf.index=tdf['Date']\n",
    "tdf['Date'] = pd.to_numeric(pd.to_datetime(tdf['Date'])).copy()\n",
    "tdf.head()\n",
    "\n",
    "\n"
   ]
  },
  {
   "cell_type": "code",
   "execution_count": 274,
   "id": "32e8d53e",
   "metadata": {},
   "outputs": [
    {
     "data": {
      "text/plain": [
       "[<matplotlib.lines.Line2D at 0x22cfdc115e0>]"
      ]
     },
     "execution_count": 274,
     "metadata": {},
     "output_type": "execute_result"
    },
    {
     "data": {
      "image/png": "[encoded data removed]",
      "text/plain": [
       "<Figure size 1152x576 with 1 Axes>"
      ]
     },
     "metadata": {
      "needs_background": "light"
     },
     "output_type": "display_data"
    }
   ],
   "source": [
    "plt.figure(figsize=(16,8))\n",
    "plt.plot(tdf[\"TSLA Close\"],label='Close Price history')"
   ]
  },
  {
   "cell_type": "code",
   "execution_count": 267,
   "id": "9f5620b4",
   "metadata": {},
   "outputs": [],
   "source": [
    "data=tdf.sort_index(ascending=True,axis=0)\n",
    "new_dataset=pd.DataFrame(index=range(0,len(df)),columns=['Date','TSLA Close'])\n",
    "for i in range(0,len(data)):\n",
    "    new_dataset[\"Date\"][i]=data['Date'][i]\n",
    "    new_dataset[\"TSLA Close\"][i]=data[\"TSLA Close\"][i]\n",
    "    \n"
   ]
  },
  {
   "cell_type": "code",
   "execution_count": 271,
   "id": "f09cb1bd",
   "metadata": {},
   "outputs": [
    {
     "ename": "AttributeError",
     "evalue": "'DataFrame' object has no attribute 'Date'",
     "output_type": "error",
     "traceback": [
      "\u001b[1;31m---------------------------------------------------------------------------\u001b[0m",
      "\u001b[1;31mAttributeError\u001b[0m                            Traceback (most recent call last)",
      "\u001b[1;32m~\\AppData\\Local\\Temp/ipykernel_2636/992656305.py\u001b[0m in \u001b[0;36m<module>\u001b[1;34m\u001b[0m\n\u001b[0;32m      2\u001b[0m \u001b[0mfinal_dataset\u001b[0m\u001b[1;33m=\u001b[0m\u001b[0mnew_dataset\u001b[0m\u001b[1;33m.\u001b[0m\u001b[0mvalues\u001b[0m\u001b[1;33m\u001b[0m\u001b[1;33m\u001b[0m\u001b[0m\n\u001b[0;32m      3\u001b[0m \u001b[0mtrain_data\u001b[0m\u001b[1;33m=\u001b[0m\u001b[0mfinal_dataset\u001b[0m\u001b[1;33m[\u001b[0m\u001b[1;36m0\u001b[0m\u001b[1;33m:\u001b[0m\u001b[1;36m987\u001b[0m\u001b[1;33m,\u001b[0m\u001b[1;33m:\u001b[0m\u001b[1;33m]\u001b[0m\u001b[1;33m\u001b[0m\u001b[1;33m\u001b[0m\u001b[0m\n\u001b[1;32m----> 4\u001b[1;33m \u001b[0mnew_dataset\u001b[0m\u001b[1;33m.\u001b[0m\u001b[0mindex\u001b[0m\u001b[1;33m=\u001b[0m\u001b[0mnew_dataset\u001b[0m\u001b[1;33m.\u001b[0m\u001b[0mDate\u001b[0m\u001b[1;33m\u001b[0m\u001b[1;33m\u001b[0m\u001b[0m\n\u001b[0m\u001b[0;32m      5\u001b[0m \u001b[0mnew_dataset\u001b[0m\u001b[1;33m.\u001b[0m\u001b[0mdrop\u001b[0m\u001b[1;33m(\u001b[0m\u001b[1;34m\"Date\"\u001b[0m\u001b[1;33m,\u001b[0m\u001b[0maxis\u001b[0m\u001b[1;33m=\u001b[0m\u001b[1;36m1\u001b[0m\u001b[1;33m,\u001b[0m\u001b[0minplace\u001b[0m\u001b[1;33m=\u001b[0m\u001b[1;32mTrue\u001b[0m\u001b[1;33m)\u001b[0m\u001b[1;33m\u001b[0m\u001b[1;33m\u001b[0m\u001b[0m\n\u001b[0;32m      6\u001b[0m \u001b[0mscaler\u001b[0m\u001b[1;33m=\u001b[0m\u001b[0mMinMaxScaler\u001b[0m\u001b[1;33m(\u001b[0m\u001b[0mfeature_range\u001b[0m\u001b[1;33m=\u001b[0m\u001b[1;33m(\u001b[0m\u001b[1;36m0\u001b[0m\u001b[1;33m,\u001b[0m\u001b[1;36m1\u001b[0m\u001b[1;33m)\u001b[0m\u001b[1;33m)\u001b[0m\u001b[1;33m\u001b[0m\u001b[1;33m\u001b[0m\u001b[0m\n",
      "\u001b[1;32mD:\\Programs\\Anaconda\\lib\\site-packages\\pandas\\core\\generic.py\u001b[0m in \u001b[0;36m__getattr__\u001b[1;34m(self, name)\u001b[0m\n\u001b[0;32m   5485\u001b[0m         ):\n\u001b[0;32m   5486\u001b[0m             \u001b[1;32mreturn\u001b[0m \u001b[0mself\u001b[0m\u001b[1;33m[\u001b[0m\u001b[0mname\u001b[0m\u001b[1;33m]\u001b[0m\u001b[1;33m\u001b[0m\u001b[1;33m\u001b[0m\u001b[0m\n\u001b[1;32m-> 5487\u001b[1;33m         \u001b[1;32mreturn\u001b[0m \u001b[0mobject\u001b[0m\u001b[1;33m.\u001b[0m\u001b[0m__getattribute__\u001b[0m\u001b[1;33m(\u001b[0m\u001b[0mself\u001b[0m\u001b[1;33m,\u001b[0m \u001b[0mname\u001b[0m\u001b[1;33m)\u001b[0m\u001b[1;33m\u001b[0m\u001b[1;33m\u001b[0m\u001b[0m\n\u001b[0m\u001b[0;32m   5488\u001b[0m \u001b[1;33m\u001b[0m\u001b[0m\n\u001b[0;32m   5489\u001b[0m     \u001b[1;32mdef\u001b[0m \u001b[0m__setattr__\u001b[0m\u001b[1;33m(\u001b[0m\u001b[0mself\u001b[0m\u001b[1;33m,\u001b[0m \u001b[0mname\u001b[0m\u001b[1;33m:\u001b[0m \u001b[0mstr\u001b[0m\u001b[1;33m,\u001b[0m \u001b[0mvalue\u001b[0m\u001b[1;33m)\u001b[0m \u001b[1;33m->\u001b[0m \u001b[1;32mNone\u001b[0m\u001b[1;33m:\u001b[0m\u001b[1;33m\u001b[0m\u001b[1;33m\u001b[0m\u001b[0m\n",
      "\u001b[1;31mAttributeError\u001b[0m: 'DataFrame' object has no attribute 'Date'"
     ]
    }
   ],
   "source": [
    "scaler=MinMaxScaler(feature_range=(0,1))\n",
    "final_dataset=new_dataset.values\n",
    "train_data=final_dataset[0:987,:]\n",
    "new_dataset.index=new_dataset.Date\n",
    "new_dataset.drop(\"Date\",axis=1,inplace=True)\n",
    "scaler=MinMaxScaler(feature_range=(0,1))\n",
    "scaled_data=scaler.fit_transform(final_dataset)\n",
    "x_train_data,y_train_data=[],[]\n",
    "for i in range(60,len(train_data)):\n",
    "    x_train_data.append(scaled_data[i-60:i,0])\n",
    "    y_train_data.append(scaled_data[i,0])\n",
    "    \n",
    "x_train_data,y_train_data=np.array(x_train_data),np.array(y_train_data)\n",
    "x_train_data=np.reshape(x_train_data,(x_train_data.shape[0],x_train_data.shape[1],1))"
   ]
  },
  {
   "cell_type": "code",
   "execution_count": 269,
   "id": "5b37d6a1",
   "metadata": {},
   "outputs": [
    {
     "ename": "ValueError",
     "evalue": "X has 1 features, but MinMaxScaler is expecting 2 features as input.",
     "output_type": "error",
     "traceback": [
      "\u001b[1;31m---------------------------------------------------------------------------\u001b[0m",
      "\u001b[1;31mValueError\u001b[0m                                Traceback (most recent call last)",
      "\u001b[1;32m~\\AppData\\Local\\Temp/ipykernel_2636/2287543931.py\u001b[0m in \u001b[0;36m<module>\u001b[1;34m\u001b[0m\n\u001b[0;32m      5\u001b[0m \u001b[0minputs_data\u001b[0m\u001b[1;33m=\u001b[0m\u001b[0mnew_dataset\u001b[0m\u001b[1;33m[\u001b[0m\u001b[0mlen\u001b[0m\u001b[1;33m(\u001b[0m\u001b[0mnew_dataset\u001b[0m\u001b[1;33m)\u001b[0m\u001b[1;33m-\u001b[0m\u001b[0mlen\u001b[0m\u001b[1;33m(\u001b[0m\u001b[0mvalid_data\u001b[0m\u001b[1;33m)\u001b[0m\u001b[1;33m-\u001b[0m\u001b[1;36m60\u001b[0m\u001b[1;33m:\u001b[0m\u001b[1;33m]\u001b[0m\u001b[1;33m.\u001b[0m\u001b[0mvalues\u001b[0m\u001b[1;33m\u001b[0m\u001b[1;33m\u001b[0m\u001b[0m\n\u001b[0;32m      6\u001b[0m \u001b[0minputs_data\u001b[0m\u001b[1;33m=\u001b[0m\u001b[0minputs_data\u001b[0m\u001b[1;33m.\u001b[0m\u001b[0mreshape\u001b[0m\u001b[1;33m(\u001b[0m\u001b[1;33m-\u001b[0m\u001b[1;36m1\u001b[0m\u001b[1;33m,\u001b[0m\u001b[1;36m1\u001b[0m\u001b[1;33m)\u001b[0m\u001b[1;33m\u001b[0m\u001b[1;33m\u001b[0m\u001b[0m\n\u001b[1;32m----> 7\u001b[1;33m \u001b[0minputs_data\u001b[0m\u001b[1;33m=\u001b[0m\u001b[0mscaler\u001b[0m\u001b[1;33m.\u001b[0m\u001b[0mtransform\u001b[0m\u001b[1;33m(\u001b[0m\u001b[0minputs_data\u001b[0m\u001b[1;33m)\u001b[0m\u001b[1;33m\u001b[0m\u001b[1;33m\u001b[0m\u001b[0m\n\u001b[0m\u001b[0;32m      8\u001b[0m \u001b[0mlstm_model\u001b[0m\u001b[1;33m.\u001b[0m\u001b[0mcompile\u001b[0m\u001b[1;33m(\u001b[0m\u001b[0mloss\u001b[0m\u001b[1;33m=\u001b[0m\u001b[1;34m'mean_squared_error'\u001b[0m\u001b[1;33m,\u001b[0m\u001b[0moptimizer\u001b[0m\u001b[1;33m=\u001b[0m\u001b[1;34m'adam'\u001b[0m\u001b[1;33m)\u001b[0m\u001b[1;33m\u001b[0m\u001b[1;33m\u001b[0m\u001b[0m\n\u001b[0;32m      9\u001b[0m \u001b[0mlstm_model\u001b[0m\u001b[1;33m.\u001b[0m\u001b[0mfit\u001b[0m\u001b[1;33m(\u001b[0m\u001b[0mx_train_data\u001b[0m\u001b[1;33m,\u001b[0m\u001b[0my_train_data\u001b[0m\u001b[1;33m,\u001b[0m\u001b[0mepochs\u001b[0m\u001b[1;33m=\u001b[0m\u001b[1;36m1\u001b[0m\u001b[1;33m,\u001b[0m\u001b[0mbatch_size\u001b[0m\u001b[1;33m=\u001b[0m\u001b[1;36m1\u001b[0m\u001b[1;33m,\u001b[0m\u001b[0mverbose\u001b[0m\u001b[1;33m=\u001b[0m\u001b[1;36m2\u001b[0m\u001b[1;33m)\u001b[0m\u001b[1;33m\u001b[0m\u001b[1;33m\u001b[0m\u001b[0m\n",
      "\u001b[1;32mD:\\Programs\\Anaconda\\lib\\site-packages\\sklearn\\preprocessing\\_data.py\u001b[0m in \u001b[0;36mtransform\u001b[1;34m(self, X)\u001b[0m\n\u001b[0;32m    432\u001b[0m         \u001b[0mcheck_is_fitted\u001b[0m\u001b[1;33m(\u001b[0m\u001b[0mself\u001b[0m\u001b[1;33m)\u001b[0m\u001b[1;33m\u001b[0m\u001b[1;33m\u001b[0m\u001b[0m\n\u001b[0;32m    433\u001b[0m \u001b[1;33m\u001b[0m\u001b[0m\n\u001b[1;32m--> 434\u001b[1;33m         X = self._validate_data(X, copy=self.copy, dtype=FLOAT_DTYPES,\n\u001b[0m\u001b[0;32m    435\u001b[0m                                 force_all_finite=\"allow-nan\", reset=False)\n\u001b[0;32m    436\u001b[0m \u001b[1;33m\u001b[0m\u001b[0m\n",
      "\u001b[1;32mD:\\Programs\\Anaconda\\lib\\site-packages\\sklearn\\base.py\u001b[0m in \u001b[0;36m_validate_data\u001b[1;34m(self, X, y, reset, validate_separately, **check_params)\u001b[0m\n\u001b[0;32m    435\u001b[0m \u001b[1;33m\u001b[0m\u001b[0m\n\u001b[0;32m    436\u001b[0m         \u001b[1;32mif\u001b[0m \u001b[0mcheck_params\u001b[0m\u001b[1;33m.\u001b[0m\u001b[0mget\u001b[0m\u001b[1;33m(\u001b[0m\u001b[1;34m'ensure_2d'\u001b[0m\u001b[1;33m,\u001b[0m \u001b[1;32mTrue\u001b[0m\u001b[1;33m)\u001b[0m\u001b[1;33m:\u001b[0m\u001b[1;33m\u001b[0m\u001b[1;33m\u001b[0m\u001b[0m\n\u001b[1;32m--> 437\u001b[1;33m             \u001b[0mself\u001b[0m\u001b[1;33m.\u001b[0m\u001b[0m_check_n_features\u001b[0m\u001b[1;33m(\u001b[0m\u001b[0mX\u001b[0m\u001b[1;33m,\u001b[0m \u001b[0mreset\u001b[0m\u001b[1;33m=\u001b[0m\u001b[0mreset\u001b[0m\u001b[1;33m)\u001b[0m\u001b[1;33m\u001b[0m\u001b[1;33m\u001b[0m\u001b[0m\n\u001b[0m\u001b[0;32m    438\u001b[0m \u001b[1;33m\u001b[0m\u001b[0m\n\u001b[0;32m    439\u001b[0m         \u001b[1;32mreturn\u001b[0m \u001b[0mout\u001b[0m\u001b[1;33m\u001b[0m\u001b[1;33m\u001b[0m\u001b[0m\n",
      "\u001b[1;32mD:\\Programs\\Anaconda\\lib\\site-packages\\sklearn\\base.py\u001b[0m in \u001b[0;36m_check_n_features\u001b[1;34m(self, X, reset)\u001b[0m\n\u001b[0;32m    363\u001b[0m \u001b[1;33m\u001b[0m\u001b[0m\n\u001b[0;32m    364\u001b[0m         \u001b[1;32mif\u001b[0m \u001b[0mn_features\u001b[0m \u001b[1;33m!=\u001b[0m \u001b[0mself\u001b[0m\u001b[1;33m.\u001b[0m\u001b[0mn_features_in_\u001b[0m\u001b[1;33m:\u001b[0m\u001b[1;33m\u001b[0m\u001b[1;33m\u001b[0m\u001b[0m\n\u001b[1;32m--> 365\u001b[1;33m             raise ValueError(\n\u001b[0m\u001b[0;32m    366\u001b[0m                 \u001b[1;34mf\"X has {n_features} features, but {self.__class__.__name__} \"\u001b[0m\u001b[1;33m\u001b[0m\u001b[1;33m\u001b[0m\u001b[0m\n\u001b[0;32m    367\u001b[0m                 f\"is expecting {self.n_features_in_} features as input.\")\n",
      "\u001b[1;31mValueError\u001b[0m: X has 1 features, but MinMaxScaler is expecting 2 features as input."
     ]
    }
   ],
   "source": [
    "lstm_model=Sequential()\n",
    "lstm_model.add(LSTM(units=50,return_sequences=True,input_shape=(x_train_data.shape[1],1)))\n",
    "lstm_model.add(LSTM(units=50))\n",
    "lstm_model.add(Dense(1))\n",
    "inputs_data=new_dataset[len(new_dataset)-len(valid_data)-60:].values\n",
    "inputs_data=inputs_data.reshape(-1,1)\n",
    "inputs_data=scaler.transform(inputs_data)\n",
    "lstm_model.compile(loss='mean_squared_error',optimizer='adam')\n",
    "lstm_model.fit(x_train_data,y_train_data,epochs=1,batch_size=1,verbose=2)"
   ]
  },
  {
   "cell_type": "code",
   "execution_count": 270,
   "id": "1c6341e2",
   "metadata": {},
   "outputs": [
    {
     "ename": "ValueError",
     "evalue": "Failed to convert a NumPy array to a Tensor (Unsupported object type numpy.float64).",
     "output_type": "error",
     "traceback": [
      "\u001b[1;31m---------------------------------------------------------------------------\u001b[0m",
      "\u001b[1;31mValueError\u001b[0m                                Traceback (most recent call last)",
      "\u001b[1;32m~\\AppData\\Local\\Temp/ipykernel_2636/2030211610.py\u001b[0m in \u001b[0;36m<module>\u001b[1;34m\u001b[0m\n\u001b[0;32m      4\u001b[0m \u001b[0mX_test\u001b[0m\u001b[1;33m=\u001b[0m\u001b[0mnp\u001b[0m\u001b[1;33m.\u001b[0m\u001b[0marray\u001b[0m\u001b[1;33m(\u001b[0m\u001b[0mX_test\u001b[0m\u001b[1;33m)\u001b[0m\u001b[1;33m\u001b[0m\u001b[1;33m\u001b[0m\u001b[0m\n\u001b[0;32m      5\u001b[0m \u001b[0mX_test\u001b[0m\u001b[1;33m=\u001b[0m\u001b[0mnp\u001b[0m\u001b[1;33m.\u001b[0m\u001b[0mreshape\u001b[0m\u001b[1;33m(\u001b[0m\u001b[0mX_test\u001b[0m\u001b[1;33m,\u001b[0m\u001b[1;33m(\u001b[0m\u001b[0mX_test\u001b[0m\u001b[1;33m.\u001b[0m\u001b[0mshape\u001b[0m\u001b[1;33m[\u001b[0m\u001b[1;36m0\u001b[0m\u001b[1;33m]\u001b[0m\u001b[1;33m,\u001b[0m\u001b[0mX_test\u001b[0m\u001b[1;33m.\u001b[0m\u001b[0mshape\u001b[0m\u001b[1;33m[\u001b[0m\u001b[1;36m1\u001b[0m\u001b[1;33m]\u001b[0m\u001b[1;33m,\u001b[0m\u001b[1;36m1\u001b[0m\u001b[1;33m)\u001b[0m\u001b[1;33m)\u001b[0m\u001b[1;33m\u001b[0m\u001b[1;33m\u001b[0m\u001b[0m\n\u001b[1;32m----> 6\u001b[1;33m \u001b[0mpredicted_closing_price\u001b[0m\u001b[1;33m=\u001b[0m\u001b[0mlstm_model\u001b[0m\u001b[1;33m.\u001b[0m\u001b[0mpredict\u001b[0m\u001b[1;33m(\u001b[0m\u001b[0mX_test\u001b[0m\u001b[1;33m)\u001b[0m\u001b[1;33m\u001b[0m\u001b[1;33m\u001b[0m\u001b[0m\n\u001b[0m\u001b[0;32m      7\u001b[0m \u001b[0mpredicted_closing_price\u001b[0m\u001b[1;33m=\u001b[0m\u001b[0mscaler\u001b[0m\u001b[1;33m.\u001b[0m\u001b[0minverse_transform\u001b[0m\u001b[1;33m(\u001b[0m\u001b[0mpredicted_closing_price\u001b[0m\u001b[1;33m)\u001b[0m\u001b[1;33m\u001b[0m\u001b[1;33m\u001b[0m\u001b[0m\n",
      "\u001b[1;32mD:\\Programs\\Anaconda\\lib\\site-packages\\keras\\utils\\traceback_utils.py\u001b[0m in \u001b[0;36merror_handler\u001b[1;34m(*args, **kwargs)\u001b[0m\n\u001b[0;32m     65\u001b[0m     \u001b[1;32mexcept\u001b[0m \u001b[0mException\u001b[0m \u001b[1;32mas\u001b[0m \u001b[0me\u001b[0m\u001b[1;33m:\u001b[0m  \u001b[1;31m# pylint: disable=broad-except\u001b[0m\u001b[1;33m\u001b[0m\u001b[1;33m\u001b[0m\u001b[0m\n\u001b[0;32m     66\u001b[0m       \u001b[0mfiltered_tb\u001b[0m \u001b[1;33m=\u001b[0m \u001b[0m_process_traceback_frames\u001b[0m\u001b[1;33m(\u001b[0m\u001b[0me\u001b[0m\u001b[1;33m.\u001b[0m\u001b[0m__traceback__\u001b[0m\u001b[1;33m)\u001b[0m\u001b[1;33m\u001b[0m\u001b[1;33m\u001b[0m\u001b[0m\n\u001b[1;32m---> 67\u001b[1;33m       \u001b[1;32mraise\u001b[0m \u001b[0me\u001b[0m\u001b[1;33m.\u001b[0m\u001b[0mwith_traceback\u001b[0m\u001b[1;33m(\u001b[0m\u001b[0mfiltered_tb\u001b[0m\u001b[1;33m)\u001b[0m \u001b[1;32mfrom\u001b[0m \u001b[1;32mNone\u001b[0m\u001b[1;33m\u001b[0m\u001b[1;33m\u001b[0m\u001b[0m\n\u001b[0m\u001b[0;32m     68\u001b[0m     \u001b[1;32mfinally\u001b[0m\u001b[1;33m:\u001b[0m\u001b[1;33m\u001b[0m\u001b[1;33m\u001b[0m\u001b[0m\n\u001b[0;32m     69\u001b[0m       \u001b[1;32mdel\u001b[0m \u001b[0mfiltered_tb\u001b[0m\u001b[1;33m\u001b[0m\u001b[1;33m\u001b[0m\u001b[0m\n",
      "\u001b[1;32mD:\\Programs\\Anaconda\\lib\\site-packages\\tensorflow\\python\\framework\\constant_op.py\u001b[0m in \u001b[0;36mconvert_to_eager_tensor\u001b[1;34m(value, ctx, dtype)\u001b[0m\n\u001b[0;32m    100\u001b[0m       \u001b[0mdtype\u001b[0m \u001b[1;33m=\u001b[0m \u001b[0mdtypes\u001b[0m\u001b[1;33m.\u001b[0m\u001b[0mas_dtype\u001b[0m\u001b[1;33m(\u001b[0m\u001b[0mdtype\u001b[0m\u001b[1;33m)\u001b[0m\u001b[1;33m.\u001b[0m\u001b[0mas_datatype_enum\u001b[0m\u001b[1;33m\u001b[0m\u001b[1;33m\u001b[0m\u001b[0m\n\u001b[0;32m    101\u001b[0m   \u001b[0mctx\u001b[0m\u001b[1;33m.\u001b[0m\u001b[0mensure_initialized\u001b[0m\u001b[1;33m(\u001b[0m\u001b[1;33m)\u001b[0m\u001b[1;33m\u001b[0m\u001b[1;33m\u001b[0m\u001b[0m\n\u001b[1;32m--> 102\u001b[1;33m   \u001b[1;32mreturn\u001b[0m \u001b[0mops\u001b[0m\u001b[1;33m.\u001b[0m\u001b[0mEagerTensor\u001b[0m\u001b[1;33m(\u001b[0m\u001b[0mvalue\u001b[0m\u001b[1;33m,\u001b[0m \u001b[0mctx\u001b[0m\u001b[1;33m.\u001b[0m\u001b[0mdevice_name\u001b[0m\u001b[1;33m,\u001b[0m \u001b[0mdtype\u001b[0m\u001b[1;33m)\u001b[0m\u001b[1;33m\u001b[0m\u001b[1;33m\u001b[0m\u001b[0m\n\u001b[0m\u001b[0;32m    103\u001b[0m \u001b[1;33m\u001b[0m\u001b[0m\n\u001b[0;32m    104\u001b[0m \u001b[1;33m\u001b[0m\u001b[0m\n",
      "\u001b[1;31mValueError\u001b[0m: Failed to convert a NumPy array to a Tensor (Unsupported object type numpy.float64)."
     ]
    }
   ],
   "source": [
    "X_test=[]\n",
    "for i in range(60,inputs_data.shape[0]):\n",
    "    X_test.append(inputs_data[i-60:i,0])\n",
    "X_test=np.array(X_test)\n",
    "X_test=np.reshape(X_test,(X_test.shape[0],X_test.shape[1],1))\n",
    "predicted_closing_price=lstm_model.predict(X_test)\n",
    "predicted_closing_price=scaler.inverse_transform(predicted_closing_price)"
   ]
  },
  {
   "cell_type": "code",
   "execution_count": null,
   "id": "50b2f637",
   "metadata": {},
   "outputs": [],
   "source": []
  },
  {
   "cell_type": "code",
   "execution_count": null,
   "id": "a00146ad",
   "metadata": {},
   "outputs": [],
   "source": []
  },
  {
   "cell_type": "code",
   "execution_count": null,
   "id": "19f63b2e",
   "metadata": {},
   "outputs": [],
   "source": []
  },
  {
   "cell_type": "code",
   "execution_count": null,
   "id": "4db2ec10",
   "metadata": {},
   "outputs": [],
   "source": []
  },
  {
   "cell_type": "code",
   "execution_count": 39,
   "id": "6b520b41",
   "metadata": {},
   "outputs": [
    {
     "ename": "AttributeError",
     "evalue": "module 'sklearn.utils._openmp_helpers' has no attribute '__pyx_capi__'",
     "output_type": "error",
     "traceback": [
      "\u001b[1;31m---------------------------------------------------------------------------\u001b[0m",
      "\u001b[1;31mAttributeError\u001b[0m                            Traceback (most recent call last)",
      "\u001b[1;32m~\\AppData\\Local\\Temp/ipykernel_8252/3491457701.py\u001b[0m in \u001b[0;36m<module>\u001b[1;34m\u001b[0m\n\u001b[0;32m     10\u001b[0m \u001b[1;31m#!pip install keras\u001b[0m\u001b[1;33m\u001b[0m\u001b[1;33m\u001b[0m\u001b[0m\n\u001b[0;32m     11\u001b[0m \u001b[1;32mimport\u001b[0m \u001b[0mnumpy\u001b[0m \u001b[1;32mas\u001b[0m \u001b[0mnp\u001b[0m\u001b[1;33m\u001b[0m\u001b[1;33m\u001b[0m\u001b[0m\n\u001b[1;32m---> 12\u001b[1;33m \u001b[1;32mfrom\u001b[0m \u001b[0msklearn\u001b[0m\u001b[1;33m.\u001b[0m\u001b[0mmodel_selection\u001b[0m \u001b[1;32mimport\u001b[0m \u001b[0mTimeSeriesSplit\u001b[0m\u001b[1;33m\u001b[0m\u001b[1;33m\u001b[0m\u001b[0m\n\u001b[0m\u001b[0;32m     13\u001b[0m \u001b[1;32mfrom\u001b[0m \u001b[0mkeras\u001b[0m\u001b[1;33m.\u001b[0m\u001b[0mlayers\u001b[0m \u001b[1;32mimport\u001b[0m \u001b[0mLSTM\u001b[0m\u001b[1;33m,\u001b[0m \u001b[0mDense\u001b[0m\u001b[1;33m,\u001b[0m \u001b[0mDropout\u001b[0m\u001b[1;33m\u001b[0m\u001b[1;33m\u001b[0m\u001b[0m\n\u001b[0;32m     14\u001b[0m \u001b[1;32mfrom\u001b[0m \u001b[0msklearn\u001b[0m\u001b[1;33m.\u001b[0m\u001b[0mmodel_selection\u001b[0m \u001b[1;32mimport\u001b[0m \u001b[0mTimeSeriesSplit\u001b[0m\u001b[1;33m\u001b[0m\u001b[1;33m\u001b[0m\u001b[0m\n",
      "\u001b[1;32mD:\\Programs\\Anaconda\\lib\\site-packages\\sklearn\\model_selection\\__init__.py\u001b[0m in \u001b[0;36m<module>\u001b[1;34m\u001b[0m\n\u001b[0;32m     21\u001b[0m \u001b[1;32mfrom\u001b[0m \u001b[1;33m.\u001b[0m\u001b[0m_split\u001b[0m \u001b[1;32mimport\u001b[0m \u001b[0mcheck_cv\u001b[0m\u001b[1;33m\u001b[0m\u001b[1;33m\u001b[0m\u001b[0m\n\u001b[0;32m     22\u001b[0m \u001b[1;33m\u001b[0m\u001b[0m\n\u001b[1;32m---> 23\u001b[1;33m \u001b[1;32mfrom\u001b[0m \u001b[1;33m.\u001b[0m\u001b[0m_validation\u001b[0m \u001b[1;32mimport\u001b[0m \u001b[0mcross_val_score\u001b[0m\u001b[1;33m\u001b[0m\u001b[1;33m\u001b[0m\u001b[0m\n\u001b[0m\u001b[0;32m     24\u001b[0m \u001b[1;32mfrom\u001b[0m \u001b[1;33m.\u001b[0m\u001b[0m_validation\u001b[0m \u001b[1;32mimport\u001b[0m \u001b[0mcross_val_predict\u001b[0m\u001b[1;33m\u001b[0m\u001b[1;33m\u001b[0m\u001b[0m\n\u001b[0;32m     25\u001b[0m \u001b[1;32mfrom\u001b[0m \u001b[1;33m.\u001b[0m\u001b[0m_validation\u001b[0m \u001b[1;32mimport\u001b[0m \u001b[0mcross_validate\u001b[0m\u001b[1;33m\u001b[0m\u001b[1;33m\u001b[0m\u001b[0m\n",
      "\u001b[1;32mD:\\Programs\\Anaconda\\lib\\site-packages\\sklearn\\model_selection\\_validation.py\u001b[0m in \u001b[0;36m<module>\u001b[1;34m\u001b[0m\n\u001b[0;32m     30\u001b[0m \u001b[1;32mfrom\u001b[0m \u001b[1;33m.\u001b[0m\u001b[1;33m.\u001b[0m\u001b[0mutils\u001b[0m\u001b[1;33m.\u001b[0m\u001b[0mfixes\u001b[0m \u001b[1;32mimport\u001b[0m \u001b[0mdelayed\u001b[0m\u001b[1;33m\u001b[0m\u001b[1;33m\u001b[0m\u001b[0m\n\u001b[0;32m     31\u001b[0m \u001b[1;32mfrom\u001b[0m \u001b[1;33m.\u001b[0m\u001b[1;33m.\u001b[0m\u001b[0mutils\u001b[0m\u001b[1;33m.\u001b[0m\u001b[0mmetaestimators\u001b[0m \u001b[1;32mimport\u001b[0m \u001b[0m_safe_split\u001b[0m\u001b[1;33m\u001b[0m\u001b[1;33m\u001b[0m\u001b[0m\n\u001b[1;32m---> 32\u001b[1;33m \u001b[1;32mfrom\u001b[0m \u001b[1;33m.\u001b[0m\u001b[1;33m.\u001b[0m\u001b[0mmetrics\u001b[0m \u001b[1;32mimport\u001b[0m \u001b[0mcheck_scoring\u001b[0m\u001b[1;33m\u001b[0m\u001b[1;33m\u001b[0m\u001b[0m\n\u001b[0m\u001b[0;32m     33\u001b[0m \u001b[1;32mfrom\u001b[0m \u001b[1;33m.\u001b[0m\u001b[1;33m.\u001b[0m\u001b[0mmetrics\u001b[0m\u001b[1;33m.\u001b[0m\u001b[0m_scorer\u001b[0m \u001b[1;32mimport\u001b[0m \u001b[0m_check_multimetric_scoring\u001b[0m\u001b[1;33m,\u001b[0m \u001b[0m_MultimetricScorer\u001b[0m\u001b[1;33m\u001b[0m\u001b[1;33m\u001b[0m\u001b[0m\n\u001b[0;32m     34\u001b[0m \u001b[1;32mfrom\u001b[0m \u001b[1;33m.\u001b[0m\u001b[1;33m.\u001b[0m\u001b[0mexceptions\u001b[0m \u001b[1;32mimport\u001b[0m \u001b[0mFitFailedWarning\u001b[0m\u001b[1;33m\u001b[0m\u001b[1;33m\u001b[0m\u001b[0m\n",
      "\u001b[1;32mD:\\Programs\\Anaconda\\lib\\site-packages\\sklearn\\metrics\\__init__.py\u001b[0m in \u001b[0;36m<module>\u001b[1;34m\u001b[0m\n\u001b[0;32m     39\u001b[0m \u001b[1;32mfrom\u001b[0m \u001b[1;33m.\u001b[0m\u001b[0m_dist_metrics\u001b[0m \u001b[1;32mimport\u001b[0m \u001b[0mDistanceMetric\u001b[0m\u001b[1;33m\u001b[0m\u001b[1;33m\u001b[0m\u001b[0m\n\u001b[0;32m     40\u001b[0m \u001b[1;33m\u001b[0m\u001b[0m\n\u001b[1;32m---> 41\u001b[1;33m \u001b[1;32mfrom\u001b[0m \u001b[1;33m.\u001b[0m \u001b[1;32mimport\u001b[0m \u001b[0mcluster\u001b[0m\u001b[1;33m\u001b[0m\u001b[1;33m\u001b[0m\u001b[0m\n\u001b[0m\u001b[0;32m     42\u001b[0m \u001b[1;32mfrom\u001b[0m \u001b[1;33m.\u001b[0m\u001b[0mcluster\u001b[0m \u001b[1;32mimport\u001b[0m \u001b[0madjusted_mutual_info_score\u001b[0m\u001b[1;33m\u001b[0m\u001b[1;33m\u001b[0m\u001b[0m\n\u001b[0;32m     43\u001b[0m \u001b[1;32mfrom\u001b[0m \u001b[1;33m.\u001b[0m\u001b[0mcluster\u001b[0m \u001b[1;32mimport\u001b[0m \u001b[0madjusted_rand_score\u001b[0m\u001b[1;33m\u001b[0m\u001b[1;33m\u001b[0m\u001b[0m\n",
      "\u001b[1;32mD:\\Programs\\Anaconda\\lib\\site-packages\\sklearn\\metrics\\cluster\\__init__.py\u001b[0m in \u001b[0;36m<module>\u001b[1;34m\u001b[0m\n\u001b[0;32m     20\u001b[0m \u001b[1;32mfrom\u001b[0m \u001b[1;33m.\u001b[0m\u001b[0m_supervised\u001b[0m \u001b[1;32mimport\u001b[0m \u001b[0mfowlkes_mallows_score\u001b[0m\u001b[1;33m\u001b[0m\u001b[1;33m\u001b[0m\u001b[0m\n\u001b[0;32m     21\u001b[0m \u001b[1;32mfrom\u001b[0m \u001b[1;33m.\u001b[0m\u001b[0m_supervised\u001b[0m \u001b[1;32mimport\u001b[0m \u001b[0mentropy\u001b[0m\u001b[1;33m\u001b[0m\u001b[1;33m\u001b[0m\u001b[0m\n\u001b[1;32m---> 22\u001b[1;33m \u001b[1;32mfrom\u001b[0m \u001b[1;33m.\u001b[0m\u001b[0m_unsupervised\u001b[0m \u001b[1;32mimport\u001b[0m \u001b[0msilhouette_samples\u001b[0m\u001b[1;33m\u001b[0m\u001b[1;33m\u001b[0m\u001b[0m\n\u001b[0m\u001b[0;32m     23\u001b[0m \u001b[1;32mfrom\u001b[0m \u001b[1;33m.\u001b[0m\u001b[0m_unsupervised\u001b[0m \u001b[1;32mimport\u001b[0m \u001b[0msilhouette_score\u001b[0m\u001b[1;33m\u001b[0m\u001b[1;33m\u001b[0m\u001b[0m\n\u001b[0;32m     24\u001b[0m \u001b[1;32mfrom\u001b[0m \u001b[1;33m.\u001b[0m\u001b[0m_unsupervised\u001b[0m \u001b[1;32mimport\u001b[0m \u001b[0mcalinski_harabasz_score\u001b[0m\u001b[1;33m\u001b[0m\u001b[1;33m\u001b[0m\u001b[0m\n",
      "\u001b[1;32mD:\\Programs\\Anaconda\\lib\\site-packages\\sklearn\\metrics\\cluster\\_unsupervised.py\u001b[0m in \u001b[0;36m<module>\u001b[1;34m\u001b[0m\n\u001b[0;32m     14\u001b[0m \u001b[1;32mfrom\u001b[0m \u001b[1;33m...\u001b[0m\u001b[0mutils\u001b[0m \u001b[1;32mimport\u001b[0m \u001b[0mcheck_X_y\u001b[0m\u001b[1;33m\u001b[0m\u001b[1;33m\u001b[0m\u001b[0m\n\u001b[0;32m     15\u001b[0m \u001b[1;32mfrom\u001b[0m \u001b[1;33m...\u001b[0m\u001b[0mutils\u001b[0m \u001b[1;32mimport\u001b[0m \u001b[0m_safe_indexing\u001b[0m\u001b[1;33m\u001b[0m\u001b[1;33m\u001b[0m\u001b[0m\n\u001b[1;32m---> 16\u001b[1;33m \u001b[1;32mfrom\u001b[0m \u001b[1;33m.\u001b[0m\u001b[1;33m.\u001b[0m\u001b[0mpairwise\u001b[0m \u001b[1;32mimport\u001b[0m \u001b[0mpairwise_distances_chunked\u001b[0m\u001b[1;33m\u001b[0m\u001b[1;33m\u001b[0m\u001b[0m\n\u001b[0m\u001b[0;32m     17\u001b[0m \u001b[1;32mfrom\u001b[0m \u001b[1;33m.\u001b[0m\u001b[1;33m.\u001b[0m\u001b[0mpairwise\u001b[0m \u001b[1;32mimport\u001b[0m \u001b[0mpairwise_distances\u001b[0m\u001b[1;33m\u001b[0m\u001b[1;33m\u001b[0m\u001b[0m\n\u001b[0;32m     18\u001b[0m \u001b[1;32mfrom\u001b[0m \u001b[1;33m...\u001b[0m\u001b[0mpreprocessing\u001b[0m \u001b[1;32mimport\u001b[0m \u001b[0mLabelEncoder\u001b[0m\u001b[1;33m\u001b[0m\u001b[1;33m\u001b[0m\u001b[0m\n",
      "\u001b[1;32mD:\\Programs\\Anaconda\\lib\\site-packages\\sklearn\\metrics\\pairwise.py\u001b[0m in \u001b[0;36m<module>\u001b[1;34m\u001b[0m\n\u001b[0;32m     31\u001b[0m \u001b[1;32mfrom\u001b[0m \u001b[1;33m.\u001b[0m\u001b[1;33m.\u001b[0m\u001b[0mutils\u001b[0m\u001b[1;33m.\u001b[0m\u001b[0mfixes\u001b[0m \u001b[1;32mimport\u001b[0m \u001b[0msp_version\u001b[0m\u001b[1;33m,\u001b[0m \u001b[0mparse_version\u001b[0m\u001b[1;33m\u001b[0m\u001b[1;33m\u001b[0m\u001b[0m\n\u001b[0;32m     32\u001b[0m \u001b[1;33m\u001b[0m\u001b[0m\n\u001b[1;32m---> 33\u001b[1;33m \u001b[1;32mfrom\u001b[0m \u001b[1;33m.\u001b[0m\u001b[0m_pairwise_distances_reduction\u001b[0m \u001b[1;32mimport\u001b[0m \u001b[0mPairwiseDistancesArgKmin\u001b[0m\u001b[1;33m\u001b[0m\u001b[1;33m\u001b[0m\u001b[0m\n\u001b[0m\u001b[0;32m     34\u001b[0m \u001b[1;32mfrom\u001b[0m \u001b[1;33m.\u001b[0m\u001b[0m_pairwise_fast\u001b[0m \u001b[1;32mimport\u001b[0m \u001b[0m_chi2_kernel_fast\u001b[0m\u001b[1;33m,\u001b[0m \u001b[0m_sparse_manhattan\u001b[0m\u001b[1;33m\u001b[0m\u001b[1;33m\u001b[0m\u001b[0m\n\u001b[0;32m     35\u001b[0m \u001b[1;32mfrom\u001b[0m \u001b[1;33m.\u001b[0m\u001b[1;33m.\u001b[0m\u001b[0mexceptions\u001b[0m \u001b[1;32mimport\u001b[0m \u001b[0mDataConversionWarning\u001b[0m\u001b[1;33m\u001b[0m\u001b[1;33m\u001b[0m\u001b[0m\n",
      "\u001b[1;32msklearn\\metrics\\_pairwise_distances_reduction.pyx\u001b[0m in \u001b[0;36minit sklearn.metrics._pairwise_distances_reduction\u001b[1;34m()\u001b[0m\n",
      "\u001b[1;31mAttributeError\u001b[0m: module 'sklearn.utils._openmp_helpers' has no attribute '__pyx_capi__'"
     ]
    }
   ],
   "source": [
    "import pandas as PD\n",
    "#!pip install numpy\n",
    "import numpy as np\n",
    "%matplotlib inline\n",
    "import matplotlib. pyplot as plt\n",
    "import matplotlib\n",
    "#!pip install -U scikit-learn\n",
    "from sklearn.preprocessing import QuantileTransformer\n",
    "from sklearn.preprocessing import MinMaxScaler\n",
    "#!pip install keras\n",
    "import numpy as np\n",
    "from sklearn.model_selection import TimeSeriesSplit\n",
    "from keras.layers import LSTM, Dense, Dropout\n",
    "from sklearn.model_selection import TimeSeriesSplit\n",
    "from sklearn.metrics import mean_squared_error, r2_score\n",
    "import matplotlib.dates as mandates\n",
    "from sklearn.preprocessing import MinMaxScaler\n",
    "from sklearn import linear_model\n",
    "from keras.models import Sequential\n",
    "from keras.layers import Dense\n",
    "import keras. Backend as K\n",
    "from keras.callbacks import EarlyStopping\n",
    "from keras.optimisers import Adam\n",
    "from keras.models import load_model\n",
    "from keras.layers import LSTM\n",
    "from keras.utils.vis_utils import plot_model"
   ]
  },
  {
   "cell_type": "code",
   "execution_count": 37,
   "id": "449c3d43",
   "metadata": {},
   "outputs": [
    {
     "name": "stderr",
     "output_type": "stream",
     "text": [
      "ERROR: Could not find a version that satisfies the requirement timeseriessplit (from versions: none)\n",
      "ERROR: No matching distribution found for timeseriessplit\n"
     ]
    }
   ],
   "source": []
  },
  {
   "cell_type": "code",
   "execution_count": 27,
   "id": "0e572160",
   "metadata": {},
   "outputs": [
    {
     "data": {
      "text/html": [
       "<div>\n",
       "<style scoped>\n",
       "    .dataframe tbody tr th:only-of-type {\n",
       "        vertical-align: middle;\n",
       "    }\n",
       "\n",
       "    .dataframe tbody tr th {\n",
       "        vertical-align: top;\n",
       "    }\n",
       "\n",
       "    .dataframe thead th {\n",
       "        text-align: right;\n",
       "    }\n",
       "</style>\n",
       "<table border=\"1\" class=\"dataframe\">\n",
       "  <thead>\n",
       "    <tr style=\"text-align: right;\">\n",
       "      <th></th>\n",
       "      <th>Date</th>\n",
       "      <th>TSLA Open</th>\n",
       "      <th>TSLA High</th>\n",
       "      <th>TSLA Low</th>\n",
       "      <th>TSLA Close</th>\n",
       "      <th>TSLA Daily change</th>\n",
       "      <th>TSLA Volume</th>\n",
       "    </tr>\n",
       "  </thead>\n",
       "  <tbody>\n",
       "    <tr>\n",
       "      <th>0</th>\n",
       "      <td>2022-05-06</td>\n",
       "      <td>887.00</td>\n",
       "      <td>888.00</td>\n",
       "      <td>843.11</td>\n",
       "      <td>865.65</td>\n",
       "      <td>-2.406990</td>\n",
       "      <td>24264100.0</td>\n",
       "    </tr>\n",
       "    <tr>\n",
       "      <th>1</th>\n",
       "      <td>2022-05-04</td>\n",
       "      <td>903.18</td>\n",
       "      <td>924.08</td>\n",
       "      <td>888.59</td>\n",
       "      <td>909.25</td>\n",
       "      <td>0.672070</td>\n",
       "      <td>21236500.0</td>\n",
       "    </tr>\n",
       "    <tr>\n",
       "      <th>2</th>\n",
       "      <td>2022-05-03</td>\n",
       "      <td>860.77</td>\n",
       "      <td>906.36</td>\n",
       "      <td>848.03</td>\n",
       "      <td>902.94</td>\n",
       "      <td>4.899102</td>\n",
       "      <td>25260500.0</td>\n",
       "    </tr>\n",
       "    <tr>\n",
       "      <th>3</th>\n",
       "      <td>2022-05-02</td>\n",
       "      <td>902.25</td>\n",
       "      <td>934.40</td>\n",
       "      <td>870.00</td>\n",
       "      <td>870.76</td>\n",
       "      <td>-3.490163</td>\n",
       "      <td>29313400.0</td>\n",
       "    </tr>\n",
       "    <tr>\n",
       "      <th>4</th>\n",
       "      <td>2022-04-29</td>\n",
       "      <td>899.98</td>\n",
       "      <td>900.00</td>\n",
       "      <td>821.70</td>\n",
       "      <td>877.51</td>\n",
       "      <td>-2.496722</td>\n",
       "      <td>41649500.0</td>\n",
       "    </tr>\n",
       "  </tbody>\n",
       "</table>\n",
       "</div>"
      ],
      "text/plain": [
       "        Date  TSLA Open  TSLA High  TSLA Low  TSLA Close  TSLA Daily change  \\\n",
       "0 2022-05-06     887.00     888.00    843.11      865.65          -2.406990   \n",
       "1 2022-05-04     903.18     924.08    888.59      909.25           0.672070   \n",
       "2 2022-05-03     860.77     906.36    848.03      902.94           4.899102   \n",
       "3 2022-05-02     902.25     934.40    870.00      870.76          -3.490163   \n",
       "4 2022-04-29     899.98     900.00    821.70      877.51          -2.496722   \n",
       "\n",
       "   TSLA Volume  \n",
       "0   24264100.0  \n",
       "1   21236500.0  \n",
       "2   25260500.0  \n",
       "3   29313400.0  \n",
       "4   41649500.0  "
      ]
     },
     "execution_count": 27,
     "metadata": {},
     "output_type": "execute_result"
    }
   ],
   "source": [
    "tdf = pd.DataFrame(df, columns = [ 'Date' , 'TSLA Open', 'TSLA High','TSLA Low' , 'TSLA Close','TSLA Daily change','TSLA Volume'])\n",
    "tdf['Date'] = pd.to_datetime(tdf['Date']).copy()\n",
    "tdf[\"Date\"]= pd.to_datetime(tdf.Date,format=\"%Y-%m-%d\").copy()\n",
    "tdf.head()\n"
   ]
  },
  {
   "cell_type": "code",
   "execution_count": 28,
   "id": "fd251a76",
   "metadata": {},
   "outputs": [
    {
     "data": {
      "text/plain": [
       "<AxesSubplot:>"
      ]
     },
     "execution_count": 28,
     "metadata": {},
     "output_type": "execute_result"
    },
    {
     "data": {
      "image/png": "[encoded data removed]",
      "text/plain": [
       "<Figure size 432x288 with 1 Axes>"
      ]
     },
     "metadata": {},
     "output_type": "display_data"
    }
   ],
   "source": [
    "tdf['TSLA Close'].plot()"
   ]
  },
  {
   "cell_type": "code",
   "execution_count": 30,
   "id": "b2158fb7",
   "metadata": {},
   "outputs": [],
   "source": [
    "utput_var = pd.DataFrame(tdf['TSLA Close'])\n",
    "\n",
    "features = ['TSLA Open', 'TSLA High', 'TSLA Low', 'TSLA Volume']"
   ]
  },
  {
   "cell_type": "code",
   "execution_count": 31,
   "id": "c9a1f2cb",
   "metadata": {},
   "outputs": [
    {
     "data": {
      "text/html": [
       "<div>\n",
       "<style scoped>\n",
       "    .dataframe tbody tr th:only-of-type {\n",
       "        vertical-align: middle;\n",
       "    }\n",
       "\n",
       "    .dataframe tbody tr th {\n",
       "        vertical-align: top;\n",
       "    }\n",
       "\n",
       "    .dataframe thead th {\n",
       "        text-align: right;\n",
       "    }\n",
       "</style>\n",
       "<table border=\"1\" class=\"dataframe\">\n",
       "  <thead>\n",
       "    <tr style=\"text-align: right;\">\n",
       "      <th></th>\n",
       "      <th>TSLA Open</th>\n",
       "      <th>TSLA High</th>\n",
       "      <th>TSLA Low</th>\n",
       "      <th>TSLA Volume</th>\n",
       "    </tr>\n",
       "  </thead>\n",
       "  <tbody>\n",
       "    <tr>\n",
       "      <th>0</th>\n",
       "      <td>0.717557</td>\n",
       "      <td>0.713053</td>\n",
       "      <td>0.691688</td>\n",
       "      <td>0.076001</td>\n",
       "    </tr>\n",
       "    <tr>\n",
       "      <th>1</th>\n",
       "      <td>0.730712</td>\n",
       "      <td>0.742176</td>\n",
       "      <td>0.729191</td>\n",
       "      <td>0.066026</td>\n",
       "    </tr>\n",
       "    <tr>\n",
       "      <th>2</th>\n",
       "      <td>0.696233</td>\n",
       "      <td>0.727873</td>\n",
       "      <td>0.695745</td>\n",
       "      <td>0.079284</td>\n",
       "    </tr>\n",
       "    <tr>\n",
       "      <th>3</th>\n",
       "      <td>0.729956</td>\n",
       "      <td>0.750507</td>\n",
       "      <td>0.713862</td>\n",
       "      <td>0.092638</td>\n",
       "    </tr>\n",
       "    <tr>\n",
       "      <th>4</th>\n",
       "      <td>0.728110</td>\n",
       "      <td>0.722739</td>\n",
       "      <td>0.674033</td>\n",
       "      <td>0.133285</td>\n",
       "    </tr>\n",
       "  </tbody>\n",
       "</table>\n",
       "</div>"
      ],
      "text/plain": [
       "   TSLA Open  TSLA High  TSLA Low  TSLA Volume\n",
       "0   0.717557   0.713053  0.691688     0.076001\n",
       "1   0.730712   0.742176  0.729191     0.066026\n",
       "2   0.696233   0.727873  0.695745     0.079284\n",
       "3   0.729956   0.750507  0.713862     0.092638\n",
       "4   0.728110   0.722739  0.674033     0.133285"
      ]
     },
     "execution_count": 31,
     "metadata": {},
     "output_type": "execute_result"
    }
   ],
   "source": [
    "scaler = MinMaxScaler()\n",
    "feature_transform = scaler.fit_transform(df[features])\n",
    "feature_transform= pd.DataFrame(columns=features, data=feature_transform, index=df.index)\n",
    "feature_transform.head()"
   ]
  },
  {
   "cell_type": "code",
   "execution_count": 32,
   "id": "fdc7a485",
   "metadata": {},
   "outputs": [
    {
     "ename": "NameError",
     "evalue": "name 'TimeSeriesSplit' is not defined",
     "output_type": "error",
     "traceback": [
      "\u001b[1;31m---------------------------------------------------------------------------\u001b[0m",
      "\u001b[1;31mNameError\u001b[0m                                 Traceback (most recent call last)",
      "\u001b[1;32m~\\AppData\\Local\\Temp/ipykernel_8252/1035583440.py\u001b[0m in \u001b[0;36m<module>\u001b[1;34m\u001b[0m\n\u001b[1;32m----> 1\u001b[1;33m \u001b[0mtimesplit\u001b[0m\u001b[1;33m=\u001b[0m \u001b[0mTimeSeriesSplit\u001b[0m\u001b[1;33m(\u001b[0m\u001b[0mn_splits\u001b[0m\u001b[1;33m=\u001b[0m\u001b[1;36m10\u001b[0m\u001b[1;33m)\u001b[0m\u001b[1;33m\u001b[0m\u001b[1;33m\u001b[0m\u001b[0m\n\u001b[0m\u001b[0;32m      2\u001b[0m \u001b[1;32mfor\u001b[0m \u001b[0mtrain_index\u001b[0m\u001b[1;33m,\u001b[0m \u001b[0mtest_index\u001b[0m \u001b[1;32min\u001b[0m \u001b[0mtimesplit\u001b[0m\u001b[1;33m.\u001b[0m\u001b[0msplit\u001b[0m\u001b[1;33m(\u001b[0m\u001b[0mfeature_transform\u001b[0m\u001b[1;33m)\u001b[0m\u001b[1;33m:\u001b[0m\u001b[1;33m\u001b[0m\u001b[1;33m\u001b[0m\u001b[0m\n\u001b[0;32m      3\u001b[0m         \u001b[0mX_train\u001b[0m\u001b[1;33m,\u001b[0m \u001b[0mX_test\u001b[0m \u001b[1;33m=\u001b[0m \u001b[0mfeature_transform\u001b[0m\u001b[1;33m[\u001b[0m\u001b[1;33m:\u001b[0m\u001b[0mlen\u001b[0m\u001b[1;33m(\u001b[0m\u001b[0mtrain_index\u001b[0m\u001b[1;33m)\u001b[0m\u001b[1;33m]\u001b[0m\u001b[1;33m,\u001b[0m \u001b[0mfeature_transform\u001b[0m\u001b[1;33m[\u001b[0m\u001b[0mlen\u001b[0m\u001b[1;33m(\u001b[0m\u001b[0mtrain_index\u001b[0m\u001b[1;33m)\u001b[0m\u001b[1;33m:\u001b[0m \u001b[1;33m(\u001b[0m\u001b[0mlen\u001b[0m\u001b[1;33m(\u001b[0m\u001b[0mtrain_index\u001b[0m\u001b[1;33m)\u001b[0m\u001b[1;33m+\u001b[0m\u001b[0mlen\u001b[0m\u001b[1;33m(\u001b[0m\u001b[0mtest_index\u001b[0m\u001b[1;33m)\u001b[0m\u001b[1;33m)\u001b[0m\u001b[1;33m]\u001b[0m\u001b[1;33m\u001b[0m\u001b[1;33m\u001b[0m\u001b[0m\n\u001b[0;32m      4\u001b[0m         \u001b[0my_train\u001b[0m\u001b[1;33m,\u001b[0m \u001b[0my_test\u001b[0m \u001b[1;33m=\u001b[0m \u001b[0moutput_var\u001b[0m\u001b[1;33m[\u001b[0m\u001b[1;33m:\u001b[0m\u001b[0mlen\u001b[0m\u001b[1;33m(\u001b[0m\u001b[0mtrain_index\u001b[0m\u001b[1;33m)\u001b[0m\u001b[1;33m]\u001b[0m\u001b[1;33m.\u001b[0m\u001b[0mvalues\u001b[0m\u001b[1;33m.\u001b[0m\u001b[0mravel\u001b[0m\u001b[1;33m(\u001b[0m\u001b[1;33m)\u001b[0m\u001b[1;33m,\u001b[0m \u001b[0moutput_var\u001b[0m\u001b[1;33m[\u001b[0m\u001b[0mlen\u001b[0m\u001b[1;33m(\u001b[0m\u001b[0mtrain_index\u001b[0m\u001b[1;33m)\u001b[0m\u001b[1;33m:\u001b[0m \u001b[1;33m(\u001b[0m\u001b[0mlen\u001b[0m\u001b[1;33m(\u001b[0m\u001b[0mtrain_index\u001b[0m\u001b[1;33m)\u001b[0m\u001b[1;33m+\u001b[0m\u001b[0mlen\u001b[0m\u001b[1;33m(\u001b[0m\u001b[0mtest_index\u001b[0m\u001b[1;33m)\u001b[0m\u001b[1;33m)\u001b[0m\u001b[1;33m]\u001b[0m\u001b[1;33m.\u001b[0m\u001b[0mvalues\u001b[0m\u001b[1;33m.\u001b[0m\u001b[0mravel\u001b[0m\u001b[1;33m(\u001b[0m\u001b[1;33m)\u001b[0m\u001b[1;33m\u001b[0m\u001b[1;33m\u001b[0m\u001b[0m\n",
      "\u001b[1;31mNameError\u001b[0m: name 'TimeSeriesSplit' is not defined"
     ]
    }
   ],
   "source": [
    "timesplit= TimeSeriesSplit(n_splits=10)\n",
    "for train_index, test_index in timesplit.split(feature_transform):\n",
    "        X_train, X_test = feature_transform[:len(train_index)], feature_transform[len(train_index): (len(train_index)+len(test_index))]\n",
    "        y_train, y_test = output_var[:len(train_index)].values.ravel(), output_var[len(train_index): (len(train_index)+len(test_index))].values.ravel()"
   ]
  },
  {
   "cell_type": "code",
   "execution_count": null,
   "id": "f6f73b86",
   "metadata": {},
   "outputs": [],
   "source": []
  }
 ],
 "metadata": {
  "kernelspec": {
   "display_name": "Python 3 (ipykernel)",
   "language": "python",
   "name": "python3"
  },
  "language_info": {
   "codemirror_mode": {
    "name": "ipython",
    "version": 3
   },
   "file_extension": ".py",
   "mimetype": "text/x-python",
   "name": "python",
   "nbconvert_exporter": "python",
   "pygments_lexer": "ipython3",
   "version": "3.9.7"
  }
 },
 "nbformat": 4,
 "nbformat_minor": 5
}
