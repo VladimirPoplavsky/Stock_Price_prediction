{
 "cells": [
  {
   "cell_type": "code",
   "execution_count": 1,
   "id": "54eb30f2",
   "metadata": {},
   "outputs": [],
   "source": [
    "\n",
    "import numpy as np\n",
    "import pandas as pd\n",
    "import matplotlib.pyplot as plt\n",
    "from keras.models import Sequential\n",
    "from keras.layers import Dense, LSTM\n",
    "import math\n",
    "from sklearn.preprocessing import MinMaxScaler"
   ]
  },
  {
   "cell_type": "code",
   "execution_count": 2,
   "id": "0eacb864",
   "metadata": {},
   "outputs": [],
   "source": [
    "df = pd.read_csv('main_dataframe.csv')"
   ]
  },
  {
   "cell_type": "code",
   "execution_count": 3,
   "id": "12cecec5",
   "metadata": {},
   "outputs": [],
   "source": [
    "tdf = pd.DataFrame(df, columns = ['Date','NVDA Close','AAPL Close','AMD Close','MSFT Close','TSLA Close'])\n",
    "tdf = tdf.iloc[::-1]\n",
    "tdf = tdf.tail(500)  "
   ]
  },
  {
   "cell_type": "code",
   "execution_count": 4,
   "id": "e737ac54",
   "metadata": {},
   "outputs": [],
   "source": [
    "close_data = tdf.filter(['NVDA Close'])\n",
    "dataset = close_data.values\n"
   ]
  },
  {
   "cell_type": "code",
   "execution_count": 5,
   "id": "39d6d881",
   "metadata": {},
   "outputs": [],
   "source": [
    "scaler = MinMaxScaler(feature_range=(0, 1))\n",
    "scaled_data = scaler.fit_transform(dataset)"
   ]
  },
  {
   "cell_type": "code",
   "execution_count": 6,
   "id": "1ddc16cf",
   "metadata": {},
   "outputs": [],
   "source": [
    "training_data_len = math.ceil(len(dataset) *.8)\n",
    "train_data = scaled_data[0:training_data_len  , : ]"
   ]
  },
  {
   "cell_type": "code",
   "execution_count": 7,
   "id": "914537bb",
   "metadata": {},
   "outputs": [],
   "source": [
    "x_train_data=[]\n",
    "y_train_data =[]\n",
    "for i in range(60,len(train_data)):\n",
    "    x_train_data=list(x_train_data)\n",
    "    y_train_data=list(y_train_data)\n",
    "    x_train_data.append(train_data[i-60:i,0])\n",
    "    y_train_data.append(train_data[i,0])\n",
    "    \n",
    "    x_train_data1, y_train_data1 = np.array(x_train_data), np.array(y_train_data)\n",
    "    \n",
    "    x_train_data2 = np.reshape(x_train_data1, (x_train_data1.shape[0],x_train_data1.shape[1],1))"
   ]
  },
  {
   "cell_type": "code",
   "execution_count": 8,
   "id": "96e2ac38",
   "metadata": {},
   "outputs": [],
   "source": [
    "model = Sequential()\n",
    "model.add(LSTM(units=50, return_sequences=True,input_shape=(x_train_data2.shape[1],1)))\n",
    "model.add(LSTM(units=50, return_sequences=False))\n",
    "model.add(Dense(units=25))\n",
    "model.add(Dense(units=1))"
   ]
  },
  {
   "cell_type": "code",
   "execution_count": 9,
   "id": "caa07ba7",
   "metadata": {},
   "outputs": [
    {
     "name": "stdout",
     "output_type": "stream",
     "text": [
      "340/340 [==============================] - 10s 17ms/step - loss: 0.0076\n"
     ]
    },
    {
     "data": {
      "text/plain": [
       "<keras.callbacks.History at 0x29f72773eb0>"
      ]
     },
     "execution_count": 9,
     "metadata": {},
     "output_type": "execute_result"
    }
   ],
   "source": [
    "model.compile(optimizer='adam', loss='mean_squared_error')\n",
    "model.fit(x_train_data2, y_train_data1, batch_size=1, epochs=1)"
   ]
  },
  {
   "cell_type": "code",
   "execution_count": 10,
   "id": "768a668d",
   "metadata": {},
   "outputs": [],
   "source": [
    "test_data = scaled_data[training_data_len - 60: , : ]\n",
    "x_test = []\n",
    "y_test =  dataset[training_data_len : , : ]\n",
    "for i in range(60,len(test_data)):\n",
    "    x_test.append(test_data[i-60:i,0])"
   ]
  },
  {
   "cell_type": "code",
   "execution_count": 11,
   "id": "f5ee415b",
   "metadata": {},
   "outputs": [],
   "source": [
    "x_test = np.array(x_test)"
   ]
  },
  {
   "cell_type": "code",
   "execution_count": 12,
   "id": "957815e8",
   "metadata": {},
   "outputs": [
    {
     "name": "stdout",
     "output_type": "stream",
     "text": [
      "4/4 [==============================] - 1s 11ms/step\n"
     ]
    }
   ],
   "source": [
    "predictions = model.predict(x_test)\n",
    "predictions = scaler.inverse_transform(predictions)"
   ]
  },
  {
   "cell_type": "code",
   "execution_count": 13,
   "id": "47f30a32",
   "metadata": {},
   "outputs": [
    {
     "name": "stdout",
     "output_type": "stream",
     "text": [
      "17.144419388027085\n"
     ]
    }
   ],
   "source": [
    "rmse=np.sqrt(np.mean(((predictions- y_test)**2)))\n",
    "print(rmse)"
   ]
  },
  {
   "cell_type": "code",
   "execution_count": 14,
   "id": "eedbded5",
   "metadata": {},
   "outputs": [
    {
     "name": "stderr",
     "output_type": "stream",
     "text": [
      "C:\\Users\\vovik\\AppData\\Local\\Temp/ipykernel_8552/2931567003.py:4: SettingWithCopyWarning: \n",
      "A value is trying to be set on a copy of a slice from a DataFrame.\n",
      "Try using .loc[row_indexer,col_indexer] = value instead\n",
      "\n",
      "See the caveats in the documentation: https://pandas.pydata.org/pandas-docs/stable/user_guide/indexing.html#returning-a-view-versus-a-copy\n",
      "  valid['Predictions'] = predictions\n"
     ]
    },
    {
     "data": {
      "image/png": "[encoded data removed]",
      "text/plain": [
       "<Figure size 432x288 with 1 Axes>"
      ]
     },
     "metadata": {
      "needs_background": "light"
     },
     "output_type": "display_data"
    }
   ],
   "source": [
    "train = tdf[:training_data_len]\n",
    "valid = tdf[training_data_len:]\n",
    " \n",
    "valid['Predictions'] = predictions\n",
    " \n",
    "plt.title('Model')\n",
    "plt.xlabel('Date')\n",
    "plt.ylabel('Close')\n",
    " \n",
    "plt.plot(train['NVDA Close'])\n",
    "plt.plot(valid[['NVDA Close', 'Predictions']])\n",
    " \n",
    "plt.legend(['Train', 'Val', 'Predictions'], loc='lower right')\n",
    " \n",
    "plt.show()"
   ]
  },
  {
   "cell_type": "code",
   "execution_count": 15,
   "id": "79dca3af",
   "metadata": {},
   "outputs": [
    {
     "data": {
      "text/html": [
       "<div>\n",
       "<style scoped>\n",
       "    .dataframe tbody tr th:only-of-type {\n",
       "        vertical-align: middle;\n",
       "    }\n",
       "\n",
       "    .dataframe tbody tr th {\n",
       "        vertical-align: top;\n",
       "    }\n",
       "\n",
       "    .dataframe thead th {\n",
       "        text-align: right;\n",
       "    }\n",
       "</style>\n",
       "<table border=\"1\" class=\"dataframe\">\n",
       "  <thead>\n",
       "    <tr style=\"text-align: right;\">\n",
       "      <th></th>\n",
       "      <th>Predictions</th>\n",
       "      <th>Actual</th>\n",
       "    </tr>\n",
       "  </thead>\n",
       "  <tbody>\n",
       "    <tr>\n",
       "      <th>0</th>\n",
       "      <td>[229.32983]</td>\n",
       "      <td>[246.38]</td>\n",
       "    </tr>\n",
       "    <tr>\n",
       "      <th>1</th>\n",
       "      <td>[229.30789]</td>\n",
       "      <td>[252.42]</td>\n",
       "    </tr>\n",
       "    <tr>\n",
       "      <th>2</th>\n",
       "      <td>[230.5851]</td>\n",
       "      <td>[239.48]</td>\n",
       "    </tr>\n",
       "    <tr>\n",
       "      <th>3</th>\n",
       "      <td>[231.53255]</td>\n",
       "      <td>[243.19]</td>\n",
       "    </tr>\n",
       "    <tr>\n",
       "      <th>4</th>\n",
       "      <td>[232.54755]</td>\n",
       "      <td>[247.28]</td>\n",
       "    </tr>\n",
       "    <tr>\n",
       "      <th>...</th>\n",
       "      <td>...</td>\n",
       "      <td>...</td>\n",
       "    </tr>\n",
       "    <tr>\n",
       "      <th>95</th>\n",
       "      <td>[169.70941]</td>\n",
       "      <td>[158.8]</td>\n",
       "    </tr>\n",
       "    <tr>\n",
       "      <th>96</th>\n",
       "      <td>[166.9443]</td>\n",
       "      <td>[165.66]</td>\n",
       "    </tr>\n",
       "    <tr>\n",
       "      <th>97</th>\n",
       "      <td>[165.04079]</td>\n",
       "      <td>[163.6]</td>\n",
       "    </tr>\n",
       "    <tr>\n",
       "      <th>98</th>\n",
       "      <td>[163.62437]</td>\n",
       "      <td>[162.25]</td>\n",
       "    </tr>\n",
       "    <tr>\n",
       "      <th>99</th>\n",
       "      <td>[162.50475]</td>\n",
       "      <td>[171.26]</td>\n",
       "    </tr>\n",
       "  </tbody>\n",
       "</table>\n",
       "<p>100 rows × 2 columns</p>\n",
       "</div>"
      ],
      "text/plain": [
       "    Predictions    Actual\n",
       "0   [229.32983]  [246.38]\n",
       "1   [229.30789]  [252.42]\n",
       "2    [230.5851]  [239.48]\n",
       "3   [231.53255]  [243.19]\n",
       "4   [232.54755]  [247.28]\n",
       "..          ...       ...\n",
       "95  [169.70941]   [158.8]\n",
       "96   [166.9443]  [165.66]\n",
       "97  [165.04079]   [163.6]\n",
       "98  [163.62437]  [162.25]\n",
       "99  [162.50475]  [171.26]\n",
       "\n",
       "[100 rows x 2 columns]"
      ]
     },
     "execution_count": 15,
     "metadata": {},
     "output_type": "execute_result"
    }
   ],
   "source": [
    "Data = list(zip(predictions, y_test))\n",
    "df = pd.DataFrame(Data,columns=['Predictions', 'Actual'])\n",
    "df"
   ]
  },
  {
   "cell_type": "code",
   "execution_count": null,
   "id": "f8863f72",
   "metadata": {},
   "outputs": [],
   "source": []
  }
 ],
 "metadata": {
  "kernelspec": {
   "display_name": "Python 3 (ipykernel)",
   "language": "python",
   "name": "python3"
  },
  "language_info": {
   "codemirror_mode": {
    "name": "ipython",
    "version": 3
   },
   "file_extension": ".py",
   "mimetype": "text/x-python",
   "name": "python",
   "nbconvert_exporter": "python",
   "pygments_lexer": "ipython3",
   "version": "3.9.7"
  }
 },
 "nbformat": 4,
 "nbformat_minor": 5
}
